{
 "cells": [
  {
   "cell_type": "markdown",
   "metadata": {},
   "source": [
    "# Experiment 2: Acquiring time-domain IQ data \n",
    "\n"
   ]
  },
  {
   "cell_type": "code",
   "execution_count": 1,
   "metadata": {},
   "outputs": [],
   "source": [
    "%load_ext autoreload\n",
    "%autoreload 2"
   ]
  },
  {
   "cell_type": "code",
   "execution_count": null,
   "metadata": {},
   "outputs": [],
   "source": [
    "%matplotlib inline"
   ]
  },
  {
   "cell_type": "code",
   "execution_count": null,
   "metadata": {},
   "outputs": [],
   "source": [
    "from flux_fit import *\n",
    "from utils import *"
   ]
  },
  {
   "cell_type": "code",
   "execution_count": 19,
   "metadata": {},
   "outputs": [],
   "source": [
    "!python -m srsinst.dc205"
   ]
  },
  {
   "cell_type": "markdown",
   "metadata": {},
   "source": [
    "## Setting up the Experiment\n",
    "\n",
    "Setup the project and experiment names"
   ]
  },
  {
   "cell_type": "code",
   "execution_count": null,
   "metadata": {},
   "outputs": [],
   "source": [
    "project_name = \"Andreev_Spectroscopy\"\n",
    "device_name = \"L1A\"\n",
    "run_id = 0\n",
    "T_MXC = 31\n",
    "T_Rad = None\n",
    "experiment_name = f\"{device_name}_trapping_measurement_RUN{run_id}\"\n",
    "\n",
    "drive_path = r\"E:\\Quasiparticles\"\n",
    "data_path = set_project(r\"{}\\{}\".format(drive_path, project_name), f\"{experiment_name}\")\n",
    "\n",
    "# Constants\n",
    "SPATH = data_path\n",
    "FIG_PATH = os.path.join(SPATH, \"Figures\")\n",
    "LOG_FILE = os.path.join(SPATH, f'MEASUREMENTLOG_{time.strftime(\"%Y%m%d_%H%M%S\")}.log')\n",
    "PATH_TO_EXE = r'C:/Users/LFL/lflPython/AlazarDrivers/CS_Average/x64/Release/ATS9371_CS_Average.exe'\n",
    "\n",
    "# Ensure directories exist\n",
    "os.makedirs(FIG_PATH, exist_ok=True)\n",
    "\n",
    "# Setup logging\n",
    "logging.basicConfig(filename=LOG_FILE, filemode='w', level=logging.INFO)"
   ]
  },
  {
   "cell_type": "markdown",
   "metadata": {},
   "source": [
    "### Instrument Setup"
   ]
  },
  {
   "cell_type": "markdown",
   "metadata": {},
   "source": [
    "Connect to the Labber server and initialize the instruments needed for the experiment"
   ]
  },
  {
   "cell_type": "code",
   "execution_count": null,
   "metadata": {},
   "outputs": [],
   "source": [
    "client = Labber.connectToServer(timeout=None)\n",
    "instrument_list = client.getListOfInstruments()\n",
    "instruments = create_instrument_connections(client, instrument_list)"
   ]
  },
  {
   "cell_type": "code",
   "execution_count": null,
   "metadata": {},
   "outputs": [],
   "source": [
    "vs = connect_SRS()\n",
    "VNA = instruments['Agilent Network Analyzer E5071B']\n",
    "DA = instruments['Vaunix Lab Brick Digital Attenuator']\n",
    "SMU = instruments['Keithley 2400 SourceMeter']\n",
    "LO= instruments['SignalCore SC5511A Signal Generator_10002F25']\n",
    "Drive= instruments['SignalCore SC5511A Signal Generator_1000334C']\n",
    "TWPA_PUMP = instruments['Rohde&Schwarz RF Source']\n",
    "\n",
    "initialize_instruments(VNA, DA, SMU, LO, Drive, vs, TWPA_PUMP)"
   ]
  },
  {
   "cell_type": "markdown",
   "metadata": {},
   "source": [
    "Make sure that the instruments are set to the correct state.\n",
    "\n",
    "- The TWPA pump is set to the correct frequency and power\n",
    "- The SRS is set to the correct voltage\n",
    "- The LO is set to the correct frequency and power\n",
    "- The VNA is turned off\n",
    "- The Alazar is configured to acquire the correct number of traces, with the correct acquisition length, sample rate, and average time cycle."
   ]
  },
  {
   "cell_type": "code",
   "execution_count": null,
   "metadata": {},
   "outputs": [],
   "source": [
    "set_TWPA_pump(f=6.04, power=27)"
   ]
  },
  {
   "cell_type": "markdown",
   "metadata": {},
   "source": [
    "## Setting the experiment parameters"
   ]
  },
  {
   "cell_type": "markdown",
   "metadata": {},
   "source": [
    "We want to bias the resonator at a certain voltage and drive it at a certain frequency."
   ]
  },
  {
   "cell_type": "code",
   "execution_count": null,
   "metadata": {},
   "outputs": [],
   "source": [
    "flux_data = load_flux_quanta_analysis('flux_quanta_analysis.json')"
   ]
  },
  {
   "cell_type": "code",
   "execution_count": null,
   "metadata": {},
   "outputs": [],
   "source": [
    "# Specify phi values of interest (normalized flux)\n",
    "phi_values = [0.45]  # Example phi values\n",
    "\n",
    "phi_results = plot_phi_points(flux_data, phi_values)\n",
    "guess_data = process_phi_results(phi_results)"
   ]
  },
  {
   "cell_type": "code",
   "execution_count": 29,
   "metadata": {},
   "outputs": [],
   "source": [
    "phi = guess_data['quantum_1']['phi']\n",
    "voltage = guess_data['quantum_1']['voltage']*1e-3 # Convert to V\n",
    "guess_frequency = guess_data['quantum_1']['frequency']\n",
    "best_fit = flux_data['quanta']['quantum_1']['best_fit']"
   ]
  },
  {
   "cell_type": "markdown",
   "metadata": {},
   "source": [
    "Get the accurate frequency of the resonator at the desired flux point. The idea is to sweep the SRS voltage to the required voltage and take a snapshot of the VNA at the guessed frequency and update the frequency to set the LO tone"
   ]
  },
  {
   "cell_type": "code",
   "execution_count": null,
   "metadata": {},
   "outputs": [],
   "source": [
    "electrical_delay = VNA.getValue('Electrical Delay')*1e-9 # Convert to s\n",
    "electrical_delay"
   ]
  },
  {
   "cell_type": "markdown",
   "metadata": {},
   "source": [
    "We have done some rough analysis and found that the QP induced frequency shift is roughly 0.5 MHz so this is what we are going to set as the detuning.\n"
   ]
  },
  {
   "cell_type": "code",
   "execution_count": null,
   "metadata": {},
   "outputs": [],
   "source": [
    "vna_power = 5\n",
    "vna_avg = 20\n",
    "span = 10e6 # Hz\n",
    "detuning = 0.5e6 # Hz\n",
    "f_d_power = 16"
   ]
  },
  {
   "cell_type": "code",
   "execution_count": null,
   "metadata": {},
   "outputs": [],
   "source": [
    "f_phi, f_drive = find_resonance(phi, span, best_fit, vna_power, vna_avg, electrical_delay, detuning, show_plot=True)"
   ]
  },
  {
   "cell_type": "markdown",
   "metadata": {},
   "source": [
    "Setting the LO and turning off the VNA"
   ]
  },
  {
   "cell_type": "code",
   "execution_count": null,
   "metadata": {},
   "outputs": [],
   "source": [
    "set_LO_tone(f_drive, f_d_power)\n",
    "turn_off_vna()"
   ]
  },
  {
   "cell_type": "markdown",
   "metadata": {},
   "source": [
    "We are not sending in any clearing tone for this experiment."
   ]
  },
  {
   "cell_type": "code",
   "execution_count": null,
   "metadata": {},
   "outputs": [],
   "source": [
    "f_clearing, P_clearing = None, None\n",
    "turn_off_clearing()"
   ]
  },
  {
   "cell_type": "markdown",
   "metadata": {},
   "source": [
    "Now set the Alazar parameters and acquire the IQ data"
   ]
  },
  {
   "cell_type": "code",
   "execution_count": null,
   "metadata": {},
   "outputs": [],
   "source": [
    "num_traces=1\n",
    "acquisitionLength_sec=5\n",
    "origRateMHz=300\n",
    "sampleRateMHz=10\n",
    "averageTimeCycle=0\n",
    "lowerBound=14 # dB for DA attenuator\n",
    "upperBound=30# dB for DA attenuator"
   ]
  },
  {
   "cell_type": "code",
   "execution_count": null,
   "metadata": {},
   "outputs": [],
   "source": [
    "logging.info(f'\\nStarting Alazar acquisition at phi = {phi:.3f} while driving at {f_drive:.6f} GHz')\n",
    "savefile = acquire_IQ_data(phi, f_clearing, P_clearing, num_traces, acquisitionLength_sec, origRateMHz, sampleRateMHz, averageTimeCycle, lowerBound, upperBound)\n",
    "write_metadata(savefile, acquisitionLength_sec, origRateMHz, f_drive, voltage, T_MXC, T_Rad, phi, f_clearing, P_clearing)"
   ]
  }
 ],
 "metadata": {
  "kernelspec": {
   "display_name": "lfl_tools",
   "language": "python",
   "name": "python3"
  },
  "language_info": {
   "codemirror_mode": {
    "name": "ipython",
    "version": 3
   },
   "file_extension": ".py",
   "mimetype": "text/x-python",
   "name": "python",
   "nbconvert_exporter": "python",
   "pygments_lexer": "ipython3",
   "version": "3.11.4"
  }
 },
 "nbformat": 4,
 "nbformat_minor": 2
}
