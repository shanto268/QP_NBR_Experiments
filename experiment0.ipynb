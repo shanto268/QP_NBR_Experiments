{
 "cells": [
  {
   "cell_type": "markdown",
   "metadata": {},
   "source": [
    "# Flux Sweeping via SRS\n",
    "\n",
    "[srsinst pacakge](https://github.com/thinkSRS/srsinst.dc205)\n"
   ]
  },
  {
   "cell_type": "code",
   "execution_count": 1,
   "metadata": {},
   "outputs": [],
   "source": [
    "%load_ext autoreload\n",
    "%autoreload 2"
   ]
  },
  {
   "cell_type": "code",
   "execution_count": 2,
   "metadata": {},
   "outputs": [],
   "source": [
    "%matplotlib inline"
   ]
  },
  {
   "cell_type": "code",
   "execution_count": 3,
   "metadata": {},
   "outputs": [],
   "source": [
    "from flux_fit import *\n",
    "from utils import *"
   ]
  },
  {
   "cell_type": "markdown",
   "metadata": {},
   "source": [
    "Connect to the instruments"
   ]
  },
  {
   "cell_type": "code",
   "execution_count": 4,
   "metadata": {},
   "outputs": [],
   "source": [
    "!python -m srsinst.dc205"
   ]
  },
  {
   "cell_type": "code",
   "execution_count": 5,
   "metadata": {},
   "outputs": [
    {
     "name": "stdout",
     "output_type": "stream",
     "text": [
      "Successfully connected to Agilent Network Analyzer E5071B\n",
      "Successfully connected to HP Spectrum Analyzer\n",
      "Successfully connected to Keithley 2400 SourceMeter\n",
      "Successfully connected to Manual\n",
      "Successfully connected to Rohde&Schwarz RF Source\n",
      "Successfully connected to SignalCore SC5511A Signal Generator_10002F25\n",
      "Successfully connected to SignalCore SC5511A Signal Generator_1000334C\n",
      "Successfully connected to Vaunix Lab Brick Digital Attenuator\n"
     ]
    }
   ],
   "source": [
    "client = Labber.connectToServer(timeout=None)\n",
    "instrument_list = client.getListOfInstruments()\n",
    "instruments = create_instrument_connections(client, instrument_list)"
   ]
  },
  {
   "cell_type": "code",
   "execution_count": 6,
   "metadata": {},
   "outputs": [],
   "source": [
    "vs = connect_SRS()\n",
    "VNA = instruments['Agilent Network Analyzer E5071B']\n",
    "DA = instruments['Vaunix Lab Brick Digital Attenuator']\n",
    "SMU = instruments['Keithley 2400 SourceMeter']\n",
    "LO= instruments['SignalCore SC5511A Signal Generator_10002F25']\n",
    "Drive= instruments['SignalCore SC5511A Signal Generator_1000334C']\n",
    "TWPA_PUMP = instruments['Rohde&Schwarz RF Source']\n",
    "\n",
    "initialize_instruments(VNA, DA, SMU, LO, Drive, vs, TWPA_PUMP)"
   ]
  },
  {
   "cell_type": "markdown",
   "metadata": {},
   "source": [
    "Since we only need the VNA and SRS for this measurement- lets make sure they are connected and ready to go. "
   ]
  },
  {
   "cell_type": "code",
   "execution_count": 7,
   "metadata": {},
   "outputs": [
    {
     "data": {
      "text/plain": [
       "('DC205', 's/n20500691', 'ver1.80')"
      ]
     },
     "execution_count": 7,
     "metadata": {},
     "output_type": "execute_result"
    }
   ],
   "source": [
    "vs.check_id()\n"
   ]
  },
  {
   "cell_type": "code",
   "execution_count": 8,
   "metadata": {},
   "outputs": [
    {
     "data": {
      "text/plain": [
       "True"
      ]
     },
     "execution_count": 8,
     "metadata": {},
     "output_type": "execute_result"
    }
   ],
   "source": [
    "VNA.isRunning()"
   ]
  },
  {
   "cell_type": "markdown",
   "metadata": {},
   "source": [
    "Setting up the paths for storing the Labber file."
   ]
  },
  {
   "cell_type": "code",
   "execution_count": null,
   "metadata": {},
   "outputs": [],
   "source": [
    "# get the time module\n",
    "import time\n",
    "import os\n",
    "import logging\n",
    "\n",
    "SPATH = r\"G:\\Shared drives\\Labber\\Data\\{}\\{}\\Data_{}\\\\\".format(time.strftime(\"%Y\"), time.strftime(\"%m\"), time.strftime(\"%m%d\"))\n",
    "\n",
    "figpath = SPATH + r\"Figures\\\\\"\n",
    "if not os.path.exists(figpath):\n",
    "    os.makedirs(figpath)\n",
    "print(f\"Saving path of Labber data to {SPATH}\")\n",
    "print(f\"Saving figures to {figpath}\")\n",
    "logging.basicConfig(filename=SPATH+f'MEASUREMENTLOG_{time.strftime(\"%Y%m%d_%H%M%S\")}.log',filemode='w',level=logging.INFO)\n"
   ]
  },
  {
   "cell_type": "markdown",
   "metadata": {},
   "source": [
    "Either set the VNA settings manually and grab them."
   ]
  },
  {
   "cell_type": "code",
   "execution_count": 26,
   "metadata": {},
   "outputs": [
    {
     "data": {
      "text/plain": [
       "{'S11 - Enabled': False,\n",
       " 'S21 - Enabled': True,\n",
       " 'S12 - Enabled': False,\n",
       " 'S22 - Enabled': False,\n",
       " 'S11': {'y': array([], dtype=float64), 't0': 0.0, 'dt': 1.0, 'shape': [0]},\n",
       " 'S21': {'y': array([0.01469547-0.00060081j, 0.01473039-0.00058496j,\n",
       "         0.01471947-0.00060092j, ..., 0.01098988-0.00481419j,\n",
       "         0.01098875-0.00480484j, 0.01100985-0.00484289j], dtype=complex64),\n",
       "  't0': 5700000000.0,\n",
       "  'dt': 62500.0,\n",
       "  'shape': [1601]},\n",
       " 'S12': {'y': array([], dtype=float64), 't0': 0.0, 'dt': 1.0, 'shape': [0]},\n",
       " 'S22': {'y': array([], dtype=float64), 't0': 0.0, 'dt': 1.0, 'shape': [0]},\n",
       " 'S11 - Value': 0j,\n",
       " 'S21 - Value': 0j,\n",
       " 'S12 - Value': 0j,\n",
       " 'S22 - Value': 0j,\n",
       " 'Output enabled': True,\n",
       " 'Output power': 5.0,\n",
       " 'Trigger': True,\n",
       " 'IF bandwidth': 1000.0,\n",
       " 'Average': True,\n",
       " '# of averages': 20.0,\n",
       " 'Wait for new trace': True,\n",
       " 'Electrical Delay': 8.2417e-08,\n",
       " 'Phase Offset': 0.0,\n",
       " 'Range type': 'Start - Stop',\n",
       " 'Start frequency': 5700000000.0,\n",
       " 'Stop frequency': 5800000000.0,\n",
       " '# of points': 1601.0,\n",
       " 'Sweep type': 'Linear',\n",
       " 'Sweep mode': 'Stepped'}"
      ]
     },
     "execution_count": 26,
     "metadata": {},
     "output_type": "execute_result"
    }
   ],
   "source": [
    "VNA.getInstrConfig()"
   ]
  },
  {
   "cell_type": "markdown",
   "metadata": {},
   "source": [
    "Or just set them in the code. \n",
    "\n",
    "```python"
   ]
  },
  {
   "cell_type": "code",
   "execution_count": null,
   "metadata": {},
   "outputs": [],
   "source": [
    "VNA.setValue('Output enabled',True)\n",
    "VNA.setValue('Range type','Start - Stop')\n",
    "VNA.setValue('Start frequency', 5.7E9)\n",
    "VNA.setValue('Stop frequency', 5.8E9)\n",
    "VNA.setValue('# of averages', 20)\n",
    "VNA.setValue('Average',True)\n",
    "VNA.setValue('Wait for new trace', True)"
   ]
  },
  {
   "cell_type": "markdown",
   "metadata": {},
   "source": [
    "Testing the VNA settings by grabbing a trace"
   ]
  },
  {
   "cell_type": "code",
   "execution_count": null,
   "metadata": {},
   "outputs": [],
   "source": [
    "dBG = VNA.getValue('S21')\n",
    "xBG = np.arange(dBG['t0'],dBG['t0']+dBG['shape'][0]*dBG['dt'],dBG['dt'])\n",
    "zBG = dBG['y']\n",
    "plt.plot(zBG)\n",
    "plt.show()"
   ]
  },
  {
   "cell_type": "code",
   "execution_count": 27,
   "metadata": {},
   "outputs": [
    {
     "data": {
      "text/plain": [
       "(array([-7.4000000e-02, -7.2000000e-02, -7.0000000e-02, -6.8000000e-02,\n",
       "        -6.6000000e-02, -6.4000000e-02, -6.2000000e-02, -6.0000000e-02,\n",
       "        -5.8000000e-02, -5.6000000e-02, -5.4000000e-02, -5.2000000e-02,\n",
       "        -5.0000000e-02, -4.8000000e-02, -4.6000000e-02, -4.4000000e-02,\n",
       "        -4.2000000e-02, -4.0000000e-02, -3.8000000e-02, -3.6000000e-02,\n",
       "        -3.4000000e-02, -3.2000000e-02, -3.0000000e-02, -2.8000000e-02,\n",
       "        -2.6000000e-02, -2.4000000e-02, -2.2000000e-02, -2.0000000e-02,\n",
       "        -1.8000000e-02, -1.6000000e-02, -1.4000000e-02, -1.2000000e-02,\n",
       "        -1.0000000e-02, -8.0000000e-03, -6.0000000e-03, -4.0000000e-03,\n",
       "        -2.0000000e-03,  6.9388939e-17,  2.0000000e-03,  4.0000000e-03,\n",
       "         6.0000000e-03,  8.0000000e-03,  1.0000000e-02,  1.2000000e-02,\n",
       "         1.4000000e-02,  1.6000000e-02,  1.8000000e-02,  2.0000000e-02,\n",
       "         2.2000000e-02,  2.4000000e-02,  2.6000000e-02,  2.8000000e-02,\n",
       "         3.0000000e-02,  3.2000000e-02,  3.4000000e-02,  3.6000000e-02,\n",
       "         3.8000000e-02,  4.0000000e-02,  4.2000000e-02,  4.4000000e-02,\n",
       "         4.6000000e-02,  4.8000000e-02,  5.0000000e-02,  5.2000000e-02,\n",
       "         5.4000000e-02,  5.6000000e-02,  5.8000000e-02,  6.0000000e-02,\n",
       "         6.2000000e-02,  6.4000000e-02,  6.6000000e-02,  6.8000000e-02,\n",
       "         7.0000000e-02]),\n",
       " 73)"
      ]
     },
     "execution_count": 27,
     "metadata": {},
     "output_type": "execute_result"
    }
   ],
   "source": [
    "voltages = np.arange(-74E-3,72E-3,2E-3)\n",
    "#voltages = np.arange(0,4E-3,2E-3)\n",
    "\n",
    "# reverse order\n",
    "#voltages = np.flip(voltages)\n",
    "voltages, len(voltages)"
   ]
  },
  {
   "cell_type": "code",
   "execution_count": 28,
   "metadata": {},
   "outputs": [],
   "source": [
    "labber_file_name = \"NBRL1A_70mK\"\n",
    "\n",
    "lfVNA = Labber.createLogFile_ForData(os.path.join(SPATH, f'{labber_file_name}_flux_sweep'),\n",
    "                                      [{'name':'VNA - S21','complex':True,'vector':True,'x_name':'Frequency','x_unit':'Hz'}],\n",
    "                                      step_channels=[{'name':'Voltage','values':voltages,'unit':'V'}])"
   ]
  },
  {
   "cell_type": "code",
   "execution_count": 29,
   "metadata": {},
   "outputs": [
    {
     "name": "stderr",
     "output_type": "stream",
     "text": [
      "Voltage Sweep:   0%|          | 0/73 [00:00<?, ?V/s]"
     ]
    },
    {
     "name": "stdout",
     "output_type": "stream",
     "text": [
      "-0.074\n",
      "Setting FFL bias to -74.0 mV from 0.0 mV\n"
     ]
    },
    {
     "name": "stderr",
     "output_type": "stream",
     "text": [
      "Voltage Sweep:   1%|▏         | 1/73 [13:10<15:48:47, 790.66s/V]"
     ]
    },
    {
     "name": "stdout",
     "output_type": "stream",
     "text": [
      "-0.072\n",
      "Setting FFL bias to -72.0 mV from -74.0 mV\n"
     ]
    },
    {
     "name": "stderr",
     "output_type": "stream",
     "text": [
      "Voltage Sweep:   3%|▎         | 2/73 [14:04<7:02:58, 357.45s/V] "
     ]
    },
    {
     "name": "stdout",
     "output_type": "stream",
     "text": [
      "-0.06999999999999999\n",
      "Setting FFL bias to -69.99999999999999 mV from -72.0 mV\n"
     ]
    },
    {
     "name": "stderr",
     "output_type": "stream",
     "text": [
      "Voltage Sweep:   4%|▍         | 3/73 [14:59<4:15:31, 219.02s/V]"
     ]
    },
    {
     "name": "stdout",
     "output_type": "stream",
     "text": [
      "-0.06799999999999999\n",
      "Setting FFL bias to -67.99999999999999 mV from -70.0 mV\n"
     ]
    },
    {
     "name": "stderr",
     "output_type": "stream",
     "text": [
      "Voltage Sweep:   5%|▌         | 4/73 [15:53<2:57:03, 153.96s/V]"
     ]
    },
    {
     "name": "stdout",
     "output_type": "stream",
     "text": [
      "-0.06599999999999999\n",
      "Setting FFL bias to -65.99999999999999 mV from -68.0 mV\n"
     ]
    },
    {
     "name": "stderr",
     "output_type": "stream",
     "text": [
      "Voltage Sweep:   7%|▋         | 5/73 [16:47<2:13:44, 118.00s/V]"
     ]
    },
    {
     "name": "stdout",
     "output_type": "stream",
     "text": [
      "-0.06399999999999999\n",
      "Setting FFL bias to -63.999999999999986 mV from -66.0 mV\n"
     ]
    },
    {
     "name": "stderr",
     "output_type": "stream",
     "text": [
      "Voltage Sweep:   8%|▊         | 6/73 [17:41<1:47:36, 96.36s/V] "
     ]
    },
    {
     "name": "stdout",
     "output_type": "stream",
     "text": [
      "-0.061999999999999986\n",
      "Setting FFL bias to -61.999999999999986 mV from -64.0 mV\n"
     ]
    },
    {
     "name": "stderr",
     "output_type": "stream",
     "text": [
      "Voltage Sweep:  10%|▉         | 7/73 [18:36<1:30:50, 82.58s/V]"
     ]
    },
    {
     "name": "stdout",
     "output_type": "stream",
     "text": [
      "-0.059999999999999984\n",
      "Setting FFL bias to -59.999999999999986 mV from -62.0 mV\n"
     ]
    },
    {
     "name": "stderr",
     "output_type": "stream",
     "text": [
      "Voltage Sweep:  11%|█         | 8/73 [19:30<1:19:40, 73.55s/V]"
     ]
    },
    {
     "name": "stdout",
     "output_type": "stream",
     "text": [
      "-0.05799999999999998\n",
      "Setting FFL bias to -57.99999999999998 mV from -60.0 mV\n"
     ]
    },
    {
     "name": "stderr",
     "output_type": "stream",
     "text": [
      "Voltage Sweep:  12%|█▏        | 9/73 [20:24<1:12:02, 67.53s/V]"
     ]
    },
    {
     "name": "stdout",
     "output_type": "stream",
     "text": [
      "-0.05599999999999998\n",
      "Setting FFL bias to -55.99999999999998 mV from -58.0 mV\n"
     ]
    },
    {
     "name": "stderr",
     "output_type": "stream",
     "text": [
      "Voltage Sweep:  14%|█▎        | 10/73 [21:18<1:06:35, 63.42s/V]"
     ]
    },
    {
     "name": "stdout",
     "output_type": "stream",
     "text": [
      "-0.05399999999999998\n",
      "Setting FFL bias to -53.99999999999998 mV from -56.0 mV\n"
     ]
    },
    {
     "name": "stderr",
     "output_type": "stream",
     "text": [
      "Voltage Sweep:  15%|█▌        | 11/73 [22:13<1:02:38, 60.63s/V]"
     ]
    },
    {
     "name": "stdout",
     "output_type": "stream",
     "text": [
      "-0.05199999999999998\n",
      "Setting FFL bias to -51.99999999999998 mV from -54.0 mV\n"
     ]
    },
    {
     "name": "stderr",
     "output_type": "stream",
     "text": [
      "Voltage Sweep:  16%|█▋        | 12/73 [23:07<59:37, 58.65s/V]  "
     ]
    },
    {
     "name": "stdout",
     "output_type": "stream",
     "text": [
      "-0.049999999999999975\n",
      "Setting FFL bias to -49.99999999999997 mV from -52.0 mV\n"
     ]
    },
    {
     "name": "stderr",
     "output_type": "stream",
     "text": [
      "Voltage Sweep:  18%|█▊        | 13/73 [24:01<57:17, 57.29s/V]"
     ]
    },
    {
     "name": "stdout",
     "output_type": "stream",
     "text": [
      "-0.04799999999999997\n",
      "Setting FFL bias to -47.99999999999997 mV from -50.0 mV\n"
     ]
    },
    {
     "name": "stderr",
     "output_type": "stream",
     "text": [
      "Voltage Sweep:  19%|█▉        | 14/73 [24:55<55:24, 56.35s/V]"
     ]
    },
    {
     "name": "stdout",
     "output_type": "stream",
     "text": [
      "-0.04599999999999997\n",
      "Setting FFL bias to -45.99999999999997 mV from -48.0 mV\n"
     ]
    },
    {
     "name": "stderr",
     "output_type": "stream",
     "text": [
      "Voltage Sweep:  21%|██        | 15/73 [25:50<53:52, 55.74s/V]"
     ]
    },
    {
     "name": "stdout",
     "output_type": "stream",
     "text": [
      "-0.04399999999999997\n",
      "Setting FFL bias to -43.99999999999997 mV from -46.0 mV\n"
     ]
    },
    {
     "name": "stderr",
     "output_type": "stream",
     "text": [
      "Voltage Sweep:  22%|██▏       | 16/73 [26:44<52:32, 55.30s/V]"
     ]
    },
    {
     "name": "stdout",
     "output_type": "stream",
     "text": [
      "-0.04199999999999997\n",
      "Setting FFL bias to -41.999999999999964 mV from -44.0 mV\n"
     ]
    },
    {
     "name": "stderr",
     "output_type": "stream",
     "text": [
      "Voltage Sweep:  23%|██▎       | 17/73 [27:38<51:18, 54.97s/V]"
     ]
    },
    {
     "name": "stdout",
     "output_type": "stream",
     "text": [
      "-0.039999999999999966\n",
      "Setting FFL bias to -39.999999999999964 mV from -42.0 mV\n"
     ]
    },
    {
     "name": "stderr",
     "output_type": "stream",
     "text": [
      "Voltage Sweep:  25%|██▍       | 18/73 [28:32<50:10, 54.73s/V]"
     ]
    },
    {
     "name": "stdout",
     "output_type": "stream",
     "text": [
      "-0.037999999999999964\n",
      "Setting FFL bias to -37.999999999999964 mV from -40.0 mV\n"
     ]
    },
    {
     "name": "stderr",
     "output_type": "stream",
     "text": [
      "Voltage Sweep:  26%|██▌       | 19/73 [29:26<49:08, 54.61s/V]"
     ]
    },
    {
     "name": "stdout",
     "output_type": "stream",
     "text": [
      "-0.03599999999999996\n",
      "Setting FFL bias to -35.999999999999964 mV from -38.0 mV\n"
     ]
    },
    {
     "name": "stderr",
     "output_type": "stream",
     "text": [
      "Voltage Sweep:  27%|██▋       | 20/73 [30:21<48:06, 54.47s/V]"
     ]
    },
    {
     "name": "stdout",
     "output_type": "stream",
     "text": [
      "-0.03399999999999996\n",
      "Setting FFL bias to -33.99999999999996 mV from -36.0 mV\n"
     ]
    },
    {
     "name": "stderr",
     "output_type": "stream",
     "text": [
      "Voltage Sweep:  29%|██▉       | 21/73 [31:15<47:09, 54.42s/V]"
     ]
    },
    {
     "name": "stdout",
     "output_type": "stream",
     "text": [
      "-0.03199999999999996\n",
      "Setting FFL bias to -31.999999999999957 mV from -34.0 mV\n"
     ]
    },
    {
     "name": "stderr",
     "output_type": "stream",
     "text": [
      "Voltage Sweep:  30%|███       | 22/73 [32:09<46:11, 54.35s/V]"
     ]
    },
    {
     "name": "stdout",
     "output_type": "stream",
     "text": [
      "-0.029999999999999957\n",
      "Setting FFL bias to -29.999999999999957 mV from -32.0 mV\n"
     ]
    },
    {
     "name": "stderr",
     "output_type": "stream",
     "text": [
      "Voltage Sweep:  32%|███▏      | 23/73 [33:03<45:16, 54.33s/V]"
     ]
    },
    {
     "name": "stdout",
     "output_type": "stream",
     "text": [
      "-0.027999999999999955\n",
      "Setting FFL bias to -27.999999999999954 mV from -30.0 mV\n"
     ]
    },
    {
     "name": "stderr",
     "output_type": "stream",
     "text": [
      "Voltage Sweep:  33%|███▎      | 24/73 [33:58<44:22, 54.33s/V]"
     ]
    },
    {
     "name": "stdout",
     "output_type": "stream",
     "text": [
      "-0.025999999999999954\n",
      "Setting FFL bias to -25.999999999999954 mV from -28.0 mV\n"
     ]
    },
    {
     "name": "stderr",
     "output_type": "stream",
     "text": [
      "Voltage Sweep:  34%|███▍      | 25/73 [34:52<43:26, 54.31s/V]"
     ]
    },
    {
     "name": "stdout",
     "output_type": "stream",
     "text": [
      "-0.023999999999999952\n",
      "Setting FFL bias to -23.99999999999995 mV from -26.0 mV\n"
     ]
    },
    {
     "name": "stderr",
     "output_type": "stream",
     "text": [
      "Voltage Sweep:  36%|███▌      | 26/73 [35:46<42:32, 54.31s/V]"
     ]
    },
    {
     "name": "stdout",
     "output_type": "stream",
     "text": [
      "-0.02199999999999995\n",
      "Setting FFL bias to -21.99999999999995 mV from -24.0 mV\n"
     ]
    },
    {
     "name": "stderr",
     "output_type": "stream",
     "text": [
      "Voltage Sweep:  37%|███▋      | 27/73 [36:40<41:36, 54.27s/V]"
     ]
    },
    {
     "name": "stdout",
     "output_type": "stream",
     "text": [
      "-0.01999999999999995\n",
      "Setting FFL bias to -19.999999999999947 mV from -22.0 mV\n"
     ]
    },
    {
     "name": "stderr",
     "output_type": "stream",
     "text": [
      "Voltage Sweep:  38%|███▊      | 28/73 [37:35<40:41, 54.26s/V]"
     ]
    },
    {
     "name": "stdout",
     "output_type": "stream",
     "text": [
      "-0.017999999999999947\n",
      "Setting FFL bias to -17.999999999999947 mV from -20.0 mV\n"
     ]
    },
    {
     "name": "stderr",
     "output_type": "stream",
     "text": [
      "Voltage Sweep:  40%|███▉      | 29/73 [38:29<39:47, 54.25s/V]"
     ]
    },
    {
     "name": "stdout",
     "output_type": "stream",
     "text": [
      "-0.015999999999999945\n",
      "Setting FFL bias to -15.999999999999945 mV from -18.0 mV\n"
     ]
    },
    {
     "name": "stderr",
     "output_type": "stream",
     "text": [
      "Voltage Sweep:  41%|████      | 30/73 [39:23<38:53, 54.27s/V]"
     ]
    },
    {
     "name": "stdout",
     "output_type": "stream",
     "text": [
      "-0.013999999999999943\n",
      "Setting FFL bias to -13.999999999999943 mV from -16.0 mV\n"
     ]
    },
    {
     "name": "stderr",
     "output_type": "stream",
     "text": [
      "Voltage Sweep:  42%|████▏     | 31/73 [40:17<37:58, 54.25s/V]"
     ]
    },
    {
     "name": "stdout",
     "output_type": "stream",
     "text": [
      "-0.011999999999999941\n",
      "Setting FFL bias to -11.999999999999941 mV from -14.0 mV\n"
     ]
    },
    {
     "name": "stderr",
     "output_type": "stream",
     "text": [
      "Voltage Sweep:  44%|████▍     | 32/73 [41:12<37:05, 54.27s/V]"
     ]
    },
    {
     "name": "stdout",
     "output_type": "stream",
     "text": [
      "-0.00999999999999994\n",
      "Setting FFL bias to -9.99999999999994 mV from -12.0 mV\n"
     ]
    },
    {
     "name": "stderr",
     "output_type": "stream",
     "text": [
      "Voltage Sweep:  45%|████▌     | 33/73 [42:06<36:10, 54.26s/V]"
     ]
    },
    {
     "name": "stdout",
     "output_type": "stream",
     "text": [
      "-0.007999999999999938\n",
      "Setting FFL bias to -7.999999999999938 mV from -10.0 mV\n"
     ]
    },
    {
     "name": "stderr",
     "output_type": "stream",
     "text": [
      "Voltage Sweep:  47%|████▋     | 34/73 [43:00<35:16, 54.26s/V]"
     ]
    },
    {
     "name": "stdout",
     "output_type": "stream",
     "text": [
      "-0.005999999999999936\n",
      "Setting FFL bias to -5.999999999999936 mV from -8.0 mV\n"
     ]
    },
    {
     "name": "stderr",
     "output_type": "stream",
     "text": [
      "Voltage Sweep:  48%|████▊     | 35/73 [43:54<34:21, 54.24s/V]"
     ]
    },
    {
     "name": "stdout",
     "output_type": "stream",
     "text": [
      "-0.003999999999999934\n",
      "Setting FFL bias to -3.9999999999999343 mV from -6.0 mV\n"
     ]
    },
    {
     "name": "stderr",
     "output_type": "stream",
     "text": [
      "Voltage Sweep:  49%|████▉     | 36/73 [44:49<33:26, 54.24s/V]"
     ]
    },
    {
     "name": "stdout",
     "output_type": "stream",
     "text": [
      "-0.0019999999999999324\n",
      "Setting FFL bias to -1.9999999999999325 mV from -4.0 mV\n"
     ]
    },
    {
     "name": "stderr",
     "output_type": "stream",
     "text": [
      "Voltage Sweep:  51%|█████     | 37/73 [45:43<32:33, 54.26s/V]"
     ]
    },
    {
     "name": "stdout",
     "output_type": "stream",
     "text": [
      "6.938893903907228e-17\n",
      "Setting FFL bias to 6.938893903907228e-14 mV from -2.0 mV\n"
     ]
    },
    {
     "name": "stderr",
     "output_type": "stream",
     "text": [
      "Voltage Sweep:  52%|█████▏    | 38/73 [46:37<31:38, 54.25s/V]"
     ]
    },
    {
     "name": "stdout",
     "output_type": "stream",
     "text": [
      "0.002000000000000071\n",
      "Setting FFL bias to 2.000000000000071 mV from 0.0 mV\n"
     ]
    },
    {
     "name": "stderr",
     "output_type": "stream",
     "text": [
      "Voltage Sweep:  53%|█████▎    | 39/73 [47:32<30:45, 54.27s/V]"
     ]
    },
    {
     "name": "stdout",
     "output_type": "stream",
     "text": [
      "0.004000000000000073\n",
      "Setting FFL bias to 4.000000000000073 mV from 2.0 mV\n"
     ]
    },
    {
     "name": "stderr",
     "output_type": "stream",
     "text": [
      "Voltage Sweep:  55%|█████▍    | 40/73 [48:26<29:50, 54.25s/V]"
     ]
    },
    {
     "name": "stdout",
     "output_type": "stream",
     "text": [
      "0.006000000000000075\n",
      "Setting FFL bias to 6.000000000000075 mV from 4.0 mV\n"
     ]
    },
    {
     "name": "stderr",
     "output_type": "stream",
     "text": [
      "Voltage Sweep:  56%|█████▌    | 41/73 [49:20<28:55, 54.24s/V]"
     ]
    },
    {
     "name": "stdout",
     "output_type": "stream",
     "text": [
      "0.008000000000000076\n",
      "Setting FFL bias to 8.000000000000076 mV from 6.0 mV\n"
     ]
    },
    {
     "name": "stderr",
     "output_type": "stream",
     "text": [
      "Voltage Sweep:  58%|█████▊    | 42/73 [50:14<28:00, 54.22s/V]"
     ]
    },
    {
     "name": "stdout",
     "output_type": "stream",
     "text": [
      "0.010000000000000078\n",
      "Setting FFL bias to 10.000000000000078 mV from 8.0 mV\n"
     ]
    },
    {
     "name": "stderr",
     "output_type": "stream",
     "text": [
      "Voltage Sweep:  59%|█████▉    | 43/73 [51:08<27:06, 54.23s/V]"
     ]
    },
    {
     "name": "stdout",
     "output_type": "stream",
     "text": [
      "0.01200000000000008\n",
      "Setting FFL bias to 12.00000000000008 mV from 10.0 mV\n"
     ]
    },
    {
     "name": "stderr",
     "output_type": "stream",
     "text": [
      "Voltage Sweep:  60%|██████    | 44/73 [52:03<26:13, 54.24s/V]"
     ]
    },
    {
     "name": "stdout",
     "output_type": "stream",
     "text": [
      "0.014000000000000082\n",
      "Setting FFL bias to 14.000000000000082 mV from 12.0 mV\n"
     ]
    },
    {
     "name": "stderr",
     "output_type": "stream",
     "text": [
      "Voltage Sweep:  62%|██████▏   | 45/73 [52:57<25:18, 54.23s/V]"
     ]
    },
    {
     "name": "stdout",
     "output_type": "stream",
     "text": [
      "0.016000000000000084\n",
      "Setting FFL bias to 16.000000000000085 mV from 14.0 mV\n"
     ]
    },
    {
     "name": "stderr",
     "output_type": "stream",
     "text": [
      "Voltage Sweep:  63%|██████▎   | 46/73 [53:51<24:23, 54.21s/V]"
     ]
    },
    {
     "name": "stdout",
     "output_type": "stream",
     "text": [
      "0.018000000000000085\n",
      "Setting FFL bias to 18.000000000000085 mV from 16.0 mV\n"
     ]
    },
    {
     "name": "stderr",
     "output_type": "stream",
     "text": [
      "Voltage Sweep:  64%|██████▍   | 47/73 [54:45<23:29, 54.22s/V]"
     ]
    },
    {
     "name": "stdout",
     "output_type": "stream",
     "text": [
      "0.020000000000000087\n",
      "Setting FFL bias to 20.00000000000009 mV from 18.0 mV\n"
     ]
    },
    {
     "name": "stderr",
     "output_type": "stream",
     "text": [
      "Voltage Sweep:  66%|██████▌   | 48/73 [55:40<22:35, 54.22s/V]"
     ]
    },
    {
     "name": "stdout",
     "output_type": "stream",
     "text": [
      "0.02200000000000009\n",
      "Setting FFL bias to 22.00000000000009 mV from 20.0 mV\n"
     ]
    },
    {
     "name": "stderr",
     "output_type": "stream",
     "text": [
      "Voltage Sweep:  67%|██████▋   | 49/73 [56:34<21:40, 54.21s/V]"
     ]
    },
    {
     "name": "stdout",
     "output_type": "stream",
     "text": [
      "0.02400000000000009\n",
      "Setting FFL bias to 24.000000000000092 mV from 22.0 mV\n"
     ]
    },
    {
     "name": "stderr",
     "output_type": "stream",
     "text": [
      "Voltage Sweep:  68%|██████▊   | 50/73 [57:28<20:46, 54.20s/V]"
     ]
    },
    {
     "name": "stdout",
     "output_type": "stream",
     "text": [
      "0.026000000000000092\n",
      "Setting FFL bias to 26.000000000000092 mV from 24.0 mV\n"
     ]
    },
    {
     "name": "stderr",
     "output_type": "stream",
     "text": [
      "Voltage Sweep:  70%|██████▉   | 51/73 [58:22<19:51, 54.18s/V]"
     ]
    },
    {
     "name": "stdout",
     "output_type": "stream",
     "text": [
      "0.028000000000000094\n",
      "Setting FFL bias to 28.000000000000096 mV from 26.0 mV\n"
     ]
    },
    {
     "name": "stderr",
     "output_type": "stream",
     "text": [
      "Voltage Sweep:  71%|███████   | 52/73 [59:16<18:58, 54.23s/V]"
     ]
    },
    {
     "name": "stdout",
     "output_type": "stream",
     "text": [
      "0.030000000000000096\n",
      "Setting FFL bias to 30.000000000000096 mV from 28.0 mV\n"
     ]
    },
    {
     "name": "stderr",
     "output_type": "stream",
     "text": [
      "Voltage Sweep:  73%|███████▎  | 53/73 [1:00:11<18:04, 54.22s/V]"
     ]
    },
    {
     "name": "stdout",
     "output_type": "stream",
     "text": [
      "0.0320000000000001\n",
      "Setting FFL bias to 32.0000000000001 mV from 30.0 mV\n"
     ]
    },
    {
     "name": "stderr",
     "output_type": "stream",
     "text": [
      "Voltage Sweep:  74%|███████▍  | 54/73 [1:01:05<17:09, 54.19s/V]"
     ]
    },
    {
     "name": "stdout",
     "output_type": "stream",
     "text": [
      "0.0340000000000001\n",
      "Setting FFL bias to 34.0000000000001 mV from 32.0 mV\n"
     ]
    },
    {
     "name": "stderr",
     "output_type": "stream",
     "text": [
      "Voltage Sweep:  75%|███████▌  | 55/73 [1:01:59<16:15, 54.18s/V]"
     ]
    },
    {
     "name": "stdout",
     "output_type": "stream",
     "text": [
      "0.0360000000000001\n",
      "Setting FFL bias to 36.0000000000001 mV from 34.0 mV\n"
     ]
    },
    {
     "name": "stderr",
     "output_type": "stream",
     "text": [
      "Voltage Sweep:  77%|███████▋  | 56/73 [1:02:53<15:21, 54.22s/V]"
     ]
    },
    {
     "name": "stdout",
     "output_type": "stream",
     "text": [
      "0.0380000000000001\n",
      "Setting FFL bias to 38.00000000000011 mV from 36.0 mV\n"
     ]
    },
    {
     "name": "stderr",
     "output_type": "stream",
     "text": [
      "Voltage Sweep:  78%|███████▊  | 57/73 [1:03:47<14:27, 54.25s/V]"
     ]
    },
    {
     "name": "stdout",
     "output_type": "stream",
     "text": [
      "0.040000000000000105\n",
      "Setting FFL bias to 40.00000000000011 mV from 38.0 mV\n"
     ]
    },
    {
     "name": "stderr",
     "output_type": "stream",
     "text": [
      "Voltage Sweep:  79%|███████▉  | 58/73 [1:04:42<13:33, 54.26s/V]"
     ]
    },
    {
     "name": "stdout",
     "output_type": "stream",
     "text": [
      "0.04200000000000011\n",
      "Setting FFL bias to 42.00000000000011 mV from 40.0 mV\n"
     ]
    },
    {
     "name": "stderr",
     "output_type": "stream",
     "text": [
      "Voltage Sweep:  81%|████████  | 59/73 [1:05:36<12:39, 54.25s/V]"
     ]
    },
    {
     "name": "stdout",
     "output_type": "stream",
     "text": [
      "0.04400000000000011\n",
      "Setting FFL bias to 44.00000000000011 mV from 42.0 mV\n"
     ]
    },
    {
     "name": "stderr",
     "output_type": "stream",
     "text": [
      "Voltage Sweep:  82%|████████▏ | 60/73 [1:06:30<11:45, 54.27s/V]"
     ]
    },
    {
     "name": "stdout",
     "output_type": "stream",
     "text": [
      "0.04600000000000011\n",
      "Setting FFL bias to 46.000000000000114 mV from 44.0 mV\n"
     ]
    },
    {
     "name": "stderr",
     "output_type": "stream",
     "text": [
      "Voltage Sweep:  84%|████████▎ | 61/73 [1:07:25<10:51, 54.26s/V]"
     ]
    },
    {
     "name": "stdout",
     "output_type": "stream",
     "text": [
      "0.04800000000000011\n",
      "Setting FFL bias to 48.000000000000114 mV from 46.0 mV\n"
     ]
    },
    {
     "name": "stderr",
     "output_type": "stream",
     "text": [
      "Voltage Sweep:  85%|████████▍ | 62/73 [1:08:19<09:57, 54.28s/V]"
     ]
    },
    {
     "name": "stdout",
     "output_type": "stream",
     "text": [
      "0.050000000000000114\n",
      "Setting FFL bias to 50.000000000000114 mV from 48.0 mV\n"
     ]
    },
    {
     "name": "stderr",
     "output_type": "stream",
     "text": [
      "Voltage Sweep:  86%|████████▋ | 63/73 [1:09:13<09:02, 54.26s/V]"
     ]
    },
    {
     "name": "stdout",
     "output_type": "stream",
     "text": [
      "0.052000000000000116\n",
      "Setting FFL bias to 52.000000000000114 mV from 50.0 mV\n"
     ]
    },
    {
     "name": "stderr",
     "output_type": "stream",
     "text": [
      "Voltage Sweep:  88%|████████▊ | 64/73 [1:10:07<08:08, 54.28s/V]"
     ]
    },
    {
     "name": "stdout",
     "output_type": "stream",
     "text": [
      "0.05400000000000012\n",
      "Setting FFL bias to 54.00000000000012 mV from 52.0 mV\n"
     ]
    },
    {
     "name": "stderr",
     "output_type": "stream",
     "text": [
      "Voltage Sweep:  89%|████████▉ | 65/73 [1:11:02<07:14, 54.25s/V]"
     ]
    },
    {
     "name": "stdout",
     "output_type": "stream",
     "text": [
      "0.05600000000000012\n",
      "Setting FFL bias to 56.00000000000012 mV from 54.0 mV\n"
     ]
    },
    {
     "name": "stderr",
     "output_type": "stream",
     "text": [
      "Voltage Sweep:  90%|█████████ | 66/73 [1:11:56<06:19, 54.23s/V]"
     ]
    },
    {
     "name": "stdout",
     "output_type": "stream",
     "text": [
      "0.05800000000000012\n",
      "Setting FFL bias to 58.00000000000012 mV from 56.0 mV\n"
     ]
    },
    {
     "name": "stderr",
     "output_type": "stream",
     "text": [
      "Voltage Sweep:  92%|█████████▏| 67/73 [1:12:50<05:25, 54.24s/V]"
     ]
    },
    {
     "name": "stdout",
     "output_type": "stream",
     "text": [
      "0.06000000000000012\n",
      "Setting FFL bias to 60.00000000000012 mV from 58.0 mV\n"
     ]
    },
    {
     "name": "stderr",
     "output_type": "stream",
     "text": [
      "Voltage Sweep:  93%|█████████▎| 68/73 [1:13:44<04:31, 54.24s/V]"
     ]
    },
    {
     "name": "stdout",
     "output_type": "stream",
     "text": [
      "0.062000000000000124\n",
      "Setting FFL bias to 62.00000000000013 mV from 60.0 mV\n"
     ]
    },
    {
     "name": "stderr",
     "output_type": "stream",
     "text": [
      "Voltage Sweep:  95%|█████████▍| 69/73 [1:14:39<03:37, 54.26s/V]"
     ]
    },
    {
     "name": "stdout",
     "output_type": "stream",
     "text": [
      "0.06400000000000013\n",
      "Setting FFL bias to 64.00000000000013 mV from 62.0 mV\n"
     ]
    },
    {
     "name": "stderr",
     "output_type": "stream",
     "text": [
      "Voltage Sweep:  96%|█████████▌| 70/73 [1:15:33<02:42, 54.27s/V]"
     ]
    },
    {
     "name": "stdout",
     "output_type": "stream",
     "text": [
      "0.06600000000000013\n",
      "Setting FFL bias to 66.00000000000013 mV from 64.0 mV\n"
     ]
    },
    {
     "name": "stderr",
     "output_type": "stream",
     "text": [
      "Voltage Sweep:  97%|█████████▋| 71/73 [1:16:27<01:48, 54.24s/V]"
     ]
    },
    {
     "name": "stdout",
     "output_type": "stream",
     "text": [
      "0.06800000000000013\n",
      "Setting FFL bias to 68.00000000000013 mV from 66.0 mV\n"
     ]
    },
    {
     "name": "stderr",
     "output_type": "stream",
     "text": [
      "Voltage Sweep:  99%|█████████▊| 72/73 [1:17:21<00:54, 54.23s/V]"
     ]
    },
    {
     "name": "stdout",
     "output_type": "stream",
     "text": [
      "0.07000000000000013\n",
      "Setting FFL bias to 70.00000000000013 mV from 68.0 mV\n"
     ]
    },
    {
     "name": "stderr",
     "output_type": "stream",
     "text": [
      "Voltage Sweep: 100%|██████████| 73/73 [1:18:15<00:00, 64.33s/V]\n"
     ]
    }
   ],
   "source": [
    "for voltage in tqdm(voltages, desc='Voltage Sweep', unit='V'):  # Add tqdm progress bar\n",
    "    print(voltage)\n",
    "    logging.info(f'Starting Voltage = {voltage:.3f}\\\\n')\n",
    "    set_flux_bias_srs(voltage, step=5E-5)\n",
    "    sleep(0.05)\n",
    "    dData = VNA.getValue('S21')\n",
    "    zData = dData['y']\n",
    "    xBG = np.arange(dData['t0'],dData['t0']+dData['shape'][0]*dData['dt'],dData['dt'])\n",
    "    td2 = Labber.getTraceDict(zData,x0=xBG[0],x1=xBG[-1])\n",
    "    lfVNA.addEntry({'VNA - S21':td2})"
   ]
  },
  {
   "cell_type": "markdown",
   "metadata": {},
   "source": [
    "Ensure that the flux bias is set back to zero."
   ]
  },
  {
   "cell_type": "code",
   "execution_count": 9,
   "metadata": {},
   "outputs": [
    {
     "name": "stdout",
     "output_type": "stream",
     "text": [
      "Setting FFL bias to 0.0 mV from 18.9 mV\n"
     ]
    }
   ],
   "source": [
    "set_flux_bias_srs(0, step=5E-5)"
   ]
  },
  {
   "cell_type": "code",
   "execution_count": null,
   "metadata": {},
   "outputs": [],
   "source": []
  }
 ],
 "metadata": {
  "kernelspec": {
   "display_name": "resonator-fitting-env",
   "language": "python",
   "name": "python3"
  },
  "language_info": {
   "codemirror_mode": {
    "name": "ipython",
    "version": 3
   },
   "file_extension": ".py",
   "mimetype": "text/x-python",
   "name": "python",
   "nbconvert_exporter": "python",
   "pygments_lexer": "ipython3",
   "version": "3.8.19"
  }
 },
 "nbformat": 4,
 "nbformat_minor": 2
}
