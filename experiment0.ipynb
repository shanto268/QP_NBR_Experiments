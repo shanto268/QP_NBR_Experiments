{
 "cells": [
  {
   "cell_type": "markdown",
   "metadata": {},
   "source": [
    "# Flux Sweeping via SRS\n",
    "\n",
    "[srsinst pacakge](https://github.com/thinkSRS/srsinst.dc205)\n"
   ]
  },
  {
   "cell_type": "code",
   "execution_count": 1,
   "metadata": {},
   "outputs": [],
   "source": [
    "%load_ext autoreload\n",
    "%autoreload 2"
   ]
  },
  {
   "cell_type": "code",
   "execution_count": 2,
   "metadata": {},
   "outputs": [],
   "source": [
    "%matplotlib inline"
   ]
  },
  {
   "cell_type": "code",
   "execution_count": 3,
   "metadata": {},
   "outputs": [],
   "source": [
    "from flux_fit import *\n",
    "from utils import *"
   ]
  },
  {
   "cell_type": "markdown",
   "metadata": {},
   "source": [
    "Connect to the instruments"
   ]
  },
  {
   "cell_type": "code",
   "execution_count": 4,
   "metadata": {},
   "outputs": [],
   "source": [
    "!python -m srsinst.dc205"
   ]
  },
  {
   "cell_type": "code",
   "execution_count": 5,
   "metadata": {},
   "outputs": [
    {
     "name": "stdout",
     "output_type": "stream",
     "text": [
      "Successfully connected to Agilent Network Analyzer E5071B\n",
      "Successfully connected to Keithley 2400 SourceMeter\n",
      "Successfully connected to Rohde&Schwarz RF Source\n",
      "Successfully connected to SignalCore SC5511A Signal Generator_10002F25\n",
      "Successfully connected to SignalCore SC5511A Signal Generator_1000334C\n",
      "Successfully connected to Vaunix Lab Brick Digital Attenuator\n"
     ]
    }
   ],
   "source": [
    "client = Labber.connectToServer(timeout=None)\n",
    "instrument_list = client.getListOfInstruments()\n",
    "instruments = create_instrument_connections(client, instrument_list)"
   ]
  },
  {
   "cell_type": "code",
   "execution_count": 6,
   "metadata": {},
   "outputs": [],
   "source": [
    "vs = connect_SRS()\n",
    "VNA = instruments['Agilent Network Analyzer E5071B']\n",
    "DA = instruments['Vaunix Lab Brick Digital Attenuator']\n",
    "SMU = instruments['Keithley 2400 SourceMeter']\n",
    "LO= instruments['SignalCore SC5511A Signal Generator_10002F25']\n",
    "Drive= instruments['SignalCore SC5511A Signal Generator_1000334C']\n",
    "TWPA_PUMP = instruments['Rohde&Schwarz RF Source']\n",
    "\n",
    "initialize_instruments(VNA, DA, SMU, LO, Drive, vs, TWPA_PUMP)"
   ]
  },
  {
   "cell_type": "markdown",
   "metadata": {},
   "source": [
    "Since we only need the VNA and SRS for this measurement- lets make sure they are connected and ready to go. "
   ]
  },
  {
   "cell_type": "code",
   "execution_count": 8,
   "metadata": {},
   "outputs": [
    {
     "data": {
      "text/plain": [
       "('DC205', 's/n20500691', 'ver1.80')"
      ]
     },
     "execution_count": 8,
     "metadata": {},
     "output_type": "execute_result"
    }
   ],
   "source": [
    "vs.check_id()\n"
   ]
  },
  {
   "cell_type": "code",
   "execution_count": null,
   "metadata": {},
   "outputs": [
    {
     "data": {
      "text/plain": [
       "True"
      ]
     },
     "execution_count": 7,
     "metadata": {},
     "output_type": "execute_result"
    }
   ],
   "source": [
    "VNA.isRunning()"
   ]
  },
  {
   "cell_type": "markdown",
   "metadata": {},
   "source": [
    "Setting up the paths for storing the Labber file."
   ]
  },
  {
   "cell_type": "code",
   "execution_count": 9,
   "metadata": {},
   "outputs": [
    {
     "name": "stdout",
     "output_type": "stream",
     "text": [
      "Saving path of Labber data to G:\\Shared drives\\Labber\\Data\\2025\\04\\Data_0402\\\\\n",
      "Saving figures to G:\\Shared drives\\Labber\\Data\\2025\\04\\Data_0402\\\\Figures\\\\\n"
     ]
    }
   ],
   "source": [
    "# get the time module\n",
    "import time\n",
    "import os\n",
    "import logging\n",
    "\n",
    "SPATH = r\"G:\\Shared drives\\Labber\\Data\\{}\\{}\\Data_{}\\\\\".format(time.strftime(\"%Y\"), time.strftime(\"%m\"), time.strftime(\"%m%d\"))\n",
    "\n",
    "figpath = SPATH + r\"Figures\\\\\"\n",
    "if not os.path.exists(figpath):\n",
    "    os.makedirs(figpath)\n",
    "print(f\"Saving path of Labber data to {SPATH}\")\n",
    "print(f\"Saving figures to {figpath}\")\n",
    "logging.basicConfig(filename=SPATH+f'MEASUREMENTLOG_{time.strftime(\"%Y%m%d_%H%M%S\")}.log',filemode='w',level=logging.INFO)\n"
   ]
  },
  {
   "cell_type": "markdown",
   "metadata": {},
   "source": [
    "Either set the VNA settings manually and grab them."
   ]
  },
  {
   "cell_type": "code",
   "execution_count": 10,
   "metadata": {},
   "outputs": [
    {
     "data": {
      "text/plain": [
       "{'S11 - Enabled': False,\n",
       " 'S21 - Enabled': True,\n",
       " 'S12 - Enabled': False,\n",
       " 'S22 - Enabled': False,\n",
       " 'S11': {'y': array([], dtype=float64), 't0': 0.0, 'dt': 1.0, 'shape': [0]},\n",
       " 'S21': {'y': array([3.6908310e-05+3.2143864e-05j, 3.6747300e-05+3.5069152e-05j,\n",
       "         4.1524050e-05+3.4500281e-05j, ..., 3.6558256e-05+2.0064932e-05j,\n",
       "         3.8510472e-05+1.7225490e-05j, 3.8030099e-05+2.0043215e-05j],\n",
       "        dtype=complex64),\n",
       "  't0': 5755975000.0,\n",
       "  'dt': 31250.0,\n",
       "  'shape': [1601]},\n",
       " 'S12': {'y': array([], dtype=float64), 't0': 0.0, 'dt': 1.0, 'shape': [0]},\n",
       " 'S22': {'y': array([], dtype=float64), 't0': 0.0, 'dt': 1.0, 'shape': [0]},\n",
       " 'S11 - Value': 0j,\n",
       " 'S21 - Value': 0j,\n",
       " 'S12 - Value': 0j,\n",
       " 'S22 - Value': 0j,\n",
       " 'Output enabled': True,\n",
       " 'Output power': 5.0,\n",
       " 'Trigger': True,\n",
       " 'IF bandwidth': 1000.0,\n",
       " 'Average': True,\n",
       " '# of averages': 50.0,\n",
       " 'Wait for new trace': True,\n",
       " 'Electrical Delay': 8.2417e-08,\n",
       " 'Phase Offset': 0.0,\n",
       " 'Range type': 'Center - Span',\n",
       " 'Center frequency': 5780975000.0,\n",
       " 'Span': 50000000.0,\n",
       " '# of points': 1601.0,\n",
       " 'Sweep type': 'Linear',\n",
       " 'Sweep mode': 'Stepped'}"
      ]
     },
     "execution_count": 10,
     "metadata": {},
     "output_type": "execute_result"
    }
   ],
   "source": [
    "VNA.getInstrConfig()"
   ]
  },
  {
   "cell_type": "markdown",
   "metadata": {},
   "source": [
    "Or just set them in the code. \n",
    "\n",
    "```python"
   ]
  },
  {
   "cell_type": "code",
   "execution_count": 17,
   "metadata": {},
   "outputs": [
    {
     "data": {
      "text/plain": [
       "True"
      ]
     },
     "execution_count": 17,
     "metadata": {},
     "output_type": "execute_result"
    }
   ],
   "source": [
    "VNA.setValue('Output enabled',True)\n",
    "VNA.setValue('Range type','Start - Stop')\n",
    "VNA.setValue('Start frequency', 5.7E9)\n",
    "VNA.setValue('Stop frequency', 5.8E9)\n",
    "VNA.setValue('# of averages', 20)\n",
    "VNA.setValue('Average',True)\n",
    "VNA.setValue('Wait for new trace', True)"
   ]
  },
  {
   "cell_type": "markdown",
   "metadata": {},
   "source": [
    "Testing the VNA settings by grabbing a trace"
   ]
  },
  {
   "cell_type": "code",
   "execution_count": 18,
   "metadata": {},
   "outputs": [
    {
     "name": "stderr",
     "output_type": "stream",
     "text": [
      "c:\\ProgramData\\Anaconda3\\envs\\resonator-fitting-env\\lib\\site-packages\\matplotlib\\cbook\\__init__.py:1345: ComplexWarning: Casting complex values to real discards the imaginary part\n",
      "  return np.asarray(x, float)\n"
     ]
    },
    {
     "data": {
      "image/png": "[encoded data removed]",
      "text/plain": [
       "<Figure size 640x480 with 1 Axes>"
      ]
     },
     "metadata": {},
     "output_type": "display_data"
    }
   ],
   "source": [
    "dBG = VNA.getValue('S21')\n",
    "xBG = np.arange(dBG['t0'],dBG['t0']+dBG['shape'][0]*dBG['dt'],dBG['dt'])\n",
    "zBG = dBG['y']\n",
    "plt.plot(zBG)\n",
    "plt.show()"
   ]
  },
  {
   "cell_type": "code",
   "execution_count": 19,
   "metadata": {},
   "outputs": [
    {
     "data": {
      "text/plain": [
       "(array([0.   , 0.002]), 2)"
      ]
     },
     "execution_count": 19,
     "metadata": {},
     "output_type": "execute_result"
    }
   ],
   "source": [
    "#voltages = np.arange(-74E-3,72E-3,2E-3)\n",
    "voltages = np.arange(0,4E-3,2E-3)\n",
    "\n",
    "# reverse order\n",
    "#voltages = np.flip(voltages)\n",
    "voltages, len(voltages)"
   ]
  },
  {
   "cell_type": "code",
   "execution_count": 20,
   "metadata": {},
   "outputs": [],
   "source": [
    "labber_file_name = \"test2\"\n",
    "\n",
    "lfVNA = Labber.createLogFile_ForData(os.path.join(SPATH, f'{labber_file_name}_flux_sweep'),\n",
    "                                      [{'name':'VNA - S21','complex':True,'vector':True,'x_name':'Frequency','x_unit':'Hz'}],\n",
    "                                      step_channels=[{'name':'Voltage','values':voltages,'unit':'V'}])"
   ]
  },
  {
   "cell_type": "code",
   "execution_count": 21,
   "metadata": {},
   "outputs": [
    {
     "name": "stderr",
     "output_type": "stream",
     "text": [
      "Voltage Sweep:   0%|          | 0/2 [00:00<?, ?V/s]"
     ]
    },
    {
     "name": "stdout",
     "output_type": "stream",
     "text": [
      "0.0\n",
      "Setting FFL bias to 0.0 mV from 0.0 mV\n"
     ]
    },
    {
     "name": "stderr",
     "output_type": "stream",
     "text": [
      "Voltage Sweep:  50%|█████     | 1/2 [00:33<00:33, 33.71s/V]"
     ]
    },
    {
     "name": "stdout",
     "output_type": "stream",
     "text": [
      "0.002\n",
      "Setting FFL bias to 2.0 mV from 0.0 mV\n"
     ]
    },
    {
     "name": "stderr",
     "output_type": "stream",
     "text": [
      "Voltage Sweep: 100%|██████████| 2/2 [01:27<00:00, 43.99s/V]\n"
     ]
    }
   ],
   "source": [
    "for voltage in tqdm(voltages, desc='Voltage Sweep', unit='V'):  # Add tqdm progress bar\n",
    "    print(voltage)\n",
    "    logging.info(f'Starting Voltage = {voltage:.3f}\\\\n')\n",
    "    set_flux_bias_srs(voltage, step=5E-5)\n",
    "    sleep(0.05)\n",
    "    dData = VNA.getValue('S21')\n",
    "    zData = dData['y']\n",
    "    xBG = np.arange(dData['t0'],dData['t0']+dData['shape'][0]*dData['dt'],dData['dt'])\n",
    "    td2 = Labber.getTraceDict(zData,x0=xBG[0],x1=xBG[-1])\n",
    "    lfVNA.addEntry({'VNA - S21':td2})"
   ]
  },
  {
   "cell_type": "markdown",
   "metadata": {},
   "source": [
    "Ensure that the flux bias is set back to zero."
   ]
  },
  {
   "cell_type": "code",
   "execution_count": 22,
   "metadata": {},
   "outputs": [
    {
     "name": "stdout",
     "output_type": "stream",
     "text": [
      "Setting FFL bias to 0.0 mV from 2.0 mV\n"
     ]
    }
   ],
   "source": [
    "set_flux_bias_srs(0, step=5E-5)"
   ]
  }
 ],
 "metadata": {
  "kernelspec": {
   "display_name": "resonator-fitting-env",
   "language": "python",
   "name": "python3"
  },
  "language_info": {
   "codemirror_mode": {
    "name": "ipython",
    "version": 3
   },
   "file_extension": ".py",
   "mimetype": "text/x-python",
   "name": "python",
   "nbconvert_exporter": "python",
   "pygments_lexer": "ipython3",
   "version": "3.8.19"
  }
 },
 "nbformat": 4,
 "nbformat_minor": 2
}
