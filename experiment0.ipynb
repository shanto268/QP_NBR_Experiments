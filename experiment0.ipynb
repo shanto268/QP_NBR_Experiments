{
 "cells": [
  {
   "cell_type": "markdown",
   "metadata": {},
   "source": [
    "# Flux Sweeping via SRS\n",
    "\n",
    "[srsinst pacakge](https://github.com/thinkSRS/srsinst.dc205)\n"
   ]
  },
  {
   "cell_type": "code",
   "execution_count": null,
   "metadata": {},
   "outputs": [],
   "source": [
    "%load_ext autoreload\n",
    "%autoreload 2"
   ]
  },
  {
   "cell_type": "code",
   "execution_count": null,
   "metadata": {},
   "outputs": [],
   "source": [
    "%matplotlib inline"
   ]
  },
  {
   "cell_type": "code",
   "execution_count": null,
   "metadata": {},
   "outputs": [],
   "source": [
    "from flux_fit import *\n",
    "from utils import *"
   ]
  },
  {
   "cell_type": "markdown",
   "metadata": {},
   "source": [
    "Connect to the instruments"
   ]
  },
  {
   "cell_type": "code",
   "execution_count": null,
   "metadata": {},
   "outputs": [],
   "source": [
    "!python -m srsinst.dc205"
   ]
  },
  {
   "cell_type": "code",
   "execution_count": null,
   "metadata": {},
   "outputs": [],
   "source": [
    "client = Labber.connectToServer(timeout=None)\n",
    "instrument_list = client.getListOfInstruments()\n",
    "instruments = create_instrument_connections(client, instrument_list)"
   ]
  },
  {
   "cell_type": "code",
   "execution_count": null,
   "metadata": {},
   "outputs": [],
   "source": [
    "vs = connect_SRS()\n",
    "VNA = instruments['Agilent Network Analyzer E5071B']\n",
    "DA = instruments['Vaunix Lab Brick Digital Attenuator']\n",
    "SMU = instruments['Keithley 2400 SourceMeter']\n",
    "LO= instruments['SignalCore SC5511A Signal Generator_10002F25']\n",
    "Drive= instruments['SignalCore SC5511A Signal Generator_1000334C']\n",
    "TWPA_PUMP = instruments['Rohde&Schwarz RF Source']\n",
    "\n",
    "initialize_instruments(VNA, DA, SMU, LO, Drive, vs, TWPA_PUMP)"
   ]
  },
  {
   "cell_type": "markdown",
   "metadata": {},
   "source": [
    "Since we only need the VNA and SRS for this measurement- lets make sure they are connected and ready to go. "
   ]
  },
  {
   "cell_type": "code",
   "execution_count": null,
   "metadata": {},
   "outputs": [],
   "source": [
    "vs.check_id()\n",
    "VNA.isRunning()"
   ]
  },
  {
   "cell_type": "markdown",
   "metadata": {},
   "source": [
    "Setting up the paths for storing the Labber file."
   ]
  },
  {
   "cell_type": "code",
   "execution_count": null,
   "metadata": {},
   "outputs": [],
   "source": [
    "# get the time module\n",
    "import time\n",
    "import os\n",
    "import logging\n",
    "\n",
    "SPATH = r\"G:\\Shared drives\\Labber\\Data\\{}\\{}\\Data_{}\\\\\".format(time.strftime(\"%Y\"), time.strftime(\"%m\"), time.strftime(\"%m%d\"))\n",
    "\n",
    "figpath = SPATH + r\"Figures\\\\\"\n",
    "if not os.path.exists(figpath):\n",
    "    os.makedirs(figpath)\n",
    "print(f\"Saving path of Labber data to {SPATH}\")\n",
    "print(f\"Saving figures to {figpath}\")\n",
    "logging.basicConfig(filename=SPATH+f'MEASUREMENTLOG_{time.strftime(\"%Y%m%d_%H%M%S\")}.log',filemode='w',level=logging.INFO)\n"
   ]
  },
  {
   "cell_type": "markdown",
   "metadata": {},
   "source": [
    "Either set the VNA settings manually and grab them."
   ]
  },
  {
   "cell_type": "code",
   "execution_count": null,
   "metadata": {},
   "outputs": [],
   "source": [
    "VNA.getInstrConfig()"
   ]
  },
  {
   "cell_type": "markdown",
   "metadata": {},
   "source": [
    "Or just set them in the code. \n",
    "\n",
    "```python"
   ]
  },
  {
   "cell_type": "code",
   "execution_count": null,
   "metadata": {},
   "outputs": [],
   "source": [
    "VNA.setValue('Output enabled',True)\n",
    "VNA.setValue('Range type','Start - Stop')\n",
    "VNA.setValue('Start frequency', 5.02E9)\n",
    "VNA.setValue('Stop frequency', 5.09E9)\n",
    "VNA.setValue('# of averages', 20)\n",
    "VNA.setValue('Average',True)\n",
    "VNA.setValue('Wait for new trace', True)"
   ]
  },
  {
   "cell_type": "markdown",
   "metadata": {},
   "source": [
    "Testing the VNA settings by grabbing a trace"
   ]
  },
  {
   "cell_type": "code",
   "execution_count": null,
   "metadata": {},
   "outputs": [],
   "source": [
    "dBG = VNA.getValue('S21')\n",
    "xBG = np.arange(dBG['t0'],dBG['t0']+dBG['shape'][0]*dBG['dt'],dBG['dt'])\n",
    "zBG = dBG['y']\n",
    "plt.plot(zBG)\n",
    "plt.show()"
   ]
  },
  {
   "cell_type": "code",
   "execution_count": null,
   "metadata": {},
   "outputs": [
    {
     "data": {
      "text/plain": [
       "(array([-7.4000000e-02, -7.2000000e-02, -7.0000000e-02, -6.8000000e-02,\n",
       "        -6.6000000e-02, -6.4000000e-02, -6.2000000e-02, -6.0000000e-02,\n",
       "        -5.8000000e-02, -5.6000000e-02, -5.4000000e-02, -5.2000000e-02,\n",
       "        -5.0000000e-02, -4.8000000e-02, -4.6000000e-02, -4.4000000e-02,\n",
       "        -4.2000000e-02, -4.0000000e-02, -3.8000000e-02, -3.6000000e-02,\n",
       "        -3.4000000e-02, -3.2000000e-02, -3.0000000e-02, -2.8000000e-02,\n",
       "        -2.6000000e-02, -2.4000000e-02, -2.2000000e-02, -2.0000000e-02,\n",
       "        -1.8000000e-02, -1.6000000e-02, -1.4000000e-02, -1.2000000e-02,\n",
       "        -1.0000000e-02, -8.0000000e-03, -6.0000000e-03, -4.0000000e-03,\n",
       "        -2.0000000e-03,  6.9388939e-17,  2.0000000e-03,  4.0000000e-03,\n",
       "         6.0000000e-03,  8.0000000e-03,  1.0000000e-02,  1.2000000e-02,\n",
       "         1.4000000e-02,  1.6000000e-02,  1.8000000e-02,  2.0000000e-02,\n",
       "         2.2000000e-02,  2.4000000e-02,  2.6000000e-02,  2.8000000e-02,\n",
       "         3.0000000e-02,  3.2000000e-02,  3.4000000e-02,  3.6000000e-02,\n",
       "         3.8000000e-02,  4.0000000e-02,  4.2000000e-02,  4.4000000e-02,\n",
       "         4.6000000e-02,  4.8000000e-02,  5.0000000e-02,  5.2000000e-02,\n",
       "         5.4000000e-02,  5.6000000e-02,  5.8000000e-02,  6.0000000e-02,\n",
       "         6.2000000e-02,  6.4000000e-02,  6.6000000e-02,  6.8000000e-02,\n",
       "         7.0000000e-02]),\n",
       " 73)"
      ]
     },
     "execution_count": 10,
     "metadata": {},
     "output_type": "execute_result"
    }
   ],
   "source": [
    "voltages = np.arange(-74E-3,72E-3,2E-3)\n",
    "# reverse order\n",
    "#voltages = np.flip(voltages)\n",
    "voltages, len(voltages)````"
   ]
  },
  {
   "cell_type": "code",
   "execution_count": null,
   "metadata": {},
   "outputs": [],
   "source": [
    "labber_file_name = \"NBRL1A_25_mK\"\n",
    "\n",
    "lfVNA = Labber.createLogFile_ForData(os.path.join(SPATH, f'{labber_file_name}_flux_sweep'),\n",
    "                                      [{'name':'VNA - S21','complex':True,'vector':True,'x_name':'Frequency','x_unit':'Hz'}],\n",
    "                                      step_channels=[{'name':'Voltage','values':voltages,'unit':'V'}])"
   ]
  },
  {
   "cell_type": "code",
   "execution_count": null,
   "metadata": {},
   "outputs": [],
   "source": [
    "for voltage in tqdm(voltages, desc='Voltage Sweep', unit='V'):  # Add tqdm progress bar\n",
    "    print(voltage)\n",
    "    logging.info(f'Starting Voltage = {voltage:.3f}\\\\n')\n",
    "    set_flux_bias_srs(voltage, step=5E-5)\n",
    "    sleep(0.05)\n",
    "    dData = VNA.getValue('S21')\n",
    "    zData = dData['y']\n",
    "    xBG = np.arange(dData['t0'],dData['t0']+dData['shape'][0]*dData['dt'],dData['dt'])\n",
    "    td2 = Labber.getTraceDict(zData,x0=xBG[0],x1=xBG[-1])\n",
    "    lfVNA.addEntry({'VNA - S21':td2})"
   ]
  },
  {
   "cell_type": "markdown",
   "metadata": {},
   "source": [
    "Ensure that the flux bias is set back to zero."
   ]
  },
  {
   "cell_type": "code",
   "execution_count": null,
   "metadata": {},
   "outputs": [],
   "source": [
    "set_flux_bias_srs(0, step=5E-5)"
   ]
  }
 ],
 "metadata": {
  "kernelspec": {
   "display_name": "resonator-fitting-env",
   "language": "python",
   "name": "python3"
  },
  "language_info": {
   "codemirror_mode": {
    "name": "ipython",
    "version": 3
   },
   "file_extension": ".py",
   "mimetype": "text/x-python",
   "name": "python",
   "nbconvert_exporter": "python",
   "pygments_lexer": "ipython3",
   "version": "3.8.19"
  }
 },
 "nbformat": 4,
 "nbformat_minor": 2
}
