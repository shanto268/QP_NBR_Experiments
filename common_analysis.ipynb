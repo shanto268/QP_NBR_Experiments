{
 "cells": [
  {
   "cell_type": "markdown",
   "metadata": {},
   "source": [
    "# Common Analysis for NBR Measurements"
   ]
  },
  {
   "cell_type": "code",
   "execution_count": 61,
   "metadata": {},
   "outputs": [],
   "source": [
    "import Labber\n",
    "import numpy as np\n",
    "import os\n",
    "import matplotlib.pyplot as plt\n",
    "from fitTools.Resonator import Resonator\n",
    "import logging\n",
    "from resonator import reflection, see\n",
    "import pandas as pd"
   ]
  },
  {
   "cell_type": "markdown",
   "metadata": {},
   "source": [
    "## Powersweep fits"
   ]
  },
  {
   "cell_type": "markdown",
   "metadata": {},
   "source": [
    "Specify the path to the hdfl5 file."
   ]
  },
  {
   "cell_type": "code",
   "execution_count": null,
   "metadata": {},
   "outputs": [],
   "source": [
    "fpath = r\"G:\\Shared drives\\Labber\\Data\\2025\\04\\Data_0403\\NBRL1A_no_rad_powerdweep_69mK_twpa_Off.hdf5\""
   ]
  },
  {
   "cell_type": "code",
   "execution_count": null,
   "metadata": {},
   "outputs": [],
   "source": [
    "plt.rcParams.update({'font.size':14})\n",
    "path,fname = os.path.split(fpath)\n",
    "path += r'\\\\'\n",
    "figpath = 'figures\\\\'+fname[:-4]+'\\\\'\n",
    "if not os.path.exists(path+'figures\\\\'):\n",
    "    os.mkdir(path+'figures\\\\')\n",
    "if not os.path.exists(path+figpath):\n",
    "    os.mkdir(path+figpath)\n",
    "lf = Labber.LogFile(path + fname)\n",
    "\n",
    "logFileName = path + f\"profile_info_{fname[:-4]}log\"\n",
    "logging.basicConfig(level=logging.INFO, format='%(message)s')\n",
    "logger = logging.getLogger()\n",
    "logger.addHandler(logging.FileHandler(logFileName, 'a'))\n",
    "print = logger.info\n",
    "\n",
    "nEntries = lf.getNumberOfEntries()\n",
    "power = np.squeeze(np.round(lf.getData(name=lf.getStepChannels()[0][\"name\"]),decimals=2))"
   ]
  },
  {
   "cell_type": "code",
   "execution_count": 22,
   "metadata": {},
   "outputs": [],
   "source": [
    "def adjust_range(f, s21, f_min, f_max):\n",
    "    mask = (f >= f_min) & (f <= f_max)\n",
    "    return f[mask], s21[mask]\n",
    "\n",
    "def process_powersweep_fits(lf, nEntries, power, pdf_name, fmin, fmax):\n",
    "    \"\"\"\n",
    "    Process fits for the given Labber log file and save the results to a PDF.\n",
    "    \n",
    "    Parameters:\n",
    "    lf (Labber.LogFile): The Labber log file object.\n",
    "    nEntries (int): The number of entries in the log file.\n",
    "    power (list): The list of power values for each entry.\n",
    "    pdf_name (str): The name of the PDF file to save the plots.\n",
    "    fmin (float): The minimum frequency for the fit range.\n",
    "    fmax (float): The maximum frequency for the fit range.\n",
    "    \n",
    "    \"\"\"\n",
    "    from matplotlib.backends.backend_pdf import PdfPages\n",
    "    fits = {'f': [], 'Qint': [], 'Qext': [], 'power': [], 'Qtot': [], 'f_error': []}\n",
    "    fit_objects = []\n",
    "\n",
    "    # Create a PdfPages object to save all plots in one PDF\n",
    "    with PdfPages(pdf_name) as pdf:\n",
    "        for n in range(nEntries):\n",
    "            (frequency, S21) = lf.getTraceXY(entry=n)\n",
    "            frequency, S21 = adjust_range(frequency, S21, fmin, fmax)\n",
    "            r = reflection.LinearReflectionFitter(frequency, S21)\n",
    "            fit_objects.append(r)\n",
    "            # Generate plots\n",
    "            fig, (ax_magnitude, ax_phase, ax_complex) = see.triptych(\n",
    "                resonator=r, plot_initial=False, frequency_scale=1e-9,\n",
    "                figure_settings={'figsize': (16, 8), 'dpi': 300}\n",
    "            )\n",
    "            # Append power to the plot title\n",
    "            fig.suptitle(f'DA Attenuation: {power[n]} dBm')\n",
    "            ax_complex.legend()\n",
    "            # Save the current figure to the PDF\n",
    "            pdf.savefig(fig)\n",
    "            plt.close(fig)\n",
    "            # Append the fit results to the dictionary\n",
    "            fits['f'].append(r.resonance_frequency)\n",
    "            fits['Qtot'].append(r.Q_t)\n",
    "            fits['Qint'].append(r.Q_i)\n",
    "            fits['Qext'].append(r.Q_c)\n",
    "            fits['power'].append(power[n])\n",
    "            fits['f_error'].append(r.f_r_error)\n",
    "\n",
    "    return fits, fit_objects"
   ]
  },
  {
   "cell_type": "markdown",
   "metadata": {},
   "source": [
    "Specify the cut-off frequencies for a more accurate fit."
   ]
  },
  {
   "cell_type": "code",
   "execution_count": 30,
   "metadata": {},
   "outputs": [],
   "source": [
    "fmin, fmax=   5.7707e9, 5.7911e9"
   ]
  },
  {
   "cell_type": "code",
   "execution_count": null,
   "metadata": {},
   "outputs": [],
   "source": [
    "fits, fit_objects = process_powersweep_fits(lf, nEntries, power, path + figpath + 'fits.pdf', fmin, fmax)"
   ]
  },
  {
   "cell_type": "code",
   "execution_count": null,
   "metadata": {},
   "outputs": [],
   "source": [
    "# save the fit results in a csv file\n",
    "powersweep_df = pd.DataFrame(fits)\n",
    "powersweep_df.to_csv(path+figpath+'fit_results.csv', index=False)"
   ]
  },
  {
   "cell_type": "code",
   "execution_count": 41,
   "metadata": {},
   "outputs": [],
   "source": [
    "# Create a single figure with two subplots\n",
    "fig, (ax1, ax2) = plt.subplots(2, 1, figsize=(10, 12))\n",
    "\n",
    "# Plot the fit results (frequency vs power with error) on the first subplot\n",
    "ax1.errorbar(powersweep_df['power'], powersweep_df['f'], yerr=powersweep_df['f_error'], fmt='o-', label='Frequency with error')\n",
    "ax1.set_xlabel('DA Attenuation (dBm)')\n",
    "ax1.set_ylabel('Frequency (GHz)')\n",
    "ax1.set_title('Frequency vs Power')\n",
    "ax1.legend()\n",
    "ax1.grid()\n",
    "\n",
    "# Plot the Q factors on the second subplot\n",
    "ax2.plot(powersweep_df['power'], powersweep_df['Qint'], 'o-', label='Qint')\n",
    "ax2.plot(powersweep_df['power'], powersweep_df['Qext'], 'o-', label='Qext')\n",
    "ax2.plot(powersweep_df['power'], powersweep_df['Qtot'], 'o-', label='Qtot')\n",
    "ax2.set_xlabel('DA Attenuation (dBm)')\n",
    "ax2.set_ylabel('Quality Factor')\n",
    "ax2.set_title('Quality Factors vs Power')\n",
    "ax2.legend()\n",
    "ax2.grid()\n",
    "\n",
    "# Adjust layout and save the figure as a PDF\n",
    "plt.tight_layout()\n",
    "pdf_path = path + figpath + 'combined_plots.pdf'\n",
    "fig.savefig(pdf_path)\n",
    "plt.close(fig)"
   ]
  },
  {
   "cell_type": "markdown",
   "metadata": {},
   "source": [
    "## Fluxsweep fits"
   ]
  },
  {
   "cell_type": "markdown",
   "metadata": {},
   "source": [
    "Specify the path to the hdf5 file."
   ]
  },
  {
   "cell_type": "code",
   "execution_count": 62,
   "metadata": {},
   "outputs": [],
   "source": [
    "fpath = r\"G:\\Shared drives\\Labber\\Data\\2025\\04\\Data_0402\\NBRL1A_70mK_flux_sweep.hdf5\""
   ]
  },
  {
   "cell_type": "code",
   "execution_count": 64,
   "metadata": {},
   "outputs": [],
   "source": [
    "plt.rcParams.update({'font.size':14})\n",
    "\n",
    "\n",
    "path,fname = os.path.split(fpath)\n",
    "path += r'\\\\'\n",
    "figpath = 'figures\\\\'+fname[:-4]+'\\\\'\n",
    "if not os.path.exists(path+'figures\\\\'):\n",
    "    os.mkdir(path+'figures\\\\')\n",
    "if not os.path.exists(path+figpath):\n",
    "    os.mkdir(path+figpath)\n",
    "lf = Labber.LogFile(path + fname)\n",
    "\n",
    "logFileName = path + f\"profile_info_{fname[:-4]}log\"\n",
    "logging.basicConfig(level=logging.INFO, format='%(message)s')\n",
    "logger = logging.getLogger()\n",
    "logger.addHandler(logging.FileHandler(logFileName, 'a'))\n",
    "print = logger.info\n",
    "\n",
    "nEntries = lf.getNumberOfEntries()\n",
    "voltage = np.squeeze(np.round(lf.getData(name=lf.getStepChannels()[0][\"name\"]), decimals=6)) * 1e3 # mV\n"
   ]
  },
  {
   "cell_type": "code",
   "execution_count": 65,
   "metadata": {},
   "outputs": [],
   "source": [
    "def process_fluxsweep_fits(lf, nEntries, voltage, pdf_name, span):\n",
    "    from matplotlib.backends.backend_pdf import PdfPages\n",
    "    fits = {'f': [], 'Qint': [], 'Qext': [], 'voltage': [], 'Qtot': [], 'f_error': []}\n",
    "    fit_objects = []\n",
    "\n",
    "    # Create a PdfPages object to save all plots in one PDF\n",
    "    with PdfPages(pdf_name) as pdf:\n",
    "        for n in range(nEntries):\n",
    "            (frequency, S21) = lf.getTraceXY(entry=n)\n",
    "            # Calculate the log magnitude of S21\n",
    "            S21_log_mag = 20 * np.log10(np.abs(S21))\n",
    "            # Find the index of the dip in the log magnitude\n",
    "            dip_index = np.argmin(S21_log_mag)\n",
    "            # Determine the center frequency\n",
    "            center_frequency = frequency[dip_index]\n",
    "            # Set fmin and fmax based on the span\n",
    "            fmin = center_frequency - span / 2\n",
    "            fmax = center_frequency + span / 2\n",
    "            # Adjust the frequency and S21 range\n",
    "            frequency, S21 = adjust_range(frequency, S21, fmin, fmax)\n",
    "            r = reflection.LinearReflectionFitter(frequency, S21)\n",
    "            fit_objects.append(r)\n",
    "            # Generate plots\n",
    "            fig, (ax_magnitude, ax_phase, ax_complex) = see.triptych(\n",
    "                resonator=r, plot_initial=False, frequency_scale=1e-9,\n",
    "                figure_settings={'figsize': (16, 8), 'dpi': 300}\n",
    "            )\n",
    "            # Append voltage to the plot title\n",
    "            fig.suptitle(f'Voltage: {voltage[n]} mV')\n",
    "            ax_complex.legend()\n",
    "            # Save the current figure to the PDF\n",
    "            pdf.savefig(fig)\n",
    "            plt.close(fig)\n",
    "            # Append the fit results to the dictionary\n",
    "            fits['f'].append(r.resonance_frequency)\n",
    "            fits['Qtot'].append(r.Q_t)\n",
    "            fits['Qint'].append(r.Q_i)\n",
    "            fits['Qext'].append(r.Q_c)\n",
    "            fits['voltage'].append(voltage[n])\n",
    "            fits['f_error'].append(r.f_r_error)\n",
    "\n",
    "    return fits, fit_objects\n"
   ]
  },
  {
   "cell_type": "code",
   "execution_count": 66,
   "metadata": {},
   "outputs": [],
   "source": [
    "fits, fit_objects = process_fluxsweep_fits(lf, nEntries, voltage, path + figpath + 'fits.pdf', span=20e6)"
   ]
  },
  {
   "cell_type": "code",
   "execution_count": 67,
   "metadata": {},
   "outputs": [],
   "source": [
    "fluxsweep_df = pd.DataFrame(fits)\n",
    "fluxsweep_df.to_csv(path+figpath+'fit_results.csv', index=False)"
   ]
  },
  {
   "cell_type": "code",
   "execution_count": 60,
   "metadata": {},
   "outputs": [],
   "source": [
    "# plot the frequency and Q factors as a function of voltage\n",
    "fig, (ax1, ax2) = plt.subplots(2, 1, figsize=(10, 12))\n",
    "\n",
    "# Plot the fit results (frequency vs voltage with error) on the first subplot\n",
    "ax1.plot(fluxsweep_df['voltage'], fluxsweep_df['f'], 'o-', label='Frequency')\n",
    "ax1.set_xlabel('Voltage (mV)')\n",
    "ax1.set_ylabel('Frequency (GHz)')\n",
    "ax1.set_title('Frequency vs Voltage')\n",
    "ax1.legend()\n",
    "ax1.grid()\n",
    "\n",
    "# Plot the Q factors on the second subplot\n",
    "ax2.plot(fluxsweep_df['voltage'], fluxsweep_df['Qint'], 'o-', label='Qint')\n",
    "ax2.plot(fluxsweep_df['voltage'], fluxsweep_df['Qext'], 'o-', label='Qext')\n",
    "ax2.plot(fluxsweep_df['voltage'], fluxsweep_df['Qtot'], 'o-', label='Qtot')\n",
    "ax2.set_xlabel('Voltage (mV)')\n",
    "ax2.set_ylabel('Quality Factor')\n",
    "ax2.set_title('Quality Factors vs Voltage')\n",
    "ax2.legend()\n",
    "ax2.grid()\n",
    "\n",
    "# Adjust layout and save the figure as a PDF\n",
    "plt.tight_layout()\n",
    "pdf_path = path + figpath + 'combined_plots.pdf'\n",
    "fig.savefig(pdf_path)\n",
    "plt.close(fig)\n"
   ]
  }
 ],
 "metadata": {
  "kernelspec": {
   "display_name": "resonator-fitting-env",
   "language": "python",
   "name": "python3"
  },
  "language_info": {
   "codemirror_mode": {
    "name": "ipython",
    "version": 3
   },
   "file_extension": ".py",
   "mimetype": "text/x-python",
   "name": "python",
   "nbconvert_exporter": "python",
   "pygments_lexer": "ipython3",
   "version": "3.8.19"
  }
 },
 "nbformat": 4,
 "nbformat_minor": 2
}
