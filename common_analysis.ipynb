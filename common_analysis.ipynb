{
 "cells": [
  {
   "cell_type": "markdown",
   "metadata": {},
   "source": [
    "# Common Analysis for NBR Measurements"
   ]
  },
  {
   "cell_type": "markdown",
   "metadata": {},
   "source": [
    "## Powersweep fits"
   ]
  },
  {
   "cell_type": "code",
   "execution_count": 2,
   "metadata": {},
   "outputs": [],
   "source": [
    "import Labber\n",
    "import numpy as np\n",
    "import os\n",
    "import matplotlib.pyplot as plt\n",
    "from fitTools.Resonator import Resonator\n",
    "import logging"
   ]
  },
  {
   "cell_type": "code",
   "execution_count": null,
   "metadata": {},
   "outputs": [],
   "source": [
    "plt.rcParams.update({'font.size':14})\n",
    "\n",
    "fpath = r\"G:\\Shared drives\\Labber\\Data\\2025\\04\\Data_0403\\NBRL1A_no_rad_powerdweep_69mK_twpa_Off.hdf5\"\n",
    "\n",
    "path,fname = os.path.split(fpath)\n",
    "path += r'\\\\'\n",
    "figpath = 'figures\\\\'+fname[:-4]+'\\\\'\n",
    "if not os.path.exists(path+'figures\\\\'):\n",
    "    os.mkdir(path+'figures\\\\')\n",
    "if not os.path.exists(path+figpath):\n",
    "    os.mkdir(path+figpath)\n",
    "lf = Labber.LogFile(path + fname)\n",
    "\n",
    "logFileName = path + f\"profile_info_{fname[:-4]}log\"\n",
    "logging.basicConfig(level=logging.INFO, format='%(message)s')\n",
    "logger = logging.getLogger()\n",
    "logger.addHandler(logging.FileHandler(logFileName, 'a'))\n",
    "print = logger.info\n",
    "\n",
    "nEntries = lf.getNumberOfEntries()\n",
    "power = np.squeeze(np.round(lf.getData(name=lf.getStepChannels()[0][\"name\"]),decimals=2))"
   ]
  },
  {
   "cell_type": "code",
   "execution_count": 6,
   "metadata": {},
   "outputs": [],
   "source": [
    "from resonator import reflection, see"
   ]
  },
  {
   "cell_type": "code",
   "execution_count": 22,
   "metadata": {},
   "outputs": [],
   "source": [
    "# a method that takes frequency and S21 and also f_min and f_max and returns the adjusted frequency and S21 that are within the range\n",
    "def adjust_range(f, s21, f_min, f_max):\n",
    "    mask = (f >= f_min) & (f <= f_max)\n",
    "    return f[mask], s21[mask]"
   ]
  },
  {
   "cell_type": "code",
   "execution_count": 30,
   "metadata": {},
   "outputs": [],
   "source": [
    "fmin, fmax=   5.7707e9, 5.7911e9"
   ]
  },
  {
   "cell_type": "code",
   "execution_count": null,
   "metadata": {},
   "outputs": [],
   "source": [
    "def process_fits(lf, nEntries, power, pdf_name, fmin, fmax):\n",
    "    \"\"\"\n",
    "    Process fits for the given Labber log file and save the results to a PDF.\n",
    "    \n",
    "    Parameters:\n",
    "    lf (Labber.LogFile): The Labber log file object.\n",
    "    nEntries (int): The number of entries in the log file.\n",
    "    power (list): The list of power values for each entry.\n",
    "    pdf_name (str): The name of the PDF file to save the plots.\n",
    "    fmin (float): The minimum frequency for the fit range.\n",
    "    fmax (float): The maximum frequency for the fit range.\n",
    "    \n",
    "    \"\"\"\n",
    "    from matplotlib.backends.backend_pdf import PdfPages\n",
    "    fits = {'f': [], 'Qint': [], 'Qext': [], 'power': [], 'Qtot': [], 'f_error': []}\n",
    "    fit_objects = []\n",
    "\n",
    "    # Create a PdfPages object to save all plots in one PDF\n",
    "    with PdfPages(pdf_name) as pdf:\n",
    "        for n in range(nEntries):\n",
    "            (frequency, S21) = lf.getTraceXY(entry=n)\n",
    "            frequency, S21 = adjust_range(frequency, S21, fmin, fmax)\n",
    "            r = reflection.LinearReflectionFitter(frequency, S21)\n",
    "            fit_objects.append(r)\n",
    "            # Generate plots\n",
    "            fig, (ax_magnitude, ax_phase, ax_complex) = see.triptych(\n",
    "                resonator=r, plot_initial=False, frequency_scale=1e-9,\n",
    "                figure_settings={'figsize': (16, 8), 'dpi': 300}\n",
    "            )\n",
    "            # Append power to the plot title\n",
    "            fig.suptitle(f'DA Attenuation: {power[n]} dBm')\n",
    "            ax_complex.legend()\n",
    "            # Save the current figure to the PDF\n",
    "            pdf.savefig(fig)\n",
    "            plt.close(fig)\n",
    "            # Append the fit results to the dictionary\n",
    "            fits['f'].append(r.resonance_frequency)\n",
    "            fits['Qtot'].append(r.Q_t)\n",
    "            fits['Qint'].append(r.Q_i)\n",
    "            fits['Qext'].append(r.Q_c)\n",
    "            fits['power'].append(power[n])\n",
    "            fits['f_error'].append(r.f_r_error)\n",
    "\n",
    "    return fits, fit_objects\n"
   ]
  },
  {
   "cell_type": "code",
   "execution_count": null,
   "metadata": {},
   "outputs": [],
   "source": [
    "fits, fit_objects = process_fits(lf, nEntries, power, path + figpath + 'fits.pdf', fmin, fmax)"
   ]
  },
  {
   "cell_type": "code",
   "execution_count": null,
   "metadata": {},
   "outputs": [],
   "source": [
    "# save the fit results in a csv file\n",
    "import pandas as pd\n",
    "df = pd.DataFrame(fits)\n",
    "df.to_csv(path+figpath+'fit_results.csv', index=False)"
   ]
  },
  {
   "cell_type": "code",
   "execution_count": 41,
   "metadata": {},
   "outputs": [],
   "source": [
    "# Create a single figure with two subplots\n",
    "fig, (ax1, ax2) = plt.subplots(2, 1, figsize=(10, 12))\n",
    "\n",
    "# Plot the fit results (frequency vs power with error) on the first subplot\n",
    "ax1.errorbar(df['power'], df['f'], yerr=df['f_error'], fmt='o-', label='Frequency with error')\n",
    "ax1.set_xlabel('DA Attenuation (dBm)')\n",
    "ax1.set_ylabel('Frequency (GHz)')\n",
    "ax1.set_title('Frequency vs Power')\n",
    "ax1.legend()\n",
    "ax1.grid()\n",
    "\n",
    "# Plot the Q factors on the second subplot\n",
    "ax2.plot(df['power'], df['Qint'], 'o-', label='Qint')\n",
    "ax2.plot(df['power'], df['Qext'], 'o-', label='Qext')\n",
    "ax2.plot(df['power'], df['Qtot'], 'o-', label='Qtot')\n",
    "ax2.set_xlabel('DA Attenuation (dBm)')\n",
    "ax2.set_ylabel('Quality Factor')\n",
    "ax2.set_title('Quality Factors vs Power')\n",
    "ax2.legend()\n",
    "ax2.grid()\n",
    "\n",
    "# Adjust layout and save the figure as a PDF\n",
    "plt.tight_layout()\n",
    "pdf_path = path + figpath + 'combined_plots.pdf'\n",
    "fig.savefig(pdf_path)\n",
    "plt.close(fig)"
   ]
  },
  {
   "cell_type": "markdown",
   "metadata": {},
   "source": [
    "## Fluxsweep fits"
   ]
  },
  {
   "cell_type": "code",
   "execution_count": 42,
   "metadata": {},
   "outputs": [],
   "source": [
    "plt.rcParams.update({'font.size':14})\n",
    "\n",
    "fpath = r\"G:\\Shared drives\\Labber\\Data\\2025\\04\\Data_0402\\NBRL1A_70mK_flux_sweep.hdf5\"\n",
    "\n",
    "path,fname = os.path.split(fpath)\n",
    "path += r'\\\\'\n",
    "figpath = 'figures\\\\'+fname[:-4]+'\\\\'\n",
    "if not os.path.exists(path+'figures\\\\'):\n",
    "    os.mkdir(path+'figures\\\\')\n",
    "if not os.path.exists(path+figpath):\n",
    "    os.mkdir(path+figpath)\n",
    "lf = Labber.LogFile(path + fname)\n",
    "\n",
    "logFileName = path + f\"profile_info_{fname[:-4]}log\"\n",
    "logging.basicConfig(level=logging.INFO, format='%(message)s')\n",
    "logger = logging.getLogger()\n",
    "logger.addHandler(logging.FileHandler(logFileName, 'a'))\n",
    "print = logger.info\n",
    "\n",
    "nEntries = lf.getNumberOfEntries()"
   ]
  },
  {
   "cell_type": "code",
   "execution_count": null,
   "metadata": {},
   "outputs": [
    {
     "data": {
      "text/plain": [
       "array([-74., -72., -70., -68., -66., -64., -62., -60., -58., -56., -54.,\n",
       "       -52., -50., -48., -46., -44., -42., -40., -38., -36., -34., -32.,\n",
       "       -30., -28., -26., -24., -22., -20., -18., -16., -14., -12., -10.,\n",
       "        -8.,  -6.,  -4.,  -2.,   0.,   2.,   4.,   6.,   8.,  10.,  12.,\n",
       "        14.,  16.,  18.,  20.,  22.,  24.,  26.,  28.,  30.,  32.,  34.,\n",
       "        36.,  38.,  40.,  42.,  44.,  46.,  48.,  50.,  52.,  54.,  56.,\n",
       "        58.,  60.,  62.,  64.,  66.,  68.,  70.])"
      ]
     },
     "execution_count": 44,
     "metadata": {},
     "output_type": "execute_result"
    }
   ],
   "source": [
    "voltage = np.squeeze(np.round(lf.getData(name=lf.getStepChannels()[0][\"name\"]), decimals=6)) * 1e3 # mV\n",
    "voltage"
   ]
  },
  {
   "cell_type": "code",
   "execution_count": 54,
   "metadata": {},
   "outputs": [],
   "source": [
    "def process_fits(lf, nEntries, voltage, pdf_name, span):\n",
    "    from matplotlib.backends.backend_pdf import PdfPages\n",
    "    fits = {'f': [], 'Qint': [], 'Qext': [], 'voltage': [], 'Qtot': [], 'f_error': []}\n",
    "    fit_objects = []\n",
    "\n",
    "    # Create a PdfPages object to save all plots in one PDF\n",
    "    with PdfPages(pdf_name) as pdf:\n",
    "        for n in range(nEntries):\n",
    "            (frequency, S21) = lf.getTraceXY(entry=n)\n",
    "            # Calculate the log magnitude of S21\n",
    "            S21_log_mag = 20 * np.log10(np.abs(S21))\n",
    "            # Find the index of the dip in the log magnitude\n",
    "            dip_index = np.argmin(S21_log_mag)\n",
    "            # Determine the center frequency\n",
    "            center_frequency = frequency[dip_index]\n",
    "            # Set fmin and fmax based on the span\n",
    "            fmin = center_frequency - span / 2\n",
    "            fmax = center_frequency + span / 2\n",
    "            # Adjust the frequency and S21 range\n",
    "            frequency, S21 = adjust_range(frequency, S21, fmin, fmax)\n",
    "            r = reflection.LinearReflectionFitter(frequency, S21)\n",
    "            fit_objects.append(r)\n",
    "            # Generate plots\n",
    "            fig, (ax_magnitude, ax_phase, ax_complex) = see.triptych(\n",
    "                resonator=r, plot_initial=False, frequency_scale=1e-9,\n",
    "                figure_settings={'figsize': (16, 8), 'dpi': 300}\n",
    "            )\n",
    "            # Append voltage to the plot title\n",
    "            fig.suptitle(f'Voltage: {voltage[n]} mV')\n",
    "            ax_complex.legend()\n",
    "            # Save the current figure to the PDF\n",
    "            pdf.savefig(fig)\n",
    "            plt.close(fig)\n",
    "            # Append the fit results to the dictionary\n",
    "            fits['f'].append(r.resonance_frequency)\n",
    "            fits['Qtot'].append(r.Q_t)\n",
    "            fits['Qint'].append(r.Q_i)\n",
    "            fits['Qext'].append(r.Q_c)\n",
    "            fits['voltage'].append(voltage[n])\n",
    "            fits['f_error'].append(r.f_r_error)\n",
    "\n",
    "    return fits, fit_objects\n"
   ]
  },
  {
   "cell_type": "code",
   "execution_count": 55,
   "metadata": {},
   "outputs": [],
   "source": [
    "fits, fit_objects = process_fits(lf, nEntries, voltage, path + figpath + 'fits.pdf', span=20e6)"
   ]
  },
  {
   "cell_type": "code",
   "execution_count": 56,
   "metadata": {},
   "outputs": [],
   "source": [
    "df = pd.DataFrame(fits)\n",
    "df.to_csv(path+figpath+'fit_results.csv', index=False)"
   ]
  },
  {
   "cell_type": "code",
   "execution_count": 60,
   "metadata": {},
   "outputs": [],
   "source": [
    "# plot the frequency and Q factors as a function of voltage\n",
    "fig, (ax1, ax2) = plt.subplots(2, 1, figsize=(10, 12))\n",
    "\n",
    "# Plot the fit results (frequency vs voltage with error) on the first subplot\n",
    "ax1.plot(df['voltage'], df['f'], 'o-', label='Frequency')\n",
    "ax1.set_xlabel('Voltage (mV)')\n",
    "ax1.set_ylabel('Frequency (GHz)')\n",
    "ax1.set_title('Frequency vs Voltage')\n",
    "ax1.legend()\n",
    "ax1.grid()\n",
    "\n",
    "# Plot the Q factors on the second subplot\n",
    "ax2.plot(df['voltage'], df['Qint'], 'o-', label='Qint')\n",
    "ax2.plot(df['voltage'], df['Qext'], 'o-', label='Qext')\n",
    "ax2.plot(df['voltage'], df['Qtot'], 'o-', label='Qtot')\n",
    "ax2.set_xlabel('Voltage (mV)')\n",
    "ax2.set_ylabel('Quality Factor')\n",
    "ax2.set_title('Quality Factors vs Voltage')\n",
    "ax2.legend()\n",
    "ax2.grid()\n",
    "\n",
    "# Adjust layout and save the figure as a PDF\n",
    "plt.tight_layout()\n",
    "pdf_path = path + figpath + 'combined_plots.pdf'\n",
    "fig.savefig(pdf_path)\n",
    "plt.close(fig)\n"
   ]
  },
  {
   "cell_type": "code",
   "execution_count": 58,
   "metadata": {},
   "outputs": [
    {
     "data": {
      "application/vnd.microsoft.datawrangler.viewer.v0+json": {
       "columns": [
        {
         "name": "index",
         "rawType": "int64",
         "type": "integer"
        },
        {
         "name": "f",
         "rawType": "float64",
         "type": "float"
        },
        {
         "name": "Qint",
         "rawType": "float64",
         "type": "float"
        },
        {
         "name": "Qext",
         "rawType": "float64",
         "type": "float"
        },
        {
         "name": "voltage",
         "rawType": "float64",
         "type": "float"
        },
        {
         "name": "Qtot",
         "rawType": "float64",
         "type": "float"
        },
        {
         "name": "f_error",
         "rawType": "float64",
         "type": "float"
        }
       ],
       "conversionMethod": "pd.DataFrame",
       "ref": "3aa5c476-a4f9-4291-9294-a345e62cca8e",
       "rows": [
        [
         "0",
         "5756021858.253181",
         "7303.832769633781",
         "4549.146900393895",
         "-74.0",
         "2803.1945662568814",
         "29996.544915307633"
        ],
        [
         "1",
         "5747287798.8484535",
         "5847.066191663596",
         "4509.415290808666",
         "-72.0",
         "2545.927372697239",
         "33515.90020860298"
        ],
        [
         "2",
         "5733890080.229556",
         "4030.587699180376",
         "4348.139963406482",
         "-70.0",
         "2091.6731222900157",
         "42914.25267235868"
        ],
        [
         "3",
         "5731791804.560112",
         "3901.0368306078303",
         "4357.230544141892",
         "-68.0",
         "2058.2667115040044",
         "44357.30245592232"
        ],
        [
         "4",
         "5746306801.09261",
         "5678.600455052195",
         "4521.4469727863625",
         "-66.0",
         "2517.1932796198553",
         "33502.41194491577"
        ],
        [
         "5",
         "5755661534.612109",
         "7216.170345734016",
         "4568.920170584328",
         "-64.0",
         "2797.6116264312304",
         "30150.452107548568"
        ],
        [
         "6",
         "5762261734.974984",
         "8787.58146088907",
         "4758.467318691643",
         "-62.0",
         "3086.9089483136727",
         "27282.43046761219"
        ],
        [
         "7",
         "5767239661.390562",
         "10210.555368477122",
         "4968.540721581917",
         "-60.0",
         "3342.1990240558594",
         "24518.002572992882"
        ],
        [
         "8",
         "5770979773.2475815",
         "10797.089571257658",
         "5003.105305123135",
         "-58.0",
         "3418.880370557968",
         "23540.833646394425"
        ],
        [
         "9",
         "5773782524.11462",
         "11208.381389088237",
         "5016.06414535116",
         "-56.0",
         "3465.2623347827316",
         "23412.970120515343"
        ],
        [
         "10",
         "5775953378.772575",
         "11522.266020365172",
         "5060.331398032118",
         "-54.0",
         "3516.1249500422223",
         "22357.458989072515"
        ],
        [
         "11",
         "5777526124.643115",
         "11834.413838963586",
         "5102.808592078833",
         "-52.0",
         "3565.4458023176203",
         "22155.63141768689"
        ],
        [
         "12",
         "5778561760.893898",
         "11824.243429792472",
         "5086.103179829885",
         "-50.0",
         "3556.3624741511526",
         "21960.062494153055"
        ],
        [
         "13",
         "5779165661.463933",
         "11909.785651625165",
         "5099.513501870775",
         "-48.0",
         "3570.641693509553",
         "22454.83508839741"
        ],
        [
         "14",
         "5779349993.361641",
         "11970.877313307103",
         "5134.618962228343",
         "-46.0",
         "3593.34173398554",
         "22401.925281734308"
        ],
        [
         "15",
         "5779101113.878342",
         "11883.676537554797",
         "5140.403377589931",
         "-44.0",
         "3588.263877772896",
         "22630.078075211906"
        ],
        [
         "16",
         "5778416027.029698",
         "11576.547295065384",
         "5124.208916878115",
         "-42.0",
         "3551.9737024609863",
         "22872.129814987133"
        ],
        [
         "17",
         "5777221022.443959",
         "11298.81760108462",
         "5123.868612625484",
         "-40.0",
         "3525.2245651290987",
         "23321.020628633276"
        ],
        [
         "18",
         "5775650420.540216",
         "11049.1223712925",
         "5127.108965924857",
         "-38.0",
         "3502.055157007891",
         "23592.632766289782"
        ],
        [
         "19",
         "5773395124.064039",
         "10639.943268628007",
         "5105.890938056039",
         "-36.0",
         "3450.2071597868567",
         "24179.581451260572"
        ],
        [
         "20",
         "5770337847.2947035",
         "10059.297143579366",
         "5046.317581722211",
         "-34.0",
         "3360.499321512989",
         "24817.683146577452"
        ],
        [
         "21",
         "5766326705.602099",
         "9324.252135147928",
         "4966.813679830532",
         "-32.0",
         "3240.613657415416",
         "26203.693798312073"
        ],
        [
         "22",
         "5760996884.609309",
         "7846.711588027437",
         "4731.648867122206",
         "-30.0",
         "2951.7268270781965",
         "29264.218680780472"
        ],
        [
         "23",
         "5753568808.105157",
         "6270.981272216831",
         "4532.675046812904",
         "-28.0",
         "2630.990795360753",
         "32649.896044313264"
        ],
        [
         "24",
         "5742875822.446095",
         "4683.323452410611",
         "4456.961694654186",
         "-26.0",
         "2283.6698084602676",
         "38034.55664761165"
        ],
        [
         "25",
         "5725962728.5540695",
         "3102.6129490117496",
         "4306.144387768814",
         "-24.0",
         "1803.311774226829",
         "51766.437148025565"
        ],
        [
         "26",
         "5794144383.21706",
         "1.0016287944352182",
         "14425570484.49859",
         "-22.0",
         "1.001628794365671",
         "328378899733142.9"
        ],
        [
         "27",
         "5752395225.4324465",
         "6145.334568836344",
         "4506.864796438335",
         "-20.0",
         "2600.044467897536",
         "32984.22034833228"
        ],
        [
         "28",
         "5760151573.46214",
         "7697.369627139215",
         "4673.635898143817",
         "-18.0",
         "2907.985364419815",
         "29007.38554353389"
        ],
        [
         "29",
         "5765853598.707879",
         "9432.863392847712",
         "4920.646992651835",
         "-16.0",
         "3233.7588255067303",
         "25800.41964111348"
        ],
        [
         "30",
         "5770107439.58694",
         "10275.677832768562",
         "5017.624675741232",
         "-14.0",
         "3371.377413411982",
         "24294.06982729695"
        ],
        [
         "31",
         "5773330875.352696",
         "11091.566642572141",
         "5094.125584776998",
         "-12.0",
         "3490.8505991306383",
         "23388.797466184285"
        ],
        [
         "32",
         "5775774804.2650585",
         "11503.120408547718",
         "5099.634247136787",
         "-10.0",
         "3533.2514393497504",
         "22736.772525999826"
        ],
        [
         "33",
         "5777590414.022328",
         "11860.412865159453",
         "5121.545664798164",
         "-8.0",
         "3576.951738818395",
         "22283.433838241323"
        ],
        [
         "34",
         "5778851018.15609",
         "12002.85120609423",
         "5096.013047026702",
         "-6.0",
         "3577.2367943451027",
         "22292.590542437596"
        ],
        [
         "35",
         "5779663972.419962",
         "12109.591399108633",
         "5103.073174462986",
         "-4.0",
         "3590.1548396743256",
         "22118.935063693247"
        ],
        [
         "36",
         "5780043813.143289",
         "12284.264399230347",
         "5103.765939925092",
         "-2.0",
         "3605.699381409721",
         "22099.029927873195"
        ],
        [
         "37",
         "5780037421.450854",
         "12313.267079555779",
         "5121.270253893658",
         "0.0",
         "3616.933860458267",
         "21844.997305332658"
        ],
        [
         "38",
         "5779602016.44154",
         "12186.537894331399",
         "5102.14326317798",
         "2.0",
         "3596.4259883420423",
         "21972.353521155597"
        ],
        [
         "39",
         "5778730874.440979",
         "12039.19267111484",
         "5077.846915272143",
         "4.0",
         "3571.4807492766513",
         "22351.418832044008"
        ],
        [
         "40",
         "5777411496.078732",
         "11836.557529898379",
         "5067.044082794471",
         "6.0",
         "3548.1408144103384",
         "22440.050038588575"
        ],
        [
         "41",
         "5775533249.53428",
         "11641.195326491175",
         "5070.2417348775",
         "8.0",
         "3531.9329014905425",
         "22814.54496252955"
        ],
        [
         "42",
         "5773021289.977967",
         "11240.362843943307",
         "5061.441462371215",
         "10.0",
         "3489.9473384301473",
         "23153.54723273078"
        ],
        [
         "43",
         "5769706136.88031",
         "10662.981915254324",
         "5018.260469897613",
         "12.0",
         "3412.332984994891",
         "24246.383887401073"
        ],
        [
         "44",
         "5765291800.727794",
         "9555.427324464006",
         "4887.517308273042",
         "14.0",
         "3233.5730437133543",
         "25640.202305856412"
        ],
        [
         "45",
         "5759427508.476537",
         "7893.269261481878",
         "4661.186657143069",
         "16.0",
         "2930.5930580611393",
         "28811.045116196958"
        ],
        [
         "46",
         "5751382695.6634245",
         "6274.909888758062",
         "4517.4310441541265",
         "18.0",
         "2626.5360691395817",
         "32686.521750798765"
        ],
        [
         "47",
         "5739317532.376996",
         "4468.854628255499",
         "4430.923762022653",
         "20.0",
         "2224.9041822201307",
         "39496.835842976514"
        ],
        [
         "48",
         "5728609231.029576",
         "3903.669134127373",
         "5984.344810404865",
         "22.0",
         "2362.547449406728",
         "43026.06551046858"
        ],
        [
         "49",
         "5744466859.531877",
         "5019.893113651587",
         "4415.222310733663",
         "24.0",
         "2349.0909306323474",
         "36104.76930440055"
        ]
       ],
       "shape": {
        "columns": 6,
        "rows": 73
       }
      },
      "text/html": [
       "<div>\n",
       "<style scoped>\n",
       "    .dataframe tbody tr th:only-of-type {\n",
       "        vertical-align: middle;\n",
       "    }\n",
       "\n",
       "    .dataframe tbody tr th {\n",
       "        vertical-align: top;\n",
       "    }\n",
       "\n",
       "    .dataframe thead th {\n",
       "        text-align: right;\n",
       "    }\n",
       "</style>\n",
       "<table border=\"1\" class=\"dataframe\">\n",
       "  <thead>\n",
       "    <tr style=\"text-align: right;\">\n",
       "      <th></th>\n",
       "      <th>f</th>\n",
       "      <th>Qint</th>\n",
       "      <th>Qext</th>\n",
       "      <th>voltage</th>\n",
       "      <th>Qtot</th>\n",
       "      <th>f_error</th>\n",
       "    </tr>\n",
       "  </thead>\n",
       "  <tbody>\n",
       "    <tr>\n",
       "      <th>0</th>\n",
       "      <td>5.756022e+09</td>\n",
       "      <td>7303.832770</td>\n",
       "      <td>4549.146900</td>\n",
       "      <td>-74.0</td>\n",
       "      <td>2803.194566</td>\n",
       "      <td>29996.544915</td>\n",
       "    </tr>\n",
       "    <tr>\n",
       "      <th>1</th>\n",
       "      <td>5.747288e+09</td>\n",
       "      <td>5847.066192</td>\n",
       "      <td>4509.415291</td>\n",
       "      <td>-72.0</td>\n",
       "      <td>2545.927373</td>\n",
       "      <td>33515.900209</td>\n",
       "    </tr>\n",
       "    <tr>\n",
       "      <th>2</th>\n",
       "      <td>5.733890e+09</td>\n",
       "      <td>4030.587699</td>\n",
       "      <td>4348.139963</td>\n",
       "      <td>-70.0</td>\n",
       "      <td>2091.673122</td>\n",
       "      <td>42914.252672</td>\n",
       "    </tr>\n",
       "    <tr>\n",
       "      <th>3</th>\n",
       "      <td>5.731792e+09</td>\n",
       "      <td>3901.036831</td>\n",
       "      <td>4357.230544</td>\n",
       "      <td>-68.0</td>\n",
       "      <td>2058.266712</td>\n",
       "      <td>44357.302456</td>\n",
       "    </tr>\n",
       "    <tr>\n",
       "      <th>4</th>\n",
       "      <td>5.746307e+09</td>\n",
       "      <td>5678.600455</td>\n",
       "      <td>4521.446973</td>\n",
       "      <td>-66.0</td>\n",
       "      <td>2517.193280</td>\n",
       "      <td>33502.411945</td>\n",
       "    </tr>\n",
       "    <tr>\n",
       "      <th>...</th>\n",
       "      <td>...</td>\n",
       "      <td>...</td>\n",
       "      <td>...</td>\n",
       "      <td>...</td>\n",
       "      <td>...</td>\n",
       "      <td>...</td>\n",
       "    </tr>\n",
       "    <tr>\n",
       "      <th>68</th>\n",
       "      <td>5.754699e+09</td>\n",
       "      <td>6600.076527</td>\n",
       "      <td>4544.207630</td>\n",
       "      <td>62.0</td>\n",
       "      <td>2691.255687</td>\n",
       "      <td>31004.447592</td>\n",
       "    </tr>\n",
       "    <tr>\n",
       "      <th>69</th>\n",
       "      <td>5.744674e+09</td>\n",
       "      <td>4943.978693</td>\n",
       "      <td>4408.364535</td>\n",
       "      <td>64.0</td>\n",
       "      <td>2330.417073</td>\n",
       "      <td>36248.369210</td>\n",
       "    </tr>\n",
       "    <tr>\n",
       "      <th>70</th>\n",
       "      <td>5.729058e+09</td>\n",
       "      <td>3418.730001</td>\n",
       "      <td>4310.072865</td>\n",
       "      <td>66.0</td>\n",
       "      <td>1906.501649</td>\n",
       "      <td>47469.997400</td>\n",
       "    </tr>\n",
       "    <tr>\n",
       "      <th>71</th>\n",
       "      <td>5.736604e+09</td>\n",
       "      <td>4221.764670</td>\n",
       "      <td>4396.355877</td>\n",
       "      <td>68.0</td>\n",
       "      <td>2153.645893</td>\n",
       "      <td>41733.177314</td>\n",
       "    </tr>\n",
       "    <tr>\n",
       "      <th>72</th>\n",
       "      <td>5.748941e+09</td>\n",
       "      <td>5811.250829</td>\n",
       "      <td>4480.336787</td>\n",
       "      <td>70.0</td>\n",
       "      <td>2529.868261</td>\n",
       "      <td>34270.312193</td>\n",
       "    </tr>\n",
       "  </tbody>\n",
       "</table>\n",
       "<p>73 rows × 6 columns</p>\n",
       "</div>"
      ],
      "text/plain": [
       "               f         Qint         Qext  voltage         Qtot       f_error\n",
       "0   5.756022e+09  7303.832770  4549.146900    -74.0  2803.194566  29996.544915\n",
       "1   5.747288e+09  5847.066192  4509.415291    -72.0  2545.927373  33515.900209\n",
       "2   5.733890e+09  4030.587699  4348.139963    -70.0  2091.673122  42914.252672\n",
       "3   5.731792e+09  3901.036831  4357.230544    -68.0  2058.266712  44357.302456\n",
       "4   5.746307e+09  5678.600455  4521.446973    -66.0  2517.193280  33502.411945\n",
       "..           ...          ...          ...      ...          ...           ...\n",
       "68  5.754699e+09  6600.076527  4544.207630     62.0  2691.255687  31004.447592\n",
       "69  5.744674e+09  4943.978693  4408.364535     64.0  2330.417073  36248.369210\n",
       "70  5.729058e+09  3418.730001  4310.072865     66.0  1906.501649  47469.997400\n",
       "71  5.736604e+09  4221.764670  4396.355877     68.0  2153.645893  41733.177314\n",
       "72  5.748941e+09  5811.250829  4480.336787     70.0  2529.868261  34270.312193\n",
       "\n",
       "[73 rows x 6 columns]"
      ]
     },
     "execution_count": 58,
     "metadata": {},
     "output_type": "execute_result"
    }
   ],
   "source": [
    "df"
   ]
  },
  {
   "cell_type": "code",
   "execution_count": null,
   "metadata": {},
   "outputs": [],
   "source": []
  }
 ],
 "metadata": {
  "kernelspec": {
   "display_name": "resonator-fitting-env",
   "language": "python",
   "name": "python3"
  },
  "language_info": {
   "codemirror_mode": {
    "name": "ipython",
    "version": 3
   },
   "file_extension": ".py",
   "mimetype": "text/x-python",
   "name": "python",
   "nbconvert_exporter": "python",
   "pygments_lexer": "ipython3",
   "version": "3.8.19"
  }
 },
 "nbformat": 4,
 "nbformat_minor": 2
}
