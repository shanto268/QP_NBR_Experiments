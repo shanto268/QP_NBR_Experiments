{
  "cells": [
    {
      "cell_type": "markdown",
      "metadata": {},
      "source": [
        "# Experiment 3: Acquiring time-domain IQ data at a fixed flux point with varying `(f_clearing, P_clearing)` for varying readout powers (interleaved with no clearing tone)\n",
        "\n",
        "**Goal:**\n",
        "\n",
        "Get `release_rates(var_clearing_tone_freq, var_clearing_tone_power, varying_readout_power, FIXED_PHI)`\n",
        "\n",
        "**Method:**\n",
        "\n",
        "- Fix phi, find f(phi), set drive tone to f(phi) - detuning\n",
        "- Vary clearing tone and clearing power and record I,Q data\n",
        "- Turn off clearing tone and record I,Q data\n",
        "- Run HMM analysis on the recorded data to get the rates"
      ]
    },
    {
      "cell_type": "code",
      "execution_count": null,
      "metadata": {},
      "outputs": [],
      "source": [
        "%load_ext autoreload\n",
        "%autoreload 2"
      ]
    },
    {
      "cell_type": "code",
      "execution_count": null,
      "metadata": {},
      "outputs": [],
      "source": [
        "%matplotlib inline"
      ]
    },
    {
      "cell_type": "code",
      "execution_count": null,
      "metadata": {},
      "outputs": [],
      "source": [
        "from flux_fit import *\n",
        "from utils import *"
      ]
    },
    {
      "cell_type": "code",
      "execution_count": null,
      "metadata": {},
      "outputs": [],
      "source": [
        "!python -m srsinst.dc205"
      ]
    },
    {
      "cell_type": "markdown",
      "metadata": {},
      "source": [
        "## Setting up the Experiment\n"
      ]
    },
    {
      "cell_type": "markdown",
      "metadata": {},
      "source": [
        "### Variables and Constants"
      ]
    },
    {
      "cell_type": "code",
      "execution_count": null,
      "metadata": {},
      "outputs": [],
      "source": [
        "project_name = \"Andreev_Spectroscopy\"\n",
        "device_name = \"L1A\"\n",
        "run_id = 2\n",
        "T_MXC = 24\n",
        "T_Rad = -1\n",
        "experiment_name = f\"{device_name}_RUN{run_id}\"\n",
        "\n",
        "drive_path = r\"G:\\Shared drives\\LFL\\Projects\\Quasiparticles\"\n",
        "data_path = set_project(r\"{}\\{}\".format(drive_path, project_name), f\"{experiment_name}\")\n",
        "\n",
        "# Constants\n",
        "SPATH = data_path\n",
        "FIG_PATH = os.path.join(SPATH, \"Figures\")\n",
        "LOG_FILE = os.path.join(SPATH, f'MEASUREMENTLOG_{time.strftime(\"%Y%m%d_%H%M%S\")}.log')\n",
        "PATH_TO_EXE = r'C:/Users/LFL/lflPython/AlazarDrivers/CS_Average/x64/Release/ATS9371_CS_Average.exe'\n",
        "\n",
        "# Ensure directories exist\n",
        "os.makedirs(FIG_PATH, exist_ok=True)\n",
        "\n",
        "# Setup logging\n",
        "logging.basicConfig(filename=LOG_FILE, filemode='w', level=logging.INFO)"
      ]
    },
    {
      "cell_type": "markdown",
      "metadata": {},
      "source": [
        "### Specify the bias point parameter for the experiment\n"
      ]
    },
    {
      "cell_type": "markdown",
      "metadata": {},
      "source": [
        "Setting up the phi's and getting the required voltage array with the detuning for the drive tone."
      ]
    },
    {
      "cell_type": "code",
      "execution_count": null,
      "metadata": {},
      "outputs": [],
      "source": [
        "phi_value, voltage_in_V = 0.49, 0.005"
      ]
    },
    {
      "cell_type": "markdown",
      "metadata": {},
      "source": [
        "### Instrument Setup"
      ]
    },
    {
      "cell_type": "code",
      "execution_count": null,
      "metadata": {},
      "outputs": [],
      "source": [
        "client = Labber.connectToServer(timeout=None)\n",
        "instrument_list = client.getListOfInstruments()\n",
        "instruments = create_instrument_connections(client, instrument_list)"
      ]
    },
    {
      "cell_type": "markdown",
      "metadata": {},
      "source": [
        "The labber instrument server config is saved as a hdf5 file in this repository. Instantiating the instruments we need now."
      ]
    },
    {
      "cell_type": "code",
      "execution_count": null,
      "metadata": {},
      "outputs": [],
      "source": [
        "vs = connect_SRS()\n",
        "\n",
        "VNA = instruments['Agilent Network Analyzer E5071B']\n",
        "DA = instruments['Vaunix Lab Brick Digital Attenuator']\n",
        "SMU = instruments['Keithley 2400 SourceMeter']\n",
        "LO= instruments['SignalCore SC5511A Signal Generator_10002F25_LO']\n",
        "TWPA_PUMP= instruments['SignalCore SC5511A Signal Generator_1000334A_TWPA']\n",
        "Drive = instruments['Rohde&Schwarz RF Source']\n",
        "\n",
        "initialize_instruments(vna=VNA, da=DA, smu=SMU, lo=LO, drive=Drive, srs=vs, twpa_pump=TWPA_PUMP)"
      ]
    },
    {
      "cell_type": "code",
      "execution_count": null,
      "metadata": {},
      "outputs": [],
      "source": [
        "vs.check_id()"
      ]
    },
    {
      "cell_type": "markdown",
      "metadata": {},
      "source": [
        "Manually setting the VNA to the correct setting."
      ]
    },
    {
      "cell_type": "code",
      "execution_count": null,
      "metadata": {},
      "outputs": [],
      "source": [
        "# VNA + LO Drive\n",
        "span = VNA.getValue('Span') # Hz\n",
        "electrical_delay = VNA.getValue('Electrical Delay') # s\n",
        "vna_power = 5 # dBm\n",
        "vna_avg = 20\n",
        "\n",
        "print(f\"VNA Span: {span} Hz, Electrical Delay: {electrical_delay} s\")"
      ]
    },
    {
      "cell_type": "markdown",
      "metadata": {},
      "source": [
        "Set the clearing pump parameters"
      ]
    },
    {
      "cell_type": "code",
      "execution_count": null,
      "metadata": {},
      "outputs": [],
      "source": [
        "# Clearing\n",
        "f_low, f_high = 9.5, 13 # GHz\n",
        "f_step = 0.5 # GHz\n",
        "f_clearing_arr = np.arange(f_low, f_high+f_step, f_step)\n",
        "print(f\"f_clearing_arr: {f_clearing_arr}\")\n",
        "\n",
        "P_low, P_high = -25, -5\n",
        "P_step = 1\n",
        "P_clearing_arr = np.arange(P_low, P_high+P_step, P_step)\n",
        "print(f\"P_clearing_arr: {P_clearing_arr}\")"
      ]
    },
    {
      "cell_type": "markdown",
      "metadata": {},
      "source": [
        "Set the digitizer parameters"
      ]
    },
    {
      "cell_type": "code",
      "execution_count": null,
      "metadata": {},
      "outputs": [],
      "source": [
        "num_traces=1\n",
        "acquisitionLength_sec=30\n",
        "origRateMHz=300\n",
        "sampleRateMHz=10\n",
        "averageTimeCycle=0"
      ]
    },
    {
      "cell_type": "markdown",
      "metadata": {},
      "source": [
        "Set the DA attenuation to vary the readout power"
      ]
    },
    {
      "cell_type": "code",
      "execution_count": null,
      "metadata": {},
      "outputs": [],
      "source": [
        "lowerBound=30 # dB for DA attenuator\n",
        "upperBound=30 # dB for DA attenuator"
      ]
    },
    {
      "cell_type": "markdown",
      "metadata": {},
      "source": [
        "## The driver code"
      ]
    },
    {
      "cell_type": "code",
      "execution_count": null,
      "metadata": {},
      "outputs": [],
      "source": [
        "# Create a log file for the VNA data\n",
        "lfVNA = Labber.createLogFile_ForData(os.path.join(SPATH, f'{device_name}_{project_name}_run-{run_id}_clearing_tone_spectroscopy'),\n",
        "                                      [{'name':'VNA - S21','complex':True,'vector':True,'x_name':'Frequency','x_unit':'Hz'}],\n",
        "                                      step_channels=[\n",
        "                                          {'name':'Clearing Tone Power','values':P_clearing_arr.tolist(),'unit':'dBm'},\n",
        "                                          {'name':'Clearing Tone Frequency','values':f_clearing_arr.tolist(),'unit':'GHz'},\n",
        "                                          ]\n",
        "                                      )\n",
        "\n",
        "initialize_logging(lfVNA, SPATH, PATH_TO_EXE, FIG_PATH, experiment_name, device_name)"
      ]
    },
    {
      "cell_type": "markdown",
      "metadata": {},
      "source": [
        "We have checked in advance that the TWPA pump with the following configuration gives us +20 dB in the entire frequency range of interest."
      ]
    },
    {
      "cell_type": "code",
      "execution_count": null,
      "metadata": {},
      "outputs": [],
      "source": [
        "set_TWPA_pump(f=5.946, power=5.88)"
      ]
    },
    {
      "cell_type": "markdown",
      "metadata": {},
      "source": [
        "## Running the experiment and saving the data to the external drive:"
      ]
    },
    {
      "cell_type": "markdown",
      "metadata": {},
      "source": [
        "Set the flux bias"
      ]
    },
    {
      "cell_type": "code",
      "execution_count": null,
      "metadata": {},
      "outputs": [],
      "source": [
        "print(\"=\"*50)\n",
        "voltage = voltage_in_V # V\n",
        "phi = phi_value # flux quanta\n",
        "print(f\"phi: {phi:.6f}, voltage: {voltage:.6f} V\")\n",
        "set_flux_bias_srs_in_V(voltage, step=0.001)"
      ]
    },
    {
      "cell_type": "markdown",
      "metadata": {},
      "source": [
        "Set the LO for the digitizer"
      ]
    },
    {
      "cell_type": "code",
      "execution_count": null,
      "metadata": {},
      "outputs": [],
      "source": [
        "f_drive=5.722890e9 # Hz\n",
        "f_phi=5.723113e9 # Hz\n",
        "f_d_power = 16 # dBm"
      ]
    },
    {
      "cell_type": "code",
      "execution_count": null,
      "metadata": {},
      "outputs": [],
      "source": [
        "detuning = f_drive-f_phi # Hz"
      ]
    },
    {
      "cell_type": "code",
      "execution_count": null,
      "metadata": {},
      "outputs": [],
      "source": [
        "start_time = time.time()\n",
        "\n",
        "turn_off_clearing()\n",
        "turn_off_vna()\n",
        "\n",
        "set_LO_tone(f_drive, f_d_power)\n",
        "print(f\"f_phi: {f_phi*1e-9:.6f} GHz, f_drive: {f_drive*1e-9:.6f} GHz\") \n",
        "\n",
        "for f_clearing in f_clearing_arr:\n",
        "    \n",
        "    # record data with no clearing tone for reference\n",
        "    turn_off_clearing()\n",
        "    print(f\"Taking reference data at phi = {phi:.3f} while driving at {f_drive:.6f} GHz\")\n",
        "    logging.info(f'\\nTaking reference data at phi = {phi:.3f} while driving at {f_drive:.6f} GHz')\n",
        "    ref_files = acquire_IQ_data(phi, f_clearing, None, num_traces, acquisitionLength_sec, origRateMHz, sampleRateMHz, averageTimeCycle, lowerBound, upperBound)\n",
        "    # Update the metadata files with the current parameters\n",
        "    for ref_file in ref_files:\n",
        "            write_metadata(ref_file, acquisitionLength_sec, origRateMHz, f_drive, voltage, T_MXC, T_Rad, phi, f_clearing, None)\n",
        "    \n",
        "    for P_clearing in P_clearing_arr:\n",
        "        \n",
        "        print(f\"f_clearing: {f_clearing:.6f} GHz, P_clearing: {P_clearing:.6f} dBm\")\n",
        "        set_clearing_tone(f_clearing, P_clearing)\n",
        "        logging.info(f'\\nStarting Alazar acquisition at phi = {phi:.3f} while driving at {f_drive:.6f} GHz')\n",
        "        metadata_files = acquire_IQ_data(phi, f_clearing, P_clearing, num_traces, acquisitionLength_sec, origRateMHz, sampleRateMHz, averageTimeCycle, lowerBound, upperBound)\n",
        "        \n",
        "        # Update the metadata files with the current parameters\n",
        "        for metadata_file in metadata_files:\n",
        "            write_metadata(metadata_file, acquisitionLength_sec, origRateMHz, f_drive, voltage, T_MXC, T_Rad, phi, f_clearing, P_clearing)\n",
        "            \n",
        "        # Save the VNA data\n",
        "        turn_off_LO()\n",
        "        turn_on_vna()\n",
        "        # grab the VNA trace\n",
        "        dData = VNA.getValue('S21')\n",
        "        zData = dData['y']\n",
        "        xBG = np.arange(dData['t0'],dData['t0']+dData['shape'][0]*dData['dt'],dData['dt'])\n",
        "        # Save the VNA data\n",
        "        td2 = Labber.getTraceDict(zData,x0=xBG[0],x1=xBG[-1])\n",
        "        lfVNA.addEntry({'VNA - S21':td2})\n",
        "        # Turn off the VNA\n",
        "        turn_off_vna()\n",
        "        turn_on_LO()\n",
        "         \n",
        "        sleep(0.1)\n",
        "        print(f'Finished loop for one datasweep with clearing tone ON in {time.time() - start_time:.2f} seconds')\n",
        "        logging.info(f'Finished loop for one datasweep with clearing tone ON in {time.time() - start_time:.2f} seconds')\n",
        "\n",
        "\n",
        "# Close the log file\n",
        "print(f'Finished the experiment for {device_name} in {time.time() - start_time:.2f} seconds')\n",
        "logging.info(f'Finished the experiment for {device_name} in {time.time() - start_time:.2f} seconds')"
      ]
    },
    {
      "cell_type": "markdown",
      "metadata": {},
      "source": [
        "# Test Cell"
      ]
    },
    {
      "cell_type": "code",
      "execution_count": null,
      "metadata": {},
      "outputs": [],
      "source": [
        "start_time = time.time()\n",
        "\n",
        "turn_off_clearing()\n",
        "turn_off_vna()\n",
        "\n",
        "set_LO_tone(f_drive, f_d_power)\n",
        "print(f\"f_phi: {f_phi*1e-9:.6f} GHz, f_drive: {f_drive*1e-9:.6f} GHz\") \n",
        "\n",
        "for f_clearing in f_clearing_arr:\n",
        "    \n",
        "    # record data with no clearing tone for reference\n",
        "    turn_off_clearing()\n",
        "    print(f\"Taking reference data at phi = {phi:.3f} while driving at {f_drive:.6f} GHz\")\n",
        "    logging.info(f'\\nTaking reference data at phi = {phi:.3f} while driving at {f_drive:.6f} GHz')\n",
        "    \"\"\"\n",
        "    metadata_files = acquire_IQ_data(phi, f_clearing, None, num_traces, acquisitionLength_sec, origRateMHz, sampleRateMHz, averageTimeCycle, lowerBound, upperBound)\n",
        "    # Update the metadata files with the current parameters\n",
        "    for metadata_file in metadata_files:\n",
        "            write_metadata(metadata_file, acquisitionLength_sec, origRateMHz, f_drive, voltage, T_MXC, T_Rad, phi, f_clearing, None)\n",
        "    \"\"\"\n",
        "    for P_clearing in P_clearing_arr:\n",
        "        \n",
        "        print(f\"f_clearing: {f_clearing:.6f} GHz, P_clearing: {P_clearing:.6f} dBm\")\n",
        "        set_clearing_tone(f_clearing, P_clearing)\n",
        "        logging.info(f'\\nStarting Alazar acquisition at phi = {phi:.3f} while driving at {f_drive:.6f} GHz')\n",
        "        \"\"\"\n",
        "        metadata_files = acquire_IQ_data(phi, f_clearing, P_clearing, num_traces, acquisitionLength_sec, origRateMHz, sampleRateMHz, averageTimeCycle, lowerBound, upperBound)\n",
        "        \n",
        "        # Update the metadata files with the current parameters\n",
        "        for metadata_file in metadata_files:\n",
        "            write_metadata(metadata_file, acquisitionLength_sec, origRateMHz, f_drive, voltage, T_MXC, T_Rad, phi, f_clearing, P_clearing)\n",
        "        \"\"\"\n",
        "        # Save the VNA data\n",
        "        turn_off_LO()\n",
        "        turn_on_vna()\n",
        "        # grab the VNA trace\n",
        "        dData = VNA.getValue('S21')\n",
        "        zData = dData['y']\n",
        "        xBG = np.arange(dData['t0'],dData['t0']+dData['shape'][0]*dData['dt'],dData['dt'])\n",
        "        # Save the VNA data\n",
        "        td2 = Labber.getTraceDict(zData,x0=xBG[0],x1=xBG[-1])\n",
        "        lfVNA.addEntry({'VNA - S21':td2})\n",
        "        # Turn off the VNA\n",
        "        turn_off_vna()\n",
        "        turn_on_LO()\n",
        "         \n",
        "        sleep(0.1)\n",
        "        print(f'Finished loop for one datasweep with clearing tone ON in {time.time() - start_time:.2f} seconds')\n",
        "        logging.info(f'Finished loop for one datasweep with clearing tone ON in {time.time() - start_time:.2f} seconds')\n",
        "\n",
        "\n",
        "# Close the log file\n",
        "print(f'Finished the experiment for {device_name} in {time.time() - start_time:.2f} seconds')\n",
        "logging.info(f'Finished the experiment for {device_name} in {time.time() - start_time:.2f} seconds')"
      ]
    }
  ],
  "metadata": {
    "kernelspec": {
      "display_name": "resonator-fitting-env",
      "language": "python",
      "name": "python3"
    },
    "language_info": {
      "codemirror_mode": {
        "name": "ipython",
        "version": 3
      },
      "file_extension": ".py",
      "mimetype": "text/x-python",
      "name": "python",
      "nbconvert_exporter": "python",
      "pygments_lexer": "ipython3",
      "version": "3.8.19"
    }
  },
  "nbformat": 4,
  "nbformat_minor": 2
}
