{
  "cells": [
    {
      "cell_type": "markdown",
      "metadata": {},
      "source": [
        "# Experiment 1: Acquiring time-domain IQ data following the flux curve and varying the clearing tone frequency and power\n",
        "\n",
        "**Goal:**\n",
        "\n",
        "Get `release_rates(clearing_tone_freq, clearing_tone_power)`\n",
        "\n",
        "**Method:**\n",
        "\n",
        "- Vary phi, find f(phi), set drive tone to f(phi)\n",
        "- Vary clearing tone and clearing power and record I,Q data\n",
        "- Run HMM analysis on the recorded data to get the rates\n",
        "\n",
        "\n"
      ]
    },
    {
      "cell_type": "code",
      "execution_count": null,
      "metadata": {},
      "outputs": [],
      "source": [
        "%load_ext autoreload\n",
        "%autoreload 2"
      ]
    },
    {
      "cell_type": "code",
      "execution_count": null,
      "metadata": {},
      "outputs": [],
      "source": [
        "%matplotlib inline"
      ]
    },
    {
      "cell_type": "code",
      "execution_count": null,
      "metadata": {},
      "outputs": [],
      "source": [
        "from utils import *\n",
        "from flux_fit import *"
      ]
    },
    {
      "cell_type": "code",
      "execution_count": null,
      "metadata": {},
      "outputs": [],
      "source": [
        "!python -m srsinst.dc205"
      ]
    },
    {
      "cell_type": "markdown",
      "metadata": {},
      "source": [
        "## Setting up the Experiment\n"
      ]
    },
    {
      "cell_type": "markdown",
      "metadata": {},
      "source": [
        "### Variables and Constants"
      ]
    },
    {
      "cell_type": "code",
      "execution_count": null,
      "metadata": {},
      "outputs": [],
      "source": [
        "project_name = \"Andreev_Spectroscopy\"\n",
        "device_name = \"L1A\"\n",
        "run_id = 1\n",
        "T_MXC = 26\n",
        "T_Rad = 1.8\n",
        "experiment_name = f\"{device_name}_RUN{run_id}_test\"\n",
        "\n",
        "drive_path = r\"E:\\Quasiparticles\"\n",
        "data_path = set_project(r\"{}\\{}\".format(drive_path, project_name), f\"{experiment_name}\")\n",
        "\n",
        "# Constants\n",
        "SPATH = data_path\n",
        "FIG_PATH = os.path.join(SPATH, \"Figures\")\n",
        "LOG_FILE = os.path.join(SPATH, f'MEASUREMENTLOG_{time.strftime(\"%Y%m%d_%H%M%S\")}.log')\n",
        "PATH_TO_EXE = r'C:/Users/LFL/lflPython/AlazarDrivers/CS_Average/x64/Release/ATS9371_CS_Average.exe'\n",
        "\n",
        "# Ensure directories exist\n",
        "os.makedirs(FIG_PATH, exist_ok=True)\n",
        "\n",
        "# Setup logging\n",
        "logging.basicConfig(filename=LOG_FILE, filemode='w', level=logging.INFO)\n"
      ]
    },
    {
      "cell_type": "markdown",
      "metadata": {},
      "source": [
        "The best fit parameters from the flux fit curve - \"G:\\Shared drives\\Labber\\Data\\2025\\03\\Data_03016\\NBRL1A_flux_sweep_25mK.hdf5\""
      ]
    },
    {
      "cell_type": "code",
      "execution_count": null,
      "metadata": {},
      "outputs": [],
      "source": [
        "best_fit = {'w0': 5.781696425756177,\n",
        " 'q0': 0.02019771764678007,\n",
        " 'V_period': -53.166666666666664,\n",
        " 'V_offset': -0.9999999999999964,\n",
        " 'error': 0.00011195976902623324}"
      ]
    },
    {
      "cell_type": "markdown",
      "metadata": {},
      "source": [
        "some test"
      ]
    },
    {
      "cell_type": "code",
      "execution_count": null,
      "metadata": {},
      "outputs": [],
      "source": [
        "print(voltage_to_flux_quanta(-24,best_fit))\n",
        "print(flux_quanta_to_frequency(0.47, best_fit))\n",
        "print(find_mapped_resonance(0.47, best_fit))\n",
        "print(phi_to_voltage(0.47, best_fit, unit='mV'))"
      ]
    },
    {
      "cell_type": "markdown",
      "metadata": {},
      "source": [
        "Setting up the phi's and getting the required voltage array with the detuning for the drive tone.\n",
        "\n",
        "From Eli\n",
        "\n",
        "\"Start ~500 MHz above the resonator and go up to 18 GHz (bandwidth limit of SMA cables). Power, start ~ 5 dB below where you get resonance suppression, maybe go down to 20 dB lower\""
      ]
    },
    {
      "cell_type": "code",
      "execution_count": null,
      "metadata": {},
      "outputs": [],
      "source": [
        "phi_low, phi_high = 0.3, 0.5\n",
        "num_points = 10\n",
        "phi_arr = np.linspace(phi_low, phi_high, num_points)\n",
        "# reverse the phi_arr if negative phis\n",
        "#phi_arr = phi_arr[::-1]\n",
        "phi_arr"
      ]
    },
    {
      "cell_type": "code",
      "execution_count": null,
      "metadata": {},
      "outputs": [],
      "source": [
        "v_arr, f_arr = from_flux_fit(phi_arr, best_fit) # mV, GHz"
      ]
    },
    {
      "cell_type": "code",
      "execution_count": null,
      "metadata": {},
      "outputs": [],
      "source": [
        "plot_sweep_points(v_arr, f_arr, phi_arr)"
      ]
    },
    {
      "cell_type": "markdown",
      "metadata": {},
      "source": [
        "### Instrument Setup"
      ]
    },
    {
      "cell_type": "code",
      "execution_count": null,
      "metadata": {},
      "outputs": [],
      "source": [
        "client = Labber.connectToServer(timeout=None)\n",
        "instrument_list = client.getListOfInstruments()\n",
        "instruments = create_instrument_connections(client, instrument_list)"
      ]
    },
    {
      "cell_type": "markdown",
      "metadata": {},
      "source": [
        "The labber instrument server config is saved as a hdf5 file in this repository. Instantiating the instruments we need now."
      ]
    },
    {
      "cell_type": "code",
      "execution_count": null,
      "metadata": {},
      "outputs": [],
      "source": [
        "vs = connect_SRS()\n",
        "VNA = instruments['Agilent Network Analyzer E5071B']\n",
        "DA = instruments['Vaunix Lab Brick Digital Attenuator']\n",
        "SMU = instruments['Keithley 2400 SourceMeter']\n",
        "LO= instruments['SignalCore SC5511A Signal Generator_10002F25']\n",
        "Drive= instruments['SignalCore SC5511A Signal Generator_1000334C']\n",
        "TWPA_PUMP = instruments['Rohde&Schwarz RF Source']\n",
        "\n",
        "initialize_instruments(VNA, DA, SMU, LO, Drive, vs, TWPA_PUMP)"
      ]
    },
    {
      "cell_type": "code",
      "execution_count": null,
      "metadata": {},
      "outputs": [],
      "source": [
        "vs.check_id()"
      ]
    },
    {
      "cell_type": "code",
      "execution_count": null,
      "metadata": {},
      "outputs": [],
      "source": [
        "# VNA + LO Drive\n",
        "span = 10e6 # Hz\n",
        "electrical_delay = 82.584e-9 # s\n",
        "vna_power = 5\n",
        "vna_avg = 20\n",
        "f_d_power = 16\n",
        "\n",
        "# Clearing\n",
        "f_low, f_high = 5, 17\n",
        "f_step = 3\n",
        "f_clearing_arr = np.arange(f_low, f_high+f_step, f_step)\n",
        "print(f\"f_clearing_arr: {f_clearing_arr}\")\n",
        "\n",
        "P_low, P_high = -10, 17\n",
        "P_step = 3\n",
        "P_clearing_arr = np.arange(P_low, P_high+P_step, P_step)\n",
        "print(f\"P_clearing_arr: {P_clearing_arr}\")"
      ]
    },
    {
      "cell_type": "markdown",
      "metadata": {},
      "source": [
        "From previous runs, I have seen that one sweep point data generates about 1.7 GB of data and takes about a 1.5 minutes (for VNA average set to 20)."
      ]
    },
    {
      "cell_type": "code",
      "execution_count": null,
      "metadata": {},
      "outputs": [],
      "source": [
        "print(f\"Predicted total data size: {len(phi_arr)*len(f_clearing_arr)*len(P_clearing_arr)*1.5} GB\")\n",
        "print(f\"Predicted total time: {len(phi_arr)*len(f_clearing_arr)*len(P_clearing_arr)*1.5/60} hours\")"
      ]
    },
    {
      "cell_type": "code",
      "execution_count": null,
      "metadata": {},
      "outputs": [],
      "source": [
        "num_traces=1\n",
        "acquisitionLength_sec=5\n",
        "origRateMHz=300\n",
        "sampleRateMHz=10\n",
        "averageTimeCycle=0\n",
        "lowerBound=14 # dB for DA attenuator\n",
        "upperBound=30# dB for DA attenuator"
      ]
    },
    {
      "cell_type": "markdown",
      "metadata": {},
      "source": [
        "## The driver code"
      ]
    },
    {
      "cell_type": "code",
      "execution_count": null,
      "metadata": {},
      "outputs": [],
      "source": [
        "# Create a log file for the VNA data\n",
        "lfVNA = Labber.createLogFile_ForData(f'{device_name}_{project_name}_run-{run_id}_flux_sweep',\n",
        "                                      [{'name':'VNA - S21','complex':True,'vector':True,'x_name':'Frequency','x_unit':'Hz'}],\n",
        "                                      step_channels=[{'name':'Phi','values':phi_arr,'unit':'flux quanta'}])\n",
        "\n",
        "initialize_logging(lfVNA, SPATH, PATH_TO_EXE, FIG_PATH, device_name)"
      ]
    },
    {
      "cell_type": "markdown",
      "metadata": {},
      "source": [
        "We have checked in advance that the TWPA pump with the following configuration gives us +20 dB in the entire frequency range of interest."
      ]
    },
    {
      "cell_type": "code",
      "execution_count": null,
      "metadata": {},
      "outputs": [],
      "source": [
        "set_TWPA_pump(f=6.04, power=27)"
      ]
    },
    {
      "cell_type": "markdown",
      "metadata": {},
      "source": [
        "We have done some rough analysis and found that the QP induced frequency shift is roughly 0.5 MHz so this is what we are going to set as the detuning.\n"
      ]
    },
    {
      "cell_type": "code",
      "execution_count": null,
      "metadata": {},
      "outputs": [],
      "source": [
        "detuning = 0.5e6 # Hz"
      ]
    },
    {
      "cell_type": "code",
      "execution_count": null,
      "metadata": {},
      "outputs": [],
      "source": [
        "start_time = time.time()\n",
        "\n",
        "for phi in phi_arr:\n",
        "    print(\"=\"*50)\n",
        "    voltage = phi_to_voltage(phi, best_fit, unit='V')\n",
        "    print(f\"phi: {phi:.6f}, voltage: {voltage:.6f} V\")\n",
        "    set_flux_bias_srs(voltage, step = 5e-5)\n",
        "    \n",
        "    turn_off_LO()\n",
        "    turn_off_clearing()\n",
        "    f_phi, f_drive = find_resonance(phi, span, best_fit, vna_power, vna_avg, electrical_delay, detuning, show_plot=False)\n",
        "    set_LO_tone(f_drive, f_d_power)\n",
        "    print(f\"f_phi: {f_phi*1e-9:.6f} GHz, f_drive: {f_drive*1e-9:.6f} GHz\") \n",
        "\n",
        "    for f_clearing in f_clearing_arr:\n",
        "        for P_clearing in P_clearing_arr:\n",
        "            print(f\"f_clearing: {f_clearing:.6f} GHz, P_clearing: {P_clearing:.6f} dBm\")\n",
        "            set_clearing_tone(f_clearing, P_clearing)\n",
        "            logging.info(f'\\nStarting Alazar acquisition at phi = {phi:.3f} while driving at {f_drive:.6f} GHz')\n",
        "            savefile = acquire_IQ_data(phi, f_clearing, P_clearing, num_traces, acquisitionLength_sec, origRateMHz, sampleRateMHz, averageTimeCycle, lowerBound, upperBound)\n",
        "            write_metadata(savefile, acquisitionLength_sec, origRateMHz, f_drive, voltage, T_MXC, T_Rad, phi, f_clearing, P_clearing)\n",
        "            sleep(0.5)\n",
        "\n",
        "    logging.info(f'Finished loop for phi = {phi:.3f} in {time.time() - start_time:.2f} seconds')\n",
        "    print(f'Finished loop for phi = {phi:.3f} in {time.time() - start_time:.2f} seconds')\n",
        "    current_idx = np.where(phi_arr == phi)[0][0]  # Get the index of current phi\n",
        "    remaining_time = (time.time() - start_time) * (len(phi_arr) - current_idx - 1) / (current_idx + 1)\n",
        "    print(f'\\n\\nEstimated remaining time: {remaining_time:.2f} seconds')\n",
        "    logging.info(f'Estimated remaining time: {remaining_time:.2f} seconds')\n",
        "\n",
        "# Close the log file\n",
        "print(f'Finished flux sweep for {device_name} in {time.time() - start_time:.2f} seconds')\n",
        "logging.info(f'Finished flux sweep for {device_name} in {time.time() - start_time:.2f} seconds')"
      ]
    },
    {
      "cell_type": "code",
      "execution_count": null,
      "metadata": {},
      "outputs": [],
      "source": []
    }
  ],
  "metadata": {
    "kernelspec": {
      "display_name": "lfl_tools",
      "language": "python",
      "name": "python3"
    },
    "language_info": {
      "codemirror_mode": {
        "name": "ipython",
        "version": 3
      },
      "file_extension": ".py",
      "mimetype": "text/x-python",
      "name": "python",
      "nbconvert_exporter": "python",
      "pygments_lexer": "ipython3",
      "version": "3.11.4"
    }
  },
  "nbformat": 4,
  "nbformat_minor": 2
}
