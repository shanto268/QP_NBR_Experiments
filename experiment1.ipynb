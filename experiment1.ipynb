{
  "cells": [
    {
      "cell_type": "markdown",
      "metadata": {},
      "source": [
        "# Experiment 1: Acquiring time-domain IQ data following the flux curve and varying the clearing tone frequency and power\n",
        "\n",
        "**Goal:**\n",
        "\n",
        "Get `release_rates(clearing_tone_freq, clearing_tone_power)`\n",
        "\n",
        "**Method:**\n",
        "\n",
        "- Vary phi, find f(phi), set drive tone to f(phi)\n",
        "- Vary clearing tone and clearing power and record I,Q data\n",
        "- Run HMM analysis on the recorded data to get the rates\n",
        "\n",
        "\n"
      ]
    },
    {
      "cell_type": "code",
      "execution_count": 1,
      "metadata": {},
      "outputs": [],
      "source": [
        "%load_ext autoreload\n",
        "%autoreload 2"
      ]
    },
    {
      "cell_type": "code",
      "execution_count": 2,
      "metadata": {},
      "outputs": [],
      "source": [
        "%matplotlib inline"
      ]
    },
    {
      "cell_type": "code",
      "execution_count": 3,
      "metadata": {},
      "outputs": [],
      "source": [
        "from utils import *\n",
        "from flux_fit import *"
      ]
    },
    {
      "cell_type": "code",
      "execution_count": 4,
      "metadata": {},
      "outputs": [],
      "source": [
        "!python -m srsinst.dc205"
      ]
    },
    {
      "cell_type": "markdown",
      "metadata": {},
      "source": [
        "## Setting up the Experiment\n"
      ]
    },
    {
      "cell_type": "markdown",
      "metadata": {},
      "source": [
        "### Variables and Constants"
      ]
    },
    {
      "cell_type": "code",
      "execution_count": 5,
      "metadata": {},
      "outputs": [
        {
          "name": "stdout",
          "output_type": "stream",
          "text": [
            "Project path set to: E:\\Quasiparticles\\Andreev_Spectroscopy\\032725\\L1A_RUN1\n"
          ]
        }
      ],
      "source": [
        "project_name = \"Andreev_Spectroscopy\"\n",
        "device_name = \"L1A\"\n",
        "run_id = 1\n",
        "T_MXC = 26\n",
        "T_Rad = 1.8\n",
        "experiment_name = f\"{device_name}_RUN{run_id}\"\n",
        "\n",
        "drive_path = r\"E:\\Quasiparticles\"\n",
        "data_path = set_project(r\"{}\\{}\".format(drive_path, project_name), f\"{experiment_name}\")\n",
        "\n",
        "# Constants\n",
        "SPATH = data_path\n",
        "FIG_PATH = os.path.join(SPATH, \"Figures\")\n",
        "LOG_FILE = os.path.join(SPATH, f'MEASUREMENTLOG_{time.strftime(\"%Y%m%d_%H%M%S\")}.log')\n",
        "PATH_TO_EXE = r'C:/Users/LFL/lflPython/AlazarDrivers/CS_Average/x64/Release/ATS9371_CS_Average.exe'\n",
        "\n",
        "# Ensure directories exist\n",
        "os.makedirs(FIG_PATH, exist_ok=True)\n",
        "\n",
        "# Setup logging\n",
        "logging.basicConfig(filename=LOG_FILE, filemode='w', level=logging.INFO)\n"
      ]
    },
    {
      "cell_type": "markdown",
      "metadata": {},
      "source": [
        "The best fit parameters from the flux fit curve - \"G:\\Shared drives\\Labber\\Data\\2025\\03\\Data_03016\\NBRL1A_flux_sweep_25mK.hdf5\""
      ]
    },
    {
      "cell_type": "code",
      "execution_count": 6,
      "metadata": {},
      "outputs": [],
      "source": [
        "best_fit = {'w0': 5.781696425756177,\n",
        " 'q0': 0.02019771764678007,\n",
        " 'V_period': -53.166666666666664,\n",
        " 'V_offset': -0.9999999999999964,\n",
        " 'error': 0.00011195976902623324}"
      ]
    },
    {
      "cell_type": "markdown",
      "metadata": {},
      "source": [
        "some test"
      ]
    },
    {
      "cell_type": "code",
      "execution_count": 7,
      "metadata": {},
      "outputs": [
        {
          "name": "stdout",
          "output_type": "stream",
          "text": [
            "0.43260188087774304\n",
            "5.711812537542725\n",
            "5.711812537542725\n",
            "-25.988333333333326\n"
          ]
        }
      ],
      "source": [
        "print(voltage_to_flux_quanta(-24,best_fit))\n",
        "print(flux_quanta_to_frequency(0.47, best_fit))\n",
        "print(find_mapped_resonance(0.47, best_fit))\n",
        "print(phi_to_voltage(0.47, best_fit, unit='mV'))"
      ]
    },
    {
      "cell_type": "markdown",
      "metadata": {},
      "source": [
        "Setting up the phi's and getting the required voltage array with the detuning for the drive tone.\n",
        "\n",
        "From Eli\n",
        "\n",
        "\"Start ~500 MHz above the resonator and go up to 18 GHz (bandwidth limit of SMA cables). Power, start ~ 5 dB below where you get resonance suppression, maybe go down to 20 dB lower\""
      ]
    },
    {
      "cell_type": "code",
      "execution_count": 8,
      "metadata": {},
      "outputs": [
        {
          "data": {
            "text/plain": [
              "array([0.3       , 0.32222222, 0.34444444, 0.36666667, 0.38888889,\n",
              "       0.41111111, 0.43333333, 0.45555556, 0.47777778, 0.5       ])"
            ]
          },
          "execution_count": 8,
          "metadata": {},
          "output_type": "execute_result"
        }
      ],
      "source": [
        "phi_low, phi_high = 0.3, 0.5\n",
        "num_points = 10\n",
        "phi_arr = np.linspace(phi_low, phi_high, num_points)\n",
        "# reverse the phi_arr if negative phis\n",
        "#phi_arr = phi_arr[::-1]\n",
        "phi_arr"
      ]
    },
    {
      "cell_type": "code",
      "execution_count": 9,
      "metadata": {},
      "outputs": [],
      "source": [
        "v_arr, f_arr = from_flux_fit(phi_arr, best_fit) # mV, GHz"
      ]
    },
    {
      "cell_type": "code",
      "execution_count": null,
      "metadata": {},
      "outputs": [],
      "source": [
        "plot_sweep_points(v_arr, f_arr, phi_arr)"
      ]
    },
    {
      "cell_type": "markdown",
      "metadata": {},
      "source": [
        "### Instrument Setup"
      ]
    },
    {
      "cell_type": "code",
      "execution_count": 10,
      "metadata": {},
      "outputs": [
        {
          "name": "stdout",
          "output_type": "stream",
          "text": [
            "Successfully connected to Agilent Network Analyzer E5071B\n",
            "Successfully connected to Keithley 2400 SourceMeter\n",
            "Successfully connected to Rohde&Schwarz RF Source\n",
            "Successfully connected to SignalCore SC5511A Signal Generator_10002F25\n",
            "Successfully connected to SignalCore SC5511A Signal Generator_1000334C\n",
            "Successfully connected to Vaunix Lab Brick Digital Attenuator\n"
          ]
        }
      ],
      "source": [
        "client = Labber.connectToServer(timeout=None)\n",
        "instrument_list = client.getListOfInstruments()\n",
        "instruments = create_instrument_connections(client, instrument_list)"
      ]
    },
    {
      "cell_type": "markdown",
      "metadata": {},
      "source": [
        "The labber instrument server config is saved as a hdf5 file in this repository. Instantiating the instruments we need now."
      ]
    },
    {
      "cell_type": "code",
      "execution_count": 11,
      "metadata": {},
      "outputs": [],
      "source": [
        "vs = connect_SRS()\n",
        "VNA = instruments['Agilent Network Analyzer E5071B']\n",
        "DA = instruments['Vaunix Lab Brick Digital Attenuator']\n",
        "SMU = instruments['Keithley 2400 SourceMeter']\n",
        "LO= instruments['SignalCore SC5511A Signal Generator_10002F25']\n",
        "Drive= instruments['SignalCore SC5511A Signal Generator_1000334C']\n",
        "TWPA_PUMP = instruments['Rohde&Schwarz RF Source']\n",
        "\n",
        "initialize_instruments(VNA, DA, SMU, LO, Drive, vs, TWPA_PUMP)"
      ]
    },
    {
      "cell_type": "code",
      "execution_count": 12,
      "metadata": {},
      "outputs": [
        {
          "data": {
            "text/plain": [
              "('DC205', 's/n20500691', 'ver1.80')"
            ]
          },
          "execution_count": 12,
          "metadata": {},
          "output_type": "execute_result"
        }
      ],
      "source": [
        "vs.check_id()"
      ]
    },
    {
      "cell_type": "code",
      "execution_count": 13,
      "metadata": {},
      "outputs": [
        {
          "name": "stdout",
          "output_type": "stream",
          "text": [
            "f_clearing_arr: [ 5  8 11 14 17]\n",
            "P_clearing_arr: [-10  -7  -4  -1   2   5   8  11  14  17]\n"
          ]
        }
      ],
      "source": [
        "# VNA + LO Drive\n",
        "span = 10e6 # Hz\n",
        "electrical_delay = 82.584e-9 # s\n",
        "vna_power = 5\n",
        "vna_avg = 20\n",
        "f_d_power = 16\n",
        "\n",
        "# Clearing\n",
        "f_low, f_high = 5, 17\n",
        "f_step = 3\n",
        "f_clearing_arr = np.arange(f_low, f_high+f_step, f_step)\n",
        "print(f\"f_clearing_arr: {f_clearing_arr}\")\n",
        "\n",
        "P_low, P_high = -10, 17\n",
        "P_step = 3\n",
        "P_clearing_arr = np.arange(P_low, P_high+P_step, P_step)\n",
        "print(f\"P_clearing_arr: {P_clearing_arr}\")"
      ]
    },
    {
      "cell_type": "markdown",
      "metadata": {},
      "source": [
        "From previous runs, I have seen that one sweep point data generates about 1.7 GB of data and takes about a 1.5 minutes (for VNA average set to 20)."
      ]
    },
    {
      "cell_type": "code",
      "execution_count": 14,
      "metadata": {},
      "outputs": [
        {
          "name": "stdout",
          "output_type": "stream",
          "text": [
            "Predicted total data size: 750.0 GB\n",
            "Predicted total time: 12.5 hours\n"
          ]
        }
      ],
      "source": [
        "print(f\"Predicted total data size: {len(phi_arr)*len(f_clearing_arr)*len(P_clearing_arr)*1.5} GB\")\n",
        "print(f\"Predicted total time: {len(phi_arr)*len(f_clearing_arr)*len(P_clearing_arr)*1.5/60} hours\")"
      ]
    },
    {
      "cell_type": "code",
      "execution_count": 15,
      "metadata": {},
      "outputs": [],
      "source": [
        "num_traces=1\n",
        "acquisitionLength_sec=5\n",
        "origRateMHz=300\n",
        "sampleRateMHz=10\n",
        "averageTimeCycle=0\n",
        "lowerBound=14 # dB for DA attenuator\n",
        "upperBound=30# dB for DA attenuator"
      ]
    },
    {
      "cell_type": "markdown",
      "metadata": {},
      "source": [
        "## The driver code"
      ]
    },
    {
      "cell_type": "code",
      "execution_count": 16,
      "metadata": {},
      "outputs": [],
      "source": [
        "# Create a log file for the VNA data\n",
        "lfVNA = Labber.createLogFile_ForData(f'{device_name}_{project_name}_run-{run_id}_flux_sweep',\n",
        "                                      [{'name':'VNA - S21','complex':True,'vector':True,'x_name':'Frequency','x_unit':'Hz'}],\n",
        "                                      step_channels=[{'name':'Phi','values':phi_arr,'unit':'flux quanta'}])\n",
        "\n",
        "initialize_logging(lfVNA, SPATH, PATH_TO_EXE, FIG_PATH, device_name)"
      ]
    },
    {
      "cell_type": "markdown",
      "metadata": {},
      "source": [
        "We have checked in advance that the TWPA pump with the following configuration gives us +20 dB in the entire frequency range of interest."
      ]
    },
    {
      "cell_type": "code",
      "execution_count": 17,
      "metadata": {},
      "outputs": [],
      "source": [
        "set_TWPA_pump(f=6.04, power=27)"
      ]
    },
    {
      "cell_type": "markdown",
      "metadata": {},
      "source": [
        "We have done some rough analysis and found that the QP induced frequency shift is roughly 0.5 MHz so this is what we are going to set as the detuning.\n"
      ]
    },
    {
      "cell_type": "code",
      "execution_count": 18,
      "metadata": {},
      "outputs": [],
      "source": [
        "detuning = 0.5e6 # Hz"
      ]
    },
    {
      "cell_type": "code",
      "execution_count": 19,
      "metadata": {},
      "outputs": [
        {
          "name": "stdout",
          "output_type": "stream",
          "text": [
            "==================================================\n",
            "phi: 0.300000, voltage: -0.016950 V\n",
            "Setting FFL bias to -16.949999999999996 mV from -21.75 mV\n",
            "f_guess: 5.765075900361882 GHz from the fitted Flux Curve\n",
            "LO tone set to 5.765913 GHz\n",
            "f_phi: 5.766413 GHz, f_drive: 5.765913 GHz\n",
            "f_clearing: 5.000000 GHz, P_clearing: -10.000000 dBm\n",
            "Clearing tone set to 5.000000 GHz with power -10.0 dBm\n"
          ]
        },
        {
          "name": "stderr",
          "output_type": "stream",
          "text": [
            "100%|██████████| 9/9 [01:21<00:00,  9.05s/it]\n"
          ]
        },
        {
          "name": "stdout",
          "output_type": "stream",
          "text": [
            "f_clearing: 5.000000 GHz, P_clearing: -7.000000 dBm\n",
            "Clearing tone set to 5.000000 GHz with power -7.0 dBm\n"
          ]
        },
        {
          "name": "stderr",
          "output_type": "stream",
          "text": [
            "100%|██████████| 9/9 [01:21<00:00,  9.05s/it]\n"
          ]
        },
        {
          "name": "stdout",
          "output_type": "stream",
          "text": [
            "f_clearing: 5.000000 GHz, P_clearing: -4.000000 dBm\n",
            "Clearing tone set to 5.000000 GHz with power -4.0 dBm\n"
          ]
        },
        {
          "name": "stderr",
          "output_type": "stream",
          "text": [
            "100%|██████████| 9/9 [01:21<00:00,  9.04s/it]\n"
          ]
        },
        {
          "name": "stdout",
          "output_type": "stream",
          "text": [
            "f_clearing: 5.000000 GHz, P_clearing: -1.000000 dBm\n",
            "Clearing tone set to 5.000000 GHz with power -1.0 dBm\n"
          ]
        },
        {
          "name": "stderr",
          "output_type": "stream",
          "text": [
            "100%|██████████| 9/9 [01:21<00:00,  9.04s/it]\n"
          ]
        },
        {
          "name": "stdout",
          "output_type": "stream",
          "text": [
            "f_clearing: 5.000000 GHz, P_clearing: 2.000000 dBm\n",
            "Clearing tone set to 5.000000 GHz with power 2.0 dBm\n"
          ]
        },
        {
          "name": "stderr",
          "output_type": "stream",
          "text": [
            "100%|██████████| 9/9 [01:21<00:00,  9.04s/it]\n"
          ]
        },
        {
          "name": "stdout",
          "output_type": "stream",
          "text": [
            "f_clearing: 5.000000 GHz, P_clearing: 5.000000 dBm\n",
            "Clearing tone set to 5.000000 GHz with power 5.0 dBm\n"
          ]
        },
        {
          "name": "stderr",
          "output_type": "stream",
          "text": [
            "100%|██████████| 9/9 [01:21<00:00,  9.04s/it]\n"
          ]
        },
        {
          "name": "stdout",
          "output_type": "stream",
          "text": [
            "f_clearing: 5.000000 GHz, P_clearing: 8.000000 dBm\n",
            "Clearing tone set to 5.000000 GHz with power 8.0 dBm\n"
          ]
        },
        {
          "name": "stderr",
          "output_type": "stream",
          "text": [
            "100%|██████████| 9/9 [01:21<00:00,  9.04s/it]\n"
          ]
        },
        {
          "name": "stdout",
          "output_type": "stream",
          "text": [
            "f_clearing: 5.000000 GHz, P_clearing: 11.000000 dBm\n",
            "Clearing tone set to 5.000000 GHz with power 11.0 dBm\n"
          ]
        },
        {
          "name": "stderr",
          "output_type": "stream",
          "text": [
            "100%|██████████| 9/9 [01:21<00:00,  9.03s/it]\n"
          ]
        },
        {
          "name": "stdout",
          "output_type": "stream",
          "text": [
            "f_clearing: 5.000000 GHz, P_clearing: 14.000000 dBm\n",
            "Clearing tone set to 5.000000 GHz with power 14.0 dBm\n"
          ]
        },
        {
          "name": "stderr",
          "output_type": "stream",
          "text": [
            "100%|██████████| 9/9 [01:21<00:00,  9.06s/it]\n"
          ]
        },
        {
          "name": "stdout",
          "output_type": "stream",
          "text": [
            "f_clearing: 5.000000 GHz, P_clearing: 17.000000 dBm\n",
            "Clearing tone set to 5.000000 GHz with power 17.0 dBm\n"
          ]
        },
        {
          "name": "stderr",
          "output_type": "stream",
          "text": [
            "100%|██████████| 9/9 [01:21<00:00,  9.06s/it]\n"
          ]
        },
        {
          "name": "stdout",
          "output_type": "stream",
          "text": [
            "f_clearing: 8.000000 GHz, P_clearing: -10.000000 dBm\n",
            "Clearing tone set to 8.000000 GHz with power -10.0 dBm\n"
          ]
        },
        {
          "name": "stderr",
          "output_type": "stream",
          "text": [
            "100%|██████████| 9/9 [01:21<00:00,  9.04s/it]\n"
          ]
        },
        {
          "name": "stdout",
          "output_type": "stream",
          "text": [
            "f_clearing: 8.000000 GHz, P_clearing: -7.000000 dBm\n",
            "Clearing tone set to 8.000000 GHz with power -7.0 dBm\n"
          ]
        },
        {
          "name": "stderr",
          "output_type": "stream",
          "text": [
            "100%|██████████| 9/9 [01:21<00:00,  9.04s/it]\n"
          ]
        },
        {
          "name": "stdout",
          "output_type": "stream",
          "text": [
            "f_clearing: 8.000000 GHz, P_clearing: -4.000000 dBm\n",
            "Clearing tone set to 8.000000 GHz with power -4.0 dBm\n"
          ]
        },
        {
          "name": "stderr",
          "output_type": "stream",
          "text": [
            "100%|██████████| 9/9 [01:21<00:00,  9.04s/it]\n"
          ]
        },
        {
          "name": "stdout",
          "output_type": "stream",
          "text": [
            "f_clearing: 8.000000 GHz, P_clearing: -1.000000 dBm\n",
            "Clearing tone set to 8.000000 GHz with power -1.0 dBm\n"
          ]
        },
        {
          "name": "stderr",
          "output_type": "stream",
          "text": [
            "100%|██████████| 9/9 [01:21<00:00,  9.06s/it]\n"
          ]
        },
        {
          "name": "stdout",
          "output_type": "stream",
          "text": [
            "f_clearing: 8.000000 GHz, P_clearing: 2.000000 dBm\n",
            "Clearing tone set to 8.000000 GHz with power 2.0 dBm\n"
          ]
        },
        {
          "name": "stderr",
          "output_type": "stream",
          "text": [
            "100%|██████████| 9/9 [01:21<00:00,  9.05s/it]\n"
          ]
        },
        {
          "name": "stdout",
          "output_type": "stream",
          "text": [
            "f_clearing: 8.000000 GHz, P_clearing: 5.000000 dBm\n",
            "Clearing tone set to 8.000000 GHz with power 5.0 dBm\n"
          ]
        },
        {
          "name": "stderr",
          "output_type": "stream",
          "text": [
            "100%|██████████| 9/9 [01:21<00:00,  9.05s/it]\n"
          ]
        },
        {
          "name": "stdout",
          "output_type": "stream",
          "text": [
            "f_clearing: 8.000000 GHz, P_clearing: 8.000000 dBm\n",
            "Clearing tone set to 8.000000 GHz with power 8.0 dBm\n"
          ]
        },
        {
          "name": "stderr",
          "output_type": "stream",
          "text": [
            "100%|██████████| 9/9 [01:21<00:00,  9.05s/it]\n"
          ]
        },
        {
          "name": "stdout",
          "output_type": "stream",
          "text": [
            "f_clearing: 8.000000 GHz, P_clearing: 11.000000 dBm\n",
            "Clearing tone set to 8.000000 GHz with power 11.0 dBm\n"
          ]
        },
        {
          "name": "stderr",
          "output_type": "stream",
          "text": [
            "100%|██████████| 9/9 [01:21<00:00,  9.05s/it]\n"
          ]
        },
        {
          "name": "stdout",
          "output_type": "stream",
          "text": [
            "f_clearing: 8.000000 GHz, P_clearing: 14.000000 dBm\n",
            "Clearing tone set to 8.000000 GHz with power 14.0 dBm\n"
          ]
        },
        {
          "name": "stderr",
          "output_type": "stream",
          "text": [
            "100%|██████████| 9/9 [01:21<00:00,  9.05s/it]\n"
          ]
        },
        {
          "name": "stdout",
          "output_type": "stream",
          "text": [
            "f_clearing: 8.000000 GHz, P_clearing: 17.000000 dBm\n",
            "Clearing tone set to 8.000000 GHz with power 17.0 dBm\n"
          ]
        },
        {
          "name": "stderr",
          "output_type": "stream",
          "text": [
            "100%|██████████| 9/9 [01:21<00:00,  9.05s/it]\n"
          ]
        },
        {
          "name": "stdout",
          "output_type": "stream",
          "text": [
            "f_clearing: 11.000000 GHz, P_clearing: -10.000000 dBm\n",
            "Clearing tone set to 11.000000 GHz with power -10.0 dBm\n"
          ]
        },
        {
          "name": "stderr",
          "output_type": "stream",
          "text": [
            "100%|██████████| 9/9 [01:21<00:00,  9.05s/it]\n"
          ]
        },
        {
          "name": "stdout",
          "output_type": "stream",
          "text": [
            "f_clearing: 11.000000 GHz, P_clearing: -7.000000 dBm\n",
            "Clearing tone set to 11.000000 GHz with power -7.0 dBm\n"
          ]
        },
        {
          "name": "stderr",
          "output_type": "stream",
          "text": [
            "100%|██████████| 9/9 [01:21<00:00,  9.04s/it]\n"
          ]
        },
        {
          "name": "stdout",
          "output_type": "stream",
          "text": [
            "f_clearing: 11.000000 GHz, P_clearing: -4.000000 dBm\n",
            "Clearing tone set to 11.000000 GHz with power -4.0 dBm\n"
          ]
        },
        {
          "name": "stderr",
          "output_type": "stream",
          "text": [
            "100%|██████████| 9/9 [01:21<00:00,  9.05s/it]\n"
          ]
        },
        {
          "name": "stdout",
          "output_type": "stream",
          "text": [
            "f_clearing: 11.000000 GHz, P_clearing: -1.000000 dBm\n",
            "Clearing tone set to 11.000000 GHz with power -1.0 dBm\n"
          ]
        },
        {
          "name": "stderr",
          "output_type": "stream",
          "text": [
            "100%|██████████| 9/9 [01:21<00:00,  9.04s/it]\n"
          ]
        },
        {
          "name": "stdout",
          "output_type": "stream",
          "text": [
            "f_clearing: 11.000000 GHz, P_clearing: 2.000000 dBm\n",
            "Clearing tone set to 11.000000 GHz with power 2.0 dBm\n"
          ]
        },
        {
          "name": "stderr",
          "output_type": "stream",
          "text": [
            "100%|██████████| 9/9 [01:21<00:00,  9.06s/it]\n"
          ]
        },
        {
          "name": "stdout",
          "output_type": "stream",
          "text": [
            "f_clearing: 11.000000 GHz, P_clearing: 5.000000 dBm\n",
            "Clearing tone set to 11.000000 GHz with power 5.0 dBm\n"
          ]
        },
        {
          "name": "stderr",
          "output_type": "stream",
          "text": [
            "100%|██████████| 9/9 [01:21<00:00,  9.04s/it]\n"
          ]
        },
        {
          "name": "stdout",
          "output_type": "stream",
          "text": [
            "f_clearing: 11.000000 GHz, P_clearing: 8.000000 dBm\n",
            "Clearing tone set to 11.000000 GHz with power 8.0 dBm\n"
          ]
        },
        {
          "name": "stderr",
          "output_type": "stream",
          "text": [
            "100%|██████████| 9/9 [01:21<00:00,  9.05s/it]\n"
          ]
        },
        {
          "name": "stdout",
          "output_type": "stream",
          "text": [
            "f_clearing: 11.000000 GHz, P_clearing: 11.000000 dBm\n",
            "Clearing tone set to 11.000000 GHz with power 11.0 dBm\n"
          ]
        },
        {
          "name": "stderr",
          "output_type": "stream",
          "text": [
            "100%|██████████| 9/9 [01:21<00:00,  9.05s/it]\n"
          ]
        },
        {
          "name": "stdout",
          "output_type": "stream",
          "text": [
            "f_clearing: 11.000000 GHz, P_clearing: 14.000000 dBm\n",
            "Clearing tone set to 11.000000 GHz with power 14.0 dBm\n"
          ]
        },
        {
          "name": "stderr",
          "output_type": "stream",
          "text": [
            "100%|██████████| 9/9 [01:21<00:00,  9.05s/it]\n"
          ]
        },
        {
          "name": "stdout",
          "output_type": "stream",
          "text": [
            "f_clearing: 11.000000 GHz, P_clearing: 17.000000 dBm\n",
            "Clearing tone set to 11.000000 GHz with power 17.0 dBm\n"
          ]
        },
        {
          "name": "stderr",
          "output_type": "stream",
          "text": [
            "100%|██████████| 9/9 [01:21<00:00,  9.06s/it]\n"
          ]
        },
        {
          "name": "stdout",
          "output_type": "stream",
          "text": [
            "f_clearing: 14.000000 GHz, P_clearing: -10.000000 dBm\n",
            "Clearing tone set to 14.000000 GHz with power -10.0 dBm\n"
          ]
        },
        {
          "name": "stderr",
          "output_type": "stream",
          "text": [
            "100%|██████████| 9/9 [01:21<00:00,  9.04s/it]\n"
          ]
        },
        {
          "name": "stdout",
          "output_type": "stream",
          "text": [
            "f_clearing: 14.000000 GHz, P_clearing: -7.000000 dBm\n",
            "Clearing tone set to 14.000000 GHz with power -7.0 dBm\n"
          ]
        },
        {
          "name": "stderr",
          "output_type": "stream",
          "text": [
            "100%|██████████| 9/9 [01:21<00:00,  9.04s/it]\n"
          ]
        },
        {
          "name": "stdout",
          "output_type": "stream",
          "text": [
            "f_clearing: 14.000000 GHz, P_clearing: -4.000000 dBm\n",
            "Clearing tone set to 14.000000 GHz with power -4.0 dBm\n"
          ]
        },
        {
          "name": "stderr",
          "output_type": "stream",
          "text": [
            "100%|██████████| 9/9 [01:21<00:00,  9.04s/it]\n"
          ]
        },
        {
          "name": "stdout",
          "output_type": "stream",
          "text": [
            "f_clearing: 14.000000 GHz, P_clearing: -1.000000 dBm\n",
            "Clearing tone set to 14.000000 GHz with power -1.0 dBm\n"
          ]
        },
        {
          "name": "stderr",
          "output_type": "stream",
          "text": [
            "100%|██████████| 9/9 [01:21<00:00,  9.04s/it]\n"
          ]
        },
        {
          "name": "stdout",
          "output_type": "stream",
          "text": [
            "f_clearing: 14.000000 GHz, P_clearing: 2.000000 dBm\n",
            "Clearing tone set to 14.000000 GHz with power 2.0 dBm\n"
          ]
        },
        {
          "name": "stderr",
          "output_type": "stream",
          "text": [
            "100%|██████████| 9/9 [01:21<00:00,  9.04s/it]\n"
          ]
        },
        {
          "name": "stdout",
          "output_type": "stream",
          "text": [
            "f_clearing: 14.000000 GHz, P_clearing: 5.000000 dBm\n",
            "Clearing tone set to 14.000000 GHz with power 5.0 dBm\n"
          ]
        },
        {
          "name": "stderr",
          "output_type": "stream",
          "text": [
            "100%|██████████| 9/9 [01:21<00:00,  9.05s/it]\n"
          ]
        },
        {
          "name": "stdout",
          "output_type": "stream",
          "text": [
            "f_clearing: 14.000000 GHz, P_clearing: 8.000000 dBm\n",
            "Clearing tone set to 14.000000 GHz with power 8.0 dBm\n"
          ]
        },
        {
          "name": "stderr",
          "output_type": "stream",
          "text": [
            "100%|██████████| 9/9 [01:21<00:00,  9.05s/it]\n"
          ]
        },
        {
          "name": "stdout",
          "output_type": "stream",
          "text": [
            "f_clearing: 14.000000 GHz, P_clearing: 11.000000 dBm\n",
            "Clearing tone set to 14.000000 GHz with power 11.0 dBm\n"
          ]
        },
        {
          "name": "stderr",
          "output_type": "stream",
          "text": [
            "100%|██████████| 9/9 [01:21<00:00,  9.05s/it]\n"
          ]
        },
        {
          "name": "stdout",
          "output_type": "stream",
          "text": [
            "f_clearing: 14.000000 GHz, P_clearing: 14.000000 dBm\n",
            "Clearing tone set to 14.000000 GHz with power 14.0 dBm\n"
          ]
        },
        {
          "name": "stderr",
          "output_type": "stream",
          "text": [
            "100%|██████████| 9/9 [01:21<00:00,  9.06s/it]\n"
          ]
        },
        {
          "name": "stdout",
          "output_type": "stream",
          "text": [
            "f_clearing: 14.000000 GHz, P_clearing: 17.000000 dBm\n",
            "Clearing tone set to 14.000000 GHz with power 17.0 dBm\n"
          ]
        },
        {
          "name": "stderr",
          "output_type": "stream",
          "text": [
            "100%|██████████| 9/9 [01:21<00:00,  9.04s/it]\n"
          ]
        },
        {
          "name": "stdout",
          "output_type": "stream",
          "text": [
            "f_clearing: 17.000000 GHz, P_clearing: -10.000000 dBm\n",
            "Clearing tone set to 17.000000 GHz with power -10.0 dBm\n"
          ]
        },
        {
          "name": "stderr",
          "output_type": "stream",
          "text": [
            "100%|██████████| 9/9 [01:21<00:00,  9.05s/it]\n"
          ]
        },
        {
          "name": "stdout",
          "output_type": "stream",
          "text": [
            "f_clearing: 17.000000 GHz, P_clearing: -7.000000 dBm\n",
            "Clearing tone set to 17.000000 GHz with power -7.0 dBm\n"
          ]
        },
        {
          "name": "stderr",
          "output_type": "stream",
          "text": [
            "100%|██████████| 9/9 [01:21<00:00,  9.05s/it]\n"
          ]
        },
        {
          "name": "stdout",
          "output_type": "stream",
          "text": [
            "f_clearing: 17.000000 GHz, P_clearing: -4.000000 dBm\n",
            "Clearing tone set to 17.000000 GHz with power -4.0 dBm\n"
          ]
        },
        {
          "name": "stderr",
          "output_type": "stream",
          "text": [
            "100%|██████████| 9/9 [01:21<00:00,  9.04s/it]\n"
          ]
        },
        {
          "name": "stdout",
          "output_type": "stream",
          "text": [
            "f_clearing: 17.000000 GHz, P_clearing: -1.000000 dBm\n",
            "Clearing tone set to 17.000000 GHz with power -1.0 dBm\n"
          ]
        },
        {
          "name": "stderr",
          "output_type": "stream",
          "text": [
            "100%|██████████| 9/9 [01:21<00:00,  9.05s/it]\n"
          ]
        },
        {
          "name": "stdout",
          "output_type": "stream",
          "text": [
            "f_clearing: 17.000000 GHz, P_clearing: 2.000000 dBm\n",
            "Clearing tone set to 17.000000 GHz with power 2.0 dBm\n"
          ]
        },
        {
          "name": "stderr",
          "output_type": "stream",
          "text": [
            "100%|██████████| 9/9 [01:21<00:00,  9.05s/it]\n"
          ]
        },
        {
          "name": "stdout",
          "output_type": "stream",
          "text": [
            "f_clearing: 17.000000 GHz, P_clearing: 5.000000 dBm\n",
            "Clearing tone set to 17.000000 GHz with power 5.0 dBm\n"
          ]
        },
        {
          "name": "stderr",
          "output_type": "stream",
          "text": [
            "100%|██████████| 9/9 [01:21<00:00,  9.05s/it]\n"
          ]
        },
        {
          "name": "stdout",
          "output_type": "stream",
          "text": [
            "f_clearing: 17.000000 GHz, P_clearing: 8.000000 dBm\n",
            "Clearing tone set to 17.000000 GHz with power 8.0 dBm\n"
          ]
        },
        {
          "name": "stderr",
          "output_type": "stream",
          "text": [
            "100%|██████████| 9/9 [01:21<00:00,  9.05s/it]\n"
          ]
        },
        {
          "name": "stdout",
          "output_type": "stream",
          "text": [
            "f_clearing: 17.000000 GHz, P_clearing: 11.000000 dBm\n",
            "Clearing tone set to 17.000000 GHz with power 11.0 dBm\n"
          ]
        },
        {
          "name": "stderr",
          "output_type": "stream",
          "text": [
            "100%|██████████| 9/9 [01:21<00:00,  9.05s/it]\n"
          ]
        },
        {
          "name": "stdout",
          "output_type": "stream",
          "text": [
            "f_clearing: 17.000000 GHz, P_clearing: 14.000000 dBm\n",
            "Clearing tone set to 17.000000 GHz with power 14.0 dBm\n"
          ]
        },
        {
          "name": "stderr",
          "output_type": "stream",
          "text": [
            "100%|██████████| 9/9 [01:21<00:00,  9.06s/it]\n"
          ]
        },
        {
          "name": "stdout",
          "output_type": "stream",
          "text": [
            "f_clearing: 17.000000 GHz, P_clearing: 17.000000 dBm\n",
            "Clearing tone set to 17.000000 GHz with power 17.0 dBm\n"
          ]
        },
        {
          "name": "stderr",
          "output_type": "stream",
          "text": [
            "100%|██████████| 9/9 [01:21<00:00,  9.05s/it]\n"
          ]
        },
        {
          "name": "stdout",
          "output_type": "stream",
          "text": [
            "Finished loop for phi = 0.300 in 4176.20 seconds\n",
            "\n",
            "\n",
            "Estimated remaining time: 37585.77 seconds\n",
            "==================================================\n",
            "phi: 0.322222, voltage: -0.018131 V\n",
            "Setting FFL bias to -18.131481481481476 mV from -16.95 mV\n",
            "f_guess: 5.761648559326267 GHz from the fitted Flux Curve\n",
            "LO tone set to 5.762761 GHz\n",
            "f_phi: 5.763261 GHz, f_drive: 5.762761 GHz\n",
            "f_clearing: 5.000000 GHz, P_clearing: -10.000000 dBm\n",
            "Clearing tone set to 5.000000 GHz with power -10.0 dBm\n"
          ]
        },
        {
          "name": "stderr",
          "output_type": "stream",
          "text": [
            "100%|██████████| 9/9 [01:21<00:00,  9.06s/it]\n"
          ]
        },
        {
          "name": "stdout",
          "output_type": "stream",
          "text": [
            "f_clearing: 5.000000 GHz, P_clearing: -7.000000 dBm\n",
            "Clearing tone set to 5.000000 GHz with power -7.0 dBm\n"
          ]
        },
        {
          "name": "stderr",
          "output_type": "stream",
          "text": [
            "100%|██████████| 9/9 [01:21<00:00,  9.04s/it]\n"
          ]
        },
        {
          "name": "stdout",
          "output_type": "stream",
          "text": [
            "f_clearing: 5.000000 GHz, P_clearing: -4.000000 dBm\n",
            "Clearing tone set to 5.000000 GHz with power -4.0 dBm\n"
          ]
        },
        {
          "name": "stderr",
          "output_type": "stream",
          "text": [
            "100%|██████████| 9/9 [01:21<00:00,  9.05s/it]\n"
          ]
        },
        {
          "name": "stdout",
          "output_type": "stream",
          "text": [
            "f_clearing: 5.000000 GHz, P_clearing: -1.000000 dBm\n",
            "Clearing tone set to 5.000000 GHz with power -1.0 dBm\n"
          ]
        },
        {
          "name": "stderr",
          "output_type": "stream",
          "text": [
            "100%|██████████| 9/9 [01:21<00:00,  9.05s/it]\n"
          ]
        },
        {
          "name": "stdout",
          "output_type": "stream",
          "text": [
            "f_clearing: 5.000000 GHz, P_clearing: 2.000000 dBm\n",
            "Clearing tone set to 5.000000 GHz with power 2.0 dBm\n"
          ]
        },
        {
          "name": "stderr",
          "output_type": "stream",
          "text": [
            "100%|██████████| 9/9 [01:21<00:00,  9.04s/it]\n"
          ]
        },
        {
          "name": "stdout",
          "output_type": "stream",
          "text": [
            "f_clearing: 5.000000 GHz, P_clearing: 5.000000 dBm\n",
            "Clearing tone set to 5.000000 GHz with power 5.0 dBm\n"
          ]
        },
        {
          "name": "stderr",
          "output_type": "stream",
          "text": [
            "100%|██████████| 9/9 [01:21<00:00,  9.05s/it]\n"
          ]
        },
        {
          "name": "stdout",
          "output_type": "stream",
          "text": [
            "f_clearing: 5.000000 GHz, P_clearing: 8.000000 dBm\n",
            "Clearing tone set to 5.000000 GHz with power 8.0 dBm\n"
          ]
        },
        {
          "name": "stderr",
          "output_type": "stream",
          "text": [
            "100%|██████████| 9/9 [01:21<00:00,  9.04s/it]\n"
          ]
        },
        {
          "name": "stdout",
          "output_type": "stream",
          "text": [
            "f_clearing: 5.000000 GHz, P_clearing: 11.000000 dBm\n",
            "Clearing tone set to 5.000000 GHz with power 11.0 dBm\n"
          ]
        },
        {
          "name": "stderr",
          "output_type": "stream",
          "text": [
            "100%|██████████| 9/9 [01:21<00:00,  9.05s/it]\n"
          ]
        },
        {
          "name": "stdout",
          "output_type": "stream",
          "text": [
            "f_clearing: 5.000000 GHz, P_clearing: 14.000000 dBm\n",
            "Clearing tone set to 5.000000 GHz with power 14.0 dBm\n"
          ]
        },
        {
          "name": "stderr",
          "output_type": "stream",
          "text": [
            "100%|██████████| 9/9 [01:21<00:00,  9.05s/it]\n"
          ]
        },
        {
          "name": "stdout",
          "output_type": "stream",
          "text": [
            "f_clearing: 5.000000 GHz, P_clearing: 17.000000 dBm\n",
            "Clearing tone set to 5.000000 GHz with power 17.0 dBm\n"
          ]
        },
        {
          "name": "stderr",
          "output_type": "stream",
          "text": [
            "100%|██████████| 9/9 [01:21<00:00,  9.07s/it]\n"
          ]
        },
        {
          "name": "stdout",
          "output_type": "stream",
          "text": [
            "f_clearing: 8.000000 GHz, P_clearing: -10.000000 dBm\n",
            "Clearing tone set to 8.000000 GHz with power -10.0 dBm\n"
          ]
        },
        {
          "name": "stderr",
          "output_type": "stream",
          "text": [
            "100%|██████████| 9/9 [01:21<00:00,  9.05s/it]\n"
          ]
        },
        {
          "name": "stdout",
          "output_type": "stream",
          "text": [
            "f_clearing: 8.000000 GHz, P_clearing: -7.000000 dBm\n",
            "Clearing tone set to 8.000000 GHz with power -7.0 dBm\n"
          ]
        },
        {
          "name": "stderr",
          "output_type": "stream",
          "text": [
            "100%|██████████| 9/9 [01:21<00:00,  9.04s/it]\n"
          ]
        },
        {
          "name": "stdout",
          "output_type": "stream",
          "text": [
            "f_clearing: 8.000000 GHz, P_clearing: -4.000000 dBm\n",
            "Clearing tone set to 8.000000 GHz with power -4.0 dBm\n"
          ]
        },
        {
          "name": "stderr",
          "output_type": "stream",
          "text": [
            "100%|██████████| 9/9 [01:21<00:00,  9.05s/it]\n"
          ]
        },
        {
          "name": "stdout",
          "output_type": "stream",
          "text": [
            "f_clearing: 8.000000 GHz, P_clearing: -1.000000 dBm\n",
            "Clearing tone set to 8.000000 GHz with power -1.0 dBm\n"
          ]
        },
        {
          "name": "stderr",
          "output_type": "stream",
          "text": [
            "100%|██████████| 9/9 [01:21<00:00,  9.05s/it]\n"
          ]
        },
        {
          "name": "stdout",
          "output_type": "stream",
          "text": [
            "f_clearing: 8.000000 GHz, P_clearing: 2.000000 dBm\n",
            "Clearing tone set to 8.000000 GHz with power 2.0 dBm\n"
          ]
        },
        {
          "name": "stderr",
          "output_type": "stream",
          "text": [
            "100%|██████████| 9/9 [01:21<00:00,  9.05s/it]\n"
          ]
        },
        {
          "name": "stdout",
          "output_type": "stream",
          "text": [
            "f_clearing: 8.000000 GHz, P_clearing: 5.000000 dBm\n",
            "Clearing tone set to 8.000000 GHz with power 5.0 dBm\n"
          ]
        },
        {
          "name": "stderr",
          "output_type": "stream",
          "text": [
            "100%|██████████| 9/9 [01:21<00:00,  9.05s/it]\n"
          ]
        },
        {
          "name": "stdout",
          "output_type": "stream",
          "text": [
            "f_clearing: 8.000000 GHz, P_clearing: 8.000000 dBm\n",
            "Clearing tone set to 8.000000 GHz with power 8.0 dBm\n"
          ]
        },
        {
          "name": "stderr",
          "output_type": "stream",
          "text": [
            "100%|██████████| 9/9 [01:21<00:00,  9.11s/it]\n"
          ]
        },
        {
          "name": "stdout",
          "output_type": "stream",
          "text": [
            "f_clearing: 8.000000 GHz, P_clearing: 11.000000 dBm\n",
            "Clearing tone set to 8.000000 GHz with power 11.0 dBm\n"
          ]
        },
        {
          "name": "stderr",
          "output_type": "stream",
          "text": [
            "100%|██████████| 9/9 [01:25<00:00,  9.46s/it]\n"
          ]
        },
        {
          "name": "stdout",
          "output_type": "stream",
          "text": [
            "f_clearing: 8.000000 GHz, P_clearing: 14.000000 dBm\n",
            "Clearing tone set to 8.000000 GHz with power 14.0 dBm\n"
          ]
        },
        {
          "name": "stderr",
          "output_type": "stream",
          "text": [
            "100%|██████████| 9/9 [01:21<00:00,  9.05s/it]\n"
          ]
        },
        {
          "name": "stdout",
          "output_type": "stream",
          "text": [
            "f_clearing: 8.000000 GHz, P_clearing: 17.000000 dBm\n",
            "Clearing tone set to 8.000000 GHz with power 17.0 dBm\n"
          ]
        },
        {
          "name": "stderr",
          "output_type": "stream",
          "text": [
            "100%|██████████| 9/9 [01:21<00:00,  9.05s/it]\n"
          ]
        },
        {
          "name": "stdout",
          "output_type": "stream",
          "text": [
            "f_clearing: 11.000000 GHz, P_clearing: -10.000000 dBm\n",
            "Clearing tone set to 11.000000 GHz with power -10.0 dBm\n"
          ]
        },
        {
          "name": "stderr",
          "output_type": "stream",
          "text": [
            "100%|██████████| 9/9 [01:21<00:00,  9.05s/it]\n"
          ]
        },
        {
          "name": "stdout",
          "output_type": "stream",
          "text": [
            "f_clearing: 11.000000 GHz, P_clearing: -7.000000 dBm\n",
            "Clearing tone set to 11.000000 GHz with power -7.0 dBm\n"
          ]
        },
        {
          "name": "stderr",
          "output_type": "stream",
          "text": [
            "100%|██████████| 9/9 [01:21<00:00,  9.05s/it]\n"
          ]
        },
        {
          "name": "stdout",
          "output_type": "stream",
          "text": [
            "f_clearing: 11.000000 GHz, P_clearing: -4.000000 dBm\n",
            "Clearing tone set to 11.000000 GHz with power -4.0 dBm\n"
          ]
        },
        {
          "name": "stderr",
          "output_type": "stream",
          "text": [
            "100%|██████████| 9/9 [01:21<00:00,  9.05s/it]\n"
          ]
        },
        {
          "name": "stdout",
          "output_type": "stream",
          "text": [
            "f_clearing: 11.000000 GHz, P_clearing: -1.000000 dBm\n",
            "Clearing tone set to 11.000000 GHz with power -1.0 dBm\n"
          ]
        },
        {
          "name": "stderr",
          "output_type": "stream",
          "text": [
            "100%|██████████| 9/9 [01:21<00:00,  9.04s/it]\n"
          ]
        },
        {
          "name": "stdout",
          "output_type": "stream",
          "text": [
            "f_clearing: 11.000000 GHz, P_clearing: 2.000000 dBm\n",
            "Clearing tone set to 11.000000 GHz with power 2.0 dBm\n"
          ]
        },
        {
          "name": "stderr",
          "output_type": "stream",
          "text": [
            "100%|██████████| 9/9 [01:21<00:00,  9.04s/it]\n"
          ]
        },
        {
          "name": "stdout",
          "output_type": "stream",
          "text": [
            "f_clearing: 11.000000 GHz, P_clearing: 5.000000 dBm\n",
            "Clearing tone set to 11.000000 GHz with power 5.0 dBm\n"
          ]
        },
        {
          "name": "stderr",
          "output_type": "stream",
          "text": [
            "100%|██████████| 9/9 [01:21<00:00,  9.05s/it]\n"
          ]
        },
        {
          "name": "stdout",
          "output_type": "stream",
          "text": [
            "f_clearing: 11.000000 GHz, P_clearing: 8.000000 dBm\n",
            "Clearing tone set to 11.000000 GHz with power 8.0 dBm\n"
          ]
        },
        {
          "name": "stderr",
          "output_type": "stream",
          "text": [
            "100%|██████████| 9/9 [01:21<00:00,  9.05s/it]\n"
          ]
        },
        {
          "name": "stdout",
          "output_type": "stream",
          "text": [
            "f_clearing: 11.000000 GHz, P_clearing: 11.000000 dBm\n",
            "Clearing tone set to 11.000000 GHz with power 11.0 dBm\n"
          ]
        },
        {
          "name": "stderr",
          "output_type": "stream",
          "text": [
            "100%|██████████| 9/9 [01:21<00:00,  9.05s/it]\n"
          ]
        },
        {
          "name": "stdout",
          "output_type": "stream",
          "text": [
            "f_clearing: 11.000000 GHz, P_clearing: 14.000000 dBm\n",
            "Clearing tone set to 11.000000 GHz with power 14.0 dBm\n"
          ]
        },
        {
          "name": "stderr",
          "output_type": "stream",
          "text": [
            "100%|██████████| 9/9 [01:21<00:00,  9.04s/it]\n"
          ]
        },
        {
          "name": "stdout",
          "output_type": "stream",
          "text": [
            "f_clearing: 11.000000 GHz, P_clearing: 17.000000 dBm\n",
            "Clearing tone set to 11.000000 GHz with power 17.0 dBm\n"
          ]
        },
        {
          "name": "stderr",
          "output_type": "stream",
          "text": [
            "100%|██████████| 9/9 [01:21<00:00,  9.04s/it]\n"
          ]
        },
        {
          "name": "stdout",
          "output_type": "stream",
          "text": [
            "f_clearing: 14.000000 GHz, P_clearing: -10.000000 dBm\n",
            "Clearing tone set to 14.000000 GHz with power -10.0 dBm\n"
          ]
        },
        {
          "name": "stderr",
          "output_type": "stream",
          "text": [
            "100%|██████████| 9/9 [01:21<00:00,  9.05s/it]\n"
          ]
        },
        {
          "name": "stdout",
          "output_type": "stream",
          "text": [
            "f_clearing: 14.000000 GHz, P_clearing: -7.000000 dBm\n",
            "Clearing tone set to 14.000000 GHz with power -7.0 dBm\n"
          ]
        },
        {
          "name": "stderr",
          "output_type": "stream",
          "text": [
            "100%|██████████| 9/9 [01:21<00:00,  9.05s/it]\n"
          ]
        },
        {
          "name": "stdout",
          "output_type": "stream",
          "text": [
            "f_clearing: 14.000000 GHz, P_clearing: -4.000000 dBm\n",
            "Clearing tone set to 14.000000 GHz with power -4.0 dBm\n"
          ]
        },
        {
          "name": "stderr",
          "output_type": "stream",
          "text": [
            "100%|██████████| 9/9 [01:21<00:00,  9.05s/it]\n"
          ]
        },
        {
          "name": "stdout",
          "output_type": "stream",
          "text": [
            "f_clearing: 14.000000 GHz, P_clearing: -1.000000 dBm\n",
            "Clearing tone set to 14.000000 GHz with power -1.0 dBm\n"
          ]
        },
        {
          "name": "stderr",
          "output_type": "stream",
          "text": [
            "100%|██████████| 9/9 [01:21<00:00,  9.05s/it]\n"
          ]
        },
        {
          "name": "stdout",
          "output_type": "stream",
          "text": [
            "f_clearing: 14.000000 GHz, P_clearing: 2.000000 dBm\n",
            "Clearing tone set to 14.000000 GHz with power 2.0 dBm\n"
          ]
        },
        {
          "name": "stderr",
          "output_type": "stream",
          "text": [
            "100%|██████████| 9/9 [01:21<00:00,  9.05s/it]\n"
          ]
        },
        {
          "name": "stdout",
          "output_type": "stream",
          "text": [
            "f_clearing: 14.000000 GHz, P_clearing: 5.000000 dBm\n",
            "Clearing tone set to 14.000000 GHz with power 5.0 dBm\n"
          ]
        },
        {
          "name": "stderr",
          "output_type": "stream",
          "text": [
            "100%|██████████| 9/9 [01:21<00:00,  9.04s/it]\n"
          ]
        },
        {
          "name": "stdout",
          "output_type": "stream",
          "text": [
            "f_clearing: 14.000000 GHz, P_clearing: 8.000000 dBm\n",
            "Clearing tone set to 14.000000 GHz with power 8.0 dBm\n"
          ]
        },
        {
          "name": "stderr",
          "output_type": "stream",
          "text": [
            "100%|██████████| 9/9 [01:21<00:00,  9.05s/it]\n"
          ]
        },
        {
          "name": "stdout",
          "output_type": "stream",
          "text": [
            "f_clearing: 14.000000 GHz, P_clearing: 11.000000 dBm\n",
            "Clearing tone set to 14.000000 GHz with power 11.0 dBm\n"
          ]
        },
        {
          "name": "stderr",
          "output_type": "stream",
          "text": [
            "100%|██████████| 9/9 [01:21<00:00,  9.06s/it]\n"
          ]
        },
        {
          "name": "stdout",
          "output_type": "stream",
          "text": [
            "f_clearing: 14.000000 GHz, P_clearing: 14.000000 dBm\n",
            "Clearing tone set to 14.000000 GHz with power 14.0 dBm\n"
          ]
        },
        {
          "name": "stderr",
          "output_type": "stream",
          "text": [
            "100%|██████████| 9/9 [01:21<00:00,  9.04s/it]\n"
          ]
        },
        {
          "name": "stdout",
          "output_type": "stream",
          "text": [
            "f_clearing: 14.000000 GHz, P_clearing: 17.000000 dBm\n",
            "Clearing tone set to 14.000000 GHz with power 17.0 dBm\n"
          ]
        },
        {
          "name": "stderr",
          "output_type": "stream",
          "text": [
            "100%|██████████| 9/9 [01:21<00:00,  9.04s/it]\n"
          ]
        },
        {
          "name": "stdout",
          "output_type": "stream",
          "text": [
            "f_clearing: 17.000000 GHz, P_clearing: -10.000000 dBm\n",
            "Clearing tone set to 17.000000 GHz with power -10.0 dBm\n"
          ]
        },
        {
          "name": "stderr",
          "output_type": "stream",
          "text": [
            "100%|██████████| 9/9 [01:21<00:00,  9.05s/it]\n"
          ]
        },
        {
          "name": "stdout",
          "output_type": "stream",
          "text": [
            "f_clearing: 17.000000 GHz, P_clearing: -7.000000 dBm\n",
            "Clearing tone set to 17.000000 GHz with power -7.0 dBm\n"
          ]
        },
        {
          "name": "stderr",
          "output_type": "stream",
          "text": [
            "100%|██████████| 9/9 [01:21<00:00,  9.04s/it]\n"
          ]
        },
        {
          "name": "stdout",
          "output_type": "stream",
          "text": [
            "f_clearing: 17.000000 GHz, P_clearing: -4.000000 dBm\n",
            "Clearing tone set to 17.000000 GHz with power -4.0 dBm\n"
          ]
        },
        {
          "name": "stderr",
          "output_type": "stream",
          "text": [
            "100%|██████████| 9/9 [01:21<00:00,  9.04s/it]\n"
          ]
        },
        {
          "name": "stdout",
          "output_type": "stream",
          "text": [
            "f_clearing: 17.000000 GHz, P_clearing: -1.000000 dBm\n",
            "Clearing tone set to 17.000000 GHz with power -1.0 dBm\n"
          ]
        },
        {
          "name": "stderr",
          "output_type": "stream",
          "text": [
            "100%|██████████| 9/9 [01:21<00:00,  9.05s/it]\n"
          ]
        },
        {
          "name": "stdout",
          "output_type": "stream",
          "text": [
            "f_clearing: 17.000000 GHz, P_clearing: 2.000000 dBm\n",
            "Clearing tone set to 17.000000 GHz with power 2.0 dBm\n"
          ]
        },
        {
          "name": "stderr",
          "output_type": "stream",
          "text": [
            "100%|██████████| 9/9 [01:21<00:00,  9.05s/it]\n"
          ]
        },
        {
          "name": "stdout",
          "output_type": "stream",
          "text": [
            "f_clearing: 17.000000 GHz, P_clearing: 5.000000 dBm\n",
            "Clearing tone set to 17.000000 GHz with power 5.0 dBm\n"
          ]
        },
        {
          "name": "stderr",
          "output_type": "stream",
          "text": [
            "100%|██████████| 9/9 [01:21<00:00,  9.05s/it]\n"
          ]
        },
        {
          "name": "stdout",
          "output_type": "stream",
          "text": [
            "f_clearing: 17.000000 GHz, P_clearing: 8.000000 dBm\n",
            "Clearing tone set to 17.000000 GHz with power 8.0 dBm\n"
          ]
        },
        {
          "name": "stderr",
          "output_type": "stream",
          "text": [
            "100%|██████████| 9/9 [01:21<00:00,  9.05s/it]\n"
          ]
        },
        {
          "name": "stdout",
          "output_type": "stream",
          "text": [
            "f_clearing: 17.000000 GHz, P_clearing: 11.000000 dBm\n",
            "Clearing tone set to 17.000000 GHz with power 11.0 dBm\n"
          ]
        },
        {
          "name": "stderr",
          "output_type": "stream",
          "text": [
            "100%|██████████| 9/9 [01:21<00:00,  9.05s/it]\n"
          ]
        },
        {
          "name": "stdout",
          "output_type": "stream",
          "text": [
            "f_clearing: 17.000000 GHz, P_clearing: 14.000000 dBm\n",
            "Clearing tone set to 17.000000 GHz with power 14.0 dBm\n"
          ]
        },
        {
          "name": "stderr",
          "output_type": "stream",
          "text": [
            "100%|██████████| 9/9 [01:21<00:00,  9.04s/it]\n"
          ]
        },
        {
          "name": "stdout",
          "output_type": "stream",
          "text": [
            "f_clearing: 17.000000 GHz, P_clearing: 17.000000 dBm\n",
            "Clearing tone set to 17.000000 GHz with power 17.0 dBm\n"
          ]
        },
        {
          "name": "stderr",
          "output_type": "stream",
          "text": [
            "100%|██████████| 9/9 [01:21<00:00,  9.05s/it]\n"
          ]
        },
        {
          "name": "stdout",
          "output_type": "stream",
          "text": [
            "Finished loop for phi = 0.322 in 8319.83 seconds\n",
            "\n",
            "\n",
            "Estimated remaining time: 33279.32 seconds\n",
            "==================================================\n",
            "phi: 0.344444, voltage: -0.019313 V\n",
            "Setting FFL bias to -19.31296296296296 mV from -18.15 mV\n",
            "f_guess: 5.757609498275481 GHz from the fitted Flux Curve\n",
            "LO tone set to 5.759309 GHz\n",
            "f_phi: 5.759809 GHz, f_drive: 5.759309 GHz\n",
            "f_clearing: 5.000000 GHz, P_clearing: -10.000000 dBm\n",
            "Clearing tone set to 5.000000 GHz with power -10.0 dBm\n"
          ]
        },
        {
          "name": "stderr",
          "output_type": "stream",
          "text": [
            "100%|██████████| 9/9 [01:21<00:00,  9.04s/it]\n"
          ]
        },
        {
          "name": "stdout",
          "output_type": "stream",
          "text": [
            "f_clearing: 5.000000 GHz, P_clearing: -7.000000 dBm\n",
            "Clearing tone set to 5.000000 GHz with power -7.0 dBm\n"
          ]
        },
        {
          "name": "stderr",
          "output_type": "stream",
          "text": [
            "100%|██████████| 9/9 [01:21<00:00,  9.05s/it]\n"
          ]
        },
        {
          "name": "stdout",
          "output_type": "stream",
          "text": [
            "f_clearing: 5.000000 GHz, P_clearing: -4.000000 dBm\n",
            "Clearing tone set to 5.000000 GHz with power -4.0 dBm\n"
          ]
        },
        {
          "name": "stderr",
          "output_type": "stream",
          "text": [
            "100%|██████████| 9/9 [01:21<00:00,  9.04s/it]\n"
          ]
        },
        {
          "name": "stdout",
          "output_type": "stream",
          "text": [
            "f_clearing: 5.000000 GHz, P_clearing: -1.000000 dBm\n",
            "Clearing tone set to 5.000000 GHz with power -1.0 dBm\n"
          ]
        },
        {
          "name": "stderr",
          "output_type": "stream",
          "text": [
            "100%|██████████| 9/9 [01:21<00:00,  9.04s/it]\n"
          ]
        },
        {
          "name": "stdout",
          "output_type": "stream",
          "text": [
            "f_clearing: 5.000000 GHz, P_clearing: 2.000000 dBm\n",
            "Clearing tone set to 5.000000 GHz with power 2.0 dBm\n"
          ]
        },
        {
          "name": "stderr",
          "output_type": "stream",
          "text": [
            "100%|██████████| 9/9 [01:21<00:00,  9.03s/it]\n"
          ]
        },
        {
          "name": "stdout",
          "output_type": "stream",
          "text": [
            "f_clearing: 5.000000 GHz, P_clearing: 5.000000 dBm\n",
            "Clearing tone set to 5.000000 GHz with power 5.0 dBm\n"
          ]
        },
        {
          "name": "stderr",
          "output_type": "stream",
          "text": [
            "100%|██████████| 9/9 [01:21<00:00,  9.04s/it]\n"
          ]
        },
        {
          "name": "stdout",
          "output_type": "stream",
          "text": [
            "f_clearing: 5.000000 GHz, P_clearing: 8.000000 dBm\n",
            "Clearing tone set to 5.000000 GHz with power 8.0 dBm\n"
          ]
        },
        {
          "name": "stderr",
          "output_type": "stream",
          "text": [
            "100%|██████████| 9/9 [01:21<00:00,  9.04s/it]\n"
          ]
        },
        {
          "name": "stdout",
          "output_type": "stream",
          "text": [
            "f_clearing: 5.000000 GHz, P_clearing: 11.000000 dBm\n",
            "Clearing tone set to 5.000000 GHz with power 11.0 dBm\n"
          ]
        },
        {
          "name": "stderr",
          "output_type": "stream",
          "text": [
            "100%|██████████| 9/9 [01:21<00:00,  9.05s/it]\n"
          ]
        },
        {
          "name": "stdout",
          "output_type": "stream",
          "text": [
            "f_clearing: 5.000000 GHz, P_clearing: 14.000000 dBm\n",
            "Clearing tone set to 5.000000 GHz with power 14.0 dBm\n"
          ]
        },
        {
          "name": "stderr",
          "output_type": "stream",
          "text": [
            "100%|██████████| 9/9 [01:21<00:00,  9.04s/it]\n"
          ]
        },
        {
          "name": "stdout",
          "output_type": "stream",
          "text": [
            "f_clearing: 5.000000 GHz, P_clearing: 17.000000 dBm\n",
            "Clearing tone set to 5.000000 GHz with power 17.0 dBm\n"
          ]
        },
        {
          "name": "stderr",
          "output_type": "stream",
          "text": [
            "100%|██████████| 9/9 [01:21<00:00,  9.05s/it]\n"
          ]
        },
        {
          "name": "stdout",
          "output_type": "stream",
          "text": [
            "f_clearing: 8.000000 GHz, P_clearing: -10.000000 dBm\n",
            "Clearing tone set to 8.000000 GHz with power -10.0 dBm\n"
          ]
        },
        {
          "name": "stderr",
          "output_type": "stream",
          "text": [
            "100%|██████████| 9/9 [01:21<00:00,  9.03s/it]\n"
          ]
        },
        {
          "name": "stdout",
          "output_type": "stream",
          "text": [
            "f_clearing: 8.000000 GHz, P_clearing: -7.000000 dBm\n",
            "Clearing tone set to 8.000000 GHz with power -7.0 dBm\n"
          ]
        },
        {
          "name": "stderr",
          "output_type": "stream",
          "text": [
            "100%|██████████| 9/9 [01:21<00:00,  9.05s/it]\n"
          ]
        },
        {
          "name": "stdout",
          "output_type": "stream",
          "text": [
            "f_clearing: 8.000000 GHz, P_clearing: -4.000000 dBm\n",
            "Clearing tone set to 8.000000 GHz with power -4.0 dBm\n"
          ]
        },
        {
          "name": "stderr",
          "output_type": "stream",
          "text": [
            "100%|██████████| 9/9 [01:21<00:00,  9.04s/it]\n"
          ]
        },
        {
          "name": "stdout",
          "output_type": "stream",
          "text": [
            "f_clearing: 8.000000 GHz, P_clearing: -1.000000 dBm\n",
            "Clearing tone set to 8.000000 GHz with power -1.0 dBm\n"
          ]
        },
        {
          "name": "stderr",
          "output_type": "stream",
          "text": [
            "100%|██████████| 9/9 [01:21<00:00,  9.03s/it]\n"
          ]
        },
        {
          "name": "stdout",
          "output_type": "stream",
          "text": [
            "f_clearing: 8.000000 GHz, P_clearing: 2.000000 dBm\n",
            "Clearing tone set to 8.000000 GHz with power 2.0 dBm\n"
          ]
        },
        {
          "name": "stderr",
          "output_type": "stream",
          "text": [
            "100%|██████████| 9/9 [01:21<00:00,  9.04s/it]\n"
          ]
        },
        {
          "name": "stdout",
          "output_type": "stream",
          "text": [
            "f_clearing: 8.000000 GHz, P_clearing: 5.000000 dBm\n",
            "Clearing tone set to 8.000000 GHz with power 5.0 dBm\n"
          ]
        },
        {
          "name": "stderr",
          "output_type": "stream",
          "text": [
            "100%|██████████| 9/9 [01:21<00:00,  9.04s/it]\n"
          ]
        },
        {
          "name": "stdout",
          "output_type": "stream",
          "text": [
            "f_clearing: 8.000000 GHz, P_clearing: 8.000000 dBm\n",
            "Clearing tone set to 8.000000 GHz with power 8.0 dBm\n"
          ]
        },
        {
          "name": "stderr",
          "output_type": "stream",
          "text": [
            "100%|██████████| 9/9 [01:21<00:00,  9.04s/it]\n"
          ]
        },
        {
          "name": "stdout",
          "output_type": "stream",
          "text": [
            "f_clearing: 8.000000 GHz, P_clearing: 11.000000 dBm\n",
            "Clearing tone set to 8.000000 GHz with power 11.0 dBm\n"
          ]
        },
        {
          "name": "stderr",
          "output_type": "stream",
          "text": [
            "100%|██████████| 9/9 [01:21<00:00,  9.04s/it]\n"
          ]
        },
        {
          "name": "stdout",
          "output_type": "stream",
          "text": [
            "f_clearing: 8.000000 GHz, P_clearing: 14.000000 dBm\n",
            "Clearing tone set to 8.000000 GHz with power 14.0 dBm\n"
          ]
        },
        {
          "name": "stderr",
          "output_type": "stream",
          "text": [
            "100%|██████████| 9/9 [01:21<00:00,  9.05s/it]\n"
          ]
        },
        {
          "name": "stdout",
          "output_type": "stream",
          "text": [
            "f_clearing: 8.000000 GHz, P_clearing: 17.000000 dBm\n",
            "Clearing tone set to 8.000000 GHz with power 17.0 dBm\n"
          ]
        },
        {
          "name": "stderr",
          "output_type": "stream",
          "text": [
            "100%|██████████| 9/9 [01:21<00:00,  9.03s/it]\n"
          ]
        },
        {
          "name": "stdout",
          "output_type": "stream",
          "text": [
            "f_clearing: 11.000000 GHz, P_clearing: -10.000000 dBm\n",
            "Clearing tone set to 11.000000 GHz with power -10.0 dBm\n"
          ]
        },
        {
          "name": "stderr",
          "output_type": "stream",
          "text": [
            "100%|██████████| 9/9 [01:21<00:00,  9.04s/it]\n"
          ]
        },
        {
          "name": "stdout",
          "output_type": "stream",
          "text": [
            "f_clearing: 11.000000 GHz, P_clearing: -7.000000 dBm\n",
            "Clearing tone set to 11.000000 GHz with power -7.0 dBm\n"
          ]
        },
        {
          "name": "stderr",
          "output_type": "stream",
          "text": [
            "100%|██████████| 9/9 [01:21<00:00,  9.04s/it]\n"
          ]
        },
        {
          "name": "stdout",
          "output_type": "stream",
          "text": [
            "f_clearing: 11.000000 GHz, P_clearing: -4.000000 dBm\n",
            "Clearing tone set to 11.000000 GHz with power -4.0 dBm\n"
          ]
        },
        {
          "name": "stderr",
          "output_type": "stream",
          "text": [
            "100%|██████████| 9/9 [01:21<00:00,  9.04s/it]\n"
          ]
        },
        {
          "name": "stdout",
          "output_type": "stream",
          "text": [
            "f_clearing: 11.000000 GHz, P_clearing: -1.000000 dBm\n",
            "Clearing tone set to 11.000000 GHz with power -1.0 dBm\n"
          ]
        },
        {
          "name": "stderr",
          "output_type": "stream",
          "text": [
            "100%|██████████| 9/9 [01:21<00:00,  9.04s/it]\n"
          ]
        },
        {
          "name": "stdout",
          "output_type": "stream",
          "text": [
            "f_clearing: 11.000000 GHz, P_clearing: 2.000000 dBm\n",
            "Clearing tone set to 11.000000 GHz with power 2.0 dBm\n"
          ]
        },
        {
          "name": "stderr",
          "output_type": "stream",
          "text": [
            "100%|██████████| 9/9 [01:21<00:00,  9.04s/it]\n"
          ]
        },
        {
          "name": "stdout",
          "output_type": "stream",
          "text": [
            "f_clearing: 11.000000 GHz, P_clearing: 5.000000 dBm\n",
            "Clearing tone set to 11.000000 GHz with power 5.0 dBm\n"
          ]
        },
        {
          "name": "stderr",
          "output_type": "stream",
          "text": [
            "100%|██████████| 9/9 [01:21<00:00,  9.04s/it]\n"
          ]
        },
        {
          "name": "stdout",
          "output_type": "stream",
          "text": [
            "f_clearing: 11.000000 GHz, P_clearing: 8.000000 dBm\n",
            "Clearing tone set to 11.000000 GHz with power 8.0 dBm\n"
          ]
        },
        {
          "name": "stderr",
          "output_type": "stream",
          "text": [
            "100%|██████████| 9/9 [01:21<00:00,  9.05s/it]\n"
          ]
        },
        {
          "name": "stdout",
          "output_type": "stream",
          "text": [
            "f_clearing: 11.000000 GHz, P_clearing: 11.000000 dBm\n",
            "Clearing tone set to 11.000000 GHz with power 11.0 dBm\n"
          ]
        },
        {
          "name": "stderr",
          "output_type": "stream",
          "text": [
            "100%|██████████| 9/9 [01:21<00:00,  9.04s/it]\n"
          ]
        },
        {
          "name": "stdout",
          "output_type": "stream",
          "text": [
            "f_clearing: 11.000000 GHz, P_clearing: 14.000000 dBm\n",
            "Clearing tone set to 11.000000 GHz with power 14.0 dBm\n"
          ]
        },
        {
          "name": "stderr",
          "output_type": "stream",
          "text": [
            "100%|██████████| 9/9 [01:21<00:00,  9.04s/it]\n"
          ]
        },
        {
          "name": "stdout",
          "output_type": "stream",
          "text": [
            "f_clearing: 11.000000 GHz, P_clearing: 17.000000 dBm\n",
            "Clearing tone set to 11.000000 GHz with power 17.0 dBm\n"
          ]
        },
        {
          "name": "stderr",
          "output_type": "stream",
          "text": [
            "100%|██████████| 9/9 [01:21<00:00,  9.05s/it]\n"
          ]
        },
        {
          "name": "stdout",
          "output_type": "stream",
          "text": [
            "f_clearing: 14.000000 GHz, P_clearing: -10.000000 dBm\n",
            "Clearing tone set to 14.000000 GHz with power -10.0 dBm\n"
          ]
        },
        {
          "name": "stderr",
          "output_type": "stream",
          "text": [
            "100%|██████████| 9/9 [01:21<00:00,  9.03s/it]\n"
          ]
        },
        {
          "name": "stdout",
          "output_type": "stream",
          "text": [
            "f_clearing: 14.000000 GHz, P_clearing: -7.000000 dBm\n",
            "Clearing tone set to 14.000000 GHz with power -7.0 dBm\n"
          ]
        },
        {
          "name": "stderr",
          "output_type": "stream",
          "text": [
            "100%|██████████| 9/9 [01:21<00:00,  9.04s/it]\n"
          ]
        },
        {
          "name": "stdout",
          "output_type": "stream",
          "text": [
            "f_clearing: 14.000000 GHz, P_clearing: -4.000000 dBm\n",
            "Clearing tone set to 14.000000 GHz with power -4.0 dBm\n"
          ]
        },
        {
          "name": "stderr",
          "output_type": "stream",
          "text": [
            "100%|██████████| 9/9 [01:21<00:00,  9.04s/it]\n"
          ]
        },
        {
          "name": "stdout",
          "output_type": "stream",
          "text": [
            "f_clearing: 14.000000 GHz, P_clearing: -1.000000 dBm\n",
            "Clearing tone set to 14.000000 GHz with power -1.0 dBm\n"
          ]
        },
        {
          "name": "stderr",
          "output_type": "stream",
          "text": [
            "100%|██████████| 9/9 [01:21<00:00,  9.04s/it]\n"
          ]
        },
        {
          "name": "stdout",
          "output_type": "stream",
          "text": [
            "f_clearing: 14.000000 GHz, P_clearing: 2.000000 dBm\n",
            "Clearing tone set to 14.000000 GHz with power 2.0 dBm\n"
          ]
        },
        {
          "name": "stderr",
          "output_type": "stream",
          "text": [
            "100%|██████████| 9/9 [01:21<00:00,  9.04s/it]\n"
          ]
        },
        {
          "name": "stdout",
          "output_type": "stream",
          "text": [
            "f_clearing: 14.000000 GHz, P_clearing: 5.000000 dBm\n",
            "Clearing tone set to 14.000000 GHz with power 5.0 dBm\n"
          ]
        },
        {
          "name": "stderr",
          "output_type": "stream",
          "text": [
            "100%|██████████| 9/9 [01:21<00:00,  9.03s/it]\n"
          ]
        },
        {
          "name": "stdout",
          "output_type": "stream",
          "text": [
            "f_clearing: 14.000000 GHz, P_clearing: 8.000000 dBm\n",
            "Clearing tone set to 14.000000 GHz with power 8.0 dBm\n"
          ]
        },
        {
          "name": "stderr",
          "output_type": "stream",
          "text": [
            "100%|██████████| 9/9 [01:21<00:00,  9.04s/it]\n"
          ]
        },
        {
          "name": "stdout",
          "output_type": "stream",
          "text": [
            "f_clearing: 14.000000 GHz, P_clearing: 11.000000 dBm\n",
            "Clearing tone set to 14.000000 GHz with power 11.0 dBm\n"
          ]
        },
        {
          "name": "stderr",
          "output_type": "stream",
          "text": [
            "100%|██████████| 9/9 [01:21<00:00,  9.04s/it]\n"
          ]
        },
        {
          "name": "stdout",
          "output_type": "stream",
          "text": [
            "f_clearing: 14.000000 GHz, P_clearing: 14.000000 dBm\n",
            "Clearing tone set to 14.000000 GHz with power 14.0 dBm\n"
          ]
        },
        {
          "name": "stderr",
          "output_type": "stream",
          "text": [
            "100%|██████████| 9/9 [01:21<00:00,  9.05s/it]\n"
          ]
        },
        {
          "name": "stdout",
          "output_type": "stream",
          "text": [
            "f_clearing: 14.000000 GHz, P_clearing: 17.000000 dBm\n",
            "Clearing tone set to 14.000000 GHz with power 17.0 dBm\n"
          ]
        },
        {
          "name": "stderr",
          "output_type": "stream",
          "text": [
            "100%|██████████| 9/9 [01:21<00:00,  9.03s/it]\n"
          ]
        },
        {
          "name": "stdout",
          "output_type": "stream",
          "text": [
            "f_clearing: 17.000000 GHz, P_clearing: -10.000000 dBm\n",
            "Clearing tone set to 17.000000 GHz with power -10.0 dBm\n"
          ]
        },
        {
          "name": "stderr",
          "output_type": "stream",
          "text": [
            "100%|██████████| 9/9 [01:21<00:00,  9.06s/it]\n"
          ]
        },
        {
          "name": "stdout",
          "output_type": "stream",
          "text": [
            "f_clearing: 17.000000 GHz, P_clearing: -7.000000 dBm\n",
            "Clearing tone set to 17.000000 GHz with power -7.0 dBm\n"
          ]
        },
        {
          "name": "stderr",
          "output_type": "stream",
          "text": [
            "100%|██████████| 9/9 [01:21<00:00,  9.03s/it]\n"
          ]
        },
        {
          "name": "stdout",
          "output_type": "stream",
          "text": [
            "f_clearing: 17.000000 GHz, P_clearing: -4.000000 dBm\n",
            "Clearing tone set to 17.000000 GHz with power -4.0 dBm\n"
          ]
        },
        {
          "name": "stderr",
          "output_type": "stream",
          "text": [
            "100%|██████████| 9/9 [01:21<00:00,  9.04s/it]\n"
          ]
        },
        {
          "name": "stdout",
          "output_type": "stream",
          "text": [
            "f_clearing: 17.000000 GHz, P_clearing: -1.000000 dBm\n",
            "Clearing tone set to 17.000000 GHz with power -1.0 dBm\n"
          ]
        },
        {
          "name": "stderr",
          "output_type": "stream",
          "text": [
            "100%|██████████| 9/9 [01:21<00:00,  9.04s/it]\n"
          ]
        },
        {
          "name": "stdout",
          "output_type": "stream",
          "text": [
            "f_clearing: 17.000000 GHz, P_clearing: 2.000000 dBm\n",
            "Clearing tone set to 17.000000 GHz with power 2.0 dBm\n"
          ]
        },
        {
          "name": "stderr",
          "output_type": "stream",
          "text": [
            "100%|██████████| 9/9 [01:21<00:00,  9.05s/it]\n"
          ]
        },
        {
          "name": "stdout",
          "output_type": "stream",
          "text": [
            "f_clearing: 17.000000 GHz, P_clearing: 5.000000 dBm\n",
            "Clearing tone set to 17.000000 GHz with power 5.0 dBm\n"
          ]
        },
        {
          "name": "stderr",
          "output_type": "stream",
          "text": [
            "100%|██████████| 9/9 [01:21<00:00,  9.04s/it]\n"
          ]
        },
        {
          "name": "stdout",
          "output_type": "stream",
          "text": [
            "f_clearing: 17.000000 GHz, P_clearing: 8.000000 dBm\n",
            "Clearing tone set to 17.000000 GHz with power 8.0 dBm\n"
          ]
        },
        {
          "name": "stderr",
          "output_type": "stream",
          "text": [
            "100%|██████████| 9/9 [01:21<00:00,  9.03s/it]\n"
          ]
        },
        {
          "name": "stdout",
          "output_type": "stream",
          "text": [
            "f_clearing: 17.000000 GHz, P_clearing: 11.000000 dBm\n",
            "Clearing tone set to 17.000000 GHz with power 11.0 dBm\n"
          ]
        },
        {
          "name": "stderr",
          "output_type": "stream",
          "text": [
            "100%|██████████| 9/9 [01:21<00:00,  9.04s/it]\n"
          ]
        },
        {
          "name": "stdout",
          "output_type": "stream",
          "text": [
            "f_clearing: 17.000000 GHz, P_clearing: 14.000000 dBm\n",
            "Clearing tone set to 17.000000 GHz with power 14.0 dBm\n"
          ]
        },
        {
          "name": "stderr",
          "output_type": "stream",
          "text": [
            "100%|██████████| 9/9 [01:21<00:00,  9.04s/it]\n"
          ]
        },
        {
          "name": "stdout",
          "output_type": "stream",
          "text": [
            "f_clearing: 17.000000 GHz, P_clearing: 17.000000 dBm\n",
            "Clearing tone set to 17.000000 GHz with power 17.0 dBm\n"
          ]
        },
        {
          "name": "stderr",
          "output_type": "stream",
          "text": [
            "100%|██████████| 9/9 [01:21<00:00,  9.04s/it]\n"
          ]
        },
        {
          "name": "stdout",
          "output_type": "stream",
          "text": [
            "Finished loop for phi = 0.344 in 12455.46 seconds\n",
            "\n",
            "\n",
            "Estimated remaining time: 29062.74 seconds\n",
            "==================================================\n",
            "phi: 0.366667, voltage: -0.020494 V\n",
            "Setting FFL bias to -20.49444444444444 mV from -19.3 mV\n",
            "f_guess: 5.752812867212123 GHz from the fitted Flux Curve\n",
            "LO tone set to 5.755175 GHz\n",
            "f_phi: 5.755675 GHz, f_drive: 5.755175 GHz\n",
            "f_clearing: 5.000000 GHz, P_clearing: -10.000000 dBm\n",
            "Clearing tone set to 5.000000 GHz with power -10.0 dBm\n"
          ]
        },
        {
          "name": "stderr",
          "output_type": "stream",
          "text": [
            "100%|██████████| 9/9 [01:21<00:00,  9.06s/it]\n"
          ]
        },
        {
          "name": "stdout",
          "output_type": "stream",
          "text": [
            "f_clearing: 5.000000 GHz, P_clearing: -7.000000 dBm\n",
            "Clearing tone set to 5.000000 GHz with power -7.0 dBm\n"
          ]
        },
        {
          "name": "stderr",
          "output_type": "stream",
          "text": [
            "100%|██████████| 9/9 [01:21<00:00,  9.04s/it]\n"
          ]
        },
        {
          "name": "stdout",
          "output_type": "stream",
          "text": [
            "f_clearing: 5.000000 GHz, P_clearing: -4.000000 dBm\n",
            "Clearing tone set to 5.000000 GHz with power -4.0 dBm\n"
          ]
        },
        {
          "name": "stderr",
          "output_type": "stream",
          "text": [
            "100%|██████████| 9/9 [01:21<00:00,  9.05s/it]\n"
          ]
        },
        {
          "name": "stdout",
          "output_type": "stream",
          "text": [
            "f_clearing: 5.000000 GHz, P_clearing: -1.000000 dBm\n",
            "Clearing tone set to 5.000000 GHz with power -1.0 dBm\n"
          ]
        },
        {
          "name": "stderr",
          "output_type": "stream",
          "text": [
            "100%|██████████| 9/9 [01:21<00:00,  9.05s/it]\n"
          ]
        },
        {
          "name": "stdout",
          "output_type": "stream",
          "text": [
            "f_clearing: 5.000000 GHz, P_clearing: 2.000000 dBm\n",
            "Clearing tone set to 5.000000 GHz with power 2.0 dBm\n"
          ]
        },
        {
          "name": "stderr",
          "output_type": "stream",
          "text": [
            "100%|██████████| 9/9 [01:21<00:00,  9.03s/it]\n"
          ]
        },
        {
          "name": "stdout",
          "output_type": "stream",
          "text": [
            "f_clearing: 5.000000 GHz, P_clearing: 5.000000 dBm\n",
            "Clearing tone set to 5.000000 GHz with power 5.0 dBm\n"
          ]
        },
        {
          "name": "stderr",
          "output_type": "stream",
          "text": [
            "100%|██████████| 9/9 [01:21<00:00,  9.05s/it]\n"
          ]
        },
        {
          "name": "stdout",
          "output_type": "stream",
          "text": [
            "f_clearing: 5.000000 GHz, P_clearing: 8.000000 dBm\n",
            "Clearing tone set to 5.000000 GHz with power 8.0 dBm\n"
          ]
        },
        {
          "name": "stderr",
          "output_type": "stream",
          "text": [
            "100%|██████████| 9/9 [01:21<00:00,  9.04s/it]\n"
          ]
        },
        {
          "name": "stdout",
          "output_type": "stream",
          "text": [
            "f_clearing: 5.000000 GHz, P_clearing: 11.000000 dBm\n",
            "Clearing tone set to 5.000000 GHz with power 11.0 dBm\n"
          ]
        },
        {
          "name": "stderr",
          "output_type": "stream",
          "text": [
            "100%|██████████| 9/9 [01:21<00:00,  9.04s/it]\n"
          ]
        },
        {
          "name": "stdout",
          "output_type": "stream",
          "text": [
            "f_clearing: 5.000000 GHz, P_clearing: 14.000000 dBm\n",
            "Clearing tone set to 5.000000 GHz with power 14.0 dBm\n"
          ]
        },
        {
          "name": "stderr",
          "output_type": "stream",
          "text": [
            "100%|██████████| 9/9 [01:21<00:00,  9.04s/it]\n"
          ]
        },
        {
          "name": "stdout",
          "output_type": "stream",
          "text": [
            "f_clearing: 5.000000 GHz, P_clearing: 17.000000 dBm\n",
            "Clearing tone set to 5.000000 GHz with power 17.0 dBm\n"
          ]
        },
        {
          "name": "stderr",
          "output_type": "stream",
          "text": [
            "100%|██████████| 9/9 [01:21<00:00,  9.04s/it]\n"
          ]
        },
        {
          "name": "stdout",
          "output_type": "stream",
          "text": [
            "f_clearing: 8.000000 GHz, P_clearing: -10.000000 dBm\n",
            "Clearing tone set to 8.000000 GHz with power -10.0 dBm\n"
          ]
        },
        {
          "name": "stderr",
          "output_type": "stream",
          "text": [
            "100%|██████████| 9/9 [01:21<00:00,  9.03s/it]\n"
          ]
        },
        {
          "name": "stdout",
          "output_type": "stream",
          "text": [
            "f_clearing: 8.000000 GHz, P_clearing: -7.000000 dBm\n",
            "Clearing tone set to 8.000000 GHz with power -7.0 dBm\n"
          ]
        },
        {
          "name": "stderr",
          "output_type": "stream",
          "text": [
            "100%|██████████| 9/9 [01:21<00:00,  9.05s/it]\n"
          ]
        },
        {
          "name": "stdout",
          "output_type": "stream",
          "text": [
            "f_clearing: 8.000000 GHz, P_clearing: -4.000000 dBm\n",
            "Clearing tone set to 8.000000 GHz with power -4.0 dBm\n"
          ]
        },
        {
          "name": "stderr",
          "output_type": "stream",
          "text": [
            "100%|██████████| 9/9 [01:21<00:00,  9.05s/it]\n"
          ]
        },
        {
          "name": "stdout",
          "output_type": "stream",
          "text": [
            "f_clearing: 8.000000 GHz, P_clearing: -1.000000 dBm\n",
            "Clearing tone set to 8.000000 GHz with power -1.0 dBm\n"
          ]
        },
        {
          "name": "stderr",
          "output_type": "stream",
          "text": [
            "100%|██████████| 9/9 [01:21<00:00,  9.05s/it]\n"
          ]
        },
        {
          "name": "stdout",
          "output_type": "stream",
          "text": [
            "f_clearing: 8.000000 GHz, P_clearing: 2.000000 dBm\n",
            "Clearing tone set to 8.000000 GHz with power 2.0 dBm\n"
          ]
        },
        {
          "name": "stderr",
          "output_type": "stream",
          "text": [
            "100%|██████████| 9/9 [01:21<00:00,  9.04s/it]\n"
          ]
        },
        {
          "name": "stdout",
          "output_type": "stream",
          "text": [
            "f_clearing: 8.000000 GHz, P_clearing: 5.000000 dBm\n",
            "Clearing tone set to 8.000000 GHz with power 5.0 dBm\n"
          ]
        },
        {
          "name": "stderr",
          "output_type": "stream",
          "text": [
            "100%|██████████| 9/9 [01:21<00:00,  9.03s/it]\n"
          ]
        },
        {
          "name": "stdout",
          "output_type": "stream",
          "text": [
            "f_clearing: 8.000000 GHz, P_clearing: 8.000000 dBm\n",
            "Clearing tone set to 8.000000 GHz with power 8.0 dBm\n"
          ]
        },
        {
          "name": "stderr",
          "output_type": "stream",
          "text": [
            "100%|██████████| 9/9 [01:21<00:00,  9.03s/it]\n"
          ]
        },
        {
          "name": "stdout",
          "output_type": "stream",
          "text": [
            "f_clearing: 8.000000 GHz, P_clearing: 11.000000 dBm\n",
            "Clearing tone set to 8.000000 GHz with power 11.0 dBm\n"
          ]
        },
        {
          "name": "stderr",
          "output_type": "stream",
          "text": [
            "100%|██████████| 9/9 [01:21<00:00,  9.04s/it]\n"
          ]
        },
        {
          "name": "stdout",
          "output_type": "stream",
          "text": [
            "f_clearing: 8.000000 GHz, P_clearing: 14.000000 dBm\n",
            "Clearing tone set to 8.000000 GHz with power 14.0 dBm\n"
          ]
        },
        {
          "name": "stderr",
          "output_type": "stream",
          "text": [
            "100%|██████████| 9/9 [01:21<00:00,  9.04s/it]\n"
          ]
        },
        {
          "name": "stdout",
          "output_type": "stream",
          "text": [
            "f_clearing: 8.000000 GHz, P_clearing: 17.000000 dBm\n",
            "Clearing tone set to 8.000000 GHz with power 17.0 dBm\n"
          ]
        },
        {
          "name": "stderr",
          "output_type": "stream",
          "text": [
            "100%|██████████| 9/9 [01:21<00:00,  9.04s/it]\n"
          ]
        },
        {
          "name": "stdout",
          "output_type": "stream",
          "text": [
            "f_clearing: 11.000000 GHz, P_clearing: -10.000000 dBm\n",
            "Clearing tone set to 11.000000 GHz with power -10.0 dBm\n"
          ]
        },
        {
          "name": "stderr",
          "output_type": "stream",
          "text": [
            "100%|██████████| 9/9 [01:21<00:00,  9.04s/it]\n"
          ]
        },
        {
          "name": "stdout",
          "output_type": "stream",
          "text": [
            "f_clearing: 11.000000 GHz, P_clearing: -7.000000 dBm\n",
            "Clearing tone set to 11.000000 GHz with power -7.0 dBm\n"
          ]
        },
        {
          "name": "stderr",
          "output_type": "stream",
          "text": [
            "100%|██████████| 9/9 [01:21<00:00,  9.04s/it]\n"
          ]
        },
        {
          "name": "stdout",
          "output_type": "stream",
          "text": [
            "f_clearing: 11.000000 GHz, P_clearing: -4.000000 dBm\n",
            "Clearing tone set to 11.000000 GHz with power -4.0 dBm\n"
          ]
        },
        {
          "name": "stderr",
          "output_type": "stream",
          "text": [
            "100%|██████████| 9/9 [01:21<00:00,  9.04s/it]\n"
          ]
        },
        {
          "name": "stdout",
          "output_type": "stream",
          "text": [
            "f_clearing: 11.000000 GHz, P_clearing: -1.000000 dBm\n",
            "Clearing tone set to 11.000000 GHz with power -1.0 dBm\n"
          ]
        },
        {
          "name": "stderr",
          "output_type": "stream",
          "text": [
            "100%|██████████| 9/9 [01:21<00:00,  9.05s/it]\n"
          ]
        },
        {
          "name": "stdout",
          "output_type": "stream",
          "text": [
            "f_clearing: 11.000000 GHz, P_clearing: 2.000000 dBm\n",
            "Clearing tone set to 11.000000 GHz with power 2.0 dBm\n"
          ]
        },
        {
          "name": "stderr",
          "output_type": "stream",
          "text": [
            "100%|██████████| 9/9 [01:21<00:00,  9.04s/it]\n"
          ]
        },
        {
          "name": "stdout",
          "output_type": "stream",
          "text": [
            "f_clearing: 11.000000 GHz, P_clearing: 5.000000 dBm\n",
            "Clearing tone set to 11.000000 GHz with power 5.0 dBm\n"
          ]
        },
        {
          "name": "stderr",
          "output_type": "stream",
          "text": [
            "100%|██████████| 9/9 [01:21<00:00,  9.05s/it]\n"
          ]
        },
        {
          "name": "stdout",
          "output_type": "stream",
          "text": [
            "f_clearing: 11.000000 GHz, P_clearing: 8.000000 dBm\n",
            "Clearing tone set to 11.000000 GHz with power 8.0 dBm\n"
          ]
        },
        {
          "name": "stderr",
          "output_type": "stream",
          "text": [
            "100%|██████████| 9/9 [01:21<00:00,  9.04s/it]\n"
          ]
        },
        {
          "name": "stdout",
          "output_type": "stream",
          "text": [
            "f_clearing: 11.000000 GHz, P_clearing: 11.000000 dBm\n",
            "Clearing tone set to 11.000000 GHz with power 11.0 dBm\n"
          ]
        },
        {
          "name": "stderr",
          "output_type": "stream",
          "text": [
            "100%|██████████| 9/9 [01:21<00:00,  9.04s/it]\n"
          ]
        },
        {
          "name": "stdout",
          "output_type": "stream",
          "text": [
            "f_clearing: 11.000000 GHz, P_clearing: 14.000000 dBm\n",
            "Clearing tone set to 11.000000 GHz with power 14.0 dBm\n"
          ]
        },
        {
          "name": "stderr",
          "output_type": "stream",
          "text": [
            "100%|██████████| 9/9 [01:21<00:00,  9.03s/it]\n"
          ]
        },
        {
          "name": "stdout",
          "output_type": "stream",
          "text": [
            "f_clearing: 11.000000 GHz, P_clearing: 17.000000 dBm\n",
            "Clearing tone set to 11.000000 GHz with power 17.0 dBm\n"
          ]
        },
        {
          "name": "stderr",
          "output_type": "stream",
          "text": [
            "100%|██████████| 9/9 [01:21<00:00,  9.03s/it]\n"
          ]
        },
        {
          "name": "stdout",
          "output_type": "stream",
          "text": [
            "f_clearing: 14.000000 GHz, P_clearing: -10.000000 dBm\n",
            "Clearing tone set to 14.000000 GHz with power -10.0 dBm\n"
          ]
        },
        {
          "name": "stderr",
          "output_type": "stream",
          "text": [
            "100%|██████████| 9/9 [01:21<00:00,  9.04s/it]\n"
          ]
        },
        {
          "name": "stdout",
          "output_type": "stream",
          "text": [
            "f_clearing: 14.000000 GHz, P_clearing: -7.000000 dBm\n",
            "Clearing tone set to 14.000000 GHz with power -7.0 dBm\n"
          ]
        },
        {
          "name": "stderr",
          "output_type": "stream",
          "text": [
            "100%|██████████| 9/9 [01:21<00:00,  9.04s/it]\n"
          ]
        },
        {
          "name": "stdout",
          "output_type": "stream",
          "text": [
            "f_clearing: 14.000000 GHz, P_clearing: -4.000000 dBm\n",
            "Clearing tone set to 14.000000 GHz with power -4.0 dBm\n"
          ]
        },
        {
          "name": "stderr",
          "output_type": "stream",
          "text": [
            "100%|██████████| 9/9 [01:21<00:00,  9.04s/it]\n"
          ]
        },
        {
          "name": "stdout",
          "output_type": "stream",
          "text": [
            "f_clearing: 14.000000 GHz, P_clearing: -1.000000 dBm\n",
            "Clearing tone set to 14.000000 GHz with power -1.0 dBm\n"
          ]
        },
        {
          "name": "stderr",
          "output_type": "stream",
          "text": [
            "100%|██████████| 9/9 [01:21<00:00,  9.04s/it]\n"
          ]
        },
        {
          "name": "stdout",
          "output_type": "stream",
          "text": [
            "f_clearing: 14.000000 GHz, P_clearing: 2.000000 dBm\n",
            "Clearing tone set to 14.000000 GHz with power 2.0 dBm\n"
          ]
        },
        {
          "name": "stderr",
          "output_type": "stream",
          "text": [
            "100%|██████████| 9/9 [01:21<00:00,  9.05s/it]\n"
          ]
        },
        {
          "name": "stdout",
          "output_type": "stream",
          "text": [
            "f_clearing: 14.000000 GHz, P_clearing: 5.000000 dBm\n",
            "Clearing tone set to 14.000000 GHz with power 5.0 dBm\n"
          ]
        },
        {
          "name": "stderr",
          "output_type": "stream",
          "text": [
            "100%|██████████| 9/9 [01:21<00:00,  9.05s/it]\n"
          ]
        },
        {
          "name": "stdout",
          "output_type": "stream",
          "text": [
            "f_clearing: 14.000000 GHz, P_clearing: 8.000000 dBm\n",
            "Clearing tone set to 14.000000 GHz with power 8.0 dBm\n"
          ]
        },
        {
          "name": "stderr",
          "output_type": "stream",
          "text": [
            "100%|██████████| 9/9 [01:21<00:00,  9.05s/it]\n"
          ]
        },
        {
          "name": "stdout",
          "output_type": "stream",
          "text": [
            "f_clearing: 14.000000 GHz, P_clearing: 11.000000 dBm\n",
            "Clearing tone set to 14.000000 GHz with power 11.0 dBm\n"
          ]
        },
        {
          "name": "stderr",
          "output_type": "stream",
          "text": [
            "100%|██████████| 9/9 [01:21<00:00,  9.04s/it]\n"
          ]
        },
        {
          "name": "stdout",
          "output_type": "stream",
          "text": [
            "f_clearing: 14.000000 GHz, P_clearing: 14.000000 dBm\n",
            "Clearing tone set to 14.000000 GHz with power 14.0 dBm\n"
          ]
        },
        {
          "name": "stderr",
          "output_type": "stream",
          "text": [
            "100%|██████████| 9/9 [01:21<00:00,  9.04s/it]\n"
          ]
        },
        {
          "name": "stdout",
          "output_type": "stream",
          "text": [
            "f_clearing: 14.000000 GHz, P_clearing: 17.000000 dBm\n",
            "Clearing tone set to 14.000000 GHz with power 17.0 dBm\n"
          ]
        },
        {
          "name": "stderr",
          "output_type": "stream",
          "text": [
            "100%|██████████| 9/9 [01:21<00:00,  9.04s/it]\n"
          ]
        },
        {
          "name": "stdout",
          "output_type": "stream",
          "text": [
            "f_clearing: 17.000000 GHz, P_clearing: -10.000000 dBm\n",
            "Clearing tone set to 17.000000 GHz with power -10.0 dBm\n"
          ]
        },
        {
          "name": "stderr",
          "output_type": "stream",
          "text": [
            "100%|██████████| 9/9 [01:21<00:00,  9.04s/it]\n"
          ]
        },
        {
          "name": "stdout",
          "output_type": "stream",
          "text": [
            "f_clearing: 17.000000 GHz, P_clearing: -7.000000 dBm\n",
            "Clearing tone set to 17.000000 GHz with power -7.0 dBm\n"
          ]
        },
        {
          "name": "stderr",
          "output_type": "stream",
          "text": [
            "100%|██████████| 9/9 [01:21<00:00,  9.04s/it]\n"
          ]
        },
        {
          "name": "stdout",
          "output_type": "stream",
          "text": [
            "f_clearing: 17.000000 GHz, P_clearing: -4.000000 dBm\n",
            "Clearing tone set to 17.000000 GHz with power -4.0 dBm\n"
          ]
        },
        {
          "name": "stderr",
          "output_type": "stream",
          "text": [
            "100%|██████████| 9/9 [01:21<00:00,  9.04s/it]\n"
          ]
        },
        {
          "name": "stdout",
          "output_type": "stream",
          "text": [
            "f_clearing: 17.000000 GHz, P_clearing: -1.000000 dBm\n",
            "Clearing tone set to 17.000000 GHz with power -1.0 dBm\n"
          ]
        },
        {
          "name": "stderr",
          "output_type": "stream",
          "text": [
            "100%|██████████| 9/9 [01:21<00:00,  9.04s/it]\n"
          ]
        },
        {
          "name": "stdout",
          "output_type": "stream",
          "text": [
            "f_clearing: 17.000000 GHz, P_clearing: 2.000000 dBm\n",
            "Clearing tone set to 17.000000 GHz with power 2.0 dBm\n"
          ]
        },
        {
          "name": "stderr",
          "output_type": "stream",
          "text": [
            "100%|██████████| 9/9 [01:21<00:00,  9.04s/it]\n"
          ]
        },
        {
          "name": "stdout",
          "output_type": "stream",
          "text": [
            "f_clearing: 17.000000 GHz, P_clearing: 5.000000 dBm\n",
            "Clearing tone set to 17.000000 GHz with power 5.0 dBm\n"
          ]
        },
        {
          "name": "stderr",
          "output_type": "stream",
          "text": [
            "100%|██████████| 9/9 [01:21<00:00,  9.03s/it]\n"
          ]
        },
        {
          "name": "stdout",
          "output_type": "stream",
          "text": [
            "f_clearing: 17.000000 GHz, P_clearing: 8.000000 dBm\n",
            "Clearing tone set to 17.000000 GHz with power 8.0 dBm\n"
          ]
        },
        {
          "name": "stderr",
          "output_type": "stream",
          "text": [
            "100%|██████████| 9/9 [01:21<00:00,  9.04s/it]\n"
          ]
        },
        {
          "name": "stdout",
          "output_type": "stream",
          "text": [
            "f_clearing: 17.000000 GHz, P_clearing: 11.000000 dBm\n",
            "Clearing tone set to 17.000000 GHz with power 11.0 dBm\n"
          ]
        },
        {
          "name": "stderr",
          "output_type": "stream",
          "text": [
            "100%|██████████| 9/9 [01:21<00:00,  9.05s/it]\n"
          ]
        },
        {
          "name": "stdout",
          "output_type": "stream",
          "text": [
            "f_clearing: 17.000000 GHz, P_clearing: 14.000000 dBm\n",
            "Clearing tone set to 17.000000 GHz with power 14.0 dBm\n"
          ]
        },
        {
          "name": "stderr",
          "output_type": "stream",
          "text": [
            "100%|██████████| 9/9 [01:21<00:00,  9.03s/it]\n"
          ]
        },
        {
          "name": "stdout",
          "output_type": "stream",
          "text": [
            "f_clearing: 17.000000 GHz, P_clearing: 17.000000 dBm\n",
            "Clearing tone set to 17.000000 GHz with power 17.0 dBm\n"
          ]
        },
        {
          "name": "stderr",
          "output_type": "stream",
          "text": [
            "100%|██████████| 9/9 [01:21<00:00,  9.05s/it]\n"
          ]
        },
        {
          "name": "stdout",
          "output_type": "stream",
          "text": [
            "Finished loop for phi = 0.367 in 16591.72 seconds\n",
            "\n",
            "\n",
            "Estimated remaining time: 24887.58 seconds\n",
            "==================================================\n",
            "phi: 0.388889, voltage: -0.021676 V\n",
            "Setting FFL bias to -21.67592592592592 mV from -20.5 mV\n",
            "f_guess: 5.7470589609972365 GHz from the fitted Flux Curve\n",
            "LO tone set to 5.749834 GHz\n",
            "f_phi: 5.750334 GHz, f_drive: 5.749834 GHz\n",
            "f_clearing: 5.000000 GHz, P_clearing: -10.000000 dBm\n",
            "Clearing tone set to 5.000000 GHz with power -10.0 dBm\n"
          ]
        },
        {
          "name": "stderr",
          "output_type": "stream",
          "text": [
            "100%|██████████| 9/9 [01:21<00:00,  9.03s/it]\n"
          ]
        },
        {
          "name": "stdout",
          "output_type": "stream",
          "text": [
            "f_clearing: 5.000000 GHz, P_clearing: -7.000000 dBm\n",
            "Clearing tone set to 5.000000 GHz with power -7.0 dBm\n"
          ]
        },
        {
          "name": "stderr",
          "output_type": "stream",
          "text": [
            "100%|██████████| 9/9 [01:21<00:00,  9.04s/it]\n"
          ]
        },
        {
          "name": "stdout",
          "output_type": "stream",
          "text": [
            "f_clearing: 5.000000 GHz, P_clearing: -4.000000 dBm\n",
            "Clearing tone set to 5.000000 GHz with power -4.0 dBm\n"
          ]
        },
        {
          "name": "stderr",
          "output_type": "stream",
          "text": [
            "100%|██████████| 9/9 [01:21<00:00,  9.04s/it]\n"
          ]
        },
        {
          "name": "stdout",
          "output_type": "stream",
          "text": [
            "f_clearing: 5.000000 GHz, P_clearing: -1.000000 dBm\n",
            "Clearing tone set to 5.000000 GHz with power -1.0 dBm\n"
          ]
        },
        {
          "name": "stderr",
          "output_type": "stream",
          "text": [
            "100%|██████████| 9/9 [01:21<00:00,  9.03s/it]\n"
          ]
        },
        {
          "name": "stdout",
          "output_type": "stream",
          "text": [
            "f_clearing: 5.000000 GHz, P_clearing: 2.000000 dBm\n",
            "Clearing tone set to 5.000000 GHz with power 2.0 dBm\n"
          ]
        },
        {
          "name": "stderr",
          "output_type": "stream",
          "text": [
            "100%|██████████| 9/9 [01:21<00:00,  9.04s/it]\n"
          ]
        },
        {
          "name": "stdout",
          "output_type": "stream",
          "text": [
            "f_clearing: 5.000000 GHz, P_clearing: 5.000000 dBm\n",
            "Clearing tone set to 5.000000 GHz with power 5.0 dBm\n"
          ]
        },
        {
          "name": "stderr",
          "output_type": "stream",
          "text": [
            "100%|██████████| 9/9 [01:21<00:00,  9.04s/it]\n"
          ]
        },
        {
          "name": "stdout",
          "output_type": "stream",
          "text": [
            "f_clearing: 5.000000 GHz, P_clearing: 8.000000 dBm\n",
            "Clearing tone set to 5.000000 GHz with power 8.0 dBm\n"
          ]
        },
        {
          "name": "stderr",
          "output_type": "stream",
          "text": [
            "100%|██████████| 9/9 [01:21<00:00,  9.05s/it]\n"
          ]
        },
        {
          "name": "stdout",
          "output_type": "stream",
          "text": [
            "f_clearing: 5.000000 GHz, P_clearing: 11.000000 dBm\n",
            "Clearing tone set to 5.000000 GHz with power 11.0 dBm\n"
          ]
        },
        {
          "name": "stderr",
          "output_type": "stream",
          "text": [
            "100%|██████████| 9/9 [01:21<00:00,  9.05s/it]\n"
          ]
        },
        {
          "name": "stdout",
          "output_type": "stream",
          "text": [
            "f_clearing: 5.000000 GHz, P_clearing: 14.000000 dBm\n",
            "Clearing tone set to 5.000000 GHz with power 14.0 dBm\n"
          ]
        },
        {
          "name": "stderr",
          "output_type": "stream",
          "text": [
            "100%|██████████| 9/9 [01:21<00:00,  9.04s/it]\n"
          ]
        },
        {
          "name": "stdout",
          "output_type": "stream",
          "text": [
            "f_clearing: 5.000000 GHz, P_clearing: 17.000000 dBm\n",
            "Clearing tone set to 5.000000 GHz with power 17.0 dBm\n"
          ]
        },
        {
          "name": "stderr",
          "output_type": "stream",
          "text": [
            "100%|██████████| 9/9 [01:21<00:00,  9.04s/it]\n"
          ]
        },
        {
          "name": "stdout",
          "output_type": "stream",
          "text": [
            "f_clearing: 8.000000 GHz, P_clearing: -10.000000 dBm\n",
            "Clearing tone set to 8.000000 GHz with power -10.0 dBm\n"
          ]
        },
        {
          "name": "stderr",
          "output_type": "stream",
          "text": [
            "100%|██████████| 9/9 [01:21<00:00,  9.05s/it]\n"
          ]
        },
        {
          "name": "stdout",
          "output_type": "stream",
          "text": [
            "f_clearing: 8.000000 GHz, P_clearing: -7.000000 dBm\n",
            "Clearing tone set to 8.000000 GHz with power -7.0 dBm\n"
          ]
        },
        {
          "name": "stderr",
          "output_type": "stream",
          "text": [
            "100%|██████████| 9/9 [01:21<00:00,  9.03s/it]\n"
          ]
        },
        {
          "name": "stdout",
          "output_type": "stream",
          "text": [
            "f_clearing: 8.000000 GHz, P_clearing: -4.000000 dBm\n",
            "Clearing tone set to 8.000000 GHz with power -4.0 dBm\n"
          ]
        },
        {
          "name": "stderr",
          "output_type": "stream",
          "text": [
            "100%|██████████| 9/9 [01:21<00:00,  9.04s/it]\n"
          ]
        },
        {
          "name": "stdout",
          "output_type": "stream",
          "text": [
            "f_clearing: 8.000000 GHz, P_clearing: -1.000000 dBm\n",
            "Clearing tone set to 8.000000 GHz with power -1.0 dBm\n"
          ]
        },
        {
          "name": "stderr",
          "output_type": "stream",
          "text": [
            "100%|██████████| 9/9 [01:21<00:00,  9.04s/it]\n"
          ]
        },
        {
          "name": "stdout",
          "output_type": "stream",
          "text": [
            "f_clearing: 8.000000 GHz, P_clearing: 2.000000 dBm\n",
            "Clearing tone set to 8.000000 GHz with power 2.0 dBm\n"
          ]
        },
        {
          "name": "stderr",
          "output_type": "stream",
          "text": [
            "100%|██████████| 9/9 [01:21<00:00,  9.05s/it]\n"
          ]
        },
        {
          "name": "stdout",
          "output_type": "stream",
          "text": [
            "f_clearing: 8.000000 GHz, P_clearing: 5.000000 dBm\n",
            "Clearing tone set to 8.000000 GHz with power 5.0 dBm\n"
          ]
        },
        {
          "name": "stderr",
          "output_type": "stream",
          "text": [
            "100%|██████████| 9/9 [01:21<00:00,  9.04s/it]\n"
          ]
        },
        {
          "name": "stdout",
          "output_type": "stream",
          "text": [
            "f_clearing: 8.000000 GHz, P_clearing: 8.000000 dBm\n",
            "Clearing tone set to 8.000000 GHz with power 8.0 dBm\n"
          ]
        },
        {
          "name": "stderr",
          "output_type": "stream",
          "text": [
            "100%|██████████| 9/9 [01:21<00:00,  9.04s/it]\n"
          ]
        },
        {
          "name": "stdout",
          "output_type": "stream",
          "text": [
            "f_clearing: 8.000000 GHz, P_clearing: 11.000000 dBm\n",
            "Clearing tone set to 8.000000 GHz with power 11.0 dBm\n"
          ]
        },
        {
          "name": "stderr",
          "output_type": "stream",
          "text": [
            "100%|██████████| 9/9 [01:21<00:00,  9.03s/it]\n"
          ]
        },
        {
          "name": "stdout",
          "output_type": "stream",
          "text": [
            "f_clearing: 8.000000 GHz, P_clearing: 14.000000 dBm\n",
            "Clearing tone set to 8.000000 GHz with power 14.0 dBm\n"
          ]
        },
        {
          "name": "stderr",
          "output_type": "stream",
          "text": [
            "100%|██████████| 9/9 [01:21<00:00,  9.03s/it]\n"
          ]
        },
        {
          "name": "stdout",
          "output_type": "stream",
          "text": [
            "f_clearing: 8.000000 GHz, P_clearing: 17.000000 dBm\n",
            "Clearing tone set to 8.000000 GHz with power 17.0 dBm\n"
          ]
        },
        {
          "name": "stderr",
          "output_type": "stream",
          "text": [
            "100%|██████████| 9/9 [01:21<00:00,  9.04s/it]\n"
          ]
        },
        {
          "name": "stdout",
          "output_type": "stream",
          "text": [
            "f_clearing: 11.000000 GHz, P_clearing: -10.000000 dBm\n",
            "Clearing tone set to 11.000000 GHz with power -10.0 dBm\n"
          ]
        },
        {
          "name": "stderr",
          "output_type": "stream",
          "text": [
            "100%|██████████| 9/9 [01:21<00:00,  9.04s/it]\n"
          ]
        },
        {
          "name": "stdout",
          "output_type": "stream",
          "text": [
            "f_clearing: 11.000000 GHz, P_clearing: -7.000000 dBm\n",
            "Clearing tone set to 11.000000 GHz with power -7.0 dBm\n"
          ]
        },
        {
          "name": "stderr",
          "output_type": "stream",
          "text": [
            "100%|██████████| 9/9 [01:21<00:00,  9.10s/it]\n"
          ]
        },
        {
          "name": "stdout",
          "output_type": "stream",
          "text": [
            "f_clearing: 11.000000 GHz, P_clearing: -4.000000 dBm\n",
            "Clearing tone set to 11.000000 GHz with power -4.0 dBm\n"
          ]
        },
        {
          "name": "stderr",
          "output_type": "stream",
          "text": [
            "100%|██████████| 9/9 [01:21<00:00,  9.05s/it]\n"
          ]
        },
        {
          "name": "stdout",
          "output_type": "stream",
          "text": [
            "f_clearing: 11.000000 GHz, P_clearing: -1.000000 dBm\n",
            "Clearing tone set to 11.000000 GHz with power -1.0 dBm\n"
          ]
        },
        {
          "name": "stderr",
          "output_type": "stream",
          "text": [
            "100%|██████████| 9/9 [01:21<00:00,  9.05s/it]\n"
          ]
        },
        {
          "name": "stdout",
          "output_type": "stream",
          "text": [
            "f_clearing: 11.000000 GHz, P_clearing: 2.000000 dBm\n",
            "Clearing tone set to 11.000000 GHz with power 2.0 dBm\n"
          ]
        },
        {
          "name": "stderr",
          "output_type": "stream",
          "text": [
            "100%|██████████| 9/9 [01:21<00:00,  9.05s/it]\n"
          ]
        },
        {
          "name": "stdout",
          "output_type": "stream",
          "text": [
            "f_clearing: 11.000000 GHz, P_clearing: 5.000000 dBm\n",
            "Clearing tone set to 11.000000 GHz with power 5.0 dBm\n"
          ]
        },
        {
          "name": "stderr",
          "output_type": "stream",
          "text": [
            "100%|██████████| 9/9 [01:21<00:00,  9.04s/it]\n"
          ]
        },
        {
          "name": "stdout",
          "output_type": "stream",
          "text": [
            "f_clearing: 11.000000 GHz, P_clearing: 8.000000 dBm\n",
            "Clearing tone set to 11.000000 GHz with power 8.0 dBm\n"
          ]
        },
        {
          "name": "stderr",
          "output_type": "stream",
          "text": [
            "100%|██████████| 9/9 [01:21<00:00,  9.05s/it]\n"
          ]
        },
        {
          "name": "stdout",
          "output_type": "stream",
          "text": [
            "f_clearing: 11.000000 GHz, P_clearing: 11.000000 dBm\n",
            "Clearing tone set to 11.000000 GHz with power 11.0 dBm\n"
          ]
        },
        {
          "name": "stderr",
          "output_type": "stream",
          "text": [
            "100%|██████████| 9/9 [01:21<00:00,  9.04s/it]\n"
          ]
        },
        {
          "name": "stdout",
          "output_type": "stream",
          "text": [
            "f_clearing: 11.000000 GHz, P_clearing: 14.000000 dBm\n",
            "Clearing tone set to 11.000000 GHz with power 14.0 dBm\n"
          ]
        },
        {
          "name": "stderr",
          "output_type": "stream",
          "text": [
            "100%|██████████| 9/9 [01:21<00:00,  9.07s/it]\n"
          ]
        },
        {
          "name": "stdout",
          "output_type": "stream",
          "text": [
            "f_clearing: 11.000000 GHz, P_clearing: 17.000000 dBm\n",
            "Clearing tone set to 11.000000 GHz with power 17.0 dBm\n"
          ]
        },
        {
          "name": "stderr",
          "output_type": "stream",
          "text": [
            "100%|██████████| 9/9 [01:21<00:00,  9.05s/it]\n"
          ]
        },
        {
          "name": "stdout",
          "output_type": "stream",
          "text": [
            "f_clearing: 14.000000 GHz, P_clearing: -10.000000 dBm\n",
            "Clearing tone set to 14.000000 GHz with power -10.0 dBm\n"
          ]
        },
        {
          "name": "stderr",
          "output_type": "stream",
          "text": [
            "100%|██████████| 9/9 [01:21<00:00,  9.04s/it]\n"
          ]
        },
        {
          "name": "stdout",
          "output_type": "stream",
          "text": [
            "f_clearing: 14.000000 GHz, P_clearing: -7.000000 dBm\n",
            "Clearing tone set to 14.000000 GHz with power -7.0 dBm\n"
          ]
        },
        {
          "name": "stderr",
          "output_type": "stream",
          "text": [
            "100%|██████████| 9/9 [01:21<00:00,  9.04s/it]\n"
          ]
        },
        {
          "name": "stdout",
          "output_type": "stream",
          "text": [
            "f_clearing: 14.000000 GHz, P_clearing: -4.000000 dBm\n",
            "Clearing tone set to 14.000000 GHz with power -4.0 dBm\n"
          ]
        },
        {
          "name": "stderr",
          "output_type": "stream",
          "text": [
            "100%|██████████| 9/9 [01:21<00:00,  9.03s/it]\n"
          ]
        },
        {
          "name": "stdout",
          "output_type": "stream",
          "text": [
            "f_clearing: 14.000000 GHz, P_clearing: -1.000000 dBm\n",
            "Clearing tone set to 14.000000 GHz with power -1.0 dBm\n"
          ]
        },
        {
          "name": "stderr",
          "output_type": "stream",
          "text": [
            "100%|██████████| 9/9 [01:21<00:00,  9.04s/it]\n"
          ]
        },
        {
          "name": "stdout",
          "output_type": "stream",
          "text": [
            "f_clearing: 14.000000 GHz, P_clearing: 2.000000 dBm\n",
            "Clearing tone set to 14.000000 GHz with power 2.0 dBm\n"
          ]
        },
        {
          "name": "stderr",
          "output_type": "stream",
          "text": [
            "100%|██████████| 9/9 [01:21<00:00,  9.05s/it]\n"
          ]
        },
        {
          "name": "stdout",
          "output_type": "stream",
          "text": [
            "f_clearing: 14.000000 GHz, P_clearing: 5.000000 dBm\n",
            "Clearing tone set to 14.000000 GHz with power 5.0 dBm\n"
          ]
        },
        {
          "name": "stderr",
          "output_type": "stream",
          "text": [
            "100%|██████████| 9/9 [01:21<00:00,  9.04s/it]\n"
          ]
        },
        {
          "name": "stdout",
          "output_type": "stream",
          "text": [
            "f_clearing: 14.000000 GHz, P_clearing: 8.000000 dBm\n",
            "Clearing tone set to 14.000000 GHz with power 8.0 dBm\n"
          ]
        },
        {
          "name": "stderr",
          "output_type": "stream",
          "text": [
            "100%|██████████| 9/9 [01:21<00:00,  9.04s/it]\n"
          ]
        },
        {
          "name": "stdout",
          "output_type": "stream",
          "text": [
            "f_clearing: 14.000000 GHz, P_clearing: 11.000000 dBm\n",
            "Clearing tone set to 14.000000 GHz with power 11.0 dBm\n"
          ]
        },
        {
          "name": "stderr",
          "output_type": "stream",
          "text": [
            "100%|██████████| 9/9 [01:21<00:00,  9.04s/it]\n"
          ]
        },
        {
          "name": "stdout",
          "output_type": "stream",
          "text": [
            "f_clearing: 14.000000 GHz, P_clearing: 14.000000 dBm\n",
            "Clearing tone set to 14.000000 GHz with power 14.0 dBm\n"
          ]
        },
        {
          "name": "stderr",
          "output_type": "stream",
          "text": [
            "100%|██████████| 9/9 [01:21<00:00,  9.04s/it]\n"
          ]
        },
        {
          "name": "stdout",
          "output_type": "stream",
          "text": [
            "f_clearing: 14.000000 GHz, P_clearing: 17.000000 dBm\n",
            "Clearing tone set to 14.000000 GHz with power 17.0 dBm\n"
          ]
        },
        {
          "name": "stderr",
          "output_type": "stream",
          "text": [
            "100%|██████████| 9/9 [01:21<00:00,  9.03s/it]\n"
          ]
        },
        {
          "name": "stdout",
          "output_type": "stream",
          "text": [
            "f_clearing: 17.000000 GHz, P_clearing: -10.000000 dBm\n",
            "Clearing tone set to 17.000000 GHz with power -10.0 dBm\n"
          ]
        },
        {
          "name": "stderr",
          "output_type": "stream",
          "text": [
            "100%|██████████| 9/9 [01:21<00:00,  9.05s/it]\n"
          ]
        },
        {
          "name": "stdout",
          "output_type": "stream",
          "text": [
            "f_clearing: 17.000000 GHz, P_clearing: -7.000000 dBm\n",
            "Clearing tone set to 17.000000 GHz with power -7.0 dBm\n"
          ]
        },
        {
          "name": "stderr",
          "output_type": "stream",
          "text": [
            "100%|██████████| 9/9 [01:21<00:00,  9.04s/it]\n"
          ]
        },
        {
          "name": "stdout",
          "output_type": "stream",
          "text": [
            "f_clearing: 17.000000 GHz, P_clearing: -4.000000 dBm\n",
            "Clearing tone set to 17.000000 GHz with power -4.0 dBm\n"
          ]
        },
        {
          "name": "stderr",
          "output_type": "stream",
          "text": [
            "100%|██████████| 9/9 [01:21<00:00,  9.04s/it]\n"
          ]
        },
        {
          "name": "stdout",
          "output_type": "stream",
          "text": [
            "f_clearing: 17.000000 GHz, P_clearing: -1.000000 dBm\n",
            "Clearing tone set to 17.000000 GHz with power -1.0 dBm\n"
          ]
        },
        {
          "name": "stderr",
          "output_type": "stream",
          "text": [
            "100%|██████████| 9/9 [01:21<00:00,  9.04s/it]\n"
          ]
        },
        {
          "name": "stdout",
          "output_type": "stream",
          "text": [
            "f_clearing: 17.000000 GHz, P_clearing: 2.000000 dBm\n",
            "Clearing tone set to 17.000000 GHz with power 2.0 dBm\n"
          ]
        },
        {
          "name": "stderr",
          "output_type": "stream",
          "text": [
            "100%|██████████| 9/9 [01:21<00:00,  9.05s/it]\n"
          ]
        },
        {
          "name": "stdout",
          "output_type": "stream",
          "text": [
            "f_clearing: 17.000000 GHz, P_clearing: 5.000000 dBm\n",
            "Clearing tone set to 17.000000 GHz with power 5.0 dBm\n"
          ]
        },
        {
          "name": "stderr",
          "output_type": "stream",
          "text": [
            "100%|██████████| 9/9 [01:21<00:00,  9.05s/it]\n"
          ]
        },
        {
          "name": "stdout",
          "output_type": "stream",
          "text": [
            "f_clearing: 17.000000 GHz, P_clearing: 8.000000 dBm\n",
            "Clearing tone set to 17.000000 GHz with power 8.0 dBm\n"
          ]
        },
        {
          "name": "stderr",
          "output_type": "stream",
          "text": [
            "100%|██████████| 9/9 [01:21<00:00,  9.04s/it]\n"
          ]
        },
        {
          "name": "stdout",
          "output_type": "stream",
          "text": [
            "f_clearing: 17.000000 GHz, P_clearing: 11.000000 dBm\n",
            "Clearing tone set to 17.000000 GHz with power 11.0 dBm\n"
          ]
        },
        {
          "name": "stderr",
          "output_type": "stream",
          "text": [
            "100%|██████████| 9/9 [01:21<00:00,  9.04s/it]\n"
          ]
        },
        {
          "name": "stdout",
          "output_type": "stream",
          "text": [
            "f_clearing: 17.000000 GHz, P_clearing: 14.000000 dBm\n",
            "Clearing tone set to 17.000000 GHz with power 14.0 dBm\n"
          ]
        },
        {
          "name": "stderr",
          "output_type": "stream",
          "text": [
            "100%|██████████| 9/9 [01:21<00:00,  9.04s/it]\n"
          ]
        },
        {
          "name": "stdout",
          "output_type": "stream",
          "text": [
            "f_clearing: 17.000000 GHz, P_clearing: 17.000000 dBm\n",
            "Clearing tone set to 17.000000 GHz with power 17.0 dBm\n"
          ]
        },
        {
          "name": "stderr",
          "output_type": "stream",
          "text": [
            "100%|██████████| 9/9 [01:21<00:00,  9.04s/it]\n"
          ]
        },
        {
          "name": "stdout",
          "output_type": "stream",
          "text": [
            "Finished loop for phi = 0.389 in 20728.97 seconds\n",
            "\n",
            "\n",
            "Estimated remaining time: 20728.98 seconds\n",
            "==================================================\n",
            "phi: 0.411111, voltage: -0.022857 V\n",
            "Setting FFL bias to -22.857407407407404 mV from -21.7 mV\n",
            "f_guess: 5.740067200501666 GHz from the fitted Flux Curve\n",
            "LO tone set to 5.743255 GHz\n",
            "f_phi: 5.743755 GHz, f_drive: 5.743255 GHz\n",
            "f_clearing: 5.000000 GHz, P_clearing: -10.000000 dBm\n",
            "Clearing tone set to 5.000000 GHz with power -10.0 dBm\n"
          ]
        },
        {
          "name": "stderr",
          "output_type": "stream",
          "text": [
            "100%|██████████| 9/9 [01:21<00:00,  9.04s/it]\n"
          ]
        },
        {
          "name": "stdout",
          "output_type": "stream",
          "text": [
            "f_clearing: 5.000000 GHz, P_clearing: -7.000000 dBm\n",
            "Clearing tone set to 5.000000 GHz with power -7.0 dBm\n"
          ]
        },
        {
          "name": "stderr",
          "output_type": "stream",
          "text": [
            "100%|██████████| 9/9 [01:21<00:00,  9.04s/it]\n"
          ]
        },
        {
          "name": "stdout",
          "output_type": "stream",
          "text": [
            "f_clearing: 5.000000 GHz, P_clearing: -4.000000 dBm\n",
            "Clearing tone set to 5.000000 GHz with power -4.0 dBm\n"
          ]
        },
        {
          "name": "stderr",
          "output_type": "stream",
          "text": [
            "100%|██████████| 9/9 [01:21<00:00,  9.04s/it]\n"
          ]
        },
        {
          "name": "stdout",
          "output_type": "stream",
          "text": [
            "f_clearing: 5.000000 GHz, P_clearing: -1.000000 dBm\n",
            "Clearing tone set to 5.000000 GHz with power -1.0 dBm\n"
          ]
        },
        {
          "name": "stderr",
          "output_type": "stream",
          "text": [
            "100%|██████████| 9/9 [01:21<00:00,  9.03s/it]\n"
          ]
        },
        {
          "name": "stdout",
          "output_type": "stream",
          "text": [
            "f_clearing: 5.000000 GHz, P_clearing: 2.000000 dBm\n",
            "Clearing tone set to 5.000000 GHz with power 2.0 dBm\n"
          ]
        },
        {
          "name": "stderr",
          "output_type": "stream",
          "text": [
            "100%|██████████| 9/9 [01:21<00:00,  9.04s/it]\n"
          ]
        },
        {
          "name": "stdout",
          "output_type": "stream",
          "text": [
            "f_clearing: 5.000000 GHz, P_clearing: 5.000000 dBm\n",
            "Clearing tone set to 5.000000 GHz with power 5.0 dBm\n"
          ]
        },
        {
          "name": "stderr",
          "output_type": "stream",
          "text": [
            "100%|██████████| 9/9 [01:21<00:00,  9.03s/it]\n"
          ]
        },
        {
          "name": "stdout",
          "output_type": "stream",
          "text": [
            "f_clearing: 5.000000 GHz, P_clearing: 8.000000 dBm\n",
            "Clearing tone set to 5.000000 GHz with power 8.0 dBm\n"
          ]
        },
        {
          "name": "stderr",
          "output_type": "stream",
          "text": [
            "100%|██████████| 9/9 [01:21<00:00,  9.04s/it]\n"
          ]
        },
        {
          "name": "stdout",
          "output_type": "stream",
          "text": [
            "f_clearing: 5.000000 GHz, P_clearing: 11.000000 dBm\n",
            "Clearing tone set to 5.000000 GHz with power 11.0 dBm\n"
          ]
        },
        {
          "name": "stderr",
          "output_type": "stream",
          "text": [
            "100%|██████████| 9/9 [01:21<00:00,  9.05s/it]\n"
          ]
        },
        {
          "name": "stdout",
          "output_type": "stream",
          "text": [
            "f_clearing: 5.000000 GHz, P_clearing: 14.000000 dBm\n",
            "Clearing tone set to 5.000000 GHz with power 14.0 dBm\n"
          ]
        },
        {
          "name": "stderr",
          "output_type": "stream",
          "text": [
            "100%|██████████| 9/9 [01:21<00:00,  9.03s/it]\n"
          ]
        },
        {
          "name": "stdout",
          "output_type": "stream",
          "text": [
            "f_clearing: 5.000000 GHz, P_clearing: 17.000000 dBm\n",
            "Clearing tone set to 5.000000 GHz with power 17.0 dBm\n"
          ]
        },
        {
          "name": "stderr",
          "output_type": "stream",
          "text": [
            "100%|██████████| 9/9 [01:21<00:00,  9.03s/it]\n"
          ]
        },
        {
          "name": "stdout",
          "output_type": "stream",
          "text": [
            "f_clearing: 8.000000 GHz, P_clearing: -10.000000 dBm\n",
            "Clearing tone set to 8.000000 GHz with power -10.0 dBm\n"
          ]
        },
        {
          "name": "stderr",
          "output_type": "stream",
          "text": [
            "100%|██████████| 9/9 [01:21<00:00,  9.05s/it]\n"
          ]
        },
        {
          "name": "stdout",
          "output_type": "stream",
          "text": [
            "f_clearing: 8.000000 GHz, P_clearing: -7.000000 dBm\n",
            "Clearing tone set to 8.000000 GHz with power -7.0 dBm\n"
          ]
        },
        {
          "name": "stderr",
          "output_type": "stream",
          "text": [
            "100%|██████████| 9/9 [01:21<00:00,  9.04s/it]\n"
          ]
        },
        {
          "name": "stdout",
          "output_type": "stream",
          "text": [
            "f_clearing: 8.000000 GHz, P_clearing: -4.000000 dBm\n",
            "Clearing tone set to 8.000000 GHz with power -4.0 dBm\n"
          ]
        },
        {
          "name": "stderr",
          "output_type": "stream",
          "text": [
            "100%|██████████| 9/9 [01:21<00:00,  9.04s/it]\n"
          ]
        },
        {
          "name": "stdout",
          "output_type": "stream",
          "text": [
            "f_clearing: 8.000000 GHz, P_clearing: -1.000000 dBm\n",
            "Clearing tone set to 8.000000 GHz with power -1.0 dBm\n"
          ]
        },
        {
          "name": "stderr",
          "output_type": "stream",
          "text": [
            "100%|██████████| 9/9 [01:21<00:00,  9.04s/it]\n"
          ]
        },
        {
          "name": "stdout",
          "output_type": "stream",
          "text": [
            "f_clearing: 8.000000 GHz, P_clearing: 2.000000 dBm\n",
            "Clearing tone set to 8.000000 GHz with power 2.0 dBm\n"
          ]
        },
        {
          "name": "stderr",
          "output_type": "stream",
          "text": [
            "100%|██████████| 9/9 [01:21<00:00,  9.04s/it]\n"
          ]
        },
        {
          "name": "stdout",
          "output_type": "stream",
          "text": [
            "f_clearing: 8.000000 GHz, P_clearing: 5.000000 dBm\n",
            "Clearing tone set to 8.000000 GHz with power 5.0 dBm\n"
          ]
        },
        {
          "name": "stderr",
          "output_type": "stream",
          "text": [
            "100%|██████████| 9/9 [01:21<00:00,  9.03s/it]\n"
          ]
        },
        {
          "name": "stdout",
          "output_type": "stream",
          "text": [
            "f_clearing: 8.000000 GHz, P_clearing: 8.000000 dBm\n",
            "Clearing tone set to 8.000000 GHz with power 8.0 dBm\n"
          ]
        },
        {
          "name": "stderr",
          "output_type": "stream",
          "text": [
            "100%|██████████| 9/9 [01:21<00:00,  9.03s/it]\n"
          ]
        },
        {
          "name": "stdout",
          "output_type": "stream",
          "text": [
            "f_clearing: 8.000000 GHz, P_clearing: 11.000000 dBm\n",
            "Clearing tone set to 8.000000 GHz with power 11.0 dBm\n"
          ]
        },
        {
          "name": "stderr",
          "output_type": "stream",
          "text": [
            "100%|██████████| 9/9 [01:21<00:00,  9.04s/it]\n"
          ]
        },
        {
          "name": "stdout",
          "output_type": "stream",
          "text": [
            "f_clearing: 8.000000 GHz, P_clearing: 14.000000 dBm\n",
            "Clearing tone set to 8.000000 GHz with power 14.0 dBm\n"
          ]
        },
        {
          "name": "stderr",
          "output_type": "stream",
          "text": [
            "100%|██████████| 9/9 [01:21<00:00,  9.04s/it]\n"
          ]
        },
        {
          "name": "stdout",
          "output_type": "stream",
          "text": [
            "f_clearing: 8.000000 GHz, P_clearing: 17.000000 dBm\n",
            "Clearing tone set to 8.000000 GHz with power 17.0 dBm\n"
          ]
        },
        {
          "name": "stderr",
          "output_type": "stream",
          "text": [
            "100%|██████████| 9/9 [01:21<00:00,  9.04s/it]\n"
          ]
        },
        {
          "name": "stdout",
          "output_type": "stream",
          "text": [
            "f_clearing: 11.000000 GHz, P_clearing: -10.000000 dBm\n",
            "Clearing tone set to 11.000000 GHz with power -10.0 dBm\n"
          ]
        },
        {
          "name": "stderr",
          "output_type": "stream",
          "text": [
            "100%|██████████| 9/9 [01:21<00:00,  9.04s/it]\n"
          ]
        },
        {
          "name": "stdout",
          "output_type": "stream",
          "text": [
            "f_clearing: 11.000000 GHz, P_clearing: -7.000000 dBm\n",
            "Clearing tone set to 11.000000 GHz with power -7.0 dBm\n"
          ]
        },
        {
          "name": "stderr",
          "output_type": "stream",
          "text": [
            "100%|██████████| 9/9 [01:21<00:00,  9.03s/it]\n"
          ]
        },
        {
          "name": "stdout",
          "output_type": "stream",
          "text": [
            "f_clearing: 11.000000 GHz, P_clearing: -4.000000 dBm\n",
            "Clearing tone set to 11.000000 GHz with power -4.0 dBm\n"
          ]
        },
        {
          "name": "stderr",
          "output_type": "stream",
          "text": [
            "100%|██████████| 9/9 [01:21<00:00,  9.04s/it]\n"
          ]
        },
        {
          "name": "stdout",
          "output_type": "stream",
          "text": [
            "f_clearing: 11.000000 GHz, P_clearing: -1.000000 dBm\n",
            "Clearing tone set to 11.000000 GHz with power -1.0 dBm\n"
          ]
        },
        {
          "name": "stderr",
          "output_type": "stream",
          "text": [
            "100%|██████████| 9/9 [01:21<00:00,  9.04s/it]\n"
          ]
        },
        {
          "name": "stdout",
          "output_type": "stream",
          "text": [
            "f_clearing: 11.000000 GHz, P_clearing: 2.000000 dBm\n",
            "Clearing tone set to 11.000000 GHz with power 2.0 dBm\n"
          ]
        },
        {
          "name": "stderr",
          "output_type": "stream",
          "text": [
            "100%|██████████| 9/9 [01:21<00:00,  9.04s/it]\n"
          ]
        },
        {
          "name": "stdout",
          "output_type": "stream",
          "text": [
            "f_clearing: 11.000000 GHz, P_clearing: 5.000000 dBm\n",
            "Clearing tone set to 11.000000 GHz with power 5.0 dBm\n"
          ]
        },
        {
          "name": "stderr",
          "output_type": "stream",
          "text": [
            "100%|██████████| 9/9 [01:21<00:00,  9.03s/it]\n"
          ]
        },
        {
          "name": "stdout",
          "output_type": "stream",
          "text": [
            "f_clearing: 11.000000 GHz, P_clearing: 8.000000 dBm\n",
            "Clearing tone set to 11.000000 GHz with power 8.0 dBm\n"
          ]
        },
        {
          "name": "stderr",
          "output_type": "stream",
          "text": [
            "100%|██████████| 9/9 [01:21<00:00,  9.03s/it]\n"
          ]
        },
        {
          "name": "stdout",
          "output_type": "stream",
          "text": [
            "f_clearing: 11.000000 GHz, P_clearing: 11.000000 dBm\n",
            "Clearing tone set to 11.000000 GHz with power 11.0 dBm\n"
          ]
        },
        {
          "name": "stderr",
          "output_type": "stream",
          "text": [
            "100%|██████████| 9/9 [01:21<00:00,  9.05s/it]\n"
          ]
        },
        {
          "name": "stdout",
          "output_type": "stream",
          "text": [
            "f_clearing: 11.000000 GHz, P_clearing: 14.000000 dBm\n",
            "Clearing tone set to 11.000000 GHz with power 14.0 dBm\n"
          ]
        },
        {
          "name": "stderr",
          "output_type": "stream",
          "text": [
            "100%|██████████| 9/9 [01:21<00:00,  9.03s/it]\n"
          ]
        },
        {
          "name": "stdout",
          "output_type": "stream",
          "text": [
            "f_clearing: 11.000000 GHz, P_clearing: 17.000000 dBm\n",
            "Clearing tone set to 11.000000 GHz with power 17.0 dBm\n"
          ]
        },
        {
          "name": "stderr",
          "output_type": "stream",
          "text": [
            "100%|██████████| 9/9 [01:21<00:00,  9.04s/it]\n"
          ]
        },
        {
          "name": "stdout",
          "output_type": "stream",
          "text": [
            "f_clearing: 14.000000 GHz, P_clearing: -10.000000 dBm\n",
            "Clearing tone set to 14.000000 GHz with power -10.0 dBm\n"
          ]
        },
        {
          "name": "stderr",
          "output_type": "stream",
          "text": [
            "100%|██████████| 9/9 [01:21<00:00,  9.04s/it]\n"
          ]
        },
        {
          "name": "stdout",
          "output_type": "stream",
          "text": [
            "f_clearing: 14.000000 GHz, P_clearing: -7.000000 dBm\n",
            "Clearing tone set to 14.000000 GHz with power -7.0 dBm\n"
          ]
        },
        {
          "name": "stderr",
          "output_type": "stream",
          "text": [
            "100%|██████████| 9/9 [01:21<00:00,  9.04s/it]\n"
          ]
        },
        {
          "name": "stdout",
          "output_type": "stream",
          "text": [
            "f_clearing: 14.000000 GHz, P_clearing: -4.000000 dBm\n",
            "Clearing tone set to 14.000000 GHz with power -4.0 dBm\n"
          ]
        },
        {
          "name": "stderr",
          "output_type": "stream",
          "text": [
            "100%|██████████| 9/9 [01:21<00:00,  9.03s/it]\n"
          ]
        },
        {
          "name": "stdout",
          "output_type": "stream",
          "text": [
            "f_clearing: 14.000000 GHz, P_clearing: -1.000000 dBm\n",
            "Clearing tone set to 14.000000 GHz with power -1.0 dBm\n"
          ]
        },
        {
          "name": "stderr",
          "output_type": "stream",
          "text": [
            "100%|██████████| 9/9 [01:21<00:00,  9.04s/it]\n"
          ]
        },
        {
          "name": "stdout",
          "output_type": "stream",
          "text": [
            "f_clearing: 14.000000 GHz, P_clearing: 2.000000 dBm\n",
            "Clearing tone set to 14.000000 GHz with power 2.0 dBm\n"
          ]
        },
        {
          "name": "stderr",
          "output_type": "stream",
          "text": [
            "100%|██████████| 9/9 [01:21<00:00,  9.04s/it]\n"
          ]
        },
        {
          "name": "stdout",
          "output_type": "stream",
          "text": [
            "f_clearing: 14.000000 GHz, P_clearing: 5.000000 dBm\n",
            "Clearing tone set to 14.000000 GHz with power 5.0 dBm\n"
          ]
        },
        {
          "name": "stderr",
          "output_type": "stream",
          "text": [
            "100%|██████████| 9/9 [01:21<00:00,  9.04s/it]\n"
          ]
        },
        {
          "name": "stdout",
          "output_type": "stream",
          "text": [
            "f_clearing: 14.000000 GHz, P_clearing: 8.000000 dBm\n",
            "Clearing tone set to 14.000000 GHz with power 8.0 dBm\n"
          ]
        },
        {
          "name": "stderr",
          "output_type": "stream",
          "text": [
            "100%|██████████| 9/9 [01:21<00:00,  9.05s/it]\n"
          ]
        },
        {
          "name": "stdout",
          "output_type": "stream",
          "text": [
            "f_clearing: 14.000000 GHz, P_clearing: 11.000000 dBm\n",
            "Clearing tone set to 14.000000 GHz with power 11.0 dBm\n"
          ]
        },
        {
          "name": "stderr",
          "output_type": "stream",
          "text": [
            "100%|██████████| 9/9 [01:21<00:00,  9.03s/it]\n"
          ]
        },
        {
          "name": "stdout",
          "output_type": "stream",
          "text": [
            "f_clearing: 14.000000 GHz, P_clearing: 14.000000 dBm\n",
            "Clearing tone set to 14.000000 GHz with power 14.0 dBm\n"
          ]
        },
        {
          "name": "stderr",
          "output_type": "stream",
          "text": [
            "100%|██████████| 9/9 [01:21<00:00,  9.04s/it]\n"
          ]
        },
        {
          "name": "stdout",
          "output_type": "stream",
          "text": [
            "f_clearing: 14.000000 GHz, P_clearing: 17.000000 dBm\n",
            "Clearing tone set to 14.000000 GHz with power 17.0 dBm\n"
          ]
        },
        {
          "name": "stderr",
          "output_type": "stream",
          "text": [
            "100%|██████████| 9/9 [01:21<00:00,  9.06s/it]\n"
          ]
        },
        {
          "name": "stdout",
          "output_type": "stream",
          "text": [
            "f_clearing: 17.000000 GHz, P_clearing: -10.000000 dBm\n",
            "Clearing tone set to 17.000000 GHz with power -10.0 dBm\n"
          ]
        },
        {
          "name": "stderr",
          "output_type": "stream",
          "text": [
            "100%|██████████| 9/9 [01:21<00:00,  9.03s/it]\n"
          ]
        },
        {
          "name": "stdout",
          "output_type": "stream",
          "text": [
            "f_clearing: 17.000000 GHz, P_clearing: -7.000000 dBm\n",
            "Clearing tone set to 17.000000 GHz with power -7.0 dBm\n"
          ]
        },
        {
          "name": "stderr",
          "output_type": "stream",
          "text": [
            "100%|██████████| 9/9 [01:21<00:00,  9.04s/it]\n"
          ]
        },
        {
          "name": "stdout",
          "output_type": "stream",
          "text": [
            "f_clearing: 17.000000 GHz, P_clearing: -4.000000 dBm\n",
            "Clearing tone set to 17.000000 GHz with power -4.0 dBm\n"
          ]
        },
        {
          "name": "stderr",
          "output_type": "stream",
          "text": [
            "100%|██████████| 9/9 [01:21<00:00,  9.04s/it]\n"
          ]
        },
        {
          "name": "stdout",
          "output_type": "stream",
          "text": [
            "f_clearing: 17.000000 GHz, P_clearing: -1.000000 dBm\n",
            "Clearing tone set to 17.000000 GHz with power -1.0 dBm\n"
          ]
        },
        {
          "name": "stderr",
          "output_type": "stream",
          "text": [
            "100%|██████████| 9/9 [01:21<00:00,  9.05s/it]\n"
          ]
        },
        {
          "name": "stdout",
          "output_type": "stream",
          "text": [
            "f_clearing: 17.000000 GHz, P_clearing: 2.000000 dBm\n",
            "Clearing tone set to 17.000000 GHz with power 2.0 dBm\n"
          ]
        },
        {
          "name": "stderr",
          "output_type": "stream",
          "text": [
            "100%|██████████| 9/9 [01:21<00:00,  9.04s/it]\n"
          ]
        },
        {
          "name": "stdout",
          "output_type": "stream",
          "text": [
            "f_clearing: 17.000000 GHz, P_clearing: 5.000000 dBm\n",
            "Clearing tone set to 17.000000 GHz with power 5.0 dBm\n"
          ]
        },
        {
          "name": "stderr",
          "output_type": "stream",
          "text": [
            "100%|██████████| 9/9 [01:21<00:00,  9.03s/it]\n"
          ]
        },
        {
          "name": "stdout",
          "output_type": "stream",
          "text": [
            "f_clearing: 17.000000 GHz, P_clearing: 8.000000 dBm\n",
            "Clearing tone set to 17.000000 GHz with power 8.0 dBm\n"
          ]
        },
        {
          "name": "stderr",
          "output_type": "stream",
          "text": [
            "100%|██████████| 9/9 [01:21<00:00,  9.04s/it]\n"
          ]
        },
        {
          "name": "stdout",
          "output_type": "stream",
          "text": [
            "f_clearing: 17.000000 GHz, P_clearing: 11.000000 dBm\n",
            "Clearing tone set to 17.000000 GHz with power 11.0 dBm\n"
          ]
        },
        {
          "name": "stderr",
          "output_type": "stream",
          "text": [
            "100%|██████████| 9/9 [01:21<00:00,  9.04s/it]\n"
          ]
        },
        {
          "name": "stdout",
          "output_type": "stream",
          "text": [
            "f_clearing: 17.000000 GHz, P_clearing: 14.000000 dBm\n",
            "Clearing tone set to 17.000000 GHz with power 14.0 dBm\n"
          ]
        },
        {
          "name": "stderr",
          "output_type": "stream",
          "text": [
            "100%|██████████| 9/9 [01:21<00:00,  9.04s/it]\n"
          ]
        },
        {
          "name": "stdout",
          "output_type": "stream",
          "text": [
            "f_clearing: 17.000000 GHz, P_clearing: 17.000000 dBm\n",
            "Clearing tone set to 17.000000 GHz with power 17.0 dBm\n"
          ]
        },
        {
          "name": "stderr",
          "output_type": "stream",
          "text": [
            "100%|██████████| 9/9 [01:21<00:00,  9.04s/it]\n"
          ]
        },
        {
          "name": "stdout",
          "output_type": "stream",
          "text": [
            "Finished loop for phi = 0.411 in 24863.64 seconds\n",
            "\n",
            "\n",
            "Estimated remaining time: 16575.76 seconds\n",
            "==================================================\n",
            "phi: 0.433333, voltage: -0.024039 V\n",
            "Setting FFL bias to -24.038888888888884 mV from -22.849999999999998 mV\n",
            "f_guess: 5.731430958507716 GHz from the fitted Flux Curve\n",
            "LO tone set to 5.734768 GHz\n",
            "f_phi: 5.735268 GHz, f_drive: 5.734768 GHz\n",
            "f_clearing: 5.000000 GHz, P_clearing: -10.000000 dBm\n",
            "Clearing tone set to 5.000000 GHz with power -10.0 dBm\n"
          ]
        },
        {
          "name": "stderr",
          "output_type": "stream",
          "text": [
            "100%|██████████| 9/9 [01:21<00:00,  9.04s/it]\n"
          ]
        },
        {
          "name": "stdout",
          "output_type": "stream",
          "text": [
            "f_clearing: 5.000000 GHz, P_clearing: -7.000000 dBm\n",
            "Clearing tone set to 5.000000 GHz with power -7.0 dBm\n"
          ]
        },
        {
          "name": "stderr",
          "output_type": "stream",
          "text": [
            "100%|██████████| 9/9 [01:21<00:00,  9.03s/it]\n"
          ]
        },
        {
          "name": "stdout",
          "output_type": "stream",
          "text": [
            "f_clearing: 5.000000 GHz, P_clearing: -4.000000 dBm\n",
            "Clearing tone set to 5.000000 GHz with power -4.0 dBm\n"
          ]
        },
        {
          "name": "stderr",
          "output_type": "stream",
          "text": [
            "100%|██████████| 9/9 [01:21<00:00,  9.04s/it]\n"
          ]
        },
        {
          "name": "stdout",
          "output_type": "stream",
          "text": [
            "f_clearing: 5.000000 GHz, P_clearing: -1.000000 dBm\n",
            "Clearing tone set to 5.000000 GHz with power -1.0 dBm\n"
          ]
        },
        {
          "name": "stderr",
          "output_type": "stream",
          "text": [
            "100%|██████████| 9/9 [01:21<00:00,  9.04s/it]\n"
          ]
        },
        {
          "name": "stdout",
          "output_type": "stream",
          "text": [
            "f_clearing: 5.000000 GHz, P_clearing: 2.000000 dBm\n",
            "Clearing tone set to 5.000000 GHz with power 2.0 dBm\n"
          ]
        },
        {
          "name": "stderr",
          "output_type": "stream",
          "text": [
            "100%|██████████| 9/9 [01:21<00:00,  9.04s/it]\n"
          ]
        },
        {
          "name": "stdout",
          "output_type": "stream",
          "text": [
            "f_clearing: 5.000000 GHz, P_clearing: 5.000000 dBm\n",
            "Clearing tone set to 5.000000 GHz with power 5.0 dBm\n"
          ]
        },
        {
          "name": "stderr",
          "output_type": "stream",
          "text": [
            "100%|██████████| 9/9 [01:21<00:00,  9.04s/it]\n"
          ]
        },
        {
          "name": "stdout",
          "output_type": "stream",
          "text": [
            "f_clearing: 5.000000 GHz, P_clearing: 8.000000 dBm\n",
            "Clearing tone set to 5.000000 GHz with power 8.0 dBm\n"
          ]
        },
        {
          "name": "stderr",
          "output_type": "stream",
          "text": [
            "100%|██████████| 9/9 [01:21<00:00,  9.05s/it]\n"
          ]
        },
        {
          "name": "stdout",
          "output_type": "stream",
          "text": [
            "f_clearing: 5.000000 GHz, P_clearing: 11.000000 dBm\n",
            "Clearing tone set to 5.000000 GHz with power 11.0 dBm\n"
          ]
        },
        {
          "name": "stderr",
          "output_type": "stream",
          "text": [
            "100%|██████████| 9/9 [01:21<00:00,  9.04s/it]\n"
          ]
        },
        {
          "name": "stdout",
          "output_type": "stream",
          "text": [
            "f_clearing: 5.000000 GHz, P_clearing: 14.000000 dBm\n",
            "Clearing tone set to 5.000000 GHz with power 14.0 dBm\n"
          ]
        },
        {
          "name": "stderr",
          "output_type": "stream",
          "text": [
            "100%|██████████| 9/9 [01:21<00:00,  9.04s/it]\n"
          ]
        },
        {
          "name": "stdout",
          "output_type": "stream",
          "text": [
            "f_clearing: 5.000000 GHz, P_clearing: 17.000000 dBm\n",
            "Clearing tone set to 5.000000 GHz with power 17.0 dBm\n"
          ]
        },
        {
          "name": "stderr",
          "output_type": "stream",
          "text": [
            "100%|██████████| 9/9 [01:21<00:00,  9.05s/it]\n"
          ]
        },
        {
          "name": "stdout",
          "output_type": "stream",
          "text": [
            "f_clearing: 8.000000 GHz, P_clearing: -10.000000 dBm\n",
            "Clearing tone set to 8.000000 GHz with power -10.0 dBm\n"
          ]
        },
        {
          "name": "stderr",
          "output_type": "stream",
          "text": [
            "100%|██████████| 9/9 [01:21<00:00,  9.04s/it]\n"
          ]
        },
        {
          "name": "stdout",
          "output_type": "stream",
          "text": [
            "f_clearing: 8.000000 GHz, P_clearing: -7.000000 dBm\n",
            "Clearing tone set to 8.000000 GHz with power -7.0 dBm\n"
          ]
        },
        {
          "name": "stderr",
          "output_type": "stream",
          "text": [
            "100%|██████████| 9/9 [01:21<00:00,  9.04s/it]\n"
          ]
        },
        {
          "name": "stdout",
          "output_type": "stream",
          "text": [
            "f_clearing: 8.000000 GHz, P_clearing: -4.000000 dBm\n",
            "Clearing tone set to 8.000000 GHz with power -4.0 dBm\n"
          ]
        },
        {
          "name": "stderr",
          "output_type": "stream",
          "text": [
            "100%|██████████| 9/9 [01:21<00:00,  9.04s/it]\n"
          ]
        },
        {
          "name": "stdout",
          "output_type": "stream",
          "text": [
            "f_clearing: 8.000000 GHz, P_clearing: -1.000000 dBm\n",
            "Clearing tone set to 8.000000 GHz with power -1.0 dBm\n"
          ]
        },
        {
          "name": "stderr",
          "output_type": "stream",
          "text": [
            "100%|██████████| 9/9 [01:21<00:00,  9.04s/it]\n"
          ]
        },
        {
          "name": "stdout",
          "output_type": "stream",
          "text": [
            "f_clearing: 8.000000 GHz, P_clearing: 2.000000 dBm\n",
            "Clearing tone set to 8.000000 GHz with power 2.0 dBm\n"
          ]
        },
        {
          "name": "stderr",
          "output_type": "stream",
          "text": [
            "100%|██████████| 9/9 [01:21<00:00,  9.05s/it]\n"
          ]
        },
        {
          "name": "stdout",
          "output_type": "stream",
          "text": [
            "f_clearing: 8.000000 GHz, P_clearing: 5.000000 dBm\n",
            "Clearing tone set to 8.000000 GHz with power 5.0 dBm\n"
          ]
        },
        {
          "name": "stderr",
          "output_type": "stream",
          "text": [
            "100%|██████████| 9/9 [01:21<00:00,  9.03s/it]\n"
          ]
        },
        {
          "name": "stdout",
          "output_type": "stream",
          "text": [
            "f_clearing: 8.000000 GHz, P_clearing: 8.000000 dBm\n",
            "Clearing tone set to 8.000000 GHz with power 8.0 dBm\n"
          ]
        },
        {
          "name": "stderr",
          "output_type": "stream",
          "text": [
            "100%|██████████| 9/9 [01:21<00:00,  9.03s/it]\n"
          ]
        },
        {
          "name": "stdout",
          "output_type": "stream",
          "text": [
            "f_clearing: 8.000000 GHz, P_clearing: 11.000000 dBm\n",
            "Clearing tone set to 8.000000 GHz with power 11.0 dBm\n"
          ]
        },
        {
          "name": "stderr",
          "output_type": "stream",
          "text": [
            "100%|██████████| 9/9 [01:21<00:00,  9.04s/it]\n"
          ]
        },
        {
          "name": "stdout",
          "output_type": "stream",
          "text": [
            "f_clearing: 8.000000 GHz, P_clearing: 14.000000 dBm\n",
            "Clearing tone set to 8.000000 GHz with power 14.0 dBm\n"
          ]
        },
        {
          "name": "stderr",
          "output_type": "stream",
          "text": [
            "100%|██████████| 9/9 [01:21<00:00,  9.04s/it]\n"
          ]
        },
        {
          "name": "stdout",
          "output_type": "stream",
          "text": [
            "f_clearing: 8.000000 GHz, P_clearing: 17.000000 dBm\n",
            "Clearing tone set to 8.000000 GHz with power 17.0 dBm\n"
          ]
        },
        {
          "name": "stderr",
          "output_type": "stream",
          "text": [
            "100%|██████████| 9/9 [01:21<00:00,  9.03s/it]\n"
          ]
        },
        {
          "name": "stdout",
          "output_type": "stream",
          "text": [
            "f_clearing: 11.000000 GHz, P_clearing: -10.000000 dBm\n",
            "Clearing tone set to 11.000000 GHz with power -10.0 dBm\n"
          ]
        },
        {
          "name": "stderr",
          "output_type": "stream",
          "text": [
            "100%|██████████| 9/9 [01:21<00:00,  9.05s/it]\n"
          ]
        },
        {
          "name": "stdout",
          "output_type": "stream",
          "text": [
            "f_clearing: 11.000000 GHz, P_clearing: -7.000000 dBm\n",
            "Clearing tone set to 11.000000 GHz with power -7.0 dBm\n"
          ]
        },
        {
          "name": "stderr",
          "output_type": "stream",
          "text": [
            "100%|██████████| 9/9 [01:21<00:00,  9.04s/it]\n"
          ]
        },
        {
          "name": "stdout",
          "output_type": "stream",
          "text": [
            "f_clearing: 11.000000 GHz, P_clearing: -4.000000 dBm\n",
            "Clearing tone set to 11.000000 GHz with power -4.0 dBm\n"
          ]
        },
        {
          "name": "stderr",
          "output_type": "stream",
          "text": [
            "100%|██████████| 9/9 [01:21<00:00,  9.04s/it]\n"
          ]
        },
        {
          "name": "stdout",
          "output_type": "stream",
          "text": [
            "f_clearing: 11.000000 GHz, P_clearing: -1.000000 dBm\n",
            "Clearing tone set to 11.000000 GHz with power -1.0 dBm\n"
          ]
        },
        {
          "name": "stderr",
          "output_type": "stream",
          "text": [
            "100%|██████████| 9/9 [01:21<00:00,  9.04s/it]\n"
          ]
        },
        {
          "name": "stdout",
          "output_type": "stream",
          "text": [
            "f_clearing: 11.000000 GHz, P_clearing: 2.000000 dBm\n",
            "Clearing tone set to 11.000000 GHz with power 2.0 dBm\n"
          ]
        },
        {
          "name": "stderr",
          "output_type": "stream",
          "text": [
            "100%|██████████| 9/9 [01:21<00:00,  9.04s/it]\n"
          ]
        },
        {
          "name": "stdout",
          "output_type": "stream",
          "text": [
            "f_clearing: 11.000000 GHz, P_clearing: 5.000000 dBm\n",
            "Clearing tone set to 11.000000 GHz with power 5.0 dBm\n"
          ]
        },
        {
          "name": "stderr",
          "output_type": "stream",
          "text": [
            "100%|██████████| 9/9 [01:21<00:00,  9.04s/it]\n"
          ]
        },
        {
          "name": "stdout",
          "output_type": "stream",
          "text": [
            "f_clearing: 11.000000 GHz, P_clearing: 8.000000 dBm\n",
            "Clearing tone set to 11.000000 GHz with power 8.0 dBm\n"
          ]
        },
        {
          "name": "stderr",
          "output_type": "stream",
          "text": [
            "100%|██████████| 9/9 [01:21<00:00,  9.04s/it]\n"
          ]
        },
        {
          "name": "stdout",
          "output_type": "stream",
          "text": [
            "f_clearing: 11.000000 GHz, P_clearing: 11.000000 dBm\n",
            "Clearing tone set to 11.000000 GHz with power 11.0 dBm\n"
          ]
        },
        {
          "name": "stderr",
          "output_type": "stream",
          "text": [
            "100%|██████████| 9/9 [01:21<00:00,  9.03s/it]\n"
          ]
        },
        {
          "name": "stdout",
          "output_type": "stream",
          "text": [
            "f_clearing: 11.000000 GHz, P_clearing: 14.000000 dBm\n",
            "Clearing tone set to 11.000000 GHz with power 14.0 dBm\n"
          ]
        },
        {
          "name": "stderr",
          "output_type": "stream",
          "text": [
            "100%|██████████| 9/9 [01:21<00:00,  9.04s/it]\n"
          ]
        },
        {
          "name": "stdout",
          "output_type": "stream",
          "text": [
            "f_clearing: 11.000000 GHz, P_clearing: 17.000000 dBm\n",
            "Clearing tone set to 11.000000 GHz with power 17.0 dBm\n"
          ]
        },
        {
          "name": "stderr",
          "output_type": "stream",
          "text": [
            "100%|██████████| 9/9 [01:21<00:00,  9.03s/it]\n"
          ]
        },
        {
          "name": "stdout",
          "output_type": "stream",
          "text": [
            "f_clearing: 14.000000 GHz, P_clearing: -10.000000 dBm\n",
            "Clearing tone set to 14.000000 GHz with power -10.0 dBm\n"
          ]
        },
        {
          "name": "stderr",
          "output_type": "stream",
          "text": [
            "100%|██████████| 9/9 [01:21<00:00,  9.04s/it]\n"
          ]
        },
        {
          "name": "stdout",
          "output_type": "stream",
          "text": [
            "f_clearing: 14.000000 GHz, P_clearing: -7.000000 dBm\n",
            "Clearing tone set to 14.000000 GHz with power -7.0 dBm\n"
          ]
        },
        {
          "name": "stderr",
          "output_type": "stream",
          "text": [
            "100%|██████████| 9/9 [01:21<00:00,  9.05s/it]\n"
          ]
        },
        {
          "name": "stdout",
          "output_type": "stream",
          "text": [
            "f_clearing: 14.000000 GHz, P_clearing: -4.000000 dBm\n",
            "Clearing tone set to 14.000000 GHz with power -4.0 dBm\n"
          ]
        },
        {
          "name": "stderr",
          "output_type": "stream",
          "text": [
            "100%|██████████| 9/9 [01:21<00:00,  9.03s/it]\n"
          ]
        },
        {
          "name": "stdout",
          "output_type": "stream",
          "text": [
            "f_clearing: 14.000000 GHz, P_clearing: -1.000000 dBm\n",
            "Clearing tone set to 14.000000 GHz with power -1.0 dBm\n"
          ]
        },
        {
          "name": "stderr",
          "output_type": "stream",
          "text": [
            "100%|██████████| 9/9 [01:21<00:00,  9.06s/it]\n"
          ]
        },
        {
          "name": "stdout",
          "output_type": "stream",
          "text": [
            "f_clearing: 14.000000 GHz, P_clearing: 2.000000 dBm\n",
            "Clearing tone set to 14.000000 GHz with power 2.0 dBm\n"
          ]
        },
        {
          "name": "stderr",
          "output_type": "stream",
          "text": [
            "100%|██████████| 9/9 [01:21<00:00,  9.04s/it]\n"
          ]
        },
        {
          "name": "stdout",
          "output_type": "stream",
          "text": [
            "f_clearing: 14.000000 GHz, P_clearing: 5.000000 dBm\n",
            "Clearing tone set to 14.000000 GHz with power 5.0 dBm\n"
          ]
        },
        {
          "name": "stderr",
          "output_type": "stream",
          "text": [
            "100%|██████████| 9/9 [01:21<00:00,  9.04s/it]\n"
          ]
        },
        {
          "name": "stdout",
          "output_type": "stream",
          "text": [
            "f_clearing: 14.000000 GHz, P_clearing: 8.000000 dBm\n",
            "Clearing tone set to 14.000000 GHz with power 8.0 dBm\n"
          ]
        },
        {
          "name": "stderr",
          "output_type": "stream",
          "text": [
            "100%|██████████| 9/9 [01:21<00:00,  9.04s/it]\n"
          ]
        },
        {
          "name": "stdout",
          "output_type": "stream",
          "text": [
            "f_clearing: 14.000000 GHz, P_clearing: 11.000000 dBm\n",
            "Clearing tone set to 14.000000 GHz with power 11.0 dBm\n"
          ]
        },
        {
          "name": "stderr",
          "output_type": "stream",
          "text": [
            "100%|██████████| 9/9 [01:21<00:00,  9.04s/it]\n"
          ]
        },
        {
          "name": "stdout",
          "output_type": "stream",
          "text": [
            "f_clearing: 14.000000 GHz, P_clearing: 14.000000 dBm\n",
            "Clearing tone set to 14.000000 GHz with power 14.0 dBm\n"
          ]
        },
        {
          "name": "stderr",
          "output_type": "stream",
          "text": [
            "100%|██████████| 9/9 [01:21<00:00,  9.04s/it]\n"
          ]
        },
        {
          "name": "stdout",
          "output_type": "stream",
          "text": [
            "f_clearing: 14.000000 GHz, P_clearing: 17.000000 dBm\n",
            "Clearing tone set to 14.000000 GHz with power 17.0 dBm\n"
          ]
        },
        {
          "name": "stderr",
          "output_type": "stream",
          "text": [
            "100%|██████████| 9/9 [01:21<00:00,  9.04s/it]\n"
          ]
        },
        {
          "name": "stdout",
          "output_type": "stream",
          "text": [
            "f_clearing: 17.000000 GHz, P_clearing: -10.000000 dBm\n",
            "Clearing tone set to 17.000000 GHz with power -10.0 dBm\n"
          ]
        },
        {
          "name": "stderr",
          "output_type": "stream",
          "text": [
            "100%|██████████| 9/9 [01:21<00:00,  9.04s/it]\n"
          ]
        },
        {
          "name": "stdout",
          "output_type": "stream",
          "text": [
            "f_clearing: 17.000000 GHz, P_clearing: -7.000000 dBm\n",
            "Clearing tone set to 17.000000 GHz with power -7.0 dBm\n"
          ]
        },
        {
          "name": "stderr",
          "output_type": "stream",
          "text": [
            "100%|██████████| 9/9 [01:21<00:00,  9.04s/it]\n"
          ]
        },
        {
          "name": "stdout",
          "output_type": "stream",
          "text": [
            "f_clearing: 17.000000 GHz, P_clearing: -4.000000 dBm\n",
            "Clearing tone set to 17.000000 GHz with power -4.0 dBm\n"
          ]
        },
        {
          "name": "stderr",
          "output_type": "stream",
          "text": [
            "100%|██████████| 9/9 [01:21<00:00,  9.04s/it]\n"
          ]
        },
        {
          "name": "stdout",
          "output_type": "stream",
          "text": [
            "f_clearing: 17.000000 GHz, P_clearing: -1.000000 dBm\n",
            "Clearing tone set to 17.000000 GHz with power -1.0 dBm\n"
          ]
        },
        {
          "name": "stderr",
          "output_type": "stream",
          "text": [
            "100%|██████████| 9/9 [01:21<00:00,  9.03s/it]\n"
          ]
        },
        {
          "name": "stdout",
          "output_type": "stream",
          "text": [
            "f_clearing: 17.000000 GHz, P_clearing: 2.000000 dBm\n",
            "Clearing tone set to 17.000000 GHz with power 2.0 dBm\n"
          ]
        },
        {
          "name": "stderr",
          "output_type": "stream",
          "text": [
            "100%|██████████| 9/9 [01:21<00:00,  9.05s/it]\n"
          ]
        },
        {
          "name": "stdout",
          "output_type": "stream",
          "text": [
            "f_clearing: 17.000000 GHz, P_clearing: 5.000000 dBm\n",
            "Clearing tone set to 17.000000 GHz with power 5.0 dBm\n"
          ]
        },
        {
          "name": "stderr",
          "output_type": "stream",
          "text": [
            "100%|██████████| 9/9 [01:21<00:00,  9.05s/it]\n"
          ]
        },
        {
          "name": "stdout",
          "output_type": "stream",
          "text": [
            "f_clearing: 17.000000 GHz, P_clearing: 8.000000 dBm\n",
            "Clearing tone set to 17.000000 GHz with power 8.0 dBm\n"
          ]
        },
        {
          "name": "stderr",
          "output_type": "stream",
          "text": [
            "100%|██████████| 9/9 [01:21<00:00,  9.04s/it]\n"
          ]
        },
        {
          "name": "stdout",
          "output_type": "stream",
          "text": [
            "f_clearing: 17.000000 GHz, P_clearing: 11.000000 dBm\n",
            "Clearing tone set to 17.000000 GHz with power 11.0 dBm\n"
          ]
        },
        {
          "name": "stderr",
          "output_type": "stream",
          "text": [
            "100%|██████████| 9/9 [01:21<00:00,  9.04s/it]\n"
          ]
        },
        {
          "name": "stdout",
          "output_type": "stream",
          "text": [
            "f_clearing: 17.000000 GHz, P_clearing: 14.000000 dBm\n",
            "Clearing tone set to 17.000000 GHz with power 14.0 dBm\n"
          ]
        },
        {
          "name": "stderr",
          "output_type": "stream",
          "text": [
            "100%|██████████| 9/9 [01:21<00:00,  9.04s/it]\n"
          ]
        },
        {
          "name": "stdout",
          "output_type": "stream",
          "text": [
            "f_clearing: 17.000000 GHz, P_clearing: 17.000000 dBm\n",
            "Clearing tone set to 17.000000 GHz with power 17.0 dBm\n"
          ]
        },
        {
          "name": "stderr",
          "output_type": "stream",
          "text": [
            "100%|██████████| 9/9 [01:21<00:00,  9.04s/it]\n"
          ]
        },
        {
          "name": "stdout",
          "output_type": "stream",
          "text": [
            "Finished loop for phi = 0.433 in 28999.68 seconds\n",
            "\n",
            "\n",
            "Estimated remaining time: 12428.43 seconds\n",
            "==================================================\n",
            "phi: 0.455556, voltage: -0.025220 V\n",
            "Setting FFL bias to -25.220370370370365 mV from -24.049999999999997 mV\n",
            "f_guess: 5.720538210664573 GHz from the fitted Flux Curve\n",
            "LO tone set to 5.723988 GHz\n",
            "f_phi: 5.724488 GHz, f_drive: 5.723988 GHz\n",
            "f_clearing: 5.000000 GHz, P_clearing: -10.000000 dBm\n",
            "Clearing tone set to 5.000000 GHz with power -10.0 dBm\n"
          ]
        },
        {
          "name": "stderr",
          "output_type": "stream",
          "text": [
            "100%|██████████| 9/9 [01:21<00:00,  9.04s/it]\n"
          ]
        },
        {
          "name": "stdout",
          "output_type": "stream",
          "text": [
            "f_clearing: 5.000000 GHz, P_clearing: -7.000000 dBm\n",
            "Clearing tone set to 5.000000 GHz with power -7.0 dBm\n"
          ]
        },
        {
          "name": "stderr",
          "output_type": "stream",
          "text": [
            "100%|██████████| 9/9 [01:21<00:00,  9.04s/it]\n"
          ]
        },
        {
          "name": "stdout",
          "output_type": "stream",
          "text": [
            "f_clearing: 5.000000 GHz, P_clearing: -4.000000 dBm\n",
            "Clearing tone set to 5.000000 GHz with power -4.0 dBm\n"
          ]
        },
        {
          "name": "stderr",
          "output_type": "stream",
          "text": [
            "100%|██████████| 9/9 [01:21<00:00,  9.03s/it]\n"
          ]
        },
        {
          "name": "stdout",
          "output_type": "stream",
          "text": [
            "f_clearing: 5.000000 GHz, P_clearing: -1.000000 dBm\n",
            "Clearing tone set to 5.000000 GHz with power -1.0 dBm\n"
          ]
        },
        {
          "name": "stderr",
          "output_type": "stream",
          "text": [
            "100%|██████████| 9/9 [01:21<00:00,  9.04s/it]\n"
          ]
        },
        {
          "name": "stdout",
          "output_type": "stream",
          "text": [
            "f_clearing: 5.000000 GHz, P_clearing: 2.000000 dBm\n",
            "Clearing tone set to 5.000000 GHz with power 2.0 dBm\n"
          ]
        },
        {
          "name": "stderr",
          "output_type": "stream",
          "text": [
            "100%|██████████| 9/9 [01:21<00:00,  9.04s/it]\n"
          ]
        },
        {
          "name": "stdout",
          "output_type": "stream",
          "text": [
            "f_clearing: 5.000000 GHz, P_clearing: 5.000000 dBm\n",
            "Clearing tone set to 5.000000 GHz with power 5.0 dBm\n"
          ]
        },
        {
          "name": "stderr",
          "output_type": "stream",
          "text": [
            "100%|██████████| 9/9 [01:21<00:00,  9.05s/it]\n"
          ]
        },
        {
          "name": "stdout",
          "output_type": "stream",
          "text": [
            "f_clearing: 5.000000 GHz, P_clearing: 8.000000 dBm\n",
            "Clearing tone set to 5.000000 GHz with power 8.0 dBm\n"
          ]
        },
        {
          "name": "stderr",
          "output_type": "stream",
          "text": [
            "100%|██████████| 9/9 [01:21<00:00,  9.04s/it]\n"
          ]
        },
        {
          "name": "stdout",
          "output_type": "stream",
          "text": [
            "f_clearing: 5.000000 GHz, P_clearing: 11.000000 dBm\n",
            "Clearing tone set to 5.000000 GHz with power 11.0 dBm\n"
          ]
        },
        {
          "name": "stderr",
          "output_type": "stream",
          "text": [
            "100%|██████████| 9/9 [01:21<00:00,  9.03s/it]\n"
          ]
        },
        {
          "name": "stdout",
          "output_type": "stream",
          "text": [
            "f_clearing: 5.000000 GHz, P_clearing: 14.000000 dBm\n",
            "Clearing tone set to 5.000000 GHz with power 14.0 dBm\n"
          ]
        },
        {
          "name": "stderr",
          "output_type": "stream",
          "text": [
            "100%|██████████| 9/9 [01:21<00:00,  9.04s/it]\n"
          ]
        },
        {
          "name": "stdout",
          "output_type": "stream",
          "text": [
            "f_clearing: 5.000000 GHz, P_clearing: 17.000000 dBm\n",
            "Clearing tone set to 5.000000 GHz with power 17.0 dBm\n"
          ]
        },
        {
          "name": "stderr",
          "output_type": "stream",
          "text": [
            "100%|██████████| 9/9 [01:21<00:00,  9.04s/it]\n"
          ]
        },
        {
          "name": "stdout",
          "output_type": "stream",
          "text": [
            "f_clearing: 8.000000 GHz, P_clearing: -10.000000 dBm\n",
            "Clearing tone set to 8.000000 GHz with power -10.0 dBm\n"
          ]
        },
        {
          "name": "stderr",
          "output_type": "stream",
          "text": [
            "100%|██████████| 9/9 [01:21<00:00,  9.04s/it]\n"
          ]
        },
        {
          "name": "stdout",
          "output_type": "stream",
          "text": [
            "f_clearing: 8.000000 GHz, P_clearing: -7.000000 dBm\n",
            "Clearing tone set to 8.000000 GHz with power -7.0 dBm\n"
          ]
        },
        {
          "name": "stderr",
          "output_type": "stream",
          "text": [
            "100%|██████████| 9/9 [01:21<00:00,  9.04s/it]\n"
          ]
        },
        {
          "name": "stdout",
          "output_type": "stream",
          "text": [
            "f_clearing: 8.000000 GHz, P_clearing: -4.000000 dBm\n",
            "Clearing tone set to 8.000000 GHz with power -4.0 dBm\n"
          ]
        },
        {
          "name": "stderr",
          "output_type": "stream",
          "text": [
            "100%|██████████| 9/9 [01:21<00:00,  9.03s/it]\n"
          ]
        },
        {
          "name": "stdout",
          "output_type": "stream",
          "text": [
            "f_clearing: 8.000000 GHz, P_clearing: -1.000000 dBm\n",
            "Clearing tone set to 8.000000 GHz with power -1.0 dBm\n"
          ]
        },
        {
          "name": "stderr",
          "output_type": "stream",
          "text": [
            "100%|██████████| 9/9 [01:21<00:00,  9.03s/it]\n"
          ]
        },
        {
          "name": "stdout",
          "output_type": "stream",
          "text": [
            "f_clearing: 8.000000 GHz, P_clearing: 2.000000 dBm\n",
            "Clearing tone set to 8.000000 GHz with power 2.0 dBm\n"
          ]
        },
        {
          "name": "stderr",
          "output_type": "stream",
          "text": [
            "100%|██████████| 9/9 [01:21<00:00,  9.04s/it]\n"
          ]
        },
        {
          "name": "stdout",
          "output_type": "stream",
          "text": [
            "f_clearing: 8.000000 GHz, P_clearing: 5.000000 dBm\n",
            "Clearing tone set to 8.000000 GHz with power 5.0 dBm\n"
          ]
        },
        {
          "name": "stderr",
          "output_type": "stream",
          "text": [
            "100%|██████████| 9/9 [01:21<00:00,  9.04s/it]\n"
          ]
        },
        {
          "name": "stdout",
          "output_type": "stream",
          "text": [
            "f_clearing: 8.000000 GHz, P_clearing: 8.000000 dBm\n",
            "Clearing tone set to 8.000000 GHz with power 8.0 dBm\n"
          ]
        },
        {
          "name": "stderr",
          "output_type": "stream",
          "text": [
            "100%|██████████| 9/9 [01:21<00:00,  9.04s/it]\n"
          ]
        },
        {
          "name": "stdout",
          "output_type": "stream",
          "text": [
            "f_clearing: 8.000000 GHz, P_clearing: 11.000000 dBm\n",
            "Clearing tone set to 8.000000 GHz with power 11.0 dBm\n"
          ]
        },
        {
          "name": "stderr",
          "output_type": "stream",
          "text": [
            "100%|██████████| 9/9 [01:21<00:00,  9.04s/it]\n"
          ]
        },
        {
          "name": "stdout",
          "output_type": "stream",
          "text": [
            "f_clearing: 8.000000 GHz, P_clearing: 14.000000 dBm\n",
            "Clearing tone set to 8.000000 GHz with power 14.0 dBm\n"
          ]
        },
        {
          "name": "stderr",
          "output_type": "stream",
          "text": [
            "100%|██████████| 9/9 [01:21<00:00,  9.04s/it]\n"
          ]
        },
        {
          "name": "stdout",
          "output_type": "stream",
          "text": [
            "f_clearing: 8.000000 GHz, P_clearing: 17.000000 dBm\n",
            "Clearing tone set to 8.000000 GHz with power 17.0 dBm\n"
          ]
        },
        {
          "name": "stderr",
          "output_type": "stream",
          "text": [
            "100%|██████████| 9/9 [01:21<00:00,  9.04s/it]\n"
          ]
        },
        {
          "name": "stdout",
          "output_type": "stream",
          "text": [
            "f_clearing: 11.000000 GHz, P_clearing: -10.000000 dBm\n",
            "Clearing tone set to 11.000000 GHz with power -10.0 dBm\n"
          ]
        },
        {
          "name": "stderr",
          "output_type": "stream",
          "text": [
            "100%|██████████| 9/9 [01:21<00:00,  9.04s/it]\n"
          ]
        },
        {
          "name": "stdout",
          "output_type": "stream",
          "text": [
            "f_clearing: 11.000000 GHz, P_clearing: -7.000000 dBm\n",
            "Clearing tone set to 11.000000 GHz with power -7.0 dBm\n"
          ]
        },
        {
          "name": "stderr",
          "output_type": "stream",
          "text": [
            "100%|██████████| 9/9 [01:21<00:00,  9.04s/it]\n"
          ]
        },
        {
          "name": "stdout",
          "output_type": "stream",
          "text": [
            "f_clearing: 11.000000 GHz, P_clearing: -4.000000 dBm\n",
            "Clearing tone set to 11.000000 GHz with power -4.0 dBm\n"
          ]
        },
        {
          "name": "stderr",
          "output_type": "stream",
          "text": [
            "100%|██████████| 9/9 [01:21<00:00,  9.04s/it]\n"
          ]
        },
        {
          "name": "stdout",
          "output_type": "stream",
          "text": [
            "f_clearing: 11.000000 GHz, P_clearing: -1.000000 dBm\n",
            "Clearing tone set to 11.000000 GHz with power -1.0 dBm\n"
          ]
        },
        {
          "name": "stderr",
          "output_type": "stream",
          "text": [
            "100%|██████████| 9/9 [01:21<00:00,  9.04s/it]\n"
          ]
        },
        {
          "name": "stdout",
          "output_type": "stream",
          "text": [
            "f_clearing: 11.000000 GHz, P_clearing: 2.000000 dBm\n",
            "Clearing tone set to 11.000000 GHz with power 2.0 dBm\n"
          ]
        },
        {
          "name": "stderr",
          "output_type": "stream",
          "text": [
            "100%|██████████| 9/9 [01:21<00:00,  9.04s/it]\n"
          ]
        },
        {
          "name": "stdout",
          "output_type": "stream",
          "text": [
            "f_clearing: 11.000000 GHz, P_clearing: 5.000000 dBm\n",
            "Clearing tone set to 11.000000 GHz with power 5.0 dBm\n"
          ]
        },
        {
          "name": "stderr",
          "output_type": "stream",
          "text": [
            "100%|██████████| 9/9 [01:21<00:00,  9.03s/it]\n"
          ]
        },
        {
          "name": "stdout",
          "output_type": "stream",
          "text": [
            "f_clearing: 11.000000 GHz, P_clearing: 8.000000 dBm\n",
            "Clearing tone set to 11.000000 GHz with power 8.0 dBm\n"
          ]
        },
        {
          "name": "stderr",
          "output_type": "stream",
          "text": [
            "100%|██████████| 9/9 [01:21<00:00,  9.03s/it]\n"
          ]
        },
        {
          "name": "stdout",
          "output_type": "stream",
          "text": [
            "f_clearing: 11.000000 GHz, P_clearing: 11.000000 dBm\n",
            "Clearing tone set to 11.000000 GHz with power 11.0 dBm\n"
          ]
        },
        {
          "name": "stderr",
          "output_type": "stream",
          "text": [
            "100%|██████████| 9/9 [01:21<00:00,  9.04s/it]\n"
          ]
        },
        {
          "name": "stdout",
          "output_type": "stream",
          "text": [
            "f_clearing: 11.000000 GHz, P_clearing: 14.000000 dBm\n",
            "Clearing tone set to 11.000000 GHz with power 14.0 dBm\n"
          ]
        },
        {
          "name": "stderr",
          "output_type": "stream",
          "text": [
            "100%|██████████| 9/9 [01:21<00:00,  9.04s/it]\n"
          ]
        },
        {
          "name": "stdout",
          "output_type": "stream",
          "text": [
            "f_clearing: 11.000000 GHz, P_clearing: 17.000000 dBm\n",
            "Clearing tone set to 11.000000 GHz with power 17.0 dBm\n"
          ]
        },
        {
          "name": "stderr",
          "output_type": "stream",
          "text": [
            "100%|██████████| 9/9 [01:21<00:00,  9.04s/it]\n"
          ]
        },
        {
          "name": "stdout",
          "output_type": "stream",
          "text": [
            "f_clearing: 14.000000 GHz, P_clearing: -10.000000 dBm\n",
            "Clearing tone set to 14.000000 GHz with power -10.0 dBm\n"
          ]
        },
        {
          "name": "stderr",
          "output_type": "stream",
          "text": [
            "100%|██████████| 9/9 [01:21<00:00,  9.04s/it]\n"
          ]
        },
        {
          "name": "stdout",
          "output_type": "stream",
          "text": [
            "f_clearing: 14.000000 GHz, P_clearing: -7.000000 dBm\n",
            "Clearing tone set to 14.000000 GHz with power -7.0 dBm\n"
          ]
        },
        {
          "name": "stderr",
          "output_type": "stream",
          "text": [
            "100%|██████████| 9/9 [01:21<00:00,  9.04s/it]\n"
          ]
        },
        {
          "name": "stdout",
          "output_type": "stream",
          "text": [
            "f_clearing: 14.000000 GHz, P_clearing: -4.000000 dBm\n",
            "Clearing tone set to 14.000000 GHz with power -4.0 dBm\n"
          ]
        },
        {
          "name": "stderr",
          "output_type": "stream",
          "text": [
            "100%|██████████| 9/9 [01:21<00:00,  9.04s/it]\n"
          ]
        },
        {
          "name": "stdout",
          "output_type": "stream",
          "text": [
            "f_clearing: 14.000000 GHz, P_clearing: -1.000000 dBm\n",
            "Clearing tone set to 14.000000 GHz with power -1.0 dBm\n"
          ]
        },
        {
          "name": "stderr",
          "output_type": "stream",
          "text": [
            "100%|██████████| 9/9 [01:21<00:00,  9.04s/it]\n"
          ]
        },
        {
          "name": "stdout",
          "output_type": "stream",
          "text": [
            "f_clearing: 14.000000 GHz, P_clearing: 2.000000 dBm\n",
            "Clearing tone set to 14.000000 GHz with power 2.0 dBm\n"
          ]
        },
        {
          "name": "stderr",
          "output_type": "stream",
          "text": [
            "100%|██████████| 9/9 [01:21<00:00,  9.04s/it]\n"
          ]
        },
        {
          "name": "stdout",
          "output_type": "stream",
          "text": [
            "f_clearing: 14.000000 GHz, P_clearing: 5.000000 dBm\n",
            "Clearing tone set to 14.000000 GHz with power 5.0 dBm\n"
          ]
        },
        {
          "name": "stderr",
          "output_type": "stream",
          "text": [
            "100%|██████████| 9/9 [01:21<00:00,  9.04s/it]\n"
          ]
        },
        {
          "name": "stdout",
          "output_type": "stream",
          "text": [
            "f_clearing: 14.000000 GHz, P_clearing: 8.000000 dBm\n",
            "Clearing tone set to 14.000000 GHz with power 8.0 dBm\n"
          ]
        },
        {
          "name": "stderr",
          "output_type": "stream",
          "text": [
            "100%|██████████| 9/9 [01:21<00:00,  9.04s/it]\n"
          ]
        },
        {
          "name": "stdout",
          "output_type": "stream",
          "text": [
            "f_clearing: 14.000000 GHz, P_clearing: 11.000000 dBm\n",
            "Clearing tone set to 14.000000 GHz with power 11.0 dBm\n"
          ]
        },
        {
          "name": "stderr",
          "output_type": "stream",
          "text": [
            "100%|██████████| 9/9 [01:21<00:00,  9.04s/it]\n"
          ]
        },
        {
          "name": "stdout",
          "output_type": "stream",
          "text": [
            "f_clearing: 14.000000 GHz, P_clearing: 14.000000 dBm\n",
            "Clearing tone set to 14.000000 GHz with power 14.0 dBm\n"
          ]
        },
        {
          "name": "stderr",
          "output_type": "stream",
          "text": [
            "100%|██████████| 9/9 [01:21<00:00,  9.03s/it]\n"
          ]
        },
        {
          "name": "stdout",
          "output_type": "stream",
          "text": [
            "f_clearing: 14.000000 GHz, P_clearing: 17.000000 dBm\n",
            "Clearing tone set to 14.000000 GHz with power 17.0 dBm\n"
          ]
        },
        {
          "name": "stderr",
          "output_type": "stream",
          "text": [
            "100%|██████████| 9/9 [01:21<00:00,  9.03s/it]\n"
          ]
        },
        {
          "name": "stdout",
          "output_type": "stream",
          "text": [
            "f_clearing: 17.000000 GHz, P_clearing: -10.000000 dBm\n",
            "Clearing tone set to 17.000000 GHz with power -10.0 dBm\n"
          ]
        },
        {
          "name": "stderr",
          "output_type": "stream",
          "text": [
            "100%|██████████| 9/9 [01:21<00:00,  9.05s/it]\n"
          ]
        },
        {
          "name": "stdout",
          "output_type": "stream",
          "text": [
            "f_clearing: 17.000000 GHz, P_clearing: -7.000000 dBm\n",
            "Clearing tone set to 17.000000 GHz with power -7.0 dBm\n"
          ]
        },
        {
          "name": "stderr",
          "output_type": "stream",
          "text": [
            "100%|██████████| 9/9 [01:21<00:00,  9.04s/it]\n"
          ]
        },
        {
          "name": "stdout",
          "output_type": "stream",
          "text": [
            "f_clearing: 17.000000 GHz, P_clearing: -4.000000 dBm\n",
            "Clearing tone set to 17.000000 GHz with power -4.0 dBm\n"
          ]
        },
        {
          "name": "stderr",
          "output_type": "stream",
          "text": [
            "100%|██████████| 9/9 [01:21<00:00,  9.05s/it]\n"
          ]
        },
        {
          "name": "stdout",
          "output_type": "stream",
          "text": [
            "f_clearing: 17.000000 GHz, P_clearing: -1.000000 dBm\n",
            "Clearing tone set to 17.000000 GHz with power -1.0 dBm\n"
          ]
        },
        {
          "name": "stderr",
          "output_type": "stream",
          "text": [
            "100%|██████████| 9/9 [01:21<00:00,  9.04s/it]\n"
          ]
        },
        {
          "name": "stdout",
          "output_type": "stream",
          "text": [
            "f_clearing: 17.000000 GHz, P_clearing: 2.000000 dBm\n",
            "Clearing tone set to 17.000000 GHz with power 2.0 dBm\n"
          ]
        },
        {
          "name": "stderr",
          "output_type": "stream",
          "text": [
            "100%|██████████| 9/9 [01:21<00:00,  9.03s/it]\n"
          ]
        },
        {
          "name": "stdout",
          "output_type": "stream",
          "text": [
            "f_clearing: 17.000000 GHz, P_clearing: 5.000000 dBm\n",
            "Clearing tone set to 17.000000 GHz with power 5.0 dBm\n"
          ]
        },
        {
          "name": "stderr",
          "output_type": "stream",
          "text": [
            "100%|██████████| 9/9 [01:21<00:00,  9.04s/it]\n"
          ]
        },
        {
          "name": "stdout",
          "output_type": "stream",
          "text": [
            "f_clearing: 17.000000 GHz, P_clearing: 8.000000 dBm\n",
            "Clearing tone set to 17.000000 GHz with power 8.0 dBm\n"
          ]
        },
        {
          "name": "stderr",
          "output_type": "stream",
          "text": [
            "100%|██████████| 9/9 [01:21<00:00,  9.03s/it]\n"
          ]
        },
        {
          "name": "stdout",
          "output_type": "stream",
          "text": [
            "f_clearing: 17.000000 GHz, P_clearing: 11.000000 dBm\n",
            "Clearing tone set to 17.000000 GHz with power 11.0 dBm\n"
          ]
        },
        {
          "name": "stderr",
          "output_type": "stream",
          "text": [
            "100%|██████████| 9/9 [01:21<00:00,  9.04s/it]\n"
          ]
        },
        {
          "name": "stdout",
          "output_type": "stream",
          "text": [
            "f_clearing: 17.000000 GHz, P_clearing: 14.000000 dBm\n",
            "Clearing tone set to 17.000000 GHz with power 14.0 dBm\n"
          ]
        },
        {
          "name": "stderr",
          "output_type": "stream",
          "text": [
            "100%|██████████| 9/9 [01:21<00:00,  9.04s/it]\n"
          ]
        },
        {
          "name": "stdout",
          "output_type": "stream",
          "text": [
            "f_clearing: 17.000000 GHz, P_clearing: 17.000000 dBm\n",
            "Clearing tone set to 17.000000 GHz with power 17.0 dBm\n"
          ]
        },
        {
          "name": "stderr",
          "output_type": "stream",
          "text": [
            "100%|██████████| 9/9 [01:21<00:00,  9.03s/it]\n"
          ]
        },
        {
          "name": "stdout",
          "output_type": "stream",
          "text": [
            "Finished loop for phi = 0.456 in 33134.17 seconds\n",
            "\n",
            "\n",
            "Estimated remaining time: 8283.54 seconds\n",
            "==================================================\n",
            "phi: 0.477778, voltage: -0.026402 V\n",
            "Setting FFL bias to -26.401851851851845 mV from -25.2 mV\n",
            "f_guess: 5.70642350205488 GHz from the fitted Flux Curve\n",
            "LO tone set to 5.704136 GHz\n",
            "f_phi: 5.704636 GHz, f_drive: 5.704136 GHz\n",
            "f_clearing: 5.000000 GHz, P_clearing: -10.000000 dBm\n",
            "Clearing tone set to 5.000000 GHz with power -10.0 dBm\n"
          ]
        },
        {
          "name": "stderr",
          "output_type": "stream",
          "text": [
            "100%|██████████| 9/9 [01:21<00:00,  9.04s/it]\n"
          ]
        },
        {
          "name": "stdout",
          "output_type": "stream",
          "text": [
            "f_clearing: 5.000000 GHz, P_clearing: -7.000000 dBm\n",
            "Clearing tone set to 5.000000 GHz with power -7.0 dBm\n"
          ]
        },
        {
          "name": "stderr",
          "output_type": "stream",
          "text": [
            "100%|██████████| 9/9 [01:21<00:00,  9.03s/it]\n"
          ]
        },
        {
          "name": "stdout",
          "output_type": "stream",
          "text": [
            "f_clearing: 5.000000 GHz, P_clearing: -4.000000 dBm\n",
            "Clearing tone set to 5.000000 GHz with power -4.0 dBm\n"
          ]
        },
        {
          "name": "stderr",
          "output_type": "stream",
          "text": [
            "100%|██████████| 9/9 [01:21<00:00,  9.04s/it]\n"
          ]
        },
        {
          "name": "stdout",
          "output_type": "stream",
          "text": [
            "f_clearing: 5.000000 GHz, P_clearing: -1.000000 dBm\n",
            "Clearing tone set to 5.000000 GHz with power -1.0 dBm\n"
          ]
        },
        {
          "name": "stderr",
          "output_type": "stream",
          "text": [
            "100%|██████████| 9/9 [01:21<00:00,  9.04s/it]\n"
          ]
        },
        {
          "name": "stdout",
          "output_type": "stream",
          "text": [
            "f_clearing: 5.000000 GHz, P_clearing: 2.000000 dBm\n",
            "Clearing tone set to 5.000000 GHz with power 2.0 dBm\n"
          ]
        },
        {
          "name": "stderr",
          "output_type": "stream",
          "text": [
            "100%|██████████| 9/9 [01:21<00:00,  9.05s/it]\n"
          ]
        },
        {
          "name": "stdout",
          "output_type": "stream",
          "text": [
            "f_clearing: 5.000000 GHz, P_clearing: 5.000000 dBm\n",
            "Clearing tone set to 5.000000 GHz with power 5.0 dBm\n"
          ]
        },
        {
          "name": "stderr",
          "output_type": "stream",
          "text": [
            "100%|██████████| 9/9 [01:21<00:00,  9.03s/it]\n"
          ]
        },
        {
          "name": "stdout",
          "output_type": "stream",
          "text": [
            "f_clearing: 5.000000 GHz, P_clearing: 8.000000 dBm\n",
            "Clearing tone set to 5.000000 GHz with power 8.0 dBm\n"
          ]
        },
        {
          "name": "stderr",
          "output_type": "stream",
          "text": [
            "100%|██████████| 9/9 [01:21<00:00,  9.04s/it]\n"
          ]
        },
        {
          "name": "stdout",
          "output_type": "stream",
          "text": [
            "f_clearing: 5.000000 GHz, P_clearing: 11.000000 dBm\n",
            "Clearing tone set to 5.000000 GHz with power 11.0 dBm\n"
          ]
        },
        {
          "name": "stderr",
          "output_type": "stream",
          "text": [
            "100%|██████████| 9/9 [01:21<00:00,  9.04s/it]\n"
          ]
        },
        {
          "name": "stdout",
          "output_type": "stream",
          "text": [
            "f_clearing: 5.000000 GHz, P_clearing: 14.000000 dBm\n",
            "Clearing tone set to 5.000000 GHz with power 14.0 dBm\n"
          ]
        },
        {
          "name": "stderr",
          "output_type": "stream",
          "text": [
            "100%|██████████| 9/9 [01:21<00:00,  9.04s/it]\n"
          ]
        },
        {
          "name": "stdout",
          "output_type": "stream",
          "text": [
            "f_clearing: 5.000000 GHz, P_clearing: 17.000000 dBm\n",
            "Clearing tone set to 5.000000 GHz with power 17.0 dBm\n"
          ]
        },
        {
          "name": "stderr",
          "output_type": "stream",
          "text": [
            "100%|██████████| 9/9 [01:21<00:00,  9.04s/it]\n"
          ]
        },
        {
          "name": "stdout",
          "output_type": "stream",
          "text": [
            "f_clearing: 8.000000 GHz, P_clearing: -10.000000 dBm\n",
            "Clearing tone set to 8.000000 GHz with power -10.0 dBm\n"
          ]
        },
        {
          "name": "stderr",
          "output_type": "stream",
          "text": [
            "100%|██████████| 9/9 [01:21<00:00,  9.04s/it]\n"
          ]
        },
        {
          "name": "stdout",
          "output_type": "stream",
          "text": [
            "f_clearing: 8.000000 GHz, P_clearing: -7.000000 dBm\n",
            "Clearing tone set to 8.000000 GHz with power -7.0 dBm\n"
          ]
        },
        {
          "name": "stderr",
          "output_type": "stream",
          "text": [
            "100%|██████████| 9/9 [01:21<00:00,  9.03s/it]\n"
          ]
        },
        {
          "name": "stdout",
          "output_type": "stream",
          "text": [
            "f_clearing: 8.000000 GHz, P_clearing: -4.000000 dBm\n",
            "Clearing tone set to 8.000000 GHz with power -4.0 dBm\n"
          ]
        },
        {
          "name": "stderr",
          "output_type": "stream",
          "text": [
            "100%|██████████| 9/9 [01:21<00:00,  9.04s/it]\n"
          ]
        },
        {
          "name": "stdout",
          "output_type": "stream",
          "text": [
            "f_clearing: 8.000000 GHz, P_clearing: -1.000000 dBm\n",
            "Clearing tone set to 8.000000 GHz with power -1.0 dBm\n"
          ]
        },
        {
          "name": "stderr",
          "output_type": "stream",
          "text": [
            "100%|██████████| 9/9 [01:21<00:00,  9.04s/it]\n"
          ]
        },
        {
          "name": "stdout",
          "output_type": "stream",
          "text": [
            "f_clearing: 8.000000 GHz, P_clearing: 2.000000 dBm\n",
            "Clearing tone set to 8.000000 GHz with power 2.0 dBm\n"
          ]
        },
        {
          "name": "stderr",
          "output_type": "stream",
          "text": [
            "100%|██████████| 9/9 [01:21<00:00,  9.05s/it]\n"
          ]
        },
        {
          "name": "stdout",
          "output_type": "stream",
          "text": [
            "f_clearing: 8.000000 GHz, P_clearing: 5.000000 dBm\n",
            "Clearing tone set to 8.000000 GHz with power 5.0 dBm\n"
          ]
        },
        {
          "name": "stderr",
          "output_type": "stream",
          "text": [
            "100%|██████████| 9/9 [01:21<00:00,  9.10s/it]\n"
          ]
        },
        {
          "name": "stdout",
          "output_type": "stream",
          "text": [
            "f_clearing: 8.000000 GHz, P_clearing: 8.000000 dBm\n",
            "Clearing tone set to 8.000000 GHz with power 8.0 dBm\n"
          ]
        },
        {
          "name": "stderr",
          "output_type": "stream",
          "text": [
            "100%|██████████| 9/9 [01:21<00:00,  9.10s/it]\n"
          ]
        },
        {
          "name": "stdout",
          "output_type": "stream",
          "text": [
            "f_clearing: 8.000000 GHz, P_clearing: 11.000000 dBm\n",
            "Clearing tone set to 8.000000 GHz with power 11.0 dBm\n"
          ]
        },
        {
          "name": "stderr",
          "output_type": "stream",
          "text": [
            "100%|██████████| 9/9 [01:21<00:00,  9.06s/it]\n"
          ]
        },
        {
          "name": "stdout",
          "output_type": "stream",
          "text": [
            "f_clearing: 8.000000 GHz, P_clearing: 14.000000 dBm\n",
            "Clearing tone set to 8.000000 GHz with power 14.0 dBm\n"
          ]
        },
        {
          "name": "stderr",
          "output_type": "stream",
          "text": [
            "100%|██████████| 9/9 [01:21<00:00,  9.04s/it]\n"
          ]
        },
        {
          "name": "stdout",
          "output_type": "stream",
          "text": [
            "f_clearing: 8.000000 GHz, P_clearing: 17.000000 dBm\n",
            "Clearing tone set to 8.000000 GHz with power 17.0 dBm\n"
          ]
        },
        {
          "name": "stderr",
          "output_type": "stream",
          "text": [
            "100%|██████████| 9/9 [01:21<00:00,  9.04s/it]\n"
          ]
        },
        {
          "name": "stdout",
          "output_type": "stream",
          "text": [
            "f_clearing: 11.000000 GHz, P_clearing: -10.000000 dBm\n",
            "Clearing tone set to 11.000000 GHz with power -10.0 dBm\n"
          ]
        },
        {
          "name": "stderr",
          "output_type": "stream",
          "text": [
            "100%|██████████| 9/9 [01:21<00:00,  9.04s/it]\n"
          ]
        },
        {
          "name": "stdout",
          "output_type": "stream",
          "text": [
            "f_clearing: 11.000000 GHz, P_clearing: -7.000000 dBm\n",
            "Clearing tone set to 11.000000 GHz with power -7.0 dBm\n"
          ]
        },
        {
          "name": "stderr",
          "output_type": "stream",
          "text": [
            "100%|██████████| 9/9 [01:21<00:00,  9.04s/it]\n"
          ]
        },
        {
          "name": "stdout",
          "output_type": "stream",
          "text": [
            "f_clearing: 11.000000 GHz, P_clearing: -4.000000 dBm\n",
            "Clearing tone set to 11.000000 GHz with power -4.0 dBm\n"
          ]
        },
        {
          "name": "stderr",
          "output_type": "stream",
          "text": [
            "100%|██████████| 9/9 [01:21<00:00,  9.03s/it]\n"
          ]
        },
        {
          "name": "stdout",
          "output_type": "stream",
          "text": [
            "f_clearing: 11.000000 GHz, P_clearing: -1.000000 dBm\n",
            "Clearing tone set to 11.000000 GHz with power -1.0 dBm\n"
          ]
        },
        {
          "name": "stderr",
          "output_type": "stream",
          "text": [
            "100%|██████████| 9/9 [01:21<00:00,  9.03s/it]\n"
          ]
        },
        {
          "name": "stdout",
          "output_type": "stream",
          "text": [
            "f_clearing: 11.000000 GHz, P_clearing: 2.000000 dBm\n",
            "Clearing tone set to 11.000000 GHz with power 2.0 dBm\n"
          ]
        },
        {
          "name": "stderr",
          "output_type": "stream",
          "text": [
            "100%|██████████| 9/9 [01:21<00:00,  9.04s/it]\n"
          ]
        },
        {
          "name": "stdout",
          "output_type": "stream",
          "text": [
            "f_clearing: 11.000000 GHz, P_clearing: 5.000000 dBm\n",
            "Clearing tone set to 11.000000 GHz with power 5.0 dBm\n"
          ]
        },
        {
          "name": "stderr",
          "output_type": "stream",
          "text": [
            "100%|██████████| 9/9 [01:21<00:00,  9.05s/it]\n"
          ]
        },
        {
          "name": "stdout",
          "output_type": "stream",
          "text": [
            "f_clearing: 11.000000 GHz, P_clearing: 8.000000 dBm\n",
            "Clearing tone set to 11.000000 GHz with power 8.0 dBm\n"
          ]
        },
        {
          "name": "stderr",
          "output_type": "stream",
          "text": [
            "100%|██████████| 9/9 [01:21<00:00,  9.05s/it]\n"
          ]
        },
        {
          "name": "stdout",
          "output_type": "stream",
          "text": [
            "f_clearing: 11.000000 GHz, P_clearing: 11.000000 dBm\n",
            "Clearing tone set to 11.000000 GHz with power 11.0 dBm\n"
          ]
        },
        {
          "name": "stderr",
          "output_type": "stream",
          "text": [
            "100%|██████████| 9/9 [01:21<00:00,  9.03s/it]\n"
          ]
        },
        {
          "name": "stdout",
          "output_type": "stream",
          "text": [
            "f_clearing: 11.000000 GHz, P_clearing: 14.000000 dBm\n",
            "Clearing tone set to 11.000000 GHz with power 14.0 dBm\n"
          ]
        },
        {
          "name": "stderr",
          "output_type": "stream",
          "text": [
            "100%|██████████| 9/9 [01:21<00:00,  9.06s/it]\n"
          ]
        },
        {
          "name": "stdout",
          "output_type": "stream",
          "text": [
            "f_clearing: 11.000000 GHz, P_clearing: 17.000000 dBm\n",
            "Clearing tone set to 11.000000 GHz with power 17.0 dBm\n"
          ]
        },
        {
          "name": "stderr",
          "output_type": "stream",
          "text": [
            "100%|██████████| 9/9 [01:21<00:00,  9.04s/it]\n"
          ]
        },
        {
          "name": "stdout",
          "output_type": "stream",
          "text": [
            "f_clearing: 14.000000 GHz, P_clearing: -10.000000 dBm\n",
            "Clearing tone set to 14.000000 GHz with power -10.0 dBm\n"
          ]
        },
        {
          "name": "stderr",
          "output_type": "stream",
          "text": [
            "100%|██████████| 9/9 [01:21<00:00,  9.04s/it]\n"
          ]
        },
        {
          "name": "stdout",
          "output_type": "stream",
          "text": [
            "f_clearing: 14.000000 GHz, P_clearing: -7.000000 dBm\n",
            "Clearing tone set to 14.000000 GHz with power -7.0 dBm\n"
          ]
        },
        {
          "name": "stderr",
          "output_type": "stream",
          "text": [
            "100%|██████████| 9/9 [01:21<00:00,  9.04s/it]\n"
          ]
        },
        {
          "name": "stdout",
          "output_type": "stream",
          "text": [
            "f_clearing: 14.000000 GHz, P_clearing: -4.000000 dBm\n",
            "Clearing tone set to 14.000000 GHz with power -4.0 dBm\n"
          ]
        },
        {
          "name": "stderr",
          "output_type": "stream",
          "text": [
            "100%|██████████| 9/9 [01:21<00:00,  9.03s/it]\n"
          ]
        },
        {
          "name": "stdout",
          "output_type": "stream",
          "text": [
            "f_clearing: 14.000000 GHz, P_clearing: -1.000000 dBm\n",
            "Clearing tone set to 14.000000 GHz with power -1.0 dBm\n"
          ]
        },
        {
          "name": "stderr",
          "output_type": "stream",
          "text": [
            "100%|██████████| 9/9 [01:21<00:00,  9.04s/it]\n"
          ]
        },
        {
          "name": "stdout",
          "output_type": "stream",
          "text": [
            "f_clearing: 14.000000 GHz, P_clearing: 2.000000 dBm\n",
            "Clearing tone set to 14.000000 GHz with power 2.0 dBm\n"
          ]
        },
        {
          "name": "stderr",
          "output_type": "stream",
          "text": [
            "100%|██████████| 9/9 [01:21<00:00,  9.03s/it]\n"
          ]
        },
        {
          "name": "stdout",
          "output_type": "stream",
          "text": [
            "f_clearing: 14.000000 GHz, P_clearing: 5.000000 dBm\n",
            "Clearing tone set to 14.000000 GHz with power 5.0 dBm\n"
          ]
        },
        {
          "name": "stderr",
          "output_type": "stream",
          "text": [
            "100%|██████████| 9/9 [01:21<00:00,  9.03s/it]\n"
          ]
        },
        {
          "name": "stdout",
          "output_type": "stream",
          "text": [
            "f_clearing: 14.000000 GHz, P_clearing: 8.000000 dBm\n",
            "Clearing tone set to 14.000000 GHz with power 8.0 dBm\n"
          ]
        },
        {
          "name": "stderr",
          "output_type": "stream",
          "text": [
            "100%|██████████| 9/9 [01:21<00:00,  9.04s/it]\n"
          ]
        },
        {
          "name": "stdout",
          "output_type": "stream",
          "text": [
            "f_clearing: 14.000000 GHz, P_clearing: 11.000000 dBm\n",
            "Clearing tone set to 14.000000 GHz with power 11.0 dBm\n"
          ]
        },
        {
          "name": "stderr",
          "output_type": "stream",
          "text": [
            "100%|██████████| 9/9 [01:21<00:00,  9.04s/it]\n"
          ]
        },
        {
          "name": "stdout",
          "output_type": "stream",
          "text": [
            "f_clearing: 14.000000 GHz, P_clearing: 14.000000 dBm\n",
            "Clearing tone set to 14.000000 GHz with power 14.0 dBm\n"
          ]
        },
        {
          "name": "stderr",
          "output_type": "stream",
          "text": [
            "100%|██████████| 9/9 [01:21<00:00,  9.04s/it]\n"
          ]
        },
        {
          "name": "stdout",
          "output_type": "stream",
          "text": [
            "f_clearing: 14.000000 GHz, P_clearing: 17.000000 dBm\n",
            "Clearing tone set to 14.000000 GHz with power 17.0 dBm\n"
          ]
        },
        {
          "name": "stderr",
          "output_type": "stream",
          "text": [
            "100%|██████████| 9/9 [01:21<00:00,  9.04s/it]\n"
          ]
        },
        {
          "name": "stdout",
          "output_type": "stream",
          "text": [
            "f_clearing: 17.000000 GHz, P_clearing: -10.000000 dBm\n",
            "Clearing tone set to 17.000000 GHz with power -10.0 dBm\n"
          ]
        },
        {
          "name": "stderr",
          "output_type": "stream",
          "text": [
            "100%|██████████| 9/9 [01:21<00:00,  9.04s/it]\n"
          ]
        },
        {
          "name": "stdout",
          "output_type": "stream",
          "text": [
            "f_clearing: 17.000000 GHz, P_clearing: -7.000000 dBm\n",
            "Clearing tone set to 17.000000 GHz with power -7.0 dBm\n"
          ]
        },
        {
          "name": "stderr",
          "output_type": "stream",
          "text": [
            "100%|██████████| 9/9 [01:21<00:00,  9.05s/it]\n"
          ]
        },
        {
          "name": "stdout",
          "output_type": "stream",
          "text": [
            "f_clearing: 17.000000 GHz, P_clearing: -4.000000 dBm\n",
            "Clearing tone set to 17.000000 GHz with power -4.0 dBm\n"
          ]
        },
        {
          "name": "stderr",
          "output_type": "stream",
          "text": [
            "100%|██████████| 9/9 [01:21<00:00,  9.03s/it]\n"
          ]
        },
        {
          "name": "stdout",
          "output_type": "stream",
          "text": [
            "f_clearing: 17.000000 GHz, P_clearing: -1.000000 dBm\n",
            "Clearing tone set to 17.000000 GHz with power -1.0 dBm\n"
          ]
        },
        {
          "name": "stderr",
          "output_type": "stream",
          "text": [
            "100%|██████████| 9/9 [01:21<00:00,  9.03s/it]\n"
          ]
        },
        {
          "name": "stdout",
          "output_type": "stream",
          "text": [
            "f_clearing: 17.000000 GHz, P_clearing: 2.000000 dBm\n",
            "Clearing tone set to 17.000000 GHz with power 2.0 dBm\n"
          ]
        },
        {
          "name": "stderr",
          "output_type": "stream",
          "text": [
            "100%|██████████| 9/9 [01:21<00:00,  9.04s/it]\n"
          ]
        },
        {
          "name": "stdout",
          "output_type": "stream",
          "text": [
            "f_clearing: 17.000000 GHz, P_clearing: 5.000000 dBm\n",
            "Clearing tone set to 17.000000 GHz with power 5.0 dBm\n"
          ]
        },
        {
          "name": "stderr",
          "output_type": "stream",
          "text": [
            "100%|██████████| 9/9 [01:21<00:00,  9.05s/it]\n"
          ]
        },
        {
          "name": "stdout",
          "output_type": "stream",
          "text": [
            "f_clearing: 17.000000 GHz, P_clearing: 8.000000 dBm\n",
            "Clearing tone set to 17.000000 GHz with power 8.0 dBm\n"
          ]
        },
        {
          "name": "stderr",
          "output_type": "stream",
          "text": [
            "100%|██████████| 9/9 [01:21<00:00,  9.07s/it]\n"
          ]
        },
        {
          "name": "stdout",
          "output_type": "stream",
          "text": [
            "f_clearing: 17.000000 GHz, P_clearing: 11.000000 dBm\n",
            "Clearing tone set to 17.000000 GHz with power 11.0 dBm\n"
          ]
        },
        {
          "name": "stderr",
          "output_type": "stream",
          "text": [
            "100%|██████████| 9/9 [01:21<00:00,  9.04s/it]\n"
          ]
        },
        {
          "name": "stdout",
          "output_type": "stream",
          "text": [
            "f_clearing: 17.000000 GHz, P_clearing: 14.000000 dBm\n",
            "Clearing tone set to 17.000000 GHz with power 14.0 dBm\n"
          ]
        },
        {
          "name": "stderr",
          "output_type": "stream",
          "text": [
            "100%|██████████| 9/9 [01:21<00:00,  9.05s/it]\n"
          ]
        },
        {
          "name": "stdout",
          "output_type": "stream",
          "text": [
            "f_clearing: 17.000000 GHz, P_clearing: 17.000000 dBm\n",
            "Clearing tone set to 17.000000 GHz with power 17.0 dBm\n"
          ]
        },
        {
          "name": "stderr",
          "output_type": "stream",
          "text": [
            "100%|██████████| 9/9 [01:21<00:00,  9.03s/it]\n"
          ]
        },
        {
          "name": "stdout",
          "output_type": "stream",
          "text": [
            "Finished loop for phi = 0.478 in 37271.22 seconds\n",
            "\n",
            "\n",
            "Estimated remaining time: 4141.25 seconds\n",
            "==================================================\n",
            "phi: 0.500000, voltage: -0.027583 V\n",
            "Setting FFL bias to -27.58333333333333 mV from -26.4 mV\n",
            "f_guess: 5.687470170601406 GHz from the fitted Flux Curve\n",
            "LO tone set to 5.691820 GHz\n",
            "f_phi: 5.692320 GHz, f_drive: 5.691820 GHz\n",
            "f_clearing: 5.000000 GHz, P_clearing: -10.000000 dBm\n",
            "Clearing tone set to 5.000000 GHz with power -10.0 dBm\n"
          ]
        },
        {
          "name": "stderr",
          "output_type": "stream",
          "text": [
            "100%|██████████| 9/9 [01:21<00:00,  9.04s/it]\n"
          ]
        },
        {
          "name": "stdout",
          "output_type": "stream",
          "text": [
            "f_clearing: 5.000000 GHz, P_clearing: -7.000000 dBm\n",
            "Clearing tone set to 5.000000 GHz with power -7.0 dBm\n"
          ]
        },
        {
          "name": "stderr",
          "output_type": "stream",
          "text": [
            "100%|██████████| 9/9 [01:21<00:00,  9.03s/it]\n"
          ]
        },
        {
          "name": "stdout",
          "output_type": "stream",
          "text": [
            "f_clearing: 5.000000 GHz, P_clearing: -4.000000 dBm\n",
            "Clearing tone set to 5.000000 GHz with power -4.0 dBm\n"
          ]
        },
        {
          "name": "stderr",
          "output_type": "stream",
          "text": [
            "100%|██████████| 9/9 [01:21<00:00,  9.04s/it]\n"
          ]
        },
        {
          "name": "stdout",
          "output_type": "stream",
          "text": [
            "f_clearing: 5.000000 GHz, P_clearing: -1.000000 dBm\n",
            "Clearing tone set to 5.000000 GHz with power -1.0 dBm\n"
          ]
        },
        {
          "name": "stderr",
          "output_type": "stream",
          "text": [
            "100%|██████████| 9/9 [01:21<00:00,  9.03s/it]\n"
          ]
        },
        {
          "name": "stdout",
          "output_type": "stream",
          "text": [
            "f_clearing: 5.000000 GHz, P_clearing: 2.000000 dBm\n",
            "Clearing tone set to 5.000000 GHz with power 2.0 dBm\n"
          ]
        },
        {
          "name": "stderr",
          "output_type": "stream",
          "text": [
            "100%|██████████| 9/9 [01:21<00:00,  9.04s/it]\n"
          ]
        },
        {
          "name": "stdout",
          "output_type": "stream",
          "text": [
            "f_clearing: 5.000000 GHz, P_clearing: 5.000000 dBm\n",
            "Clearing tone set to 5.000000 GHz with power 5.0 dBm\n"
          ]
        },
        {
          "name": "stderr",
          "output_type": "stream",
          "text": [
            "100%|██████████| 9/9 [01:21<00:00,  9.03s/it]\n"
          ]
        },
        {
          "name": "stdout",
          "output_type": "stream",
          "text": [
            "f_clearing: 5.000000 GHz, P_clearing: 8.000000 dBm\n",
            "Clearing tone set to 5.000000 GHz with power 8.0 dBm\n"
          ]
        },
        {
          "name": "stderr",
          "output_type": "stream",
          "text": [
            "100%|██████████| 9/9 [01:21<00:00,  9.04s/it]\n"
          ]
        },
        {
          "name": "stdout",
          "output_type": "stream",
          "text": [
            "f_clearing: 5.000000 GHz, P_clearing: 11.000000 dBm\n",
            "Clearing tone set to 5.000000 GHz with power 11.0 dBm\n"
          ]
        },
        {
          "name": "stderr",
          "output_type": "stream",
          "text": [
            "100%|██████████| 9/9 [01:21<00:00,  9.04s/it]\n"
          ]
        },
        {
          "name": "stdout",
          "output_type": "stream",
          "text": [
            "f_clearing: 5.000000 GHz, P_clearing: 14.000000 dBm\n",
            "Clearing tone set to 5.000000 GHz with power 14.0 dBm\n"
          ]
        },
        {
          "name": "stderr",
          "output_type": "stream",
          "text": [
            "100%|██████████| 9/9 [01:21<00:00,  9.04s/it]\n"
          ]
        },
        {
          "name": "stdout",
          "output_type": "stream",
          "text": [
            "f_clearing: 5.000000 GHz, P_clearing: 17.000000 dBm\n",
            "Clearing tone set to 5.000000 GHz with power 17.0 dBm\n"
          ]
        },
        {
          "name": "stderr",
          "output_type": "stream",
          "text": [
            "100%|██████████| 9/9 [01:21<00:00,  9.05s/it]\n"
          ]
        },
        {
          "name": "stdout",
          "output_type": "stream",
          "text": [
            "f_clearing: 8.000000 GHz, P_clearing: -10.000000 dBm\n",
            "Clearing tone set to 8.000000 GHz with power -10.0 dBm\n"
          ]
        },
        {
          "name": "stderr",
          "output_type": "stream",
          "text": [
            "100%|██████████| 9/9 [01:21<00:00,  9.04s/it]\n"
          ]
        },
        {
          "name": "stdout",
          "output_type": "stream",
          "text": [
            "f_clearing: 8.000000 GHz, P_clearing: -7.000000 dBm\n",
            "Clearing tone set to 8.000000 GHz with power -7.0 dBm\n"
          ]
        },
        {
          "name": "stderr",
          "output_type": "stream",
          "text": [
            "100%|██████████| 9/9 [01:21<00:00,  9.04s/it]\n"
          ]
        },
        {
          "name": "stdout",
          "output_type": "stream",
          "text": [
            "f_clearing: 8.000000 GHz, P_clearing: -4.000000 dBm\n",
            "Clearing tone set to 8.000000 GHz with power -4.0 dBm\n"
          ]
        },
        {
          "name": "stderr",
          "output_type": "stream",
          "text": [
            "100%|██████████| 9/9 [01:21<00:00,  9.03s/it]\n"
          ]
        },
        {
          "name": "stdout",
          "output_type": "stream",
          "text": [
            "f_clearing: 8.000000 GHz, P_clearing: -1.000000 dBm\n",
            "Clearing tone set to 8.000000 GHz with power -1.0 dBm\n"
          ]
        },
        {
          "name": "stderr",
          "output_type": "stream",
          "text": [
            "100%|██████████| 9/9 [01:21<00:00,  9.06s/it]\n"
          ]
        },
        {
          "name": "stdout",
          "output_type": "stream",
          "text": [
            "f_clearing: 8.000000 GHz, P_clearing: 2.000000 dBm\n",
            "Clearing tone set to 8.000000 GHz with power 2.0 dBm\n"
          ]
        },
        {
          "name": "stderr",
          "output_type": "stream",
          "text": [
            "100%|██████████| 9/9 [01:21<00:00,  9.08s/it]\n"
          ]
        },
        {
          "name": "stdout",
          "output_type": "stream",
          "text": [
            "f_clearing: 8.000000 GHz, P_clearing: 5.000000 dBm\n",
            "Clearing tone set to 8.000000 GHz with power 5.0 dBm\n"
          ]
        },
        {
          "name": "stderr",
          "output_type": "stream",
          "text": [
            "100%|██████████| 9/9 [01:21<00:00,  9.05s/it]\n"
          ]
        },
        {
          "name": "stdout",
          "output_type": "stream",
          "text": [
            "f_clearing: 8.000000 GHz, P_clearing: 8.000000 dBm\n",
            "Clearing tone set to 8.000000 GHz with power 8.0 dBm\n"
          ]
        },
        {
          "name": "stderr",
          "output_type": "stream",
          "text": [
            "100%|██████████| 9/9 [01:21<00:00,  9.04s/it]\n"
          ]
        },
        {
          "name": "stdout",
          "output_type": "stream",
          "text": [
            "f_clearing: 8.000000 GHz, P_clearing: 11.000000 dBm\n",
            "Clearing tone set to 8.000000 GHz with power 11.0 dBm\n"
          ]
        },
        {
          "name": "stderr",
          "output_type": "stream",
          "text": [
            "100%|██████████| 9/9 [01:21<00:00,  9.04s/it]\n"
          ]
        },
        {
          "name": "stdout",
          "output_type": "stream",
          "text": [
            "f_clearing: 8.000000 GHz, P_clearing: 14.000000 dBm\n",
            "Clearing tone set to 8.000000 GHz with power 14.0 dBm\n"
          ]
        },
        {
          "name": "stderr",
          "output_type": "stream",
          "text": [
            "100%|██████████| 9/9 [01:21<00:00,  9.04s/it]\n"
          ]
        },
        {
          "name": "stdout",
          "output_type": "stream",
          "text": [
            "f_clearing: 8.000000 GHz, P_clearing: 17.000000 dBm\n",
            "Clearing tone set to 8.000000 GHz with power 17.0 dBm\n"
          ]
        },
        {
          "name": "stderr",
          "output_type": "stream",
          "text": [
            "100%|██████████| 9/9 [01:21<00:00,  9.05s/it]\n"
          ]
        },
        {
          "name": "stdout",
          "output_type": "stream",
          "text": [
            "f_clearing: 11.000000 GHz, P_clearing: -10.000000 dBm\n",
            "Clearing tone set to 11.000000 GHz with power -10.0 dBm\n"
          ]
        },
        {
          "name": "stderr",
          "output_type": "stream",
          "text": [
            "100%|██████████| 9/9 [01:21<00:00,  9.04s/it]\n"
          ]
        },
        {
          "name": "stdout",
          "output_type": "stream",
          "text": [
            "f_clearing: 11.000000 GHz, P_clearing: -7.000000 dBm\n",
            "Clearing tone set to 11.000000 GHz with power -7.0 dBm\n"
          ]
        },
        {
          "name": "stderr",
          "output_type": "stream",
          "text": [
            "100%|██████████| 9/9 [01:21<00:00,  9.04s/it]\n"
          ]
        },
        {
          "name": "stdout",
          "output_type": "stream",
          "text": [
            "f_clearing: 11.000000 GHz, P_clearing: -4.000000 dBm\n",
            "Clearing tone set to 11.000000 GHz with power -4.0 dBm\n"
          ]
        },
        {
          "name": "stderr",
          "output_type": "stream",
          "text": [
            "100%|██████████| 9/9 [01:21<00:00,  9.04s/it]\n"
          ]
        },
        {
          "name": "stdout",
          "output_type": "stream",
          "text": [
            "f_clearing: 11.000000 GHz, P_clearing: -1.000000 dBm\n",
            "Clearing tone set to 11.000000 GHz with power -1.0 dBm\n"
          ]
        },
        {
          "name": "stderr",
          "output_type": "stream",
          "text": [
            "100%|██████████| 9/9 [01:21<00:00,  9.04s/it]\n"
          ]
        },
        {
          "name": "stdout",
          "output_type": "stream",
          "text": [
            "f_clearing: 11.000000 GHz, P_clearing: 2.000000 dBm\n",
            "Clearing tone set to 11.000000 GHz with power 2.0 dBm\n"
          ]
        },
        {
          "name": "stderr",
          "output_type": "stream",
          "text": [
            "100%|██████████| 9/9 [01:21<00:00,  9.04s/it]\n"
          ]
        },
        {
          "name": "stdout",
          "output_type": "stream",
          "text": [
            "f_clearing: 11.000000 GHz, P_clearing: 5.000000 dBm\n",
            "Clearing tone set to 11.000000 GHz with power 5.0 dBm\n"
          ]
        },
        {
          "name": "stderr",
          "output_type": "stream",
          "text": [
            "100%|██████████| 9/9 [01:21<00:00,  9.04s/it]\n"
          ]
        },
        {
          "name": "stdout",
          "output_type": "stream",
          "text": [
            "f_clearing: 11.000000 GHz, P_clearing: 8.000000 dBm\n",
            "Clearing tone set to 11.000000 GHz with power 8.0 dBm\n"
          ]
        },
        {
          "name": "stderr",
          "output_type": "stream",
          "text": [
            "100%|██████████| 9/9 [01:21<00:00,  9.03s/it]\n"
          ]
        },
        {
          "name": "stdout",
          "output_type": "stream",
          "text": [
            "f_clearing: 11.000000 GHz, P_clearing: 11.000000 dBm\n",
            "Clearing tone set to 11.000000 GHz with power 11.0 dBm\n"
          ]
        },
        {
          "name": "stderr",
          "output_type": "stream",
          "text": [
            "100%|██████████| 9/9 [01:21<00:00,  9.04s/it]\n"
          ]
        },
        {
          "name": "stdout",
          "output_type": "stream",
          "text": [
            "f_clearing: 11.000000 GHz, P_clearing: 14.000000 dBm\n",
            "Clearing tone set to 11.000000 GHz with power 14.0 dBm\n"
          ]
        },
        {
          "name": "stderr",
          "output_type": "stream",
          "text": [
            "100%|██████████| 9/9 [01:21<00:00,  9.03s/it]\n"
          ]
        },
        {
          "name": "stdout",
          "output_type": "stream",
          "text": [
            "f_clearing: 11.000000 GHz, P_clearing: 17.000000 dBm\n",
            "Clearing tone set to 11.000000 GHz with power 17.0 dBm\n"
          ]
        },
        {
          "name": "stderr",
          "output_type": "stream",
          "text": [
            "100%|██████████| 9/9 [01:21<00:00,  9.04s/it]\n"
          ]
        },
        {
          "name": "stdout",
          "output_type": "stream",
          "text": [
            "f_clearing: 14.000000 GHz, P_clearing: -10.000000 dBm\n",
            "Clearing tone set to 14.000000 GHz with power -10.0 dBm\n"
          ]
        },
        {
          "name": "stderr",
          "output_type": "stream",
          "text": [
            "100%|██████████| 9/9 [01:21<00:00,  9.05s/it]\n"
          ]
        },
        {
          "name": "stdout",
          "output_type": "stream",
          "text": [
            "f_clearing: 14.000000 GHz, P_clearing: -7.000000 dBm\n",
            "Clearing tone set to 14.000000 GHz with power -7.0 dBm\n"
          ]
        },
        {
          "name": "stderr",
          "output_type": "stream",
          "text": [
            "100%|██████████| 9/9 [01:21<00:00,  9.04s/it]\n"
          ]
        },
        {
          "name": "stdout",
          "output_type": "stream",
          "text": [
            "f_clearing: 14.000000 GHz, P_clearing: -4.000000 dBm\n",
            "Clearing tone set to 14.000000 GHz with power -4.0 dBm\n"
          ]
        },
        {
          "name": "stderr",
          "output_type": "stream",
          "text": [
            "100%|██████████| 9/9 [01:21<00:00,  9.03s/it]\n"
          ]
        },
        {
          "name": "stdout",
          "output_type": "stream",
          "text": [
            "f_clearing: 14.000000 GHz, P_clearing: -1.000000 dBm\n",
            "Clearing tone set to 14.000000 GHz with power -1.0 dBm\n"
          ]
        },
        {
          "name": "stderr",
          "output_type": "stream",
          "text": [
            "100%|██████████| 9/9 [01:21<00:00,  9.04s/it]\n"
          ]
        },
        {
          "name": "stdout",
          "output_type": "stream",
          "text": [
            "f_clearing: 14.000000 GHz, P_clearing: 2.000000 dBm\n",
            "Clearing tone set to 14.000000 GHz with power 2.0 dBm\n"
          ]
        },
        {
          "name": "stderr",
          "output_type": "stream",
          "text": [
            "100%|██████████| 9/9 [01:21<00:00,  9.04s/it]\n"
          ]
        },
        {
          "name": "stdout",
          "output_type": "stream",
          "text": [
            "f_clearing: 14.000000 GHz, P_clearing: 5.000000 dBm\n",
            "Clearing tone set to 14.000000 GHz with power 5.0 dBm\n"
          ]
        },
        {
          "name": "stderr",
          "output_type": "stream",
          "text": [
            "100%|██████████| 9/9 [01:21<00:00,  9.04s/it]\n"
          ]
        },
        {
          "name": "stdout",
          "output_type": "stream",
          "text": [
            "f_clearing: 14.000000 GHz, P_clearing: 8.000000 dBm\n",
            "Clearing tone set to 14.000000 GHz with power 8.0 dBm\n"
          ]
        },
        {
          "name": "stderr",
          "output_type": "stream",
          "text": [
            "100%|██████████| 9/9 [01:21<00:00,  9.04s/it]\n"
          ]
        },
        {
          "name": "stdout",
          "output_type": "stream",
          "text": [
            "f_clearing: 14.000000 GHz, P_clearing: 11.000000 dBm\n",
            "Clearing tone set to 14.000000 GHz with power 11.0 dBm\n"
          ]
        },
        {
          "name": "stderr",
          "output_type": "stream",
          "text": [
            "100%|██████████| 9/9 [01:21<00:00,  9.04s/it]\n"
          ]
        },
        {
          "name": "stdout",
          "output_type": "stream",
          "text": [
            "f_clearing: 14.000000 GHz, P_clearing: 14.000000 dBm\n",
            "Clearing tone set to 14.000000 GHz with power 14.0 dBm\n"
          ]
        },
        {
          "name": "stderr",
          "output_type": "stream",
          "text": [
            "100%|██████████| 9/9 [01:21<00:00,  9.04s/it]\n"
          ]
        },
        {
          "name": "stdout",
          "output_type": "stream",
          "text": [
            "f_clearing: 14.000000 GHz, P_clearing: 17.000000 dBm\n",
            "Clearing tone set to 14.000000 GHz with power 17.0 dBm\n"
          ]
        },
        {
          "name": "stderr",
          "output_type": "stream",
          "text": [
            "100%|██████████| 9/9 [01:21<00:00,  9.04s/it]\n"
          ]
        },
        {
          "name": "stdout",
          "output_type": "stream",
          "text": [
            "f_clearing: 17.000000 GHz, P_clearing: -10.000000 dBm\n",
            "Clearing tone set to 17.000000 GHz with power -10.0 dBm\n"
          ]
        },
        {
          "name": "stderr",
          "output_type": "stream",
          "text": [
            "100%|██████████| 9/9 [01:21<00:00,  9.04s/it]\n"
          ]
        },
        {
          "name": "stdout",
          "output_type": "stream",
          "text": [
            "f_clearing: 17.000000 GHz, P_clearing: -7.000000 dBm\n",
            "Clearing tone set to 17.000000 GHz with power -7.0 dBm\n"
          ]
        },
        {
          "name": "stderr",
          "output_type": "stream",
          "text": [
            "100%|██████████| 9/9 [01:21<00:00,  9.04s/it]\n"
          ]
        },
        {
          "name": "stdout",
          "output_type": "stream",
          "text": [
            "f_clearing: 17.000000 GHz, P_clearing: -4.000000 dBm\n",
            "Clearing tone set to 17.000000 GHz with power -4.0 dBm\n"
          ]
        },
        {
          "name": "stderr",
          "output_type": "stream",
          "text": [
            "100%|██████████| 9/9 [01:21<00:00,  9.04s/it]\n"
          ]
        },
        {
          "name": "stdout",
          "output_type": "stream",
          "text": [
            "f_clearing: 17.000000 GHz, P_clearing: -1.000000 dBm\n",
            "Clearing tone set to 17.000000 GHz with power -1.0 dBm\n"
          ]
        },
        {
          "name": "stderr",
          "output_type": "stream",
          "text": [
            "100%|██████████| 9/9 [01:21<00:00,  9.04s/it]\n"
          ]
        },
        {
          "name": "stdout",
          "output_type": "stream",
          "text": [
            "f_clearing: 17.000000 GHz, P_clearing: 2.000000 dBm\n",
            "Clearing tone set to 17.000000 GHz with power 2.0 dBm\n"
          ]
        },
        {
          "name": "stderr",
          "output_type": "stream",
          "text": [
            "100%|██████████| 9/9 [01:21<00:00,  9.04s/it]\n"
          ]
        },
        {
          "name": "stdout",
          "output_type": "stream",
          "text": [
            "f_clearing: 17.000000 GHz, P_clearing: 5.000000 dBm\n",
            "Clearing tone set to 17.000000 GHz with power 5.0 dBm\n"
          ]
        },
        {
          "name": "stderr",
          "output_type": "stream",
          "text": [
            "100%|██████████| 9/9 [01:21<00:00,  9.04s/it]\n"
          ]
        },
        {
          "name": "stdout",
          "output_type": "stream",
          "text": [
            "f_clearing: 17.000000 GHz, P_clearing: 8.000000 dBm\n",
            "Clearing tone set to 17.000000 GHz with power 8.0 dBm\n"
          ]
        },
        {
          "name": "stderr",
          "output_type": "stream",
          "text": [
            "100%|██████████| 9/9 [01:21<00:00,  9.05s/it]\n"
          ]
        },
        {
          "name": "stdout",
          "output_type": "stream",
          "text": [
            "f_clearing: 17.000000 GHz, P_clearing: 11.000000 dBm\n",
            "Clearing tone set to 17.000000 GHz with power 11.0 dBm\n"
          ]
        },
        {
          "name": "stderr",
          "output_type": "stream",
          "text": [
            "100%|██████████| 9/9 [01:21<00:00,  9.04s/it]\n"
          ]
        },
        {
          "name": "stdout",
          "output_type": "stream",
          "text": [
            "f_clearing: 17.000000 GHz, P_clearing: 14.000000 dBm\n",
            "Clearing tone set to 17.000000 GHz with power 14.0 dBm\n"
          ]
        },
        {
          "name": "stderr",
          "output_type": "stream",
          "text": [
            "100%|██████████| 9/9 [01:21<00:00,  9.03s/it]\n"
          ]
        },
        {
          "name": "stdout",
          "output_type": "stream",
          "text": [
            "f_clearing: 17.000000 GHz, P_clearing: 17.000000 dBm\n",
            "Clearing tone set to 17.000000 GHz with power 17.0 dBm\n"
          ]
        },
        {
          "name": "stderr",
          "output_type": "stream",
          "text": [
            "100%|██████████| 9/9 [01:21<00:00,  9.03s/it]\n"
          ]
        },
        {
          "name": "stdout",
          "output_type": "stream",
          "text": [
            "Finished loop for phi = 0.500 in 41407.19 seconds\n",
            "\n",
            "\n",
            "Estimated remaining time: 0.00 seconds\n",
            "Finished flux sweep for L1A in 41407.19 seconds\n"
          ]
        }
      ],
      "source": [
        "start_time = time.time()\n",
        "\n",
        "for phi in phi_arr:\n",
        "    print(\"=\"*50)\n",
        "    voltage = phi_to_voltage(phi, best_fit, unit='V')\n",
        "    print(f\"phi: {phi:.6f}, voltage: {voltage:.6f} V\")\n",
        "    set_flux_bias_srs(voltage, step = 5e-5)\n",
        "    \n",
        "    turn_off_LO()\n",
        "    turn_off_clearing()\n",
        "    f_phi, f_drive = find_resonance(phi, span, best_fit, vna_power, vna_avg, electrical_delay, detuning, show_plot=False)\n",
        "    set_LO_tone(f_drive, f_d_power)\n",
        "    print(f\"f_phi: {f_phi*1e-9:.6f} GHz, f_drive: {f_drive*1e-9:.6f} GHz\") \n",
        "\n",
        "    for f_clearing in f_clearing_arr:\n",
        "        for P_clearing in P_clearing_arr:\n",
        "            print(f\"f_clearing: {f_clearing:.6f} GHz, P_clearing: {P_clearing:.6f} dBm\")\n",
        "            set_clearing_tone(f_clearing, P_clearing)\n",
        "            logging.info(f'\\nStarting Alazar acquisition at phi = {phi:.3f} while driving at {f_drive:.6f} GHz')\n",
        "            savefile = acquire_IQ_data(phi, f_clearing, P_clearing, num_traces, acquisitionLength_sec, origRateMHz, sampleRateMHz, averageTimeCycle, lowerBound, upperBound)\n",
        "            write_metadata(savefile, acquisitionLength_sec, origRateMHz, f_drive, voltage, T_MXC, T_Rad, phi, f_clearing, P_clearing)\n",
        "            sleep(0.5)\n",
        "\n",
        "    logging.info(f'Finished loop for phi = {phi:.3f} in {time.time() - start_time:.2f} seconds')\n",
        "    print(f'Finished loop for phi = {phi:.3f} in {time.time() - start_time:.2f} seconds')\n",
        "    current_idx = np.where(phi_arr == phi)[0][0]  # Get the index of current phi\n",
        "    remaining_time = (time.time() - start_time) * (len(phi_arr) - current_idx - 1) / (current_idx + 1)\n",
        "    print(f'\\n\\nEstimated remaining time: {remaining_time:.2f} seconds')\n",
        "    logging.info(f'Estimated remaining time: {remaining_time:.2f} seconds')\n",
        "\n",
        "# Close the log file\n",
        "print(f'Finished flux sweep for {device_name} in {time.time() - start_time:.2f} seconds')\n",
        "logging.info(f'Finished flux sweep for {device_name} in {time.time() - start_time:.2f} seconds')"
      ]
    },
    {
      "cell_type": "code",
      "execution_count": null,
      "metadata": {},
      "outputs": [],
      "source": []
    }
  ],
  "metadata": {
    "kernelspec": {
      "display_name": "lfl_tools",
      "language": "python",
      "name": "python3"
    },
    "language_info": {
      "codemirror_mode": {
        "name": "ipython",
        "version": 3
      },
      "file_extension": ".py",
      "mimetype": "text/x-python",
      "name": "python",
      "nbconvert_exporter": "python",
      "pygments_lexer": "ipython3",
      "version": "3.11.4"
    }
  },
  "nbformat": 4,
  "nbformat_minor": 2
}
