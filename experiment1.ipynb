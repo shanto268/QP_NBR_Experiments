{
  "cells": [
    {
      "cell_type": "markdown",
      "metadata": {},
      "source": [
        "# Experiment 1: Acquiring time-domain IQ data following the flux curve and varying the clearing tone frequency and power\n",
        "\n",
        "**Goal:**\n",
        "\n",
        "Get `release_rates(clearing_tone_freq, clearing_tone_power, phi)`\n",
        "\n",
        "**Method:**\n",
        "\n",
        "- Vary phi, find f(phi), set drive tone to f(phi) - detuning\n",
        "- Vary clearing tone and clearing power and record I,Q data\n",
        "- Run HMM analysis on the recorded data to get the rates\n",
        "\n",
        "\n"
      ]
    },
    {
      "cell_type": "code",
      "execution_count": 1,
      "metadata": {},
      "outputs": [],
      "source": [
        "%load_ext autoreload\n",
        "%autoreload 2"
      ]
    },
    {
      "cell_type": "code",
      "execution_count": 2,
      "metadata": {},
      "outputs": [],
      "source": [
        "%matplotlib inline"
      ]
    },
    {
      "cell_type": "code",
      "execution_count": 3,
      "metadata": {},
      "outputs": [],
      "source": [
        "from flux_fit import *\n",
        "from utils import *"
      ]
    },
    {
      "cell_type": "code",
      "execution_count": 6,
      "metadata": {},
      "outputs": [],
      "source": [
        "!python -m srsinst.dc205"
      ]
    },
    {
      "cell_type": "markdown",
      "metadata": {},
      "source": [
        "## Setting up the Experiment\n"
      ]
    },
    {
      "cell_type": "markdown",
      "metadata": {},
      "source": [
        "### Variables and Constants"
      ]
    },
    {
      "cell_type": "code",
      "execution_count": null,
      "metadata": {},
      "outputs": [],
      "source": [
        "project_name = \"Andreev_Spectroscopy\"\n",
        "device_name = \"L1A\"\n",
        "run_id = 1\n",
        "T_MXC = 26\n",
        "T_Rad = 1.8\n",
        "experiment_name = f\"{device_name}_RUN{run_id}\"\n",
        "\n",
        "drive_path = r\"E:\\Quasiparticles\"\n",
        "data_path = set_project(r\"{}\\{}\".format(drive_path, project_name), f\"{experiment_name}\")\n",
        "\n",
        "# Constants\n",
        "SPATH = data_path\n",
        "FIG_PATH = os.path.join(SPATH, \"Figures\")\n",
        "LOG_FILE = os.path.join(SPATH, f'MEASUREMENTLOG_{time.strftime(\"%Y%m%d_%H%M%S\")}.log')\n",
        "PATH_TO_EXE = r'C:/Users/LFL/lflPython/AlazarDrivers/CS_Average/x64/Release/ATS9371_CS_Average.exe'\n",
        "\n",
        "# Ensure directories exist\n",
        "os.makedirs(FIG_PATH, exist_ok=True)\n",
        "\n",
        "# Setup logging\n",
        "logging.basicConfig(filename=LOG_FILE, filemode='w', level=logging.INFO)"
      ]
    },
    {
      "cell_type": "markdown",
      "metadata": {},
      "source": [
        "The resonances from the flux fit curve - \"G:\\Shared drives\\Labber\\Data\\2025\\03\\Data_03016\\NBRL1A_flux_sweep_25mK.hdf5\" "
      ]
    },
    {
      "cell_type": "code",
      "execution_count": 5,
      "metadata": {},
      "outputs": [],
      "source": [
        "resonances = np.array([5.7602,5.7526,5.7406,5.7227,5.7451,5.7558,5.7626,5.7681,5.7718,5.7748,5.7772,5.779,5.7806,5.78042,5.78079,5.78079,5.78035,5.7798,5.7786,5.777,5.77509,5.77231,5.768,5.76335,5.757,5.7482,5.7347,5.7126,5.7493,5.7579])"
      ]
    },
    {
      "cell_type": "markdown",
      "metadata": {},
      "source": [
        "The sweep voltages for this run was from 28 mV to -30 mV in steps of 2. We want to fit the single flux quanta."
      ]
    },
    {
      "cell_type": "code",
      "execution_count": 6,
      "metadata": {},
      "outputs": [],
      "source": [
        "V_start = 28\n",
        "V_end = -30\n",
        "steps = -2\n",
        "remove_first=3\n",
        "remove_last=2"
      ]
    },
    {
      "cell_type": "code",
      "execution_count": null,
      "metadata": {},
      "outputs": [],
      "source": [
        "voltages = get_voltage_array(V_start, V_end, steps)\n",
        "best_fit = fit_resonance_data(resonances, V_start, V_end, steps, remove_first, remove_last)\n",
        "best_fit"
      ]
    },
    {
      "cell_type": "markdown",
      "metadata": {},
      "source": [
        "We want to keep track of the other flux quanta branches for accurate frequency mapping."
      ]
    },
    {
      "cell_type": "code",
      "execution_count": null,
      "metadata": {},
      "outputs": [],
      "source": [
        "ofq = other_flux_quanta_resonances(resonances, voltages, remove_first, remove_last, best_fit)\n",
        "ofq"
      ]
    },
    {
      "cell_type": "markdown",
      "metadata": {},
      "source": [
        "some test"
      ]
    },
    {
      "cell_type": "code",
      "execution_count": null,
      "metadata": {},
      "outputs": [],
      "source": [
        "print(voltage_to_flux_quanta(-24,best_fit))\n",
        "print(flux_quanta_to_frequency(0.47, best_fit))\n",
        "print(find_mapped_resonance(0.47, best_fit))\n",
        "print(phi_to_voltage(0.47, best_fit, unit='mV'))"
      ]
    },
    {
      "cell_type": "markdown",
      "metadata": {},
      "source": [
        "Setting up the phi's and getting the required voltage array with the detuning for the drive tone.\n",
        "\n",
        "From Eli\n",
        "\n",
        "\"Start ~500 MHz above the resonator and go up to 18 GHz (bandwidth limit of SMA cables). Power, start ~ 5 dB below where you get resonance suppression, maybe go down to 20 dB lower\""
      ]
    },
    {
      "cell_type": "code",
      "execution_count": null,
      "metadata": {},
      "outputs": [],
      "source": [
        "phi_low, phi_high = -0.5, -0.3\n",
        "num_points = 10\n",
        "phi_arr = np.linspace(phi_low, phi_high, num_points)\n",
        "# reverse the phi_arr if negative phis\n",
        "#phi_arr = phi_arr[::-1]\n",
        "phi_arr"
      ]
    },
    {
      "cell_type": "code",
      "execution_count": null,
      "metadata": {},
      "outputs": [],
      "source": [
        "v_arr, f_arr = from_flux_fit(phi_arr, best_fit, ofq) # mV, GHz"
      ]
    },
    {
      "cell_type": "code",
      "execution_count": null,
      "metadata": {},
      "outputs": [],
      "source": [
        "plot_sweep_points(v_arr, f_arr, phi_arr)"
      ]
    },
    {
      "cell_type": "markdown",
      "metadata": {},
      "source": [
        "### Instrument Setup"
      ]
    },
    {
      "cell_type": "code",
      "execution_count": null,
      "metadata": {},
      "outputs": [],
      "source": [
        "client = Labber.connectToServer(timeout=None)\n",
        "instrument_list = client.getListOfInstruments()\n",
        "instruments = create_instrument_connections(client, instrument_list)"
      ]
    },
    {
      "cell_type": "markdown",
      "metadata": {},
      "source": [
        "The labber instrument server config is saved as a hdf5 file in this repository. Instantiating the instruments we need now."
      ]
    },
    {
      "cell_type": "code",
      "execution_count": 11,
      "metadata": {},
      "outputs": [],
      "source": [
        "vs = connect_SRS()\n",
        "VNA = instruments['Agilent Network Analyzer E5071B']\n",
        "DA = instruments['Vaunix Lab Brick Digital Attenuator']\n",
        "SMU = instruments['Keithley 2400 SourceMeter']\n",
        "LO= instruments['SignalCore SC5511A Signal Generator_10002F25']\n",
        "Drive= instruments['SignalCore SC5511A Signal Generator_1000334C']\n",
        "TWPA_PUMP = instruments['Rohde&Schwarz RF Source']\n",
        "\n",
        "initialize_instruments(VNA, DA, SMU, LO, Drive, vs, TWPA_PUMP)"
      ]
    },
    {
      "cell_type": "code",
      "execution_count": null,
      "metadata": {},
      "outputs": [],
      "source": [
        "vs.check_id()"
      ]
    },
    {
      "cell_type": "code",
      "execution_count": null,
      "metadata": {},
      "outputs": [],
      "source": [
        "# VNA + LO Drive\n",
        "span = 10e6 # Hz\n",
        "electrical_delay = 82.584e-9 # s\n",
        "vna_power = 5\n",
        "vna_avg = 20\n",
        "f_d_power = 16\n",
        "\n",
        "# Clearing\n",
        "f_low, f_high = 5, 17\n",
        "f_step = 3\n",
        "f_clearing_arr = np.arange(f_low, f_high+f_step, f_step)\n",
        "print(f\"f_clearing_arr: {f_clearing_arr}\")\n",
        "\n",
        "P_low, P_high = -10, 17\n",
        "P_step = 3\n",
        "P_clearing_arr = np.arange(P_low, P_high+P_step, P_step)\n",
        "print(f\"P_clearing_arr: {P_clearing_arr}\")"
      ]
    },
    {
      "cell_type": "markdown",
      "metadata": {},
      "source": [
        "From previous runs, I have seen that one sweep point data generates about 1.7 GB of data and takes about a 1.5 minutes (for VNA average set to 20)."
      ]
    },
    {
      "cell_type": "code",
      "execution_count": null,
      "metadata": {},
      "outputs": [],
      "source": [
        "print(f\"Predicted total data size: {len(phi_arr)*len(f_clearing_arr)*len(P_clearing_arr)*1.5} GB\")\n",
        "print(f\"Predicted total time: {len(phi_arr)*len(f_clearing_arr)*len(P_clearing_arr)*1.5/60} hours\")"
      ]
    },
    {
      "cell_type": "code",
      "execution_count": 15,
      "metadata": {},
      "outputs": [],
      "source": [
        "num_traces=1\n",
        "acquisitionLength_sec=5\n",
        "origRateMHz=300\n",
        "sampleRateMHz=10\n",
        "averageTimeCycle=0\n",
        "lowerBound=14 # dB for DA attenuator\n",
        "upperBound=30# dB for DA attenuator"
      ]
    },
    {
      "cell_type": "markdown",
      "metadata": {},
      "source": [
        "## The driver code"
      ]
    },
    {
      "cell_type": "code",
      "execution_count": null,
      "metadata": {},
      "outputs": [],
      "source": [
        "# Create a log file for the VNA data\n",
        "lfVNA = Labber.createLogFile_ForData(os.path.join(SPATH, f'{device_name}_{project_name}_run-{run_id}_flux_sweep'),\n",
        "                                      [{'name':'VNA - S21','complex':True,'vector':True,'x_name':'Frequency','x_unit':'Hz'}],\n",
        "                                      step_channels=[{'name':'Phi','values':phi_arr,'unit':'flux quanta'}])\n",
        "initialize_logging(lfVNA, SPATH, PATH_TO_EXE, FIG_PATH, experiment_name, device_name)"
      ]
    },
    {
      "cell_type": "markdown",
      "metadata": {},
      "source": [
        "Verify the environment\n"
      ]
    },
    {
      "cell_type": "code",
      "execution_count": null,
      "metadata": {},
      "outputs": [],
      "source": [
        "verify_environment()"
      ]
    },
    {
      "cell_type": "markdown",
      "metadata": {},
      "source": [
        "Run pre-experiment checks"
      ]
    },
    {
      "cell_type": "code",
      "execution_count": null,
      "metadata": {},
      "outputs": [],
      "source": [
        "pre_experiment_checks()"
      ]
    },
    {
      "cell_type": "markdown",
      "metadata": {},
      "source": [
        "We have checked in advance that the TWPA pump with the following configuration gives us +20 dB in the entire frequency range of interest."
      ]
    },
    {
      "cell_type": "code",
      "execution_count": 17,
      "metadata": {},
      "outputs": [],
      "source": [
        "set_TWPA_pump(f=6.04, power=27)"
      ]
    },
    {
      "cell_type": "markdown",
      "metadata": {},
      "source": [
        "We have done some rough analysis and found that the QP induced frequency shift is roughly 0.5 MHz so this is what we are going to set as the detuning.\n"
      ]
    },
    {
      "cell_type": "code",
      "execution_count": 18,
      "metadata": {},
      "outputs": [],
      "source": [
        "detuning = 0.5e6 # Hz"
      ]
    },
    {
      "cell_type": "markdown",
      "metadata": {},
      "source": [
        "## Running the experiment without the data transfer daemon:"
      ]
    },
    {
      "cell_type": "code",
      "execution_count": null,
      "metadata": {},
      "outputs": [],
      "source": [
        "start_time = time.time()\n",
        "\n",
        "for phi in phi_arr:\n",
        "    print(\"=\"*50)\n",
        "    voltage = phi_to_voltage(phi, best_fit, unit='V')\n",
        "    print(f\"phi: {phi:.6f}, voltage: {voltage:.6f} V\")\n",
        "    set_flux_bias_srs(voltage, step = 5e-5)\n",
        "    \n",
        "    turn_off_LO()\n",
        "    turn_off_clearing()\n",
        "    DA.setValue('Attenuation', np.average([lowerBound, upperBound]))\n",
        "    f_phi, f_drive = find_resonance(phi, span, best_fit, vna_power, vna_avg, electrical_delay, detuning, show_plot=False, ofq=ofq)\n",
        "    set_LO_tone(f_drive, f_d_power)\n",
        "    print(f\"f_phi: {f_phi*1e-9:.6f} GHz, f_drive: {f_drive*1e-9:.6f} GHz\") \n",
        "\n",
        "    for f_clearing in f_clearing_arr:\n",
        "        for P_clearing in P_clearing_arr:\n",
        "            print(f\"f_clearing: {f_clearing:.6f} GHz, P_clearing: {P_clearing:.6f} dBm\")\n",
        "            set_clearing_tone(f_clearing, P_clearing)\n",
        "            logging.info(f'\\nStarting Alazar acquisition at phi = {phi:.3f} while driving at {f_drive:.6f} GHz')\n",
        "            # Updated these two lines\n",
        "            metadata_files = acquire_IQ_data(phi, f_clearing, P_clearing, num_traces, acquisitionLength_sec, origRateMHz, sampleRateMHz, averageTimeCycle, lowerBound, upperBound)\n",
        "            for metadata_file in metadata_files:\n",
        "                write_metadata(metadata_file, acquisitionLength_sec, origRateMHz, f_drive, voltage, T_MXC, T_Rad, phi, f_clearing, P_clearing)\n",
        "            sleep(0.1)\n",
        "\n",
        "    logging.info(f'Finished loop for phi = {phi:.3f} in {time.time() - start_time:.2f} seconds')\n",
        "    print(f'Finished loop for phi = {phi:.3f} in {time.time() - start_time:.2f} seconds')\n",
        "    current_idx = np.where(phi_arr == phi)[0][0]  # Get the index of current phi\n",
        "    remaining_time = (time.time() - start_time) * (len(phi_arr) - current_idx - 1) / (current_idx + 1)\n",
        "    print(f'\\n\\nEstimated remaining time: {remaining_time:.2f} seconds')\n",
        "    logging.info(f'Estimated remaining time: {remaining_time:.2f} seconds')\n",
        "\n",
        "# Close the log file\n",
        "print(f'Finished flux sweep for {device_name} in {time.time() - start_time:.2f} seconds')\n",
        "logging.info(f'Finished flux sweep for {device_name} in {time.time() - start_time:.2f} seconds')\n",
        "\n"
      ]
    },
    {
      "cell_type": "markdown",
      "metadata": {},
      "source": [
        "## Running the experiment with the data transfer daemon:"
      ]
    },
    {
      "cell_type": "code",
      "execution_count": null,
      "metadata": {},
      "outputs": [],
      "source": [
        "try:\n",
        "    # Start the daemon\n",
        "    daemon_process = start_transfer_daemon()\n",
        "    \n",
        "    # Main experiment loop\n",
        "    start_time = time.time()\n",
        "    try:\n",
        "        for phi in phi_arr:\n",
        "            print(\"=\"*50)\n",
        "            voltage = phi_to_voltage(phi, best_fit, unit='V')\n",
        "            print(f\"phi: {phi:.6f}, voltage: {voltage:.6f} V\")\n",
        "            set_flux_bias_srs(voltage, step = 5e-5)\n",
        "            \n",
        "            turn_off_LO()\n",
        "            turn_off_clearing()\n",
        "            f_phi, f_drive = find_resonance(phi, span, best_fit, vna_power, vna_avg, \n",
        "                                          electrical_delay, detuning, show_plot=False, ofq=ofq)\n",
        "            set_LO_tone(f_drive, f_d_power)\n",
        "            print(f\"f_phi: {f_phi*1e-9:.6f} GHz, f_drive: {f_drive*1e-9:.6f} GHz\") \n",
        "\n",
        "            for f_clearing in f_clearing_arr:\n",
        "                for P_clearing in P_clearing_arr:\n",
        "                    print(f\"f_clearing: {f_clearing:.6f} GHz, P_clearing: {P_clearing:.6f} dBm\")\n",
        "                    set_clearing_tone(f_clearing, P_clearing)\n",
        "                    logging.info(f'\\nStarting Alazar acquisition at phi = {phi:.3f} '\n",
        "                               f'while driving at {f_drive:.6f} GHz')\n",
        "                    \n",
        "                    savefile = acquire_IQ_data(phi, f_clearing, P_clearing, num_traces,\n",
        "                                             acquisitionLength_sec, origRateMHz, sampleRateMHz,\n",
        "                                             averageTimeCycle, lowerBound, upperBound)\n",
        "                    \n",
        "                    write_metadata(savefile, acquisitionLength_sec, origRateMHz, f_drive,\n",
        "                                 voltage, T_MXC, T_Rad, phi, f_clearing, P_clearing)\n",
        "                    \n",
        "                    # Check storage space periodically\n",
        "                    check_storage_space(SPATH, required_gb=50)  # Adjust threshold as needed\n",
        "                    sleep(0.5)\n",
        "\n",
        "            # Progress logging\n",
        "            logging.info(f'Finished loop for phi = {phi:.3f} in {time.time() - start_time:.2f} seconds')\n",
        "            print(f'Finished loop for phi = {phi:.3f} in {time.time() - start_time:.2f} seconds')\n",
        "            \n",
        "            current_idx = np.where(phi_arr == phi)[0][0]\n",
        "            remaining_time = (time.time() - start_time) * (len(phi_arr) - current_idx - 1) / (current_idx + 1)\n",
        "            print(f'\\n\\nEstimated remaining time: {remaining_time:.2f} seconds')\n",
        "            logging.info(f'Estimated remaining time: {remaining_time:.2f} seconds')\n",
        "\n",
        "    except Exception as exp_error:\n",
        "        logging.error(f\"Error during experiment: {str(exp_error)}\")\n",
        "        raise\n",
        "\n",
        "    finally:\n",
        "        # Experiment cleanup\n",
        "        print(f'Finished flux sweep for {device_name} in {time.time() - start_time:.2f} seconds')\n",
        "        logging.info(f'Finished flux sweep for {device_name} in {time.time() - start_time:.2f} seconds')\n",
        "\n",
        "except Exception as setup_error:\n",
        "    logging.error(f\"Setup error: {str(setup_error)}\")\n",
        "    raise\n",
        "\n",
        "finally:\n",
        "    # Final cleanup\n",
        "    try:\n",
        "        # Stop the daemon\n",
        "        stop_transfer_daemon(daemon_process)\n",
        "        \n",
        "        # Cleanup instruments\n",
        "        turn_off_TWPA_pump()\n",
        "        turn_off_LO()\n",
        "        turn_off_clearing()\n",
        "        turn_off_vna()\n",
        "        turn_off_SRS(vs)\n",
        "        \n",
        "        logging.info(\"Cleanup completed successfully\")\n",
        "    except Exception as cleanup_error:\n",
        "        logging.error(f\"Error during cleanup: {str(cleanup_error)}\")"
      ]
    }
  ],
  "metadata": {
    "kernelspec": {
      "display_name": "Python (dopey)",
      "language": "python",
      "name": "resonator-fitting-env"
    }
  },
  "nbformat": 4,
  "nbformat_minor": 2
}
