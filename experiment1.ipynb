{
 "cells": [
  {
   "cell_type": "markdown",
   "metadata": {},
   "source": [
    "# Experiment 1: Acquiring time-domain IQ data following the flux curve and varying the clearing tone frequency and power\n",
    "\n",
    "**Goal:**\n",
    "\n",
    "Get `release_rates(clearing_tone_freq, clearing_tone_power)`\n",
    "\n",
    "**Method:**\n",
    "\n",
    "- Vary phi, find f(phi), set drive tone to f(phi)\n",
    "- Vary clearing tone and clearing power and record I,Q data\n",
    "- Run HMM analysis on the recorded data to get the rates\n",
    "\n",
    "\n"
   ]
  },
  {
   "cell_type": "code",
   "execution_count": 1,
   "metadata": {},
   "outputs": [],
   "source": [
    "%matplotlib inline\n",
    "%load_ext autoreload\n",
    "%autoreload 2\n"
   ]
  },
  {
   "cell_type": "code",
   "execution_count": 2,
   "metadata": {},
   "outputs": [],
   "source": [
    "import numpy as np\n",
    "import os\n",
    "import time\n",
    "from tqdm import tqdm\n",
    "import numpy as np\n",
    "import matplotlib.pyplot as plt\n",
    "import subprocess\n",
    "from scipy.optimize import curve_fit, minimize, Bounds, dual_annealing\n",
    "from time import perf_counter, sleep\n",
    "import pickle\n",
    "import logging\n",
    "from tqdm import tqdm"
   ]
  },
  {
   "cell_type": "code",
   "execution_count": null,
   "metadata": {},
   "outputs": [],
   "source": [
    "import fitTools.quasiparticleFunctions as qp\n",
    "from fitTools.utilities import dBm2Watt, Watt2dBm\n",
    "from srsinst.dc205 import DC205\n",
    "import Labber\n",
    "from VISAdrivers.continuousAlazar import ADC"
   ]
  },
  {
   "cell_type": "code",
   "execution_count": 3,
   "metadata": {},
   "outputs": [],
   "source": [
    "from utils import *\n",
    "from flux_fit import *"
   ]
  },
  {
   "cell_type": "markdown",
   "metadata": {},
   "source": [
    "## Setting up the Experiment\n"
   ]
  },
  {
   "cell_type": "markdown",
   "metadata": {},
   "source": [
    "### Variables and Constants"
   ]
  },
  {
   "cell_type": "code",
   "execution_count": null,
   "metadata": {},
   "outputs": [],
   "source": [
    "project_name = \"Andreev_Spectroscopy\"\n",
    "device_name = \"L1A\"\n",
    "T_MXC = 26\n",
    "T_Rad = 1.8\n",
    "experiment_name = f\"{device_name}_test\"\n",
    "\n",
    "drive_path = r\"G:\\Shared drives\\Quasiparticles_2\"\n",
    "data_path = set_project(r\"{}\\{}\".format(drive_path, project_name), f\"{experiment_name}\")\n",
    "\n",
    "# Constants\n",
    "SPATH = data_path\n",
    "FIG_PATH = os.path.join(SPATH, \"Figures\")\n",
    "LOG_FILE = os.path.join(SPATH, f'MEASUREMENTLOG_{time.strftime(\"%Y%m%d_%H%M%S\")}.log')\n",
    "PATH_TO_EXE = r'C:/Users/LFL/lflPython/AlazarDrivers/CS_Average/x64/Release/ATS9371_CS_Average.exe'\n",
    "\n",
    "# Ensure directories exist\n",
    "os.makedirs(FIG_PATH, exist_ok=True)\n",
    "\n",
    "# Setup logging\n",
    "logging.basicConfig(filename=LOG_FILE, filemode='w', level=logging.INFO)\n"
   ]
  },
  {
   "cell_type": "markdown",
   "metadata": {},
   "source": [
    "The best fit parameters from the flux fit curve - \"G:\\Shared drives\\Labber\\Data\\2025\\03\\Data_03016\\NBRL1A_flux_sweep_25mK.hdf5\""
   ]
  },
  {
   "cell_type": "code",
   "execution_count": 4,
   "metadata": {},
   "outputs": [],
   "source": [
    "best_fit = {'w0': 5.781696425756177,\n",
    " 'q0': 0.02019771764678007,\n",
    " 'V_period': -53.166666666666664,\n",
    " 'V_offset': 1.0000000000000036,\n",
    " 'error': 0.00011195976902623324}"
   ]
  },
  {
   "cell_type": "markdown",
   "metadata": {},
   "source": [
    "some test"
   ]
  },
  {
   "cell_type": "code",
   "execution_count": 22,
   "metadata": {},
   "outputs": [
    {
     "name": "stdout",
     "output_type": "stream",
     "text": [
      "0.4702194357366772\n",
      "5.711812537542725\n",
      "5.711812537542725\n",
      "-0.0023988333333333327\n"
     ]
    }
   ],
   "source": [
    "print(voltage_to_flux_quanta(-24,best_fit))\n",
    "print(flux_quanta_to_frequency(0.47, best_fit))\n",
    "print(find_mapped_resonance(0.47, best_fit))\n",
    "print(phi_to_voltage(0.47, best_fit, unit='V'))"
   ]
  },
  {
   "cell_type": "code",
   "execution_count": 23,
   "metadata": {},
   "outputs": [
    {
     "data": {
      "text/plain": [
       "-0.0023"
      ]
     },
     "execution_count": 23,
     "metadata": {},
     "output_type": "execute_result"
    }
   ],
   "source": [
    "-2.3E-3"
   ]
  },
  {
   "cell_type": "markdown",
   "metadata": {},
   "source": [
    "Setting up the phi's and getting the required voltage array with the detuning for the drive tone.\n",
    "\n",
    "From Eli\n",
    "\n",
    "\"Start ~500 MHz above the resonator and go up to 18 GHz (bandwidth limit of SMA cables). Power, start ~ 5 dB below where you get resonance suppression, maybe go down to 20 dB lower\""
   ]
  },
  {
   "cell_type": "code",
   "execution_count": 12,
   "metadata": {},
   "outputs": [],
   "source": [
    "phi_low, phi_high = 0, 0.1\n",
    "num_points = 2\n",
    "phi_arr = np.linspace(phi_low, phi_high, num_points)"
   ]
  },
  {
   "cell_type": "code",
   "execution_count": 17,
   "metadata": {},
   "outputs": [
    {
     "name": "stderr",
     "output_type": "stream",
     "text": [
      "[autoreload of utils failed: Traceback (most recent call last):\n",
      "  File \"/Users/shanto/anaconda3/envs/lfl_tools/lib/python3.11/site-packages/IPython/extensions/autoreload.py\", line 276, in check\n",
      "    superreload(m, reload, self.old_objects)\n",
      "  File \"/Users/shanto/anaconda3/envs/lfl_tools/lib/python3.11/site-packages/IPython/extensions/autoreload.py\", line 475, in superreload\n",
      "    module = reload(module)\n",
      "             ^^^^^^^^^^^^^^\n",
      "  File \"/Users/shanto/anaconda3/envs/lfl_tools/lib/python3.11/importlib/__init__.py\", line 169, in reload\n",
      "    _bootstrap._exec(spec, module)\n",
      "  File \"<frozen importlib._bootstrap>\", line 621, in _exec\n",
      "  File \"<frozen importlib._bootstrap_external>\", line 940, in exec_module\n",
      "  File \"<frozen importlib._bootstrap>\", line 241, in _call_with_frames_removed\n",
      "  File \"/Users/shanto/LFL/QPs/QP_NBR_Experiments/utils.py\", line 8, in <module>\n",
      "    import fitTools.quasiparticleFunctions as qp\n",
      "ModuleNotFoundError: No module named 'fitTools'\n",
      "]\n"
     ]
    }
   ],
   "source": [
    "v_arr, f_arr = from_flux_fit(phi_arr, best_fit) # mV, GHz"
   ]
  },
  {
   "cell_type": "code",
   "execution_count": 18,
   "metadata": {},
   "outputs": [
    {
     "data": {
      "image/png": "[encoded data removed]",
      "text/plain": [
       "<Figure size 1000x500 with 2 Axes>"
      ]
     },
     "metadata": {},
     "output_type": "display_data"
    }
   ],
   "source": [
    "plot_sweep_points(v_arr, f_arr, phi_arr)"
   ]
  },
  {
   "cell_type": "markdown",
   "metadata": {},
   "source": [
    "### Instrument Setup"
   ]
  },
  {
   "cell_type": "code",
   "execution_count": null,
   "metadata": {},
   "outputs": [],
   "source": [
    "client = Labber.connectToServer(timeout=None)\n",
    "instrument_list = client.getListOfInstruments()\n",
    "instruments = create_instrument_connections(client, instrument_list)"
   ]
  },
  {
   "cell_type": "markdown",
   "metadata": {},
   "source": [
    "The labber instrument server config is saved as a hdf5 file in this repository. Instantiating the instruments we need now."
   ]
  },
  {
   "cell_type": "code",
   "execution_count": null,
   "metadata": {},
   "outputs": [],
   "source": [
    "vs = connect_SRS()\n",
    "VNA = instruments['Agilent Network Analyzer E5071B']\n",
    "DA = instruments['Vaunix Lab Brick Digital Attenuator']\n",
    "SMU = instruments['Keithley 2400 SourceMeter']\n",
    "LO= instruments['SignalCore SC5511A Signal Generator_10002F25']\n",
    "Drive= instruments['SignalCore SC5511A Signal Generator_1000334C']"
   ]
  },
  {
   "cell_type": "code",
   "execution_count": null,
   "metadata": {},
   "outputs": [],
   "source": [
    "# VNA + LO Drive\n",
    "span = 10e6 # Hz\n",
    "electrical_delay = 82.584e-9 # s\n",
    "vna_power = 5\n",
    "vna_avg = 5\n",
    "f_d_power = 16\n",
    "\n",
    "# Clearing\n",
    "f_low, f_high = 5, 17\n",
    "f_step = 1\n",
    "f_clearing_arr = np.arange(f_low, f_high+f_step, f_step)\n",
    "\n",
    "P_low, P_high = -10, 17\n",
    "P_step = 1\n",
    "P_clearing_arr = np.arange(P_low, P_high+P_step, P_step)"
   ]
  },
  {
   "cell_type": "code",
   "execution_count": null,
   "metadata": {},
   "outputs": [],
   "source": [
    "num_traces=1\n",
    "acquisitionLength_sec=5\n",
    "origRateMHz=300\n",
    "sampleRateMHz=10\n",
    "averageTimeCycle=0\n",
    "lowerBound=12 # dB for DA attenuator\n",
    "upperBound=40 # dB for DA attenuator"
   ]
  },
  {
   "cell_type": "markdown",
   "metadata": {},
   "source": [
    "## The driver code"
   ]
  },
  {
   "cell_type": "code",
   "execution_count": null,
   "metadata": {},
   "outputs": [],
   "source": [
    "# Create a log file for the VNA data\n",
    "lfVNA = Labber.createLogFile_ForData(f'{device_name}_flux_sweep',\n",
    "                                      [{'name':f'{VNA.name} - S21','complex':True,'vector':True,'x_name':'Frequency','x_unit':'Hz'}],\n",
    "                                      step_channels=[{'name':'Phi','values':phi_arr,'unit':'flux quanta'}])"
   ]
  },
  {
   "cell_type": "code",
   "execution_count": null,
   "metadata": {},
   "outputs": [],
   "source": [
    "# test\n",
    "f_clearing_arr = [5,16]\n",
    "P_clearing_arr = [-10,15]\n",
    "\n",
    "for phi in phi_arr:\n",
    "    voltage = phi_to_voltage(phi, best_fit, unit='V')\n",
    "    # set_flux_bias_srs(voltage, step = 5e-5)\n",
    "    print(f\"phi: {phi:.6f}, voltage: {voltage:.6f} V\")\n",
    "    f_phi, f_drive = find_resonance(phi, span, best_fit, vna_power, vna_avg, electrical_delay)\n",
    "    print(f\"f_phi: {f_phi:.6f} GHz, f_drive: {f_drive:.6f} GHz\")\n",
    "    # set_drive_tone(f_drive, f_d_power)\n",
    "\n",
    "    for f_clearing in f_clearing_arr:\n",
    "        for P_clearing in P_clearing_arr:\n",
    "            print(f\"f_clearing: {f_clearing:.6f} GHz, P_clearing: {P_clearing:.6f} dBm\")\n",
    "            # set_clearing_tone(f_clearing, P_clearing)\n",
    "            logging.info(f'\\nStarting Alazar acquisition at phi = {phi:.3f} while driving at {f_drive:.6f} GHz')\n",
    "            # savefile = acquire_IQ_data(phi, num_traces, acquisitionLength_sec, origRateMHz, sampleRateMHz, averageTimeCycle, lowerBound, upperBound)\n",
    "            # write_metadata(savefile, acquisitionLength_sec, origRateMHz, f_drive, voltage, T_MXC, T_Rad, phi, f_clearing, P_clearing)\n",
    "            sleep(0.5)"
   ]
  }
 ],
 "metadata": {
  "kernelspec": {
   "display_name": "lfl_tools",
   "language": "python",
   "name": "python3"
  },
  "language_info": {
   "codemirror_mode": {
    "name": "ipython",
    "version": 3
   },
   "file_extension": ".py",
   "mimetype": "text/x-python",
   "name": "python",
   "nbconvert_exporter": "python",
   "pygments_lexer": "ipython3",
   "version": "3.11.4"
  }
 },
 "nbformat": 4,
 "nbformat_minor": 2
}
