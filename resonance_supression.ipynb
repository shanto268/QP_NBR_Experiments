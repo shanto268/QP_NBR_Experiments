{
 "cells": [
  {
   "cell_type": "markdown",
   "id": "4e3f61cb",
   "metadata": {},
   "source": [
    "## Data Needed:\n",
    "\n",
    "1. Resonator at a biased flux point i.e. `f_res(phi)`\n",
    "2. Records of `f_res(phi)` at different clearing tone frequencies `f_clearing` and powers `P_clearing`.\n",
    "3. Since `phi` is kept constant, data set is essentially `f_res(f_clearing, P_clearing)`"
   ]
  },
  {
   "cell_type": "markdown",
   "id": "2115a581",
   "metadata": {},
   "source": [
    "## Analysis Steps:\n",
    "\n",
    "For each `f_clearing` we want to see `f_res(P_clearing)` and how it changes with `P_clearing`.\n",
    "\n",
    "In particular, we are interested to check for the following:\n",
    "\n",
    "- [ ] if `f_res` is constant with `P_clearing` for a given `f_clearing`.\n",
    "- [ ] if logmag of `f_res` moves down with `P_clearing` for a given `f_clearing`"
   ]
  },
  {
   "cell_type": "code",
   "execution_count": 2,
   "id": "ff6f06f7",
   "metadata": {},
   "outputs": [],
   "source": [
    "import Labber\n",
    "import numpy as np\n",
    "import os\n",
    "import matplotlib.pyplot as plt\n",
    "from fitTools.Resonator import Resonator\n",
    "import logging\n",
    "from resonator import reflection, see\n",
    "import pandas as pd\n",
    "from flux_fit import *\n",
    "from utils import *"
   ]
  },
  {
   "cell_type": "code",
   "execution_count": 20,
   "id": "1b264ed2",
   "metadata": {},
   "outputs": [],
   "source": [
    "fpath = r\"G:\\Shared drives\\Labber\\Data\\2025\\05\\Data_0508\\NBR_L1A_0p43_clearing_freq_power_broad.hdf5\""
   ]
  },
  {
   "cell_type": "code",
   "execution_count": 21,
   "id": "2c9dc627",
   "metadata": {},
   "outputs": [],
   "source": [
    "lf = Labber.LogFile(fpath)\n",
    "step_channels = lf.getStepChannels()\n",
    "nEntries = lf.getNumberOfEntries()\n",
    "step_channel_names = [step_channels[i][\"name\"] for i in range(len(step_channels))]"
   ]
  },
  {
   "cell_type": "code",
   "execution_count": 22,
   "id": "af1ea619",
   "metadata": {},
   "outputs": [
    {
     "data": {
      "text/plain": [
       "['1000334C_clearing - Frequency', '1000334C_clearing - Power']"
      ]
     },
     "execution_count": 22,
     "metadata": {},
     "output_type": "execute_result"
    }
   ],
   "source": [
    "step_channel_names"
   ]
  },
  {
   "cell_type": "code",
   "execution_count": 26,
   "id": "b1e20a8c",
   "metadata": {},
   "outputs": [
    {
     "data": {
      "text/plain": [
       "182"
      ]
     },
     "execution_count": 26,
     "metadata": {},
     "output_type": "execute_result"
    }
   ],
   "source": [
    "nEntries"
   ]
  },
  {
   "cell_type": "code",
   "execution_count": 40,
   "id": "699990f5",
   "metadata": {},
   "outputs": [
    {
     "data": {
      "text/plain": [
       "13.0"
      ]
     },
     "execution_count": 40,
     "metadata": {},
     "output_type": "execute_result"
    }
   ],
   "source": [
    "182/14"
   ]
  },
  {
   "cell_type": "code",
   "execution_count": 23,
   "id": "b777357c",
   "metadata": {},
   "outputs": [],
   "source": [
    "clearing_power = lf.getData(name = step_channel_names[1])\n",
    "clearing_freq = lf.getData(name = step_channel_names[0])  \n"
   ]
  },
  {
   "cell_type": "code",
   "execution_count": 47,
   "id": "fec5e075",
   "metadata": {},
   "outputs": [
    {
     "data": {
      "text/plain": [
       "14"
      ]
     },
     "execution_count": 47,
     "metadata": {},
     "output_type": "execute_result"
    }
   ],
   "source": [
    "len(clearing_freq[0])\n",
    "#len(clearing_power)"
   ]
  },
  {
   "cell_type": "code",
   "execution_count": 55,
   "id": "ba72f27f",
   "metadata": {},
   "outputs": [
    {
     "data": {
      "text/plain": [
       "array([[7.0e+09, 8.0e+09, 9.0e+09, 1.0e+10, 1.1e+10, 1.2e+10, 1.3e+10,\n",
       "        1.4e+10, 1.5e+10, 1.6e+10, 1.7e+10, 1.8e+10, 1.9e+10, 2.0e+10],\n",
       "       [7.0e+09, 8.0e+09, 9.0e+09, 1.0e+10, 1.1e+10, 1.2e+10, 1.3e+10,\n",
       "        1.4e+10, 1.5e+10, 1.6e+10, 1.7e+10, 1.8e+10, 1.9e+10, 2.0e+10],\n",
       "       [7.0e+09, 8.0e+09, 9.0e+09, 1.0e+10, 1.1e+10, 1.2e+10, 1.3e+10,\n",
       "        1.4e+10, 1.5e+10, 1.6e+10, 1.7e+10, 1.8e+10, 1.9e+10, 2.0e+10],\n",
       "       [7.0e+09, 8.0e+09, 9.0e+09, 1.0e+10, 1.1e+10, 1.2e+10, 1.3e+10,\n",
       "        1.4e+10, 1.5e+10, 1.6e+10, 1.7e+10, 1.8e+10, 1.9e+10, 2.0e+10],\n",
       "       [7.0e+09, 8.0e+09, 9.0e+09, 1.0e+10, 1.1e+10, 1.2e+10, 1.3e+10,\n",
       "        1.4e+10, 1.5e+10, 1.6e+10, 1.7e+10, 1.8e+10, 1.9e+10, 2.0e+10],\n",
       "       [7.0e+09, 8.0e+09, 9.0e+09, 1.0e+10, 1.1e+10, 1.2e+10, 1.3e+10,\n",
       "        1.4e+10, 1.5e+10, 1.6e+10, 1.7e+10, 1.8e+10, 1.9e+10, 2.0e+10],\n",
       "       [7.0e+09, 8.0e+09, 9.0e+09, 1.0e+10, 1.1e+10, 1.2e+10, 1.3e+10,\n",
       "        1.4e+10, 1.5e+10, 1.6e+10, 1.7e+10, 1.8e+10, 1.9e+10, 2.0e+10],\n",
       "       [7.0e+09, 8.0e+09, 9.0e+09, 1.0e+10, 1.1e+10, 1.2e+10, 1.3e+10,\n",
       "        1.4e+10, 1.5e+10, 1.6e+10, 1.7e+10, 1.8e+10, 1.9e+10, 2.0e+10],\n",
       "       [7.0e+09, 8.0e+09, 9.0e+09, 1.0e+10, 1.1e+10, 1.2e+10, 1.3e+10,\n",
       "        1.4e+10, 1.5e+10, 1.6e+10, 1.7e+10, 1.8e+10, 1.9e+10, 2.0e+10],\n",
       "       [7.0e+09, 8.0e+09, 9.0e+09, 1.0e+10, 1.1e+10, 1.2e+10, 1.3e+10,\n",
       "        1.4e+10, 1.5e+10, 1.6e+10, 1.7e+10, 1.8e+10, 1.9e+10, 2.0e+10],\n",
       "       [7.0e+09, 8.0e+09, 9.0e+09, 1.0e+10, 1.1e+10, 1.2e+10, 1.3e+10,\n",
       "        1.4e+10, 1.5e+10, 1.6e+10, 1.7e+10, 1.8e+10, 1.9e+10, 2.0e+10],\n",
       "       [7.0e+09, 8.0e+09, 9.0e+09, 1.0e+10, 1.1e+10, 1.2e+10, 1.3e+10,\n",
       "        1.4e+10, 1.5e+10, 1.6e+10, 1.7e+10, 1.8e+10, 1.9e+10, 2.0e+10],\n",
       "       [7.0e+09, 8.0e+09, 9.0e+09, 1.0e+10, 1.1e+10, 1.2e+10, 1.3e+10,\n",
       "        1.4e+10, 1.5e+10, 1.6e+10, 1.7e+10, 1.8e+10, 1.9e+10, 2.0e+10]])"
      ]
     },
     "execution_count": 55,
     "metadata": {},
     "output_type": "execute_result"
    }
   ],
   "source": [
    "clearing_freq\n",
    "#len(clearing_freq)"
   ]
  },
  {
   "cell_type": "code",
   "execution_count": null,
   "id": "3796b809",
   "metadata": {},
   "outputs": [],
   "source": []
  },
  {
   "cell_type": "code",
   "execution_count": 49,
   "id": "df9deba6",
   "metadata": {},
   "outputs": [],
   "source": [
    "arr=np.zeros((len(clearing_power), len(clearing_freq[0])))\n",
    "n=0\n",
    "for i in range(len(clearing_power)):\n",
    "    for j in range(len(clearing_freq[0])):\n",
    "        \n",
    "        (frequency, S21) = lf.getTraceXY(entry=n)\n",
    "        # Calculate the log magnitude of S21\n",
    "        S21_log_mag = 20 * np.log10(np.abs(S21))\n",
    "        # Find the index of the dip in the log magnitude\n",
    "        dip_index = np.argmin(S21_log_mag)\n",
    "        # Determine the center frequency\n",
    "        center_frequency = frequency[dip_index]\n",
    "        arr[i][j] = center_frequency\n",
    "        n=n+1"
   ]
  },
  {
   "cell_type": "code",
   "execution_count": 64,
   "id": "6025cafe",
   "metadata": {},
   "outputs": [
    {
     "data": {
      "text/plain": [
       "array([5.73055819e+09, 5.73112069e+09, 5.73077069e+09, 5.73083319e+09,\n",
       "       5.73077069e+09, 5.73062069e+09, 5.73059569e+09, 5.72885819e+09,\n",
       "       5.73054569e+09, 5.73059569e+09, 5.73068319e+09, 5.73062069e+09,\n",
       "       5.73060819e+09, 5.73068319e+09])"
      ]
     },
     "execution_count": 64,
     "metadata": {},
     "output_type": "execute_result"
    }
   ],
   "source": [
    "arr[0]"
   ]
  },
  {
   "cell_type": "code",
   "execution_count": 54,
   "id": "bec8db28",
   "metadata": {},
   "outputs": [
    {
     "data": {
      "text/plain": [
       "array([[ 0.,  0.,  0.,  0.,  0.,  0.,  0.,  0.,  0.,  0.,  0.,  0.,  0.,\n",
       "         0.],\n",
       "       [ 1.,  1.,  1.,  1.,  1.,  1.,  1.,  1.,  1.,  1.,  1.,  1.,  1.,\n",
       "         1.],\n",
       "       [ 2.,  2.,  2.,  2.,  2.,  2.,  2.,  2.,  2.,  2.,  2.,  2.,  2.,\n",
       "         2.],\n",
       "       [ 3.,  3.,  3.,  3.,  3.,  3.,  3.,  3.,  3.,  3.,  3.,  3.,  3.,\n",
       "         3.],\n",
       "       [ 4.,  4.,  4.,  4.,  4.,  4.,  4.,  4.,  4.,  4.,  4.,  4.,  4.,\n",
       "         4.],\n",
       "       [ 5.,  5.,  5.,  5.,  5.,  5.,  5.,  5.,  5.,  5.,  5.,  5.,  5.,\n",
       "         5.],\n",
       "       [ 6.,  6.,  6.,  6.,  6.,  6.,  6.,  6.,  6.,  6.,  6.,  6.,  6.,\n",
       "         6.],\n",
       "       [ 7.,  7.,  7.,  7.,  7.,  7.,  7.,  7.,  7.,  7.,  7.,  7.,  7.,\n",
       "         7.],\n",
       "       [ 8.,  8.,  8.,  8.,  8.,  8.,  8.,  8.,  8.,  8.,  8.,  8.,  8.,\n",
       "         8.],\n",
       "       [ 9.,  9.,  9.,  9.,  9.,  9.,  9.,  9.,  9.,  9.,  9.,  9.,  9.,\n",
       "         9.],\n",
       "       [10., 10., 10., 10., 10., 10., 10., 10., 10., 10., 10., 10., 10.,\n",
       "        10.],\n",
       "       [11., 11., 11., 11., 11., 11., 11., 11., 11., 11., 11., 11., 11.,\n",
       "        11.],\n",
       "       [12., 12., 12., 12., 12., 12., 12., 12., 12., 12., 12., 12., 12.,\n",
       "        12.]])"
      ]
     },
     "execution_count": 54,
     "metadata": {},
     "output_type": "execute_result"
    }
   ],
   "source": [
    "clearing_power"
   ]
  },
  {
   "cell_type": "code",
   "execution_count": 59,
   "id": "db43ab0f",
   "metadata": {},
   "outputs": [
    {
     "data": {
      "text/plain": [
       "array([7.0e+09, 8.0e+09, 9.0e+09, 1.0e+10, 1.1e+10, 1.2e+10, 1.3e+10,\n",
       "       1.4e+10, 1.5e+10, 1.6e+10, 1.7e+10, 1.8e+10, 1.9e+10, 2.0e+10])"
      ]
     },
     "execution_count": 59,
     "metadata": {},
     "output_type": "execute_result"
    }
   ],
   "source": [
    "clearing_freq[0,:]"
   ]
  },
  {
   "cell_type": "code",
   "execution_count": 81,
   "id": "4755460d",
   "metadata": {},
   "outputs": [
    {
     "name": "stderr",
     "output_type": "stream",
     "text": [
      "C:\\Users\\LFL\\AppData\\Local\\Temp\\ipykernel_6588\\3083609956.py:2: UserWarning: FixedFormatter should only be used together with FixedLocator\n",
      "  ax.set_xticklabels(clearing_power[:,0])\n",
      "C:\\Users\\LFL\\AppData\\Local\\Temp\\ipykernel_6588\\3083609956.py:5: UserWarning: FixedFormatter should only be used together with FixedLocator\n",
      "  ax.set_yticklabels(clearing_freq[0,:]/10**9)\n"
     ]
    },
    {
     "data": {
      "image/png": "[encoded data removed]",
      "text/plain": [
       "<Figure size 1000x600 with 1 Axes>"
      ]
     },
     "metadata": {},
     "output_type": "display_data"
    }
   ],
   "source": [
    "fig,ax = plt.subplots(figsize=(10, 6))\n",
    "ax.set_xticklabels(clearing_power[:,0])\n",
    "ax.set_xlabel('Clearing Power (dBm)')\n",
    "ax.set_ylabel('Clearing Frequency (GHz)')\n",
    "ax.set_yticklabels(clearing_freq[0,:]/10**9)\n",
    "\n",
    "ax.imshow(arr,cmap=\"viridis\")\n",
    "ax.invert_yaxis()\n",
    "# ax.colorbar(label=\"resonance\")\n",
    "plt.show()\n"
   ]
  },
  {
   "cell_type": "code",
   "execution_count": 31,
   "id": "09e82128",
   "metadata": {},
   "outputs": [
    {
     "data": {
      "text/plain": [
       "1601"
      ]
     },
     "execution_count": 31,
     "metadata": {},
     "output_type": "execute_result"
    }
   ],
   "source": [
    "len(frequency)"
   ]
  },
  {
   "cell_type": "code",
   "execution_count": 30,
   "id": "1152ace0",
   "metadata": {},
   "outputs": [
    {
     "data": {
      "text/plain": [
       "array([-0.00070625+0.00030013j, -0.00071448+0.00027111j,\n",
       "       -0.00068537+0.00025007j, ..., -0.00052809+0.00012513j,\n",
       "       -0.00052009+0.00011983j, -0.0004968 +0.00015297j])"
      ]
     },
     "execution_count": 30,
     "metadata": {},
     "output_type": "execute_result"
    }
   ],
   "source": [
    "S21"
   ]
  },
  {
   "cell_type": "code",
   "execution_count": 32,
   "id": "451981de",
   "metadata": {},
   "outputs": [],
   "source": [
    "S21_log_mag = 20 * np.log10(np.abs(S21))"
   ]
  },
  {
   "cell_type": "code",
   "execution_count": 33,
   "id": "299a0eba",
   "metadata": {},
   "outputs": [
    {
     "data": {
      "text/plain": [
       "array([-62.2998666 , -62.33600558, -62.73875571, ..., -65.30863306,\n",
       "       -65.45381816, -65.68294576])"
      ]
     },
     "execution_count": 33,
     "metadata": {},
     "output_type": "execute_result"
    }
   ],
   "source": [
    "S21_log_mag"
   ]
  },
  {
   "cell_type": "code",
   "execution_count": null,
   "id": "bc6c91cd",
   "metadata": {},
   "outputs": [],
   "source": []
  }
 ],
 "metadata": {
  "kernelspec": {
   "display_name": "resonator-fitting-env",
   "language": "python",
   "name": "python3"
  },
  "language_info": {
   "codemirror_mode": {
    "name": "ipython",
    "version": 3
   },
   "file_extension": ".py",
   "mimetype": "text/x-python",
   "name": "python",
   "nbconvert_exporter": "python",
   "pygments_lexer": "ipython3",
   "version": "3.8.19"
  }
 },
 "nbformat": 4,
 "nbformat_minor": 5
}
